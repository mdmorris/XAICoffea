{
 "cells": [
  {
   "cell_type": "code",
   "execution_count": 1,
   "metadata": {},
   "outputs": [
    {
     "name": "stderr",
     "output_type": "stream",
     "text": [
      "/opt/conda/lib/python3.7/site-packages/tensorflow/python/framework/dtypes.py:526: FutureWarning: Passing (type, 1) or '1type' as a synonym of type is deprecated; in a future version of numpy, it will be understood as (type, (1,)) / '(1,)type'.\n",
      "  _np_qint8 = np.dtype([(\"qint8\", np.int8, 1)])\n",
      "/opt/conda/lib/python3.7/site-packages/tensorflow/python/framework/dtypes.py:527: FutureWarning: Passing (type, 1) or '1type' as a synonym of type is deprecated; in a future version of numpy, it will be understood as (type, (1,)) / '(1,)type'.\n",
      "  _np_quint8 = np.dtype([(\"quint8\", np.uint8, 1)])\n",
      "/opt/conda/lib/python3.7/site-packages/tensorflow/python/framework/dtypes.py:528: FutureWarning: Passing (type, 1) or '1type' as a synonym of type is deprecated; in a future version of numpy, it will be understood as (type, (1,)) / '(1,)type'.\n",
      "  _np_qint16 = np.dtype([(\"qint16\", np.int16, 1)])\n",
      "/opt/conda/lib/python3.7/site-packages/tensorflow/python/framework/dtypes.py:529: FutureWarning: Passing (type, 1) or '1type' as a synonym of type is deprecated; in a future version of numpy, it will be understood as (type, (1,)) / '(1,)type'.\n",
      "  _np_quint16 = np.dtype([(\"quint16\", np.uint16, 1)])\n",
      "/opt/conda/lib/python3.7/site-packages/tensorflow/python/framework/dtypes.py:530: FutureWarning: Passing (type, 1) or '1type' as a synonym of type is deprecated; in a future version of numpy, it will be understood as (type, (1,)) / '(1,)type'.\n",
      "  _np_qint32 = np.dtype([(\"qint32\", np.int32, 1)])\n",
      "/opt/conda/lib/python3.7/site-packages/tensorflow/python/framework/dtypes.py:535: FutureWarning: Passing (type, 1) or '1type' as a synonym of type is deprecated; in a future version of numpy, it will be understood as (type, (1,)) / '(1,)type'.\n",
      "  np_resource = np.dtype([(\"resource\", np.ubyte, 1)])\n",
      "Using TensorFlow backend.\n"
     ]
    },
    {
     "name": "stdout",
     "output_type": "stream",
     "text": [
      "1.13.1\n"
     ]
    }
   ],
   "source": [
    "# TensorFlow and tf.keras\n",
    "import tensorflow as tf\n",
    "\n",
    "import keras\n",
    "import keras.backend\n",
    "from keras import layers\n",
    "from keras import models\n",
    "from keras import optimizers\n",
    "import keras.utils\n",
    "\n",
    "print(tf.__version__)\n",
    "\n",
    "# Helper libraries\n",
    "import numpy as np\n",
    "from scipy import stats,special\n",
    "import matplotlib.pyplot as plt\n",
    "from matplotlib import gridspec\n",
    "import matplotlib.cm\n",
    "import matplotlib.markers as mmarkers\n",
    "from matplotlib.colors import SymLogNorm\n",
    "import math\n",
    "import time\n",
    "import h5py\n",
    "\n",
    "import sklearn\n",
    "from sklearn.utils import shuffle\n",
    "from sklearn.metrics import roc_curve, auc\n",
    "\n",
    "import innvestigate\n",
    "import innvestigate.utils as iutils\n",
    "\n",
    "\n",
    "import os\n",
    "import pickle"
   ]
  },
  {
   "cell_type": "code",
   "execution_count": 2,
   "metadata": {},
   "outputs": [],
   "source": [
    "import sys\n",
    "sys.path.append('../python/')\n",
    "from analysisHelper import *\n",
    "from networkBuilder import *"
   ]
  },
  {
   "cell_type": "code",
   "execution_count": 3,
   "metadata": {},
   "outputs": [],
   "source": [
    "# Show all numbers as float\n",
    "np.set_printoptions(formatter={'float_kind':'{:f}'.format})"
   ]
  },
  {
   "cell_type": "markdown",
   "metadata": {},
   "source": [
    "## Global parameters"
   ]
  },
  {
   "cell_type": "code",
   "execution_count": 4,
   "metadata": {},
   "outputs": [],
   "source": [
    "# Transparency of Histograms\n",
    "transp=0.6"
   ]
  },
  {
   "cell_type": "code",
   "execution_count": 5,
   "metadata": {},
   "outputs": [
    {
     "data": {
      "text/plain": [
       "<contextlib._GeneratorContextManager at 0x7ff9bc82e470>"
      ]
     },
     "execution_count": 5,
     "metadata": {},
     "output_type": "execute_result"
    }
   ],
   "source": [
    "# Set default options for paper\n",
    "params = {'legend.fontsize': 'x-large',\n",
    "         'axes.labelsize': 'x-large',\n",
    "         'axes.titlesize':'x-large',\n",
    "         'xtick.labelsize':'x-large',\n",
    "         'ytick.labelsize':'x-large',\n",
    "         'figure.facecolor':'white',\n",
    "         'hatch.linewidth': 2.0}\n",
    "plt.rcParams.update(params)\n",
    "plt.style.context('default')"
   ]
  },
  {
   "cell_type": "code",
   "execution_count": 6,
   "metadata": {},
   "outputs": [],
   "source": [
    "feature_names={'jetPt':r'$p_{T,jet}$',\n",
    "               'jetEta':r'$\\eta(jet)$',\n",
    "               'jetPhi':r'$\\phi(jet)$',\n",
    "               'jetMass':r'$m_{jet}$',\n",
    "               'jetMassSD':r'$m_{jet,sd}$',\n",
    "               'tau1_b05':r'$\\tau_{1}^{(0.5)}$',\n",
    "               'tau2_b05':r'$\\tau_{2}^{(0.5)}$',\n",
    "               'tau3_b05':r'$\\tau_{3}^{(0.5)}$',\n",
    "               'tau1_sd_b05':r'$\\tau_{1,sd}^{(0.5)}$',\n",
    "               'tau2_sd_b05':r'$\\tau_{2,sd}^{(0.5)}$',\n",
    "               'tau3_sd_b05':r'$\\tau_{3,sd}^{(0.5)}$',\n",
    "               'tau1_b10':r'$\\tau_{1}^{(1)}$',\n",
    "               'tau2_b10':r'$\\tau_{2}^{(1)}$',\n",
    "               'tau3_b10':r'$\\tau_{3}^{(1)}$',\n",
    "               'tau1_sd_b10':r'$\\tau_{1,sd}^{(1)}$',\n",
    "               'tau2_sd_b10':r'$\\tau_{2,sd}^{(1)}$',\n",
    "               'tau3_sd_b10':r'$\\tau_{3,sd}^{(1)}$',\n",
    "               'tau1_b20':r'$\\tau_{1}^{(2)}$',\n",
    "               'tau2_b20':r'$\\tau_{2}^{(2)}$',\n",
    "               'tau3_b20':r'$\\tau_{3}^{(2)}$',\n",
    "               'tau1_sd_b20':r'$\\tau_{1,sd}^{(2)}$',\n",
    "               'tau2_sd_b20':r'$\\tau_{2,sd}^{(2)}$',\n",
    "               'tau3_sd_b20':r'$\\tau_{3,sd}^{(2)}$',\n",
    "               'chMult':r'$N_{ch}$',\n",
    "               'neutMult':r'$N_{neut}$',\n",
    "               'phoMult':r'$N_{\\gamma}$',\n",
    "               'eleMult':r'$N_{e}$',\n",
    "               'muMult':r'$N_{\\mu}$',\n",
    "               'jetpull_abs':r'$|\\phi_{pull}$|',\n",
    "               'beta3':r'$\\beta_{3}$',\n",
    "               'beta3_sd':r'$\\beta_{3}^{g}$',\n",
    "               'tau21':r'$\\tau_{2}^{(1)} / \\tau_{1}^{(1)}$',\n",
    "               'deltaR_subjets':r'$\\Delta R_{subjets}$',\n",
    "               'z':r'$z$',\n",
    "               'dxy_max':r'$d_{xy,max}$',\n",
    "               'dz_max':r'$d_{z,max}$',\n",
    "               'jetImages':r'Image'\n",
    "              }"
   ]
  },
  {
   "cell_type": "markdown",
   "metadata": {},
   "source": [
    "## Useful Functions"
   ]
  },
  {
   "cell_type": "code",
   "execution_count": 7,
   "metadata": {},
   "outputs": [],
   "source": [
    "def Get_LRP_Score(data,model,LRP_fct):\n",
    "    \n",
    "    # Strip model of softmax function for LRP\n",
    "    model_ws = iutils.keras.graph.model_wo_softmax(model)\n",
    "    \n",
    "    # Build LRP analyzer\n",
    "    lrp_analyzer = innvestigate.create_analyzer(LRP_fct, model_ws)\n",
    "    lrp_score = [lrp_analyzer.analyze(ele) for ele in data]\n",
    "    return lrp_score"
   ]
  },
  {
   "cell_type": "code",
   "execution_count": 8,
   "metadata": {},
   "outputs": [],
   "source": [
    "def get_mean_relevance_test(lrp_models=[], lrp_xaugs_models=[], model_pred=[], batchShape=[20], usePred=True, isSum=False, abs=True):\n",
    "\n",
    "    # lrp_models = list of lrp (images or particle list) score arrays to average over                                                                        \n",
    "    # lrp_xaugs_models = list of xaug lrp scores                               \n",
    "    # batchShape =  [20] for particle list: number of constituent particles per event                                                                        \n",
    "    #               [16, 16] for jet images: grid shape                        \n",
    "    # isSum = True or False : take sum of relevance of image grid pixels (True) or take maximum relevance (False)                                            \n",
    "\n",
    "\n",
    "\n",
    "    lrp_mean = []\n",
    "    lrp_xaugs_mean = []\n",
    "    lrp_std = []\n",
    "    lrp_xaugs_std = []\n",
    "\n",
    "    lrp_axis = (0,2,3)\n",
    "    if(len(batchShape)==2):\n",
    "        lrp_axis = (0,2,3)\n",
    "\n",
    "    if((len(lrp_models) > 0)):\n",
    "        \n",
    "        if ((len(batchShape)==2) and (isSum)):\n",
    "            if abs: lrp_models = np.sum(np.abs(lrp_models),axis = (3,4)) # sum only along image grid  \n",
    "            else:   lrp_models = np.sum(lrp_models,axis = (3,4)) # sum only along image grid\n",
    "        elif ((len(batchShape)==2) and not(isSum)):\n",
    "            lrp_models = np.max(lrp_models,axis = (3,4)) # max only along image grid                                                                         \n",
    "\n",
    "        print(lrp_models)\n",
    "        print(np.mean(lrp_models[0]))\n",
    "        if usePred: lrp_models = [lrp_models[0]*model_pred[0]]\n",
    "        print(lrp_models)\n",
    "        print(np.mean(lrp_models[0]))\n",
    "        nEvents = lrp_models[0].shape[1]\n",
    "        print (nEvents)\n",
    "\n",
    "        if(len(batchShape)==2):\n",
    "            if abs: lrp_means = np.sum(np.abs(lrp_models), axis=lrp_axis[1:]) / (nEvents)\n",
    "            else:   lrp_means = np.sum(lrp_models, axis=lrp_axis[1:]) / (nEvents)\n",
    "            print (np.max(np.abs(lrp_models), axis=lrp_axis[1:]))\n",
    "            print (lrp_means)\n",
    "        else:\n",
    "            if abs: lrp_means = np.sum(np.abs(lrp_models), axis=lrp_axis[1:]) / (np.prod(batchShape)*nEvents)\n",
    "            else:   lrp_means = np.sum(lrp_models, axis=lrp_axis[1:]) / (np.prod(batchShape)*nEvents)\n",
    "        lrp_mean = np.sum(lrp_means, axis=0) / (len(lrp_models))\n",
    "        lrp_std = np.std(lrp_means, axis=0)\n",
    "\n",
    "\n",
    "\n",
    "    if(len(lrp_xaugs_models) > 0):\n",
    "        if usePred: lrp_xaugs_models = [lrp_xaugs_models[0]*model_pred[0]]\n",
    "        nEvents = lrp_xaugs_models[0].shape[1]\n",
    "        if abs: lrp_xaugs_means = np.sum(np.abs(lrp_xaugs_models), axis=(2,3)) / nEvents\n",
    "        else:   lrp_xaugs_means = np.sum(lrp_xaugs_models, axis=(2,3)) / nEvents\n",
    "        print (lrp_xaugs_means)\n",
    "        lrp_xaugs_mean = np.sum(lrp_xaugs_means, axis=0) / len(lrp_xaugs_models)\n",
    "        lrp_xaugs_std = np.std(lrp_xaugs_means, axis=0)\n",
    "\n",
    "\n",
    "    lrp_mean_list = [lrp for lrp in lrp_mean] + [lrp for lrp in lrp_xaugs_mean]\n",
    "    lrp_std_list = [std for std in lrp_std] + [lrp for lrp in lrp_xaugs_std]\n",
    "\n",
    "    return lrp_mean_list, lrp_std_list"
   ]
  },
  {
   "cell_type": "code",
   "execution_count": 9,
   "metadata": {},
   "outputs": [],
   "source": [
    "def Confusion_Split(X,Y,pred,confidence_cut):\n",
    "    ind_true_positive = np.argwhere((pred[:,0,1] > confidence_cut) & (Y[0][:,1] == 1))\n",
    "    ind_true_negative = np.argwhere((pred[:,0,0] > confidence_cut) & (Y[0][:,0] == 1))\n",
    "    ind_false_positive = np.argwhere((pred[:,0,1] > confidence_cut) & (Y[0][:,0] == 1))\n",
    "    ind_false_negative = np.argwhere((pred[:,0,0] > confidence_cut) & (Y[0][:,1] == 1))\n",
    "    \n",
    "    LRP_tp = X[ind_true_positive]\n",
    "    LRP_tn = X[ind_true_negative]\n",
    "    LRP_fp = X[ind_false_positive]\n",
    "    LRP_fn = X[ind_false_negative]\n",
    "    return LRP_tp, LRP_tn, LRP_fp, LRP_fn"
   ]
  },
  {
   "cell_type": "code",
   "execution_count": 10,
   "metadata": {},
   "outputs": [],
   "source": [
    "def SigBkg_Split(LRP,X,Y):\n",
    "    ind_sig = np.argwhere((Y[0][:,1] == 1))\n",
    "    ind_bkg = np.argwhere((Y[0][:,0] == 1))\n",
    "\n",
    "    LRP_sig = LRP[ind_sig]\n",
    "    LRP_bkg = LRP[ind_bkg]\n",
    "    X_sig = X[ind_sig]\n",
    "    X_bkg = X[ind_bkg]\n",
    "    return LRP_sig, LRP_bkg, X_sig, X_bkg"
   ]
  },
  {
   "cell_type": "code",
   "execution_count": 11,
   "metadata": {},
   "outputs": [],
   "source": [
    "def getLabeledPrediction(pred, Y):\n",
    "    return (pred.squeeze()*Y[0])[:,:1] + (pred.squeeze()*Y[0])[:,1:]"
   ]
  },
  {
   "cell_type": "code",
   "execution_count": 12,
   "metadata": {},
   "outputs": [],
   "source": [
    "def Draw_LRP_Image(LRP_tp, LRP_tn, LRP_fp, LRP_fn, LRP_fct):\n",
    "    LRP_tp_mean = np.mean(LRP_tp, axis = 0).reshape(16,16)\n",
    "    LRP_tn_mean = np.mean(LRP_tn, axis = 0).reshape(16,16)\n",
    "    LRP_fp_mean = np.mean(LRP_fp, axis = 0).reshape(16,16)\n",
    "    LRP_fn_mean = np.mean(LRP_fn, axis = 0).reshape(16,16)\n",
    "    fig, ax = plt.subplots(nrows = 2, ncols = 2,figsize = (10,10))\n",
    "#    fig.suptitle('Images from ' + LRP_fct + ' algorithm')\n",
    "    fig.tight_layout()\n",
    "    im0 = ax[0][0].imshow(LRP_tp_mean,\n",
    "                        interpolation = 'nearest',\n",
    "                        origin = 'low',\n",
    "                        #norm = SymLogNorm(linthresh = 0.001, base = 10),\n",
    "                        norm = SymLogNorm(linthresh=0.001),\n",
    "                        cmap = 'RdBu',\n",
    "                        vmin = -10,\n",
    "                        vmax = 10)\n",
    "    ax[0][0].set_title('True Signal Images')\n",
    "    cb0 = fig.colorbar(im0, shrink = 0.8, ax = ax[0][0])\n",
    "    \n",
    "\n",
    "    \n",
    "    im1 = ax[1][1].imshow(LRP_tn_mean,\n",
    "                          interpolation = 'nearest',\n",
    "                          origin = 'low',\n",
    "                          #norm = SymLogNorm(linthresh = 0.001, base = 10),\n",
    "                          norm = SymLogNorm(linthresh=0.001),\n",
    "                          cmap = 'RdBu',\n",
    "                          vmin = -10,\n",
    "                          vmax = 10,\n",
    "                          extent = [-8.0, 8.0, -8.0, 8.0])\n",
    "    ax[1][1].set_title('True Background Images')\n",
    "    cb1 = fig.colorbar(im1,shrink=0.8, ax=ax[1][1])\n",
    "    \n",
    "    im2 = ax[0][1].imshow(LRP_fp_mean,\n",
    "                          interpolation = 'nearest',\n",
    "                          origin = 'low',\n",
    "                          #norm = SymLogNorm(linthresh = 0.001,base = 10),\n",
    "                          norm = SymLogNorm(linthresh=0.001),\n",
    "                          cmap = 'RdBu',\n",
    "                          vmin = -10,\n",
    "                          vmax = 10)\n",
    "    ax[0][1].set_title('False Signal Images')\n",
    "    fig.colorbar(im2, shrink = 0.8, ax = ax[0][1])\n",
    "    \n",
    "    im3 = ax[1][0].imshow(LRP_fn_mean,\n",
    "                          interpolation = 'nearest',\n",
    "                          origin = 'low',\n",
    "                          #norm = SymLogNorm(linthresh = 0.001,base = 10),\n",
    "                          norm = SymLogNorm(linthresh=0.001),\n",
    "                          cmap = 'RdBu',\n",
    "                          vmin = -10,\n",
    "                          vmax = 10)\n",
    "    ax[1][0].set_title('False Background Images')\n",
    "    fig.colorbar(im3,shrink = 0.8, ax = ax[1][0])\n",
    "    plt.savefig('plots/LRP/LRP_jetImages_imonly_' + LRP_fct + '.png')"
   ]
  },
  {
   "cell_type": "code",
   "execution_count": 13,
   "metadata": {},
   "outputs": [],
   "source": [
    "def Make_LRP_Images(model,X,Y,LRP_fct,confidence_cut,standardize=True):\n",
    "    pred = np.array([model.predict(ele) for ele in X])\n",
    "    LRP_diff = Get_LRP_Score(X,\n",
    "                             model,\n",
    "                             LRP_fct)\n",
    "    \n",
    "    LRP_diff = np.array(LRP_diff).reshape(len(LRP_diff),grid,grid)\n",
    "    \n",
    "    LRP_tp, LRP_tn, LRP_fp, LRP_fn = Confusion_Split(LRP_diff,\n",
    "                                                     Y,\n",
    "                                                     pred,\n",
    "                                                     confidence_cut)\n",
    "    if standardize:\n",
    "        LRP_tp_std = np.array([stand(ele) for ele in LRP_tp])\n",
    "        LRP_tn_std = np.array([stand(ele) for ele in LRP_tn])\n",
    "        LRP_fp_std = np.array([stand(ele) for ele in LRP_fp])\n",
    "        LRP_fn_std = np.array([stand(ele) for ele in LRP_fn])\n",
    "    else:\n",
    "        LRP_tp_std = LRP_tp\n",
    "        LRP_tn_std = LRP_tn\n",
    "        LRP_fp_std = LRP_fp\n",
    "        LRP_fn_std = LRP_fn\n",
    "    \n",
    "    Draw_LRP_Image(LRP_tp_std,\n",
    "                   LRP_tn_std,\n",
    "                   LRP_fp_std,\n",
    "                   LRP_fn_std,\n",
    "                   LRP_fct)"
   ]
  },
  {
   "cell_type": "code",
   "execution_count": 84,
   "metadata": {},
   "outputs": [],
   "source": [
    "def plot_heatmaps_eventwise(X_test,Y_test,norm_relevance1):\n",
    "    plt.rc('font', family='serif')\n",
    "    fig, axs = plt.subplots(2,4, figsize=(14, 6), facecolor='w', edgecolor='k')\n",
    "    fig.subplots_adjust(hspace = .2, wspace=.2)\n",
    "    fig.subplots_adjust(top=0.83)   \n",
    "    axs = axs.ravel()\n",
    "    \n",
    "    X_test = X_test[0].squeeze()\n",
    "    \n",
    "    LRP_sig, LRP_bkg, X_sig, X_bkg = SigBkg_Split(norm_relevance1,X_test,Y_test)\n",
    "    \n",
    "    for i in range(4):\n",
    "        if (i==0 or i==1):\n",
    "            im1 = axs[i].imshow(X_sig[i].squeeze(),\n",
    "                      interpolation = 'nearest',\n",
    "                      norm = SymLogNorm(linthresh=0.001),\n",
    "                      cmap = 'Greens',\n",
    "                      vmin = 0,\n",
    "                      vmax = 1.0,\n",
    "                      extent = [-2, 2, -2, 2])\n",
    "            im2 = axs[i+4].imshow(LRP_sig[i].squeeze(),\n",
    "                      interpolation = 'nearest',\n",
    "                      norm = SymLogNorm(linthresh=0.001),\n",
    "                      cmap = 'RdBu',\n",
    "                      vmin = -1,\n",
    "                      vmax = 1,\n",
    "                      extent = [-2, 2, -2, 2])\n",
    "            if i==0:\n",
    "                axs[i].set_ylabel(r'Transformed $\\phi$')\n",
    "                axs[i+4].set_ylabel(r'Transformed $\\phi$')\n",
    "        else:\n",
    "            im1 = axs[i].imshow(X_bkg[i].squeeze(),\n",
    "                      interpolation = 'nearest',\n",
    "                      norm = SymLogNorm(linthresh=0.001),\n",
    "                      cmap = 'Greens',\n",
    "                      vmin = 0,\n",
    "                      vmax = 1.0,\n",
    "                      extent = [-2, 2, -2, 2])\n",
    "            im2 = axs[i+4].imshow(LRP_bkg[i].squeeze(),\n",
    "                                  interpolation='nearest',\n",
    "                                  #origin='low',\n",
    "                                  cmap='RdBu',\n",
    "                                  norm=SymLogNorm(linthresh=0.0001), \n",
    "                                  vmin = -1, \n",
    "                                  vmax= 1, \n",
    "                                  extent = [-2, 2, -2, 2]\n",
    "                                 )\n",
    "        axs[i+4].set_xlabel(r'Transformed $\\eta$')\n",
    "        cbar1 = fig.colorbar(im1, ax=axs[i], fraction=0.0467, pad=0.02)\n",
    "        cbar2 = fig.colorbar(im2, ax=axs[i+4], fraction=0.0467, pad=0.02)\n",
    "        if (i==3):\n",
    "            cbar1.set_label(r'Pixel $p_T$ (GeV)')\n",
    "            cbar2.set_label(r'Normalized Relevance')\n",
    "            \n",
    "            cbar_ticks = np.array([-1,-0.01,0,0.01,1])\n",
    "            cbar_tick_labels = np.array(['-1','-0.01','0','0.01','1'])\n",
    "            cbar_mask = np.where((cbar_ticks >= 0.) & (cbar_ticks <= 1.))\n",
    "\n",
    "            cbar1.set_ticks(cbar_ticks[cbar_mask])\n",
    "            cbar1.ax.set_yticklabels(cbar_tick_labels[cbar_mask])\n",
    "\n",
    "            cbar_mask2 = np.where((cbar_ticks >= -1.) & (cbar_ticks <= 1.))\n",
    "            cbar2.set_ticks(cbar_ticks[cbar_mask2])\n",
    "            cbar2.ax.set_yticklabels(cbar_tick_labels[cbar_mask2])\n",
    "        else:\n",
    "            cbar1.set_ticks([])\n",
    "            cbar2.set_ticks([])\n",
    "    plt.figtext(0.318,0.88,\"Signal Images and their relevance heatmaps\", va=\"center\", ha=\"center\", size=15)\n",
    "    plt.figtext(0.72,0.88,\"Background Images and their relevance heatmaps\", va=\"center\", ha=\"center\", size=15)\n",
    "    plt.savefig('plots/LRP/Pythia_sig-bkg_image_and_heatmap.png', bbox_inches='tight')"
   ]
  },
  {
   "cell_type": "code",
   "execution_count": 15,
   "metadata": {},
   "outputs": [],
   "source": [
    "def make_profile_data(x,values,bins):\n",
    "    bin_mean, bin_edges, _ = stats.binned_statistic(x,\n",
    "                                                    values,\n",
    "                                                    statistic = 'mean',\n",
    "                                                    bins = bins,\n",
    "                                                    range = (0,1))\n",
    "    bin_std, _, _ = stats.binned_statistic(x,\n",
    "                                           values,\n",
    "                                           statistic = 'std',\n",
    "                                           bins = bins,\n",
    "                                           range = (0,1))\n",
    "    bin_count, _, _ = stats.binned_statistic(x,\n",
    "                                             x,\n",
    "                                             statistic = 'count',\n",
    "                                             bins = bins,\n",
    "                                             range = (0,1))\n",
    "    bin_width = (bin_edges[1] - bin_edges[0])\n",
    "    bin_centers = bin_edges[1:] - bin_width/2\n",
    "    return bin_mean, bin_std, bin_count, bin_edges, bin_centers, bin_width "
   ]
  },
  {
   "cell_type": "code",
   "execution_count": 16,
   "metadata": {},
   "outputs": [],
   "source": [
    "def stand(array):\n",
    "    if np.std(array) == 0:\n",
    "        return array - np.mean(array)\n",
    "    else:\n",
    "        return (array - np.mean(array))/np.std(array)"
   ]
  },
  {
   "cell_type": "code",
   "execution_count": 17,
   "metadata": {},
   "outputs": [],
   "source": [
    "def Draw_Profile_small(X_test, Y_test, pred, LRP_norm, confidence_cut, feat, bins, histomax, relmin, relmax):\n",
    "    ii = features.index(feat)\n",
    "    ind_positive = np.argwhere((pred[:,0,1]>confidence_cut)).flatten()\n",
    "    ind_negative = np.argwhere((pred[:,0,0]>confidence_cut)).flatten()\n",
    "    LRP_p = np.array(LRP_norm)[ind_positive]\n",
    "    LRP_n = np.array(LRP_norm)[ind_negative]\n",
    "    X_p = [feat[ind_positive] for feat in X_test]\n",
    "    X_n = [feat[ind_negative] for feat in X_test]\n",
    "    bin_mean_p, bin_std_p, bin_count_p, bin_edges, bin_centers, bin_width = make_profile_data(X_p[ii].flatten(), LRP_p[:,ii], bins)\n",
    "    bin_mean_n, bin_std_n, bin_count_n, _, _, _  = make_profile_data(X_n[ii].flatten(), LRP_n[:,ii], bins)\n",
    "    \n",
    "    bin_mean_p[bin_count_p < 50] = np.nan\n",
    "    bin_std_p[bin_count_p < 50] = 0\n",
    "    \n",
    "    bin_mean_n[bin_count_n < 50] = np.nan\n",
    "    bin_std_n[bin_count_n < 50] = 0\n",
    "\n",
    "    fig = plt.figure(figsize=(6,7))\n",
    "#    fig.suptitle('Histogram and relevance profile for ' + feature_names[ii])\n",
    "    gs = gridspec.GridSpec(3, 1) \n",
    "    gs.update(wspace=0.025, hspace=0.1)\n",
    "    \n",
    "    \n",
    "    \n",
    "    ax0 = plt.subplot(gs[:2,:])\n",
    "    ax0.hist(X_p[ii].flatten(),\n",
    "                bins = bins,\n",
    "                histtype = 'step',\n",
    "#                normed=False,\n",
    "                weights = np.ones(len(X_p[ii].flatten()))/len(X_p[ii].flatten()),\n",
    "                fill = True,\n",
    "                alpha = 0.55,\n",
    "                label = \"Signal\",\n",
    "                log = False,\n",
    "#                density = True,\n",
    "                range = [0,1],\n",
    "                hatch='/',\n",
    "                edgecolor='k'\n",
    "                );\n",
    "    ax0.hist(X_n[ii].flatten(),\n",
    "                bins = bins,\n",
    "                histtype = 'step',\n",
    "#                normed=False,\n",
    "                weights = np.ones(len(X_n[ii].flatten()))/len(X_n[ii].flatten()),\n",
    "                fill = True,\n",
    "                alpha = 0.55,\n",
    "                label = 'Background',\n",
    "                log = False,\n",
    "#                density = True,\n",
    "                range = [0,1],\n",
    "                hatch = '\\\\',\n",
    "                edgecolor='k'\n",
    "                );\n",
    "    l = ax0.legend();\n",
    "#    ax0.grid()\n",
    "    ax0.set_xlim(0,1)\n",
    "    ax0.set_ylim(0,histomax)\n",
    "\n",
    "    ax0.set_ylabel('Fraction')\n",
    "\n",
    "    ax1 = plt.subplot(gs[2:,:])\n",
    "    ax1.xaxis.set_ticks(np.arange(0, 1.2, 0.2))\n",
    "    plt.setp(ax0.get_xticklabels(), visible=False)\n",
    "    ax1.plot(bin_centers,\n",
    "             bin_mean_p,\n",
    "             color = 'C0',\n",
    "             label = \"Signal\")\n",
    "    ax1.plot(bin_centers,\n",
    "             bin_mean_n,\n",
    "             color = 'C1',\n",
    "             label = \"Background\")\n",
    "    ax1.fill_between(bin_centers,\n",
    "                     bin_mean_p - bin_std_p,\n",
    "                     bin_mean_p + bin_std_p,\n",
    "                     color = 'C0',\n",
    "                     alpha = 0.2)\n",
    "    ax1.fill_between(bin_centers,\n",
    "                     bin_mean_n - bin_std_n,\n",
    "                     bin_mean_n + bin_std_n,\n",
    "                     color = 'C1',\n",
    "                     alpha = 0.2)\n",
    "    ax1.grid()\n",
    "    ax1.set_ylim(relmin,relmax)\n",
    "    ax1.set_xlim(0, 1)\n",
    "    ax1.set_ylabel('Relevance')\n",
    "    ax1.set_xlabel('Normalized ' + feature_names[feat])\n",
    "    \n",
    "    plt.savefig('plots/LRP/LRP_' + feat + '.png')"
   ]
  },
  {
   "cell_type": "code",
   "execution_count": null,
   "metadata": {},
   "outputs": [],
   "source": [
    "def make_relevance_bar_plot_test(features, LRP_mean, LRP_std, topN=None, ymax_set=None):\n",
    "\n",
    "    # features = list of features in same order as LRP_mean                    \n",
    "    # LRP_mean = array of averaged relevance scores                            \n",
    "    # LRP_std = standard deviation of averaged relevance scores                \n",
    "    # topN = number of highest relevance scores to plot (for all features, topN=None)                                                                        \n",
    "\n",
    "\n",
    "    params = {'legend.fontsize': 'x-large',\n",
    "     'axes.labelsize': 'x-large',\n",
    "     'axes.titlesize':'x-large',\n",
    "     'font.family':'serif',\n",
    "     'xtick.labelsize':'x-large',\n",
    "     'ytick.labelsize':'x-large',\n",
    "     'figure.facecolor':'white',\n",
    "     'axes.grid':True,\n",
    "     'grid.alpha':1.0\n",
    "         }\n",
    "\n",
    "    plt.rcParams.update(params)\n",
    "    plt.style.context('default')\n",
    "    mpl.rcParams.update({'hatch.linewidth':2.0})\n",
    "\n",
    "    size_for_all_features = [15,10]\n",
    "    size_for_5_features = [7.5,5]\n",
    "    size = size_for_all_features\n",
    "    fs = 20 # fontsize of y-label and y-ticks                                  \n",
    "\n",
    "    if(topN != None):\n",
    "        if(topN < 20):\n",
    "            size = size_for_5_features\n",
    "            fs = 15 # fontsize of y-label and y-ticks                          \n",
    "\n",
    "\n",
    "    fig = plt.figure(figsize=size )\n",
    "\n",
    "    LRP_order = [features[i] for i in np.argsort(LRP_mean)]\n",
    "    LRP_std_sorted = [LRP_std[i] for i in np.argsort(LRP_mean)]\n",
    "    LRP_order2 = [feature_names[feat] for feat in LRP_order]\n",
    "    relevances = np.sort(LRP_mean)\n",
    "\n",
    "    barplot = plt.bar(LRP_order2, relevances)\n",
    "\n",
    "    xmax = len(LRP_order2)-0.5\n",
    "    xmin=-0.5\n",
    "    if(topN==None):\n",
    "        xmin=-0.5\n",
    "    else:\n",
    "        xmin = xmax-topN\n",
    "\n",
    "    ymin = 0\n",
    "    ymax = (relevances[-1] + LRP_std_sorted[-1])*1.10\n",
    "    if ymax_set: ymax = ymax_set\n",
    "\n",
    "    plt.xlim([xmin, xmax])\n",
    "    plt.ylim([ymin, ymax])\n",
    "\n",
    "    plt.xticks(rotation=90, fontsize=15)\n",
    "    plt.yticks(fontsize=fs)\n",
    "\n",
    "    plt.ylabel('Mean Normalized Relevance', fontsize=fs)\n",
    "\n",
    "\n",
    "    count = 0\n",
    "    for b in barplot:\n",
    "        plt.fill_between([b.get_x(), b.get_x() + b.get_width()],\n",
    "                             b.get_height() - LRP_std_sorted[count],\n",
    "                             b.get_height() + LRP_std_sorted[count],\n",
    "                             lw=0,\n",
    "                             fc='none',\n",
    "                             ec='k',\n",
    "                             hatch='//',\n",
    "                             zorder=2)\n",
    "        count += 1\n",
    "        \n",
    "    fig.tight_layout()\n",
    "    fig.savefig('LRP_barplot.png')"
   ]
  },
  {
   "cell_type": "code",
   "execution_count": 18,
   "metadata": {},
   "outputs": [],
   "source": [
    "lrp_algorithms=['lrp', 'lrp.z', 'lrp.z_IB', 'lrp.epsilon', 'lrp.epsilon_IB', 'lrp.w_square', 'lrp.flat', 'lrp.alpha_beta', 'lrp.alpha_2_beta_1', 'lrp.alpha_2_beta_1_IB', 'lrp.alpha_1_beta_0', 'lrp.alpha_1_beta_0_IB', 'lrp.z_plus', 'lrp.z_plus_fast', 'lrp.sequential_preset_a', 'lrp.sequential_preset_b', 'lrp.sequential_preset_a_flat', 'lrp.sequential_preset_b_flat']"
   ]
  },
  {
   "cell_type": "markdown",
   "metadata": {},
   "source": [
    "## Import data:\n",
    "Using ShowJetsData_full.npz to build the CNN."
   ]
  },
  {
   "cell_type": "code",
   "execution_count": 19,
   "metadata": {},
   "outputs": [],
   "source": [
    "grid = 16"
   ]
  },
  {
   "cell_type": "code",
   "execution_count": 20,
   "metadata": {},
   "outputs": [],
   "source": [
    "test_sig_features = np.load('/mnt/data/ml/PreProcessing/ShowJets_test_Zbb_exts_msd50to150_v2.npz')\n",
    "test_bkg_features = np.load('/mnt/data/ml/PreProcessing/ShowJets_test_QCD_exts_msd50to150_v2.npz')"
   ]
  },
  {
   "cell_type": "code",
   "execution_count": 21,
   "metadata": {},
   "outputs": [],
   "source": [
    "test_sig_images = np.load('/mnt/data/ml/PreProcessing/ShowJets_test_Zbb_exts_msd50to150_images_v2.npz')\n",
    "test_bkg_images = np.load('/mnt/data/ml/PreProcessing/ShowJets_test_QCD_exts_msd50to150_images_v2.npz')"
   ]
  },
  {
   "cell_type": "code",
   "execution_count": null,
   "metadata": {},
   "outputs": [],
   "source": [
    "test_sig = {**test_sig_images, **test_sig_features}\n",
    "test_bkg = {**test_bkg_images, **test_bkg_features}"
   ]
  },
  {
   "cell_type": "code",
   "execution_count": 22,
   "metadata": {},
   "outputs": [
    {
     "name": "stdout",
     "output_type": "stream",
     "text": [
      "276290\n"
     ]
    }
   ],
   "source": [
    "#n_test should be the length of the signal plus the background\n",
    "n_test = 2*len(test_sig_images['labels'])\n",
    "print(n_test)"
   ]
  },
  {
   "cell_type": "markdown",
   "metadata": {},
   "source": [
    "# Model with just Images"
   ]
  },
  {
   "cell_type": "markdown",
   "metadata": {},
   "source": [
    "## LRP"
   ]
  },
  {
   "cell_type": "code",
   "execution_count": 23,
   "metadata": {},
   "outputs": [],
   "source": [
    "# Drop all events where the model predicted its result with less confidence then this\n",
    "confidence_cut = 0.0"
   ]
  },
  {
   "cell_type": "code",
   "execution_count": 24,
   "metadata": {},
   "outputs": [],
   "source": [
    "# Select features and build X_test and Y_test\n",
    "features = ['jetImages']\n",
    "label = ['labels']\n",
    "X_test, Y_test = build_XY(features,label,test_sig_images, test_bkg_images, signal=\"Zbb\")\n",
    "\n",
    "# Reshape X_test for LRP\n",
    "X_lrp = [[X_test[i][j] for i in range(len(features))] for j in range(n_test)]\n",
    "for i in range(n_test):\n",
    "    X_lrp[i][0] = X_lrp[i][0].reshape(1,grid,grid,1)\n",
    "Y_lrp = Y_test"
   ]
  },
  {
   "cell_type": "code",
   "execution_count": 25,
   "metadata": {},
   "outputs": [
    {
     "name": "stdout",
     "output_type": "stream",
     "text": [
      "WARNING:tensorflow:From /opt/conda/lib/python3.7/site-packages/tensorflow/python/framework/op_def_library.py:263: colocate_with (from tensorflow.python.framework.ops) is deprecated and will be removed in a future version.\n",
      "Instructions for updating:\n",
      "Colocations handled automatically by placer.\n",
      "WARNING:tensorflow:From /opt/conda/lib/python3.7/site-packages/keras/backend/tensorflow_backend.py:3445: calling dropout (from tensorflow.python.ops.nn_ops) with keep_prob is deprecated and will be removed in a future version.\n",
      "Instructions for updating:\n",
      "Please use `rate` instead of `keep_prob`. Rate should be set to `rate = 1 - keep_prob`.\n",
      "WARNING:tensorflow:From /opt/conda/lib/python3.7/site-packages/tensorflow/python/ops/math_ops.py:3066: to_int32 (from tensorflow.python.ops.math_ops) is deprecated and will be removed in a future version.\n",
      "Instructions for updating:\n",
      "Use tf.cast instead.\n"
     ]
    }
   ],
   "source": [
    "# Load Model\n",
    "model = keras.models.load_model('model/CNN_Images.h1')"
   ]
  },
  {
   "cell_type": "code",
   "execution_count": 26,
   "metadata": {},
   "outputs": [],
   "source": [
    "pred = np.array([model.predict(ele) for ele in X_lrp])"
   ]
  },
  {
   "cell_type": "code",
   "execution_count": null,
   "metadata": {},
   "outputs": [],
   "source": [
    "# Select features and build X_test and Y_test\n",
    "#features = ['jetImages']\n",
    "#label = ['labels']\n",
    "#X_test, Y_test = build_XY(features,label,test_sig, test_bkg, signal=\"Zbb\")"
   ]
  },
  {
   "cell_type": "code",
   "execution_count": null,
   "metadata": {},
   "outputs": [],
   "source": [
    "#predict = model.predict(X_test)\n",
    "#print(predict)"
   ]
  },
  {
   "cell_type": "code",
   "execution_count": null,
   "metadata": {},
   "outputs": [],
   "source": [
    "#print(Y_test[0])"
   ]
  },
  {
   "cell_type": "code",
   "execution_count": null,
   "metadata": {},
   "outputs": [],
   "source": [
    "#sig_pred = Y_test[(Y_test[0][:,1]==1.)].squeeze()\n",
    "#bkg_pred = Y_test[(Y_test[0][:,1]==0.)].squeeze()\n",
    "#plt.hist([sig_pred[:,0], bkg_pred[:,1]], \n",
    "         #color = ['blue', 'red'], histtype = 'step', label = ['signal predictions', 'background predictions'])\n",
    "#plt.xlim(0,1)\n",
    "#plt.legend()\n",
    "#plt.show()"
   ]
  },
  {
   "cell_type": "markdown",
   "metadata": {},
   "source": [
    "### LRP.epsilon"
   ]
  },
  {
   "cell_type": "code",
   "execution_count": null,
   "metadata": {},
   "outputs": [],
   "source": [
    "LRP_fct = 'lrp.epsilon'\n",
    "LRP_diff = Get_LRP_Score(X_lrp,\n",
    "                         model,\n",
    "                         LRP_fct)"
   ]
  },
  {
   "cell_type": "code",
   "execution_count": null,
   "metadata": {},
   "outputs": [],
   "source": [
    "LRP_rediff = np.array([ele[0].reshape(grid,grid)/(np.max(np.abs(ele[0]))+0.000001) for ele in LRP_diff])"
   ]
  },
  {
   "cell_type": "code",
   "execution_count": null,
   "metadata": {},
   "outputs": [],
   "source": [
    "LRP_tp, LRP_tn, LRP_fp, LRP_fn = Confusion_Split(LRP_rediff,\n",
    "                                                 Y_lrp,\n",
    "                                                 pred,\n",
    "                                                 confidence_cut)"
   ]
  },
  {
   "cell_type": "code",
   "execution_count": null,
   "metadata": {},
   "outputs": [],
   "source": [
    "#LRP_tn = LRP_tp.reshape(1,16,16)\n",
    "#LRP_tp_mean = np.mean(LRP_tp, axis = 1).reshape(16,16)\n",
    "print(LRP_tp)\n",
    "print(LRP_tp.shape)"
   ]
  },
  {
   "cell_type": "code",
   "execution_count": null,
   "metadata": {},
   "outputs": [],
   "source": [
    "LRP_fct = 'lrp.epsilon'\n",
    "Draw_LRP_Image(LRP_tp,\n",
    "                   LRP_tn,\n",
    "                   LRP_fp,\n",
    "                   LRP_fn,\n",
    "                   LRP_fct)"
   ]
  },
  {
   "cell_type": "markdown",
   "metadata": {},
   "source": [
    "### LRP.epsilon - ignore bias\n",
    "This should perform worse"
   ]
  },
  {
   "cell_type": "code",
   "execution_count": null,
   "metadata": {},
   "outputs": [],
   "source": [
    "LRP_fct = 'lrp.epsilon_IB'\n",
    "LRP_diff = Get_LRP_Score(X_lrp,\n",
    "                         model,\n",
    "                         LRP_fct)"
   ]
  },
  {
   "cell_type": "code",
   "execution_count": null,
   "metadata": {},
   "outputs": [],
   "source": [
    "LRP_fct = 'lrp.epsilon_IB'\n",
    "LRP_diff = Get_LRP_Score(X_lrp,\n",
    "                         model,\n",
    "                         LRP_fct)"
   ]
  },
  {
   "cell_type": "code",
   "execution_count": null,
   "metadata": {},
   "outputs": [],
   "source": [
    "LRP_rediff = np.array([ele[0].reshape(grid,grid)/(np.max(np.abs(ele[0]))+0.000001) for ele in LRP_diff])"
   ]
  },
  {
   "cell_type": "code",
   "execution_count": null,
   "metadata": {},
   "outputs": [],
   "source": [
    "LRP_fct = 'lrp.epsilon_IB'\n",
    "Draw_LRP_Image(LRP_tp,\n",
    "                   LRP_tn,\n",
    "                   LRP_fp,\n",
    "                   LRP_fn,\n",
    "                   LRP_fct)"
   ]
  },
  {
   "cell_type": "markdown",
   "metadata": {},
   "source": [
    "LRP_tp, LRP_tn, LRP_fp, LRP_fn = Confusion_Split(LRP_rediff,\n",
    "                                                 Y_lrp,\n",
    "                                                 pred,\n",
    "                                                 confidence_cut)"
   ]
  },
  {
   "cell_type": "markdown",
   "metadata": {},
   "source": [
    "### LRP.preset_a"
   ]
  },
  {
   "cell_type": "code",
   "execution_count": 27,
   "metadata": {},
   "outputs": [
    {
     "name": "stdout",
     "output_type": "stream",
     "text": [
      "WARNING:tensorflow:From /opt/conda/lib/python3.7/site-packages/tensorflow/python/ops/math_grad.py:102: div (from tensorflow.python.ops.math_ops) is deprecated and will be removed in a future version.\n",
      "Instructions for updating:\n",
      "Deprecated in favor of operator or tf.math.divide.\n"
     ]
    }
   ],
   "source": [
    "LRP_fct = 'lrp.sequential_preset_a'\n",
    "LRP_diff = Get_LRP_Score(X_lrp,\n",
    "                         model,\n",
    "                         LRP_fct)"
   ]
  },
  {
   "cell_type": "code",
   "execution_count": null,
   "metadata": {},
   "outputs": [],
   "source": [
    "print(LRP_diff)"
   ]
  },
  {
   "cell_type": "code",
   "execution_count": null,
   "metadata": {},
   "outputs": [],
   "source": [
    "extent_sig = [-sig_train_images.shape[1]/2., sig_train_images.shape[1]/2., -sig_train_images.shape[0]/2., sig_train_images.shape[0]/2. ]\n"
   ]
  },
  {
   "cell_type": "code",
   "execution_count": 28,
   "metadata": {},
   "outputs": [],
   "source": [
    "LRP_rediff = np.array([ele[0].reshape(grid,grid)/(np.max(np.abs(ele[0]))+0.000001) for ele in LRP_diff])"
   ]
  },
  {
   "cell_type": "code",
   "execution_count": 30,
   "metadata": {},
   "outputs": [],
   "source": [
    "np.savez('model/LRP_Image', \n",
    "         LRP_diff=LRP_diff, LRP_rediff=LRP_rediff\n",
    "        )"
   ]
  },
  {
   "cell_type": "code",
   "execution_count": null,
   "metadata": {},
   "outputs": [],
   "source": [
    "sig_train_images = np.sum(data_sig_images['jetImages'],axis=0).reshape(grid,grid)"
   ]
  },
  {
   "cell_type": "code",
   "execution_count": null,
   "metadata": {},
   "outputs": [],
   "source": [
    "LRP_tp, LRP_tn, LRP_fp, LRP_fn = Confusion_Split(LRP_rediff,\n",
    "                                                 Y_lrp,\n",
    "                                                 pred,\n",
    "                                                 confidence_cut)"
   ]
  },
  {
   "cell_type": "code",
   "execution_count": null,
   "metadata": {},
   "outputs": [],
   "source": [
    "LRP_fct = 'lrp.sequential_preset_a'\n",
    "Draw_LRP_Image(LRP_tp,\n",
    "                   LRP_tn,\n",
    "                   LRP_fp,\n",
    "                   LRP_fn,\n",
    "                   LRP_fct)"
   ]
  },
  {
   "cell_type": "code",
   "execution_count": null,
   "metadata": {},
   "outputs": [],
   "source": [
    "print(LRP_tp.shape)\n",
    "LRP_tp_cp = LRP_tp\n",
    "LRP_tp_cp[0].reshape(16,16)"
   ]
  },
  {
   "cell_type": "code",
   "execution_count": null,
   "metadata": {},
   "outputs": [],
   "source": [
    "print(test_sig_images['jetImages'].shape)\n",
    "print(X_test[0].shape)\n",
    "print(X_test[0][0][:][:][0])\n",
    "X_test_trial = X_test[0][0].reshape(grid,grid)\n",
    "print(X_test_trial)\n",
    "print(n_test)"
   ]
  },
  {
   "cell_type": "code",
   "execution_count": null,
   "metadata": {},
   "outputs": [],
   "source": [
    "X_test_trial = X_test\n",
    "X_test_trial = X_test_trial[0].reshape(n_test,grid,grid)\n",
    "#for i in range(2): print(X_test_trial[0][i].reshape(grid,grid))\n",
    "    #X_test_trial.append(X_test[0][i].reshape(grid, grid))"
   ]
  },
  {
   "cell_type": "code",
   "execution_count": null,
   "metadata": {},
   "outputs": [],
   "source": [
    "print(len(X_test_trial))\n",
    "print(X_test_trial[0])"
   ]
  },
  {
   "cell_type": "code",
   "execution_count": null,
   "metadata": {},
   "outputs": [],
   "source": [
    "LRP"
   ]
  },
  {
   "cell_type": "code",
   "execution_count": null,
   "metadata": {},
   "outputs": [],
   "source": [
    "print(X_test_trial[0][0])"
   ]
  },
  {
   "cell_type": "code",
   "execution_count": null,
   "metadata": {},
   "outputs": [],
   "source": [
    "print(LRP_rediff[1])"
   ]
  },
  {
   "cell_type": "code",
   "execution_count": null,
   "metadata": {},
   "outputs": [],
   "source": [
    "print(X_lrp[0][0].shape)\n",
    "print(Y_test[0])"
   ]
  },
  {
   "cell_type": "code",
   "execution_count": null,
   "metadata": {},
   "outputs": [],
   "source": [
    "X_lrp[:,1][Y_test[0][:,1]==1][4].shape"
   ]
  },
  {
   "cell_type": "code",
   "execution_count": null,
   "metadata": {},
   "outputs": [],
   "source": [
    "print((LRP_rediff[2]).shape)"
   ]
  },
  {
   "cell_type": "code",
   "execution_count": null,
   "metadata": {},
   "outputs": [],
   "source": [
    "print(X_test[0].shape)\n",
    "print(Y_test[0].shape)\n",
    "print(LRP_rediff.shape)\n",
    "X_reshaped = X_test[0].squeeze()\n",
    "print(X_reshaped.shape)"
   ]
  },
  {
   "cell_type": "code",
   "execution_count": null,
   "metadata": {},
   "outputs": [],
   "source": [
    "LRP_sig, LRP_bkg, X_sig, X_bkg = SigBkg_Split(LRP_rediff,X_reshaped,Y_test)"
   ]
  },
  {
   "cell_type": "code",
   "execution_count": null,
   "metadata": {},
   "outputs": [],
   "source": [
    "X_sig[1].squeeze().shape"
   ]
  },
  {
   "cell_type": "code",
   "execution_count": 85,
   "metadata": {
    "scrolled": false
   },
   "outputs": [
    {
     "data": {
      "image/png": "[encoded data removed]",
      "text/plain": [
       "<Figure size 1008x432 with 16 Axes>"
      ]
     },
     "metadata": {},
     "output_type": "display_data"
    }
   ],
   "source": [
    "plot_heatmaps_eventwise(X_test,Y_test,LRP_rediff)"
   ]
  },
  {
   "cell_type": "markdown",
   "metadata": {},
   "source": [
    "# Model with Image + All Expert Variables"
   ]
  },
  {
   "cell_type": "markdown",
   "metadata": {},
   "source": [
    "## Compare different feature subsets"
   ]
  },
  {
   "cell_type": "code",
   "execution_count": null,
   "metadata": {},
   "outputs": [],
   "source": [
    "loc_ROCs = '/mnt/data/ml/ROCs/'"
   ]
  },
  {
   "cell_type": "code",
   "execution_count": null,
   "metadata": {},
   "outputs": [],
   "source": [
    "fpr=[]\n",
    "tpr=[]\n",
    "roc_auc=[]\n",
    "acc = []\n",
    "model_names = []\n",
    "label = ['labels']\n",
    "for i in range(2):\n",
    "    if i == 0:\n",
    "        # features will be loaded into X\n",
    "        features = ['jetImages']\n",
    "        name = 'CNN_Images'\n",
    "        best_model = keras.models.load_model('model/'+name+'.h1')\n",
    "#     elif i == 1:\n",
    "#         drop_those = ['jetImages', 'chMult', 'neutMult', 'phoMult', 'eleMult', 'muMult', 'dxy_max', 'dz_max']\n",
    "#         # features will be loaded into X\n",
    "#         features = feat_all[:]\n",
    "#         for feat in drop_those:\n",
    "#             features.remove(feat)\n",
    "#         name = 'DNN_noflavour'\n",
    "#         best_model = keras.models.load_model('model/'+name+'.h1')\n",
    "    elif i == 1:\n",
    "#         # features will be loaded into X\n",
    "#         features = get_feat(True, True, False, False) #xaugs, flavor, images, particleInfo\n",
    "#         name = 'DNN_all'\n",
    "#         best_model = keras.models.load_model('model/'+name+'.h1')\n",
    "#     elif i == 2:\n",
    "#         #features will be loaded into X\n",
    "#         features = ['jetImages', 'dz_max', 'dxy_max','jetMassSD', 'tau2_sd_b05', 'tau3_b10']\n",
    "#         name = 'CNN_5XAUG'\n",
    "#         best_model = keras.models.load_model('model/'+name+'.h1')\n",
    "#     elif i == 3:\n",
    "#         # features will be loaded into X\n",
    "#         features = get_feat(True,True,True,False)\n",
    "#         name = 'CNN_all'\n",
    "#         best_model = keras.models.load_model('model/'+name+'.h1')\n",
    "#     elif i == 4:\n",
    "#         # features will be loaded into X\n",
    "#         features = get_feat(True, True, False, False) #xaugs, flavor, images, particleInfo\n",
    "#         name = 'DNN_all_defaultopt'\n",
    "#         best_model = keras.models.load_model('model/'+name+'.h1')\n",
    "        features = ['jetImages']\n",
    "        name = 'CNN_Images_defaultopt'\n",
    "        best_model = keras.models.load_model('model/'+name+'.h1')\n",
    "    \n",
    "    X_test, Y_test = build_XY(features,label,test_sig, test_bkg, signal=\"Zbb\")\n",
    "        \n",
    "    acc_inb = best_model.evaluate(X_test, Y_test)\n",
    "    predict = best_model.predict(X_test)\n",
    "\n",
    "    # Build ROC curve\n",
    "    fpr_inb, tpr_inb, thresholds = roc_curve(Y_test[0][:,1], predict[:,1])\n",
    "    roc_auc_inb = auc(fpr_inb, tpr_inb)\n",
    "    fpr.append(fpr_inb)\n",
    "    tpr.append(tpr_inb)\n",
    "    roc_auc.append(roc_auc_inb)\n",
    "    model_names.append(name)\n",
    "    acc.append(acc_inb[-1])\n",
    "    \n",
    "cmap_roc = matplotlib.cm.get_cmap('viridis')\n",
    "color_roc = np.linspace(0.2,1,100)[::20]\n",
    "ls = (0, (3, 5, 1, 5, 1, 5))\n",
    "ls_roc = ['-.','-',':','--', ls]"
   ]
  },
  {
   "cell_type": "code",
   "execution_count": null,
   "metadata": {},
   "outputs": [],
   "source": [
    "label = ['labels']\n",
    "features = get_feat(True, True, False, False) #xaugs, flavor, images, particleInfo\n",
    "name = 'DNN_all'\n",
    "best_model = keras.models.load_model('model/'+name+'.h2')\n",
    "X_test, Y_test = build_XY(features,label,test_sig, test_bkg, signal=\"Zbb\")"
   ]
  },
  {
   "cell_type": "code",
   "execution_count": null,
   "metadata": {},
   "outputs": [],
   "source": [
    "fpr, tpr, thresholds = roc_curve(Y_test[0][:,1], predict[:,1])\n",
    "roc_auc = auc(fpr, tpr)\n",
    "plt.plot(fpr, tpr, lw=2, color='b', label='auc = %.3f' % (roc_auc))\n",
    "plt.plot([0, 1], [0, 1], linestyle='--', lw=2, color='k', label='random chance')\n",
    "plt.xlim([-0.01, 1.01])\n",
    "plt.ylim([-0.01, 1.01])\n",
    "plt.xlabel('false positive rate')\n",
    "plt.ylabel('true positive rate')\n",
    "plt.title('receiver operating curve')\n",
    "plt.legend(loc=\"lower right\")\n",
    "#plt.savefig('ROC_'+str(totalVar)+'_flat_'+str(modelN)+'.png')\n",
    "#np.savez(rocfilename, false_pos_rate=fpr, true_pos_rate=tpr, auc=roc_auc, label=str(len(features))+'var')\n",
    "plt.show()\n",
    "plt.plot(fpr, tpr, lw=2, color='b', label='auc = %.3f' % (roc_auc))\n",
    "plt.xlim([-0.01, 1.01])\n",
    "plt.ylim([-0.01, 1.01])\n",
    "plt.xlabel('false positive rate')\n",
    "plt.ylabel('true positive rate')\n",
    "plt.title('receiver operating curve')\n",
    "plt.legend(loc=\"lower right\")\n",
    "plt.xscale('log')\n",
    "plt.xlim([1e-5,1.0])\n",
    "plt.show()"
   ]
  },
  {
   "cell_type": "code",
   "execution_count": null,
   "metadata": {},
   "outputs": [],
   "source": [
    "fig = plt.figure(figsize=(8,8))\n",
    "fig_grid = plt.GridSpec(1, 1, wspace=0.3, hspace=0.3)\n",
    "sub_p = fig.add_subplot(fig_grid[0,0])\n",
    "for i in range(len(acc)):\n",
    "    if i == 0:\n",
    "        sub_p.plot(fpr[i], tpr[i], lw=2, label='auc=%.3f Image' % (roc_auc[i]), linestyle=ls_roc[i-3], color=cmap_roc(1-color_roc[i]))\n",
    "    elif i == 1:\n",
    "#          sub_p.plot(fpr[i], tpr[i], lw=2, label='auc=%.2f XAUGS (no flavour)' % (roc_auc[i]), linestyle=ls_roc[i-3], color=cmap_roc(1-color_roc[i]))\n",
    "#     elif i == 2:\n",
    "#         sub_p.plot(fpr[i], tpr[i], lw=2, label='auc=%.3f XAUGS (Adam opt - custom)' % (roc_auc[i]), linestyle=ls_roc[i-3], color=cmap_roc(1-color_roc[i]))\n",
    "#     elif i == 2:\n",
    "#         sub_p.plot(fpr[i], tpr[i], lw=2, label='auc=%.3f Image + 5 XAUGS' % (roc_auc[i]), linestyle=ls_roc[i-3], color=cmap_roc(1-color_roc[i]))\n",
    "#     elif i == 3:\n",
    "#         sub_p.plot(fpr[i], tpr[i], lw=2, label='auc=%.3f Image + XAUGS' % (roc_auc[i]), linestyle=ls_roc[i-3], color=cmap_roc(1-color_roc[i]))\n",
    "#     elif i == 4:\n",
    "#         sub_p.plot(fpr[i], tpr[i], lw=2, label='auc=%.3f XAUGS (Adam opt - default)' % (roc_auc[i]), linestyle=ls_roc[i-3], color=cmap_roc(1-color_roc[i]))\n",
    "        sub_p.plot(fpr[i], tpr[i], lw=2, label='auc=%.3f Image (Adam opt - default)' % (roc_auc[i]), linestyle=ls_roc[i-3], color=cmap_roc(1-color_roc[i]))\n",
    "#sub_p.plot([0, 1], [0, 1], linestyle='--', lw=2, color='k', label='random chance')\n",
    "sub_p.set_xlim([0.0001, 1.0])\n",
    "sub_p.set_ylim([0, 1.0])\n",
    "sub_p.grid()\n",
    "sub_p.set_xscale(\"log\")\n",
    "sub_p.set_xlabel('Background Mistag Rate')\n",
    "sub_p.set_ylabel('Signal Efficiency')\n",
    "sub_p.legend(loc=\"lower right\")\n",
    "plt.savefig('plots/ROC/ROC_models.png')\n",
    "for i in range(len(acc)):  \n",
    "    print('Model ' + str(i) + ' Accuracy:', acc[i])"
   ]
  },
  {
   "cell_type": "code",
   "execution_count": null,
   "metadata": {},
   "outputs": [],
   "source": [
    "np.savez(loc_ROCs+'ROCs_CNN_2D_Zbbexts', false_pos_rate=fpr, true_pos_rate=tpr, auc=roc_auc, label=model_names)"
   ]
  },
  {
   "cell_type": "code",
   "execution_count": null,
   "metadata": {},
   "outputs": [],
   "source": [
    "test_ROCs = np.load('/mnt/data/ml/ROCs/ROCs_CNN_2D_Zbbexts.npz',allow_pickle=True)"
   ]
  },
  {
   "cell_type": "code",
   "execution_count": null,
   "metadata": {},
   "outputs": [],
   "source": [
    "print(test_ROCs.files)\n",
    "print(test_ROCs['false_pos_rate'])\n",
    "print(test_ROCs['true_pos_rate'])\n",
    "print(test_ROCs['auc'])\n",
    "print(test_ROCs['label'])"
   ]
  },
  {
   "cell_type": "markdown",
   "metadata": {},
   "source": [
    "## LRP new"
   ]
  },
  {
   "cell_type": "code",
   "execution_count": null,
   "metadata": {},
   "outputs": [],
   "source": [
    "features = get_feat(True, True, True, False) #xaugs, flavor, images, particleInfo"
   ]
  },
  {
   "cell_type": "code",
   "execution_count": null,
   "metadata": {},
   "outputs": [],
   "source": [
    "label = ['labels']\n",
    "X_test, Y_test = build_XY(features,label,test_sig, test_bkg, signal=\"Zbb\")"
   ]
  },
  {
   "cell_type": "code",
   "execution_count": null,
   "metadata": {},
   "outputs": [],
   "source": [
    "# Load Model\n",
    "full_model1 = keras.models.load_model('model/CNN_all.h1')\n",
    "full_model2 = keras.models.load_model('model/CNN_all.h2')\n",
    "full_model3 = keras.models.load_model('model/CNN_all.h3')\n",
    "full_model4 = keras.models.load_model('model/CNN_all.h4')"
   ]
  },
  {
   "cell_type": "code",
   "execution_count": null,
   "metadata": {},
   "outputs": [],
   "source": [
    "# Reshape Data, for easier application of LRP algorithm\n",
    "X_lrp = [ [ X_test[i][j] for i in range(len(features)) ] for j in range(n_test) ]\n",
    "for i in range(n_test):\n",
    "    X_lrp[i][0] = X_lrp[i][0].reshape(1, grid, grid, 1)"
   ]
  },
  {
   "cell_type": "code",
   "execution_count": null,
   "metadata": {},
   "outputs": [],
   "source": [
    "feat_len = len(features)\n",
    "feat_len"
   ]
  },
  {
   "cell_type": "code",
   "execution_count": null,
   "metadata": {},
   "outputs": [],
   "source": [
    "print(len(X_test))\n",
    "print(X_test[0].shape)\n",
    "print(X_lrp[0][0].shape)\n",
    "print(len(X_lrp))\n",
    "#X_test2 = X_test\n",
    "#X_test2[0] = X_test2[0].reshape(1,276290,16,16,1)\n",
    "print(X_test2[0].shape)"
   ]
  },
  {
   "cell_type": "code",
   "execution_count": null,
   "metadata": {},
   "outputs": [],
   "source": [
    "# Get LRP score\n",
    "LRP_images1, LRP_XAUGs1 = get_lrp_score(X_test, full_model1, feat_len-1, feat_len, batchShape=[16,16])"
   ]
  },
  {
   "cell_type": "code",
   "execution_count": null,
   "metadata": {},
   "outputs": [],
   "source": [
    "np.savez(loc_ROCs+'LRP_2DCNN', LRP_images=LRP_images1, LRP_XAUGs=LRP_XAUGs1)"
   ]
  },
  {
   "cell_type": "code",
   "execution_count": null,
   "metadata": {},
   "outputs": [],
   "source": [
    "# Get LRP score\n",
    "LRP_images2, LRP_XAUGs2 = get_lrp_score(X_test, full_model2, feat_len-1, feat_len, batchShape=[16,16])"
   ]
  },
  {
   "cell_type": "code",
   "execution_count": null,
   "metadata": {},
   "outputs": [],
   "source": [
    "# Get LRP score\n",
    "LRP_images3, LRP_XAUGs3 = get_lrp_score(X_test, full_model3, feat_len-1, feat_len, batchShape=[16,16])"
   ]
  },
  {
   "cell_type": "code",
   "execution_count": null,
   "metadata": {},
   "outputs": [],
   "source": [
    "# Get LRP score\n",
    "LRP_images4, LRP_XAUGs4 = get_lrp_score(X_test, full_model4, feat_len-1, feat_len, batchShape=[16,16])"
   ]
  },
  {
   "cell_type": "code",
   "execution_count": null,
   "metadata": {},
   "outputs": [],
   "source": [
    "np.savez('model/LRP_2DCNN', \n",
    "         LRP_images1=LRP_images1, LRP_XAUGs1=LRP_XAUGs1, \n",
    "         LRP_images2=LRP_images2, LRP_XAUGs2=LRP_XAUGs2,\n",
    "         LRP_images3=LRP_images3, LRP_XAUGs3=LRP_XAUGs3,\n",
    "         LRP_images4=LRP_images4, LRP_XAUGs4=LRP_XAUGs4,\n",
    "        )"
   ]
  },
  {
   "cell_type": "code",
   "execution_count": null,
   "metadata": {},
   "outputs": [],
   "source": [
    "np.savez('model/XYtest_2DCNN', \n",
    "         X_lrp=X_lrp,\n",
    "         Y_test=Y_test\n",
    "        )"
   ]
  },
  {
   "cell_type": "code",
   "execution_count": null,
   "metadata": {},
   "outputs": [],
   "source": [
    "LRP_models = np.load('model/LRP_2DCNN.npz',allow_pickle=True)"
   ]
  },
  {
   "cell_type": "code",
   "execution_count": null,
   "metadata": {},
   "outputs": [],
   "source": [
    "LRP_images1 = LRP_models['LRP_images1']\n",
    "LRP_XAUGs1 = LRP_models['LRP_XAUGs1']"
   ]
  },
  {
   "cell_type": "code",
   "execution_count": null,
   "metadata": {},
   "outputs": [],
   "source": [
    "LRP_images2 = LRP_models['LRP_images2']\n",
    "LRP_XAUGs2 = LRP_models['LRP_XAUGs2']"
   ]
  },
  {
   "cell_type": "code",
   "execution_count": null,
   "metadata": {},
   "outputs": [],
   "source": [
    "LRP_images3 = LRP_models['LRP_images3']\n",
    "LRP_XAUGs3 = LRP_models['LRP_XAUGs3']"
   ]
  },
  {
   "cell_type": "code",
   "execution_count": null,
   "metadata": {},
   "outputs": [],
   "source": [
    "LRP_images4 = LRP_models['LRP_images4']\n",
    "LRP_XAUGs4 = LRP_models['LRP_XAUGs4']"
   ]
  },
  {
   "cell_type": "code",
   "execution_count": null,
   "metadata": {},
   "outputs": [],
   "source": [
    "lrp_images_norm1, lrp_xaugs_norm1 = get_normalized_lrp_score(feat_len-1, feat_len, LRP_images1, LRP_XAUGs1, batchShape=[16,16])"
   ]
  },
  {
   "cell_type": "code",
   "execution_count": null,
   "metadata": {},
   "outputs": [],
   "source": [
    "lrp_images_norm2, lrp_xaugs_norm2 = get_normalized_lrp_score(feat_len-1, feat_len, LRP_images2, LRP_XAUGs2, batchShape=[16,16])"
   ]
  },
  {
   "cell_type": "code",
   "execution_count": null,
   "metadata": {},
   "outputs": [],
   "source": [
    "lrp_images_norm3, lrp_xaugs_norm3 = get_normalized_lrp_score(feat_len-1, feat_len, LRP_images3, LRP_XAUGs3, batchShape=[16,16])"
   ]
  },
  {
   "cell_type": "code",
   "execution_count": null,
   "metadata": {},
   "outputs": [],
   "source": [
    "lrp_images_norm4, lrp_xaugs_norm4 = get_normalized_lrp_score(feat_len-1, feat_len, LRP_images4, LRP_XAUGs4, batchShape=[16,16])"
   ]
  },
  {
   "cell_type": "code",
   "execution_count": null,
   "metadata": {},
   "outputs": [],
   "source": [
    "pred_full1 = np.array([full_model1.predict(X_lrp[i]) for i in range(n_test)])"
   ]
  },
  {
   "cell_type": "code",
   "execution_count": null,
   "metadata": {},
   "outputs": [],
   "source": [
    "pred_full2 = np.array([full_model2.predict(X_lrp[i]) for i in range(n_test)])"
   ]
  },
  {
   "cell_type": "code",
   "execution_count": null,
   "metadata": {},
   "outputs": [],
   "source": [
    "pred_full3 = np.array([full_model3.predict(X_lrp[i]) for i in range(n_test)])"
   ]
  },
  {
   "cell_type": "code",
   "execution_count": null,
   "metadata": {},
   "outputs": [],
   "source": [
    "pred_full4 = np.array([full_model4.predict(X_lrp[i]) for i in range(n_test)])"
   ]
  },
  {
   "cell_type": "code",
   "execution_count": null,
   "metadata": {},
   "outputs": [],
   "source": [
    "pred_full1.shape"
   ]
  },
  {
   "cell_type": "code",
   "execution_count": null,
   "metadata": {},
   "outputs": [],
   "source": [
    "predSq1 = pred_full1.squeeze()\n",
    "predSq1.shape"
   ]
  },
  {
   "cell_type": "code",
   "execution_count": null,
   "metadata": {},
   "outputs": [],
   "source": [
    "print(predSq1)\n",
    "print(Y_test[0])\n",
    "print(predSq1*Y_test[0])"
   ]
  },
  {
   "cell_type": "code",
   "execution_count": null,
   "metadata": {},
   "outputs": [],
   "source": [
    "print(pred_full1.squeeze().shape)\n",
    "print(Y_test[0].shape)\n",
    "print(np.transpose(Y_test).squeeze().shape)\n",
    "print(pred_full1.squeeze().dot(np.transpose(Y_test).squeeze()))"
   ]
  },
  {
   "cell_type": "code",
   "execution_count": null,
   "metadata": {},
   "outputs": [],
   "source": [
    "pred_labeled1 = getLabeledPrediction(pred_full1,Y_test)\n",
    "pred_labeled1"
   ]
  },
  {
   "cell_type": "code",
   "execution_count": null,
   "metadata": {},
   "outputs": [],
   "source": [
    "pred_labeled2 = getLabeledPrediction(pred_full2,Y_test)\n",
    "pred_labeled3 = getLabeledPrediction(pred_full3,Y_test)\n",
    "pred_labeled4 = getLabeledPrediction(pred_full4,Y_test)"
   ]
  },
  {
   "cell_type": "code",
   "execution_count": null,
   "metadata": {},
   "outputs": [],
   "source": [
    "print(LRP_XAUGs1.shape)\n",
    "print(LRP_XAUGs1.shape)\n",
    "print(pred_labeled1.shape)\n",
    "print(np.mean(pred_labeled1))\n",
    "print(LRP_XAUGs1[3])"
   ]
  },
  {
   "cell_type": "code",
   "execution_count": null,
   "metadata": {},
   "outputs": [],
   "source": [
    "print((LRP_XAUGs1*pred_labeled1).shape)\n",
    "print((LRP_XAUGs1*pred_labeled1)[3])"
   ]
  },
  {
   "cell_type": "code",
   "execution_count": null,
   "metadata": {},
   "outputs": [],
   "source": [
    "print( (np.sum(np.abs(LRP_images1),axis = (2,3))) )"
   ]
  },
  {
   "cell_type": "code",
   "execution_count": null,
   "metadata": {},
   "outputs": [],
   "source": [
    "print( (np.sum(np.abs(LRP_images1),axis = (2,3)))*pred_labeled1 )"
   ]
  },
  {
   "cell_type": "code",
   "execution_count": null,
   "metadata": {},
   "outputs": [],
   "source": [
    "image_sum_test = (np.max(np.abs(LRP_images1),axis = (2,3)))*pred_labeled1\n",
    "print( image_sum_test.shape )\n",
    "print( image_sum_test )"
   ]
  },
  {
   "cell_type": "code",
   "execution_count": null,
   "metadata": {},
   "outputs": [],
   "source": [
    "print(lrp_images_norm1.shape)"
   ]
  },
  {
   "cell_type": "code",
   "execution_count": null,
   "metadata": {},
   "outputs": [],
   "source": [
    "LRP_meanT, LRP_stdT = get_mean_relevance([lrp_images_norm1, lrp_images_norm2, lrp_images_norm3, lrp_images_norm4], \n",
    "                                               [lrp_xaugs_norm1, lrp_xaugs_norm2, lrp_xaugs_norm3, lrp_xaugs_norm4],\n",
    "                                               batchShape=[16,16],\n",
    "                                               isSum=True #isSum = False for max relevances\n",
    "                                              )"
   ]
  },
  {
   "cell_type": "code",
   "execution_count": null,
   "metadata": {},
   "outputs": [],
   "source": [
    "LRP_meanT, LRP_stdT = get_mean_relevance_test([lrp_images_norm1, lrp_images_norm2, lrp_images_norm3, lrp_images_norm4], \n",
    "                                               [lrp_xaugs_norm1, lrp_xaugs_norm2, lrp_xaugs_norm3, lrp_xaugs_norm4],\n",
    "                                               batchShape=[16,16],\n",
    "                                               usePred=False,\n",
    "                                               isSum=True #isSum = False for max relevances\n",
    "                                              )"
   ]
  },
  {
   "cell_type": "code",
   "execution_count": null,
   "metadata": {},
   "outputs": [],
   "source": [
    "LRP_meanF, LRP_stdF = get_mean_relevance_test([lrp_images_norm1], \n",
    "                                       [lrp_xaugs_norm1],\n",
    "                                       batchShape=[16,16],\n",
    "                                       usePred=False,\n",
    "                                       isSum=False #isSum = False for max relevances\n",
    "                                      )"
   ]
  },
  {
   "cell_type": "code",
   "execution_count": null,
   "metadata": {},
   "outputs": [],
   "source": [
    "LRP_mean_withPred, LRP_std_withPred = get_mean_relevance_test([LRP_images1], [LRP_XAUGs1],\n",
    "                                       [pred_labeled1],\n",
    "                                       batchShape=[16,16],\n",
    "                                       isSum=True #isSum = False for max relevances\n",
    "                                      )"
   ]
  },
  {
   "cell_type": "code",
   "execution_count": null,
   "metadata": {},
   "outputs": [],
   "source": [
    "LRP_mean_noPred, LRP_std_noPred = get_mean_relevance_test([LRP_images1], [LRP_XAUGs1],\n",
    "                                       [pred_labeled1],\n",
    "                                       batchShape=[16,16],\n",
    "                                       usePred=False,\n",
    "                                       isSum=True #isSum = False for max relevances\n",
    "                                      )"
   ]
  },
  {
   "cell_type": "code",
   "execution_count": null,
   "metadata": {},
   "outputs": [],
   "source": [
    "LRP_mean_withPredF, LRP_std_withPredF = get_mean_relevance_test([LRP_images1], [LRP_XAUGs1],\n",
    "                                       [pred_labeled1],\n",
    "                                       batchShape=[16,16],\n",
    "                                       isSum=False #isSum = False for max relevances\n",
    "                                      )"
   ]
  },
  {
   "cell_type": "code",
   "execution_count": null,
   "metadata": {},
   "outputs": [],
   "source": [
    "LRP_mean_withPred_noabs, LRP_std_withPred_noabs = get_mean_relevance_test([LRP_images1], [LRP_XAUGs1],\n",
    "                                       [pred_labeled1],\n",
    "                                       batchShape=[16,16],\n",
    "                                       isSum=True, #isSum = False for max relevances\n",
    "                                                                          abs=False\n",
    "                                      )"
   ]
  },
  {
   "cell_type": "code",
   "execution_count": null,
   "metadata": {
    "scrolled": false
   },
   "outputs": [],
   "source": [
    "LRP_mean_withPred_norm, LRP_std_withPred_norm = get_mean_relevance_test([lrp_images_norm1], [lrp_xaugs_norm1],\n",
    "                                       [pred_labeled1],\n",
    "                                       batchShape=[16,16],\n",
    "                                       isSum=True #isSum = False for max relevances\n",
    "                                      )"
   ]
  },
  {
   "cell_type": "code",
   "execution_count": null,
   "metadata": {},
   "outputs": [],
   "source": [
    "print(features)"
   ]
  },
  {
   "cell_type": "code",
   "execution_count": null,
   "metadata": {},
   "outputs": [],
   "source": [
    "LRP_mean_withPred_normF, LRP_std_withPred_normF = get_mean_relevance_test([lrp_images_norm1], [lrp_xaugs_norm1],\n",
    "                                       [pred_labeled1],\n",
    "                                       batchShape=[16,16],\n",
    "                                       isSum=False #isSum = False for max relevances\n",
    "                                      )"
   ]
  },
  {
   "cell_type": "code",
   "execution_count": null,
   "metadata": {},
   "outputs": [],
   "source": [
    "LRP_mean_nonorm, LRP_std_nonorm = get_mean_relevance([LRP_images1, LRP_images2, LRP_images3, LRP_images4], \n",
    "                                       [LRP_XAUGs1, LRP_XAUGs2, LRP_XAUGs3, LRP_XAUGs4],\n",
    "                                       batchShape=[16,16],\n",
    "                                       isSum=True #isSum = False for max relevances\n",
    "                                      )"
   ]
  },
  {
   "cell_type": "code",
   "execution_count": null,
   "metadata": {},
   "outputs": [],
   "source": [
    "make_relevance_bar_plot_test(features, LRP_meanT, LRP_stdT, topN=None, ymax_set = 1.0)"
   ]
  },
  {
   "cell_type": "code",
   "execution_count": null,
   "metadata": {},
   "outputs": [],
   "source": [
    "make_relevance_bar_plot(features, LRP_mean_noPred, LRP_std_noPred, topN=None)"
   ]
  },
  {
   "cell_type": "code",
   "execution_count": null,
   "metadata": {},
   "outputs": [],
   "source": [
    "make_relevance_bar_plot(features, LRP_mean_withPred, LRP_std_withPred, topN=None)"
   ]
  },
  {
   "cell_type": "code",
   "execution_count": null,
   "metadata": {},
   "outputs": [],
   "source": [
    "make_relevance_bar_plot(features, LRP_mean_withPred_noabs, LRP_std_withPred_noabs, topN=None)"
   ]
  },
  {
   "cell_type": "code",
   "execution_count": null,
   "metadata": {},
   "outputs": [],
   "source": [
    "make_relevance_bar_plot(features, LRP_mean_withPredF, LRP_std_withPredF, topN=None)"
   ]
  },
  {
   "cell_type": "code",
   "execution_count": null,
   "metadata": {},
   "outputs": [],
   "source": [
    "make_relevance_bar_plot(features, LRP_meanF, LRP_stdF, topN=None)"
   ]
  },
  {
   "cell_type": "code",
   "execution_count": null,
   "metadata": {},
   "outputs": [],
   "source": [
    "make_relevance_bar_plot(features, LRP_mean_withPred_norm, LRP_std_withPred_norm, topN=None)"
   ]
  },
  {
   "cell_type": "code",
   "execution_count": null,
   "metadata": {},
   "outputs": [],
   "source": [
    "make_relevance_bar_plot(features, LRP_mean_withPred_normF, LRP_std_withPred_normF, topN=None)"
   ]
  },
  {
   "cell_type": "code",
   "execution_count": null,
   "metadata": {},
   "outputs": [],
   "source": [
    "LRP_sum_images1 = np.array([[np.sum(feature) for feature in ele] for ele in LRP_images1])\n",
    "LRP_sum_XAUGs1 = np.array([[np.sum(feature) for feature in ele] for ele in LRP_XAUGs1])\n",
    "LRP_norm1 = np.array([ ele / np.max(np.abs(ele)+0.000001) for ele in LRP_sum1])\n",
    "# Get Full prediction for Confusion matrix split\n",
    "lrp_images, lrp_xaugs = get_lrp_score(X_test, model, nXvar, totalVar, batchShape=[16,16])"
   ]
  },
  {
   "cell_type": "code",
   "execution_count": null,
   "metadata": {},
   "outputs": [],
   "source": [
    "# Get LRP score\n",
    "LRP_full1 = Get_LRP_Score(X_lrp, full_model1, \"lrp.sequential_preset_a\")\n",
    "LRP_sum1 = np.array([[np.sum(feature) for feature in ele] for ele in LRP_full1])\n",
    "LRP_norm1 = np.array([ ele / np.max(np.abs(ele)+0.000001) for ele in LRP_sum1])\n",
    "# Get Full prediction for Confusion matrix split"
   ]
  },
  {
   "cell_type": "code",
   "execution_count": null,
   "metadata": {},
   "outputs": [],
   "source": [
    "# Get LRP score\n",
    "LRP_full2 = Get_LRP_Score(X_lrp, full_model2, \"lrp.sequential_preset_a\")\n",
    "LRP_sum2 = np.array([[np.sum(feature) for feature in ele] for ele in LRP_full2])\n",
    "LRP_norm2 = np.array([ ele / np.max(np.abs(ele)+0.000001) for ele in LRP_sum2])"
   ]
  },
  {
   "cell_type": "code",
   "execution_count": null,
   "metadata": {},
   "outputs": [],
   "source": [
    "# Get LRP score\n",
    "LRP_full3 = Get_LRP_Score(X_lrp, full_model3, \"lrp.sequential_preset_a\")\n",
    "LRP_sum3 = np.array([[np.sum(feature) for feature in ele] for ele in LRP_full3])\n",
    "LRP_norm3 = np.array([ ele / np.max(np.abs(ele)+0.000001) for ele in LRP_sum3])"
   ]
  },
  {
   "cell_type": "code",
   "execution_count": null,
   "metadata": {},
   "outputs": [],
   "source": [
    "# Get LRP score\n",
    "LRP_full4 = Get_LRP_Score(X_lrp, full_model4, \"lrp.sequential_preset_a\")\n",
    "LRP_sum4 = np.array([[np.sum(feature) for feature in ele] for ele in LRP_full4])\n",
    "LRP_norm4 = np.array([ ele / (np.max(np.abs(ele))+0.000001 ) for ele in LRP_sum4])"
   ]
  },
  {
   "cell_type": "code",
   "execution_count": null,
   "metadata": {},
   "outputs": [],
   "source": [
    "pred_full1 = np.array([full_model1.predict(X_lrp[i]) for i in range(n_test)])"
   ]
  },
  {
   "cell_type": "code",
   "execution_count": null,
   "metadata": {},
   "outputs": [],
   "source": [
    "pred_full2 = np.array([full_model2.predict(X_lrp[i]) for i in range(n_test)])\n",
    "pred_full3 = np.array([full_model3.predict(X_lrp[i]) for i in range(n_test)])\n",
    "pred_full4 = np.array([full_model4.predict(X_lrp[i]) for i in range(n_test)])"
   ]
  },
  {
   "cell_type": "code",
   "execution_count": null,
   "metadata": {},
   "outputs": [],
   "source": [
    "LRP_mean1 = np.array([np.mean(np.abs(LRP_norm1),axis=0)])\n",
    "LRP_mean2 = np.array([np.mean(np.abs(LRP_norm2),axis=0)])\n",
    "LRP_mean3 = np.array([np.mean(np.abs(LRP_norm3),axis=0)])\n",
    "LRP_mean4 = np.array([np.mean(np.abs(LRP_norm4),axis=0)])"
   ]
  },
  {
   "cell_type": "code",
   "execution_count": null,
   "metadata": {},
   "outputs": [],
   "source": [
    "LRP_mean = np.mean(np.concatenate((LRP_mean1, LRP_mean2, LRP_mean3, LRP_mean4)), axis = 0)\n",
    "LRP_std = np.std(np.concatenate((LRP_mean1, LRP_mean2, LRP_mean3, LRP_mean4)), axis = 0)"
   ]
  },
  {
   "cell_type": "code",
   "execution_count": null,
   "metadata": {},
   "outputs": [],
   "source": [
    "LRP_norm_all = (LRP_norm1 + LRP_norm2 + LRP_norm3 + LRP_norm4) / 4\n",
    "pred_all = (pred_full1 + pred_full2 + pred_full3 + pred_full4) / 4"
   ]
  },
  {
   "cell_type": "code",
   "execution_count": null,
   "metadata": {},
   "outputs": [],
   "source": [
    "np.savez(loc_ROCs+'LRP_pred_CNN_2D', pred_model1=pred_full1, pred_model2=pred_full2, pred_model3=pred_full3, pred_model4=pred_full4, pred_modelavg=pred_all)"
   ]
  },
  {
   "cell_type": "code",
   "execution_count": null,
   "metadata": {},
   "outputs": [],
   "source": [
    "np.savez(loc_ROCs+'LRP_mean_CNN_2D', LRP_avg1=LRP_mean1, LRP_avg2=LRP_mean2, LRP_avg3=LRP_mean3, LRP_avg4=LRP_mean4, LRP_norm=LRP_norm_all)"
   ]
  },
  {
   "cell_type": "code",
   "execution_count": null,
   "metadata": {},
   "outputs": [],
   "source": [
    "LRP_means = np.load('/mnt/data/ml/ROCs/LRP_mean_CNN_2D.npz',allow_pickle=True)"
   ]
  },
  {
   "cell_type": "markdown",
   "metadata": {},
   "source": [
    "## Rank Features by average of absolute relevance"
   ]
  },
  {
   "cell_type": "code",
   "execution_count": null,
   "metadata": {},
   "outputs": [],
   "source": [
    "LRP_norm = LRP_means['LRP_norm']"
   ]
  },
  {
   "cell_type": "code",
   "execution_count": null,
   "metadata": {},
   "outputs": [],
   "source": [
    "LRP_order = [features[i] for i in np.argsort(LRP_mean)]"
   ]
  },
  {
   "cell_type": "code",
   "execution_count": null,
   "metadata": {
    "scrolled": false
   },
   "outputs": [],
   "source": [
    "LRP_std_sorted = [LRP_std[i] for i in np.argsort(LRP_mean)]\n",
    "LRP_order2 = [feature_names[feat] for feat in LRP_order]\n",
    "relevances = np.sort(LRP_mean)\n",
    "plt.figure(figsize=(15,7))\n",
    "plt.xlim([-1,feat_len])\n",
    "#plt.ylim([0,0.5])\n",
    "barplot = plt.bar(LRP_order2, relevances)\n",
    "count = 0\n",
    "for b in barplot:    \n",
    "    plt.fill_between([b.get_x(), b.get_x() + b.get_width()],\n",
    "                     b.get_height() - LRP_std_sorted[count],\n",
    "                     b.get_height() + LRP_std_sorted[count],\n",
    "                     lw=0,\n",
    "                     fc='none',\n",
    "                     ec='k',\n",
    "                     hatch='//',\n",
    "                     zorder=2)    \n",
    "    count += 1\n",
    "#plt.fill_between(,relevances + LRP_std,relevances - LRP_std)\n",
    "plt.xticks(rotation= 'vertical');\n",
    "plt.grid()\n",
    "plt.ylabel('Mean Normalized Relevance')\n",
    "plt.savefig('plots/LRP/LRP_barplot.png')"
   ]
  },
  {
   "cell_type": "markdown",
   "metadata": {},
   "source": [
    "### Histogram of LRP scores for features"
   ]
  },
  {
   "cell_type": "code",
   "execution_count": null,
   "metadata": {},
   "outputs": [],
   "source": [
    "# plt.figure(figsize=(32,18))\n",
    "#subset = {0,1,2,10,11,12,22,28,29,30}\n",
    "subset = list(range(len(features)))\n",
    "# for i in range(1, len(LRP_sum[0])):\n",
    "#     if i in subset:\n",
    "#         plt.hist(np.abs(LRP_norm[:,i]),\n",
    "#                  bins = 30,\n",
    "#                  density = True,\n",
    "# #                 weights = np.ones(len(LRP_norm[:,i].flatten()))/len(LRP_norm[:,i].flatten()),\n",
    "#                  range = [0,2],\n",
    "#                  label = feature_names[i-1],\n",
    "#                  histtype = 'step',\n",
    "#                  log = False);\n",
    "# plt.legend()\n",
    "# plt.xlabel('Relevance')\n",
    "# plt.ylim(0,16)\n",
    "# plt.xlim(0,1.2)\n",
    "# plt.grid(alpha=0.5)\n",
    "# plt.ylabel('Density')\n",
    "# plt.title('Histogram of Relevances')\n",
    "# plt.savefig('plots/LRP_histogram.png')"
   ]
  },
  {
   "cell_type": "code",
   "execution_count": null,
   "metadata": {
    "scrolled": false
   },
   "outputs": [],
   "source": [
    "selection = LRP_order[-11:]\n",
    "subset = [features.index(feat) for feat in selection]\n",
    "# valid_markers = [key[0] for key in mmarkers.MarkerStyle.markers.items()]\n",
    "# markers = valid_markers\n",
    "# colors = ['C'+str(i) for i in range(len(subset))]\n",
    "# plt.figure(figsize=(12,7))\n",
    "# for i in range(1, len(LRP_sum[0])):\n",
    "#     if i in subset:\n",
    "#         n,bins,patches=plt.hist(np.abs(LRP_norm[:,i]),\n",
    "#                  bins = 30,\n",
    "#                  range = [0,1],\n",
    "#                  weights = np.ones(len(LRP_norm[:,i].flatten()))/len(LRP_norm[:,i].flatten()),               \n",
    "#                  histtype = 'step',\n",
    "#                  color = colors[subset.index(i)],\n",
    "#                  log = False,\n",
    "#                  density = True);\n",
    "#         plt.scatter(bins[:-1]+ 0.5*(bins[1:] - bins[:-1]),\n",
    "#                     n,\n",
    "#                     marker=markers[subset.index(i)],\n",
    "#                     color = colors[subset.index(i)],\n",
    "#                     label = feature_names[i],\n",
    "#                     alpha=1)\n",
    "# plt.legend()\n",
    "# plt.xlabel('Relevance')\n",
    "# plt.ylim(0,9)\n",
    "# plt.xlim(0,1)\n",
    "# plt.grid(alpha=0.5)\n",
    "# plt.ylabel('Fraction')\n",
    "# plt.title('Histogram of Relevances')\n",
    "# plt.savefig('plots/LRP_histogram.png')"
   ]
  },
  {
   "cell_type": "markdown",
   "metadata": {},
   "source": [
    "### Relevance profiles small"
   ]
  },
  {
   "cell_type": "code",
   "execution_count": null,
   "metadata": {},
   "outputs": [],
   "source": [
    "# PROMOTE MYBIN AND MAXDEN INTO DICTIONARY FOR EASIER USE !!"
   ]
  },
  {
   "cell_type": "code",
   "execution_count": null,
   "metadata": {
    "scrolled": false
   },
   "outputs": [],
   "source": [
    "profile_selection = selection[:]\n",
    "profile_selection.remove('jetImages')\n",
    "#profile_selection = get_feat(True, True, False, False) #xaugs, flavor, images, particleInfo\n",
    "confidence_cut = 0.0\n",
    "mybin = [50, 50, 50, 50, 50,\n",
    "         50, 50, 50, 50, 50,\n",
    "         50, 50, 50, 50, 50,\n",
    "         50, 50, 50, 50, 50,\n",
    "         50, 50, 50, 10, 8,\n",
    "         15, 3, 2, 50, 50,\n",
    "         50, 50]\n",
    "maxden = [0.055, 0.06, 0.08, 0.06, 0.09,\n",
    "          0.07, 0.06, 0.12, 0.2, 0.2,\n",
    "          0.06, 0.09, 0.08, 0.08, 0.33,\n",
    "          0.25, 0.25, 0.14, 0.14, 0.11,\n",
    "          0.62, 0.62, 0.6, 0.3, 0.3,\n",
    "          0.2, 1, 1, 0.04, 0.08,\n",
    "          0.07, 0.062]\n",
    "for i in range(0, len(profile_selection)):\n",
    "    Draw_Profile_small(X_test,\n",
    "                 Y_test,\n",
    "                 pred_all,\n",
    "                 LRP_norm_all,\n",
    "                 confidence_cut,\n",
    "                 profile_selection[i],\n",
    "                 mybin[i],\n",
    "                 maxden[i],\n",
    "                 -1.1,\n",
    "                 1.1)"
   ]
  },
  {
   "cell_type": "markdown",
   "metadata": {},
   "source": [
    "## Scatter plots"
   ]
  },
  {
   "cell_type": "code",
   "execution_count": null,
   "metadata": {},
   "outputs": [],
   "source": [
    "selection_noimage = selection[:]\n",
    "selection_noimage.remove('jetImages')"
   ]
  },
  {
   "cell_type": "code",
   "execution_count": null,
   "metadata": {},
   "outputs": [],
   "source": [
    "selection_noimage"
   ]
  },
  {
   "cell_type": "code",
   "execution_count": null,
   "metadata": {},
   "outputs": [],
   "source": [
    "print(n_test)\n",
    "print([Y_test[0][:,1]]==1.flatten())\n",
    "print(LRP_norm_all[:,3])"
   ]
  },
  {
   "cell_type": "code",
   "execution_count": null,
   "metadata": {},
   "outputs": [],
   "source": [
    "print(LRP_norm_all[:,2][Y_test[0][:,1]==1].flatten())\n",
    "print(LRP_norm_all[:,3][Y_test[0][:,1]==1].flatten())\n",
    "LRP_test = LRP_norm_all[:,2] + LRP_norm_all[:,3]\n",
    "print(LRP_test[Y_test[0][:,1]==1].flatten())"
   ]
  },
  {
   "cell_type": "code",
   "execution_count": null,
   "metadata": {},
   "outputs": [],
   "source": [
    "print(X_test[i1][Y_test[0][:,0]==1].flatten())"
   ]
  },
  {
   "cell_type": "code",
   "execution_count": null,
   "metadata": {
    "scrolled": true
   },
   "outputs": [],
   "source": [
    "for i in range(len(selection_noimage)):\n",
    "    for j in range(len(selection_noimage)):\n",
    "        if i != j:\n",
    "            feat1 = selection_noimage[i]\n",
    "            feat2 = selection_noimage[j]\n",
    "            i1 = features.index(feat1)\n",
    "            i2 = features.index(feat2)\n",
    "            fig = plt.figure(figsize=(10,5))\n",
    "            gs = gridspec.GridSpec(1, 2) \n",
    "            gs.update(wspace=0.12, hspace=0.0025)\n",
    "\n",
    "\n",
    "            LRP_mult = LRP_norm_all[:,i1] + LRP_norm_all[:,i2]\n",
    "\n",
    "            ax0 = plt.subplot(gs[0])\n",
    "            # ax0.scatter(data_test[feat1][data_test['labels'][:,0]==1].flatten(),\n",
    "            #             data_test[feat2][data_test['labels'][:,0]==1].flatten(),\n",
    "            #             c = pred_full[:,:,0][data_test['labels'][:,0]==1].flatten(),\n",
    "            #             cmap = 'Blues',\n",
    "            #             alpha = 0.5,\n",
    "            #             s = 1\n",
    "            #            )\n",
    "            ax0.scatter(X_test[i1][Y_test[0][:,1]==1].flatten(),\n",
    "                        X_test[i2][Y_test[0][:,1]==1].flatten(),\n",
    "                        c = np.abs(LRP_mult[Y_test[0][:,0]==1].flatten()),\n",
    "                        cmap = 'Blues',\n",
    "                        alpha = 0.5,\n",
    "                        s = 1\n",
    "                       )\n",
    "            ax0.set_xlabel(feature_names[feat1])\n",
    "            ax0.set_ylabel(feature_names[feat2])\n",
    "            ax0.set_title('Signal')\n",
    "            ax0.set_xlim(0,1)\n",
    "            ax0.set_ylim(0,1)\n",
    "            ax0.grid()\n",
    "\n",
    "            ax1 = plt.subplot(gs[1])\n",
    "\n",
    "            # ax1.scatter(data_test[feat1][data_test['labels'][:,1]==1].flatten(),\n",
    "            #             data_test[feat2][data_test['labels'][:,1]==1].flatten(),\n",
    "            #             c = pred_full[:,:,0][data_test['labels'][:,1]==1].flatten(),\n",
    "            #             cmap = 'Oranges',\n",
    "            #             alpha = 0.5,\n",
    "            #             s = 1\n",
    "            #            )\n",
    "            ax1.scatter(X_test[i1][Y_test[0][:,0]==1].flatten(),\n",
    "                        X_test[i2][Y_test[0][:,0]==1].flatten(),\n",
    "                        #c = pred_all[:,:,0][Y_test[0][:,0]==1].flatten(),\n",
    "                        c = np.abs(LRP_mult[Y_test[0][:,0]==1].flatten()),\n",
    "                        cmap = 'Oranges',\n",
    "                        alpha = 0.5,\n",
    "                        s = 1\n",
    "                       )\n",
    "\n",
    "            ax1.set_xlabel(feature_names[feat1])\n",
    "            #ax1.set_ylabel(feature_names[i2])\n",
    "            ax1.set_xlim(0,1)\n",
    "            ax1.set_ylim(0,1)\n",
    "            ax1.set_title('Background')\n",
    "            ax1.grid()\n",
    "            ax1.set_yticklabels([])\n",
    "\n",
    "            plt.show()"
   ]
  },
  {
   "cell_type": "code",
   "execution_count": null,
   "metadata": {},
   "outputs": [],
   "source": [
    "feat1 = selection_noimage[-1]\n",
    "feat2 = selection_noimage[-3]\n",
    "i1 = profile_selection.index(feat1)\n",
    "i2 = profile_selection.index(feat2)\n",
    "fig = plt.figure(figsize=(10,5))\n",
    "gs = gridspec.GridSpec(1, 2) \n",
    "gs.update(wspace=0.12, hspace=0.0025)\n",
    "\n",
    "ax0 = plt.subplot(gs[0])\n",
    "ax0.scatter(test_sig[feat1][test_sig['labels'][:,1]==1].flatten(),\n",
    "            test_sig[feat2][test_sig['labels'][:,1]==1].flatten(),\n",
    "            c = pred_all[:,:,1][test_sig['labels'][:,1]==1].flatten(),\n",
    "            cmap = 'Blues',\n",
    "            alpha = 0.5,\n",
    "            s = 1\n",
    "           )\n",
    "ax0.set_xlabel(feature_names[feat1])\n",
    "ax0.set_ylabel(feature_names[feat2])\n",
    "ax0.set_title('Signal')\n",
    "ax0.set_xlim(0,1)\n",
    "ax0.set_ylim(0,1)\n",
    "ax0.grid()\n",
    "\n",
    "ax1 = plt.subplot(gs[1])\n",
    "\n",
    "ax1.scatter(test_sig[feat1][test_sig['labels'][:,0]==1].flatten(),\n",
    "            test_sig[feat2][test_sig['labels'][:,0]==1].flatten(),\n",
    "            c = LRP_norm_all[:,:,0][test_sig['labels'][:,0]==1].flatten(),\n",
    "            cmap = 'Oranges',\n",
    "            alpha = 0.5,\n",
    "            s = 1\n",
    "           )\n",
    "\n",
    "ax1.set_xlabel(feature_names[feat1])\n",
    "#ax1.set_ylabel(feature_names[i2])\n",
    "ax1.set_xlim(0,1)\n",
    "ax1.set_ylim(0,1)\n",
    "ax1.set_title('Background')\n",
    "ax1.grid()\n",
    "ax1.set_yticklabels([])\n",
    "\n",
    "plt.show()"
   ]
  },
  {
   "cell_type": "code",
   "execution_count": null,
   "metadata": {},
   "outputs": [],
   "source": [
    "feat1 = selection_noimage[-2]\n",
    "feat2 = selection_noimage[-3]\n",
    "i1 = feat_all.index(feat1)\n",
    "i2 = feat_all.index(feat2)\n",
    "fig = plt.figure(figsize=(10,5))\n",
    "gs = gridspec.GridSpec(1, 2) \n",
    "gs.update(wspace=0.12, hspace=0.0025)\n",
    "\n",
    "ax0 = plt.subplot(gs[0])\n",
    "ax0.scatter(data_test[feat1][data_test['labels'][:,1]==1].flatten(),\n",
    "            data_test[feat2][data_test['labels'][:,1]==1].flatten(),\n",
    "            c = pred_all[:,:,1][data_test['labels'][:,1]==1].flatten(),\n",
    "            cmap = 'Blues',\n",
    "            alpha = 0.5,\n",
    "            s = 1\n",
    "           )\n",
    "ax0.set_xlabel(feature_names[feat1])\n",
    "ax0.set_ylabel(feature_names[feat2])\n",
    "ax0.set_title('Signal')\n",
    "ax0.set_xlim(0,1)\n",
    "ax0.set_ylim(0,1)\n",
    "ax0.grid()\n",
    "\n",
    "ax1 = plt.subplot(gs[1])\n",
    "\n",
    "ax1.scatter(data_test[feat1][data_test['labels'][:,0]==1].flatten(),\n",
    "            data_test[feat2][data_test['labels'][:,0]==1].flatten(),\n",
    "            c = pred_all[:,:,0][data_test['labels'][:,0]==1].flatten(),\n",
    "            cmap = 'Oranges',\n",
    "            alpha = 0.5,\n",
    "            s = 1\n",
    "           )\n",
    "\n",
    "ax1.set_xlabel(feature_names[feat1])\n",
    "#ax1.set_ylabel(feature_names[i2])\n",
    "ax1.set_xlim(0,1)\n",
    "ax1.set_ylim(0,1)\n",
    "ax1.set_title('Background')\n",
    "ax1.grid()\n",
    "ax1.set_yticklabels([])\n",
    "\n",
    "plt.show()"
   ]
  },
  {
   "cell_type": "code",
   "execution_count": null,
   "metadata": {},
   "outputs": [],
   "source": [
    "print(Y_test[0][:,1])\n",
    "print(len(X_test[0][:,1]))\n",
    "print(Y_test[0][-5][0])"
   ]
  },
  {
   "cell_type": "code",
   "execution_count": null,
   "metadata": {},
   "outputs": [],
   "source": [
    "array_i_hm = []\n",
    "for i in range(len(Y_test[0][:,1])):\n",
    "    #find first two signal indices\n",
    "    if len(array_i_hm) < 4: \n",
    "        if len(array_i_hm) < 2 and Y_test[0][i][1] == 1: array_i_hm.append(i)\n",
    "        elif len(array_i_hm) > 1 and Y_test[0][i][1] == 0: array_i_hm.append(i)\n",
    "    else: break\n",
    "print(array_i_hm)"
   ]
  },
  {
   "cell_type": "code",
   "execution_count": null,
   "metadata": {},
   "outputs": [],
   "source": [
    "print(Y_test[0][4][1])\n",
    "print(Y_test[0][6][1])\n",
    "print(Y_test[0][7][1])\n",
    "print(Y_test[0][9][1])"
   ]
  },
  {
   "cell_type": "code",
   "execution_count": null,
   "metadata": {},
   "outputs": [],
   "source": [
    "X_test[0][:,1].squeeze()[0]"
   ]
  },
  {
   "cell_type": "code",
   "execution_count": null,
   "metadata": {},
   "outputs": [],
   "source": []
  }
 ],
 "metadata": {
  "kernelspec": {
   "display_name": "Python 3",
   "language": "python",
   "name": "python3"
  },
  "language_info": {
   "codemirror_mode": {
    "name": "ipython",
    "version": 3
   },
   "file_extension": ".py",
   "mimetype": "text/x-python",
   "name": "python",
   "nbconvert_exporter": "python",
   "pygments_lexer": "ipython3",
   "version": "3.7.3"
  }
 },
 "nbformat": 4,
 "nbformat_minor": 2
}
