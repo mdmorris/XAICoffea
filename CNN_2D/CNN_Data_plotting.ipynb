{
 "cells": [
  {
   "cell_type": "code",
   "execution_count": 1,
   "metadata": {},
   "outputs": [],
   "source": [
    "# Import libraries\n",
    "import numpy as np\n",
    "import matplotlib.pyplot as plt\n",
    "from matplotlib.colors import LogNorm"
   ]
  },
  {
   "cell_type": "code",
   "execution_count": 2,
   "metadata": {},
   "outputs": [
    {
     "name": "stderr",
     "output_type": "stream",
     "text": [
      "/opt/conda/lib/python3.7/site-packages/tensorflow/python/framework/dtypes.py:526: FutureWarning: Passing (type, 1) or '1type' as a synonym of type is deprecated; in a future version of numpy, it will be understood as (type, (1,)) / '(1,)type'.\n",
      "  _np_qint8 = np.dtype([(\"qint8\", np.int8, 1)])\n",
      "/opt/conda/lib/python3.7/site-packages/tensorflow/python/framework/dtypes.py:527: FutureWarning: Passing (type, 1) or '1type' as a synonym of type is deprecated; in a future version of numpy, it will be understood as (type, (1,)) / '(1,)type'.\n",
      "  _np_quint8 = np.dtype([(\"quint8\", np.uint8, 1)])\n",
      "/opt/conda/lib/python3.7/site-packages/tensorflow/python/framework/dtypes.py:528: FutureWarning: Passing (type, 1) or '1type' as a synonym of type is deprecated; in a future version of numpy, it will be understood as (type, (1,)) / '(1,)type'.\n",
      "  _np_qint16 = np.dtype([(\"qint16\", np.int16, 1)])\n",
      "/opt/conda/lib/python3.7/site-packages/tensorflow/python/framework/dtypes.py:529: FutureWarning: Passing (type, 1) or '1type' as a synonym of type is deprecated; in a future version of numpy, it will be understood as (type, (1,)) / '(1,)type'.\n",
      "  _np_quint16 = np.dtype([(\"quint16\", np.uint16, 1)])\n",
      "/opt/conda/lib/python3.7/site-packages/tensorflow/python/framework/dtypes.py:530: FutureWarning: Passing (type, 1) or '1type' as a synonym of type is deprecated; in a future version of numpy, it will be understood as (type, (1,)) / '(1,)type'.\n",
      "  _np_qint32 = np.dtype([(\"qint32\", np.int32, 1)])\n",
      "/opt/conda/lib/python3.7/site-packages/tensorflow/python/framework/dtypes.py:535: FutureWarning: Passing (type, 1) or '1type' as a synonym of type is deprecated; in a future version of numpy, it will be understood as (type, (1,)) / '(1,)type'.\n",
      "  np_resource = np.dtype([(\"resource\", np.ubyte, 1)])\n",
      "Using TensorFlow backend.\n"
     ]
    }
   ],
   "source": [
    "#import network and feature list\n",
    "import sys\n",
    "sys.path.append('../python/')\n",
    "from networkBuilder import *"
   ]
  },
  {
   "cell_type": "markdown",
   "metadata": {},
   "source": [
    "## Global parameters"
   ]
  },
  {
   "cell_type": "code",
   "execution_count": 3,
   "metadata": {},
   "outputs": [],
   "source": [
    "# Transparency of Histograms\n",
    "transp = 0.5"
   ]
  },
  {
   "cell_type": "code",
   "execution_count": 4,
   "metadata": {},
   "outputs": [
    {
     "data": {
      "text/plain": [
       "<contextlib._GeneratorContextManager at 0x7ff9401ec390>"
      ]
     },
     "execution_count": 4,
     "metadata": {},
     "output_type": "execute_result"
    }
   ],
   "source": [
    "# Set default options for paper\n",
    "params = {'legend.fontsize': 'x-large',\n",
    "         'axes.labelsize': 'x-large',\n",
    "         'axes.titlesize':'x-large',\n",
    "         'xtick.labelsize':'x-large',\n",
    "         'ytick.labelsize':'x-large',\n",
    "         'figure.facecolor':'white'}\n",
    "plt.rcParams.update(params)\n",
    "plt.style.context('default')"
   ]
  },
  {
   "cell_type": "code",
   "execution_count": 5,
   "metadata": {},
   "outputs": [],
   "source": [
    "feature_names={'jetPt':r'$p_{T,jet}$',\n",
    "               'jetEta':r'$\\eta(jet)$',\n",
    "               'jetPhi':r'$\\phi(jet)$',\n",
    "               'jetMass':r'$m_{jet}$',\n",
    "               'jetMassSD':r'$m_{jet,sd}$',\n",
    "               'tau1_b05':r'$\\tau_{1}^{(0.5)}$',\n",
    "               'tau2_b05':r'$\\tau_{2}^{(0.5)}$',\n",
    "               'tau3_b05':r'$\\tau_{3}^{(0.5)}$',\n",
    "               'tau1_sd_b05':r'$\\tau_{1,sd}^{(0.5)}$',\n",
    "               'tau2_sd_b05':r'$\\tau_{2,sd}^{(0.5)}$',\n",
    "               'tau3_sd_b05':r'$\\tau_{3,sd}^{(0.5)}$',\n",
    "               'tau1_b10':r'$\\tau_{1}^{(1)}$',\n",
    "               'tau2_b10':r'$\\tau_{2}^{(1)}$',\n",
    "               'tau3_b10':r'$\\tau_{3}^{(1)}$',\n",
    "               'tau1_sd_b10':r'$\\tau_{1,sd}^{(1)}$',\n",
    "               'tau2_sd_b10':r'$\\tau_{2,sd}^{(1)}$',\n",
    "               'tau3_sd_b10':r'$\\tau_{3,sd}^{(1)}$',\n",
    "               'tau1_b15':r'$\\tau_{1}^{(1.5)}$',\n",
    "               'tau2_b15':r'$\\tau_{2}^{(1.5)}$',\n",
    "               'tau3_b15':r'$\\tau_{3}^{(1.5)}$',\n",
    "               'tau1_sd_b15':r'$\\tau_{1,sd}^{(1.5)}$',\n",
    "               'tau2_sd_b15':r'$\\tau_{2,sd}^{(1.5)}$',\n",
    "               'tau3_sd_b15':r'$\\tau_{3,sd}^{(1.5)}$',\n",
    "               'tau1_b20':r'$\\tau_{1}^{(2)}$',\n",
    "               'tau2_b20':r'$\\tau_{2}^{(2)}$',\n",
    "               'tau3_b20':r'$\\tau_{3}^{(2)}$',\n",
    "               'tau1_sd_b20':r'$\\tau_{1,sd}^{(2)}$',\n",
    "               'tau2_sd_b20':r'$\\tau_{2,sd}^{(2)}$',\n",
    "               'tau3_sd_b20':r'$\\tau_{3,sd}^{(2)}$',\n",
    "               'chMult':r'$N_{ch}$',\n",
    "               'neutMult':r'$N_{neut}$',\n",
    "               'phoMult':r'$N_{\\gamma}$',\n",
    "               'eleMult':r'$N_{e}$',\n",
    "               'muMult':r'$N_{\\mu}$',\n",
    "               'jetpull':r'$\\phi_{pull}$',\n",
    "               'beta3':r'$\\beta_{3}$',\n",
    "               'beta3_sd':r'$\\beta_{3}^{g}$',\n",
    "               'tau21':r'$\\tau_{2}^{(1)} / \\tau_{1}^{(1)}$',\n",
    "               'deltaR_subjets':r'$\\Delta_r$',\n",
    "               'z':r'$z$',\n",
    "               'dxy_max':r'$d_{xy,max}$',\n",
    "               'dz_max':r'$d_{z,max}$',\n",
    "               'jetpull_abs':r'$|\\phi_{pull}|$'\n",
    "              }"
   ]
  },
  {
   "cell_type": "markdown",
   "metadata": {},
   "source": [
    "## Define Functions"
   ]
  },
  {
   "cell_type": "code",
   "execution_count": 6,
   "metadata": {},
   "outputs": [],
   "source": [
    "def Draw_HistoGram(data_sig, data_bkg, feat, bins, minx, maxx, legend_loc = 'best', b_ylog = False):\n",
    "    tick_width = (maxx - minx) / 5\n",
    "    fig, axs = plt.subplots(1, 1, tight_layout=True, figsize=(7.5,7.5))\n",
    "    axs.hist(data_sig[feat],\n",
    "                bins = bins,\n",
    "                histtype = 'step',\n",
    "                weights = np.ones(len(data_sig[feat]))/len(data_sig[feat]),\n",
    "                fill = True,\n",
    "                alpha = 0.55,\n",
    "                label = 'Signal',\n",
    "                log = False,\n",
    "#                density = True,\n",
    "                range = [minx, maxx],\n",
    "                hatch = '/',\n",
    "                edgecolor='k'\n",
    "                );    \n",
    "    axs.hist(data_bkg[feat],\n",
    "                bins = bins,\n",
    "                histtype = 'step',\n",
    "                weights = np.ones(len(data_bkg[feat]))/len(data_bkg[feat]),\n",
    "                fill = True,\n",
    "                alpha = 0.55,\n",
    "                label = 'Background',\n",
    "                log = False,\n",
    "#                density = True,\n",
    "                range = [minx, maxx],\n",
    "                hatch = '\\\\',\n",
    "                edgecolor='k'\n",
    "                );\n",
    "    axs.legend(loc = legend_loc);\n",
    "#    axs.grid()\n",
    "    axs.set_xlim(minx, maxx)\n",
    "    axs.xaxis.set_ticks(np.arange(minx, maxx + tick_width, tick_width))\n",
    "    axs.set_xlabel('Normalized ' + feature_names[feat])\n",
    "    if b_ylog: axs.set_yscale(\"log\")\n",
    "    axs.set_ylabel('Fraction')\n",
    "    plt.savefig('plots/histogram/' + feat + '.png')"
   ]
  },
  {
   "cell_type": "markdown",
   "metadata": {},
   "source": [
    "## Import data:\n",
    "Using ShowJetsData_full.npz to build the CNN."
   ]
  },
  {
   "cell_type": "code",
   "execution_count": 7,
   "metadata": {},
   "outputs": [],
   "source": [
    "data_sig_images = np.load('/mnt/data/ml/PreProcessing/ShowJets_train_Zbb_exts_msd50to150_images_v2.npz')\n",
    "data_bkg_images = np.load('/mnt/data/ml/PreProcessing/ShowJets_train_QCD_exts_msd50to150_images_v2.npz')"
   ]
  },
  {
   "cell_type": "code",
   "execution_count": 8,
   "metadata": {},
   "outputs": [],
   "source": [
    "data_sig = np.load('/mnt/data/ml/PreProcessing/ShowJets_train_Zbb_exts_msd50to150_v2.npz')\n",
    "data_bkg = np.load('/mnt/data/ml/PreProcessing/ShowJets_train_QCD_exts_msd50to150_v2.npz')"
   ]
  },
  {
   "cell_type": "code",
   "execution_count": 10,
   "metadata": {},
   "outputs": [],
   "source": [
    "grid = data_sig_images['jetImages'][0].shape[0]"
   ]
  },
  {
   "cell_type": "code",
   "execution_count": 11,
   "metadata": {},
   "outputs": [],
   "source": [
    "feat_all = get_feat()"
   ]
  },
  {
   "cell_type": "markdown",
   "metadata": {},
   "source": [
    "## Plot Data"
   ]
  },
  {
   "cell_type": "markdown",
   "metadata": {},
   "source": [
    "### JetImages"
   ]
  },
  {
   "cell_type": "code",
   "execution_count": 13,
   "metadata": {
    "scrolled": false
   },
   "outputs": [
    {
     "data": {
      "image/png": "[encoded data removed]",
      "text/plain": [
       "<Figure size 900x576 with 4 Axes>"
      ]
     },
     "metadata": {},
     "output_type": "display_data"
    }
   ],
   "source": [
    "sig_train_images = np.sum(data_sig_images['jetImages'],axis=0).reshape(grid,grid)\n",
    "bkg_train_images = np.sum(data_bkg_images['jetImages'],axis=0).reshape(grid,grid)\n",
    "\n",
    "extent_sig = [-sig_train_images.shape[1]/2., sig_train_images.shape[1]/2., -sig_train_images.shape[0]/2., sig_train_images.shape[0]/2. ]\n",
    "extent_bkg = [-bkg_train_images.shape[1]/2., bkg_train_images.shape[1]/2., -bkg_train_images.shape[0]/2., bkg_train_images.shape[0]/2. ]\n",
    "\n",
    "# Build figure with train and test set \n",
    "fig = plt.figure(figsize = (12.5,8))\n",
    "ax1 = fig.add_subplot(121)\n",
    "im0 = ax1.imshow(sig_train_images,\n",
    "                      interpolation='nearest',\n",
    "#                      origin='low',\n",
    "                      cmap = 'Greens',\n",
    "                      norm=LogNorm(),\n",
    "                     vmin = 10,\n",
    "                     vmax = 200000,\n",
    "                      extent = [-2, 2, -2, 2])\n",
    "ax1.set_title('Summed Signal Images')\n",
    "ax1.set_xlabel(r'Transformed $\\eta$')\n",
    "ax1.set_ylabel(r'Transformed $\\phi$')\n",
    "cbar_sig = fig.colorbar(im0,\n",
    "             fraction=0.0467, pad=0.02,\n",
    "             ax=ax1)\n",
    "plt.xticks([-2,-1,0,1,2])\n",
    "plt.yticks([-2,-1,0,1,2])\n",
    "\n",
    "ax2 = fig.add_subplot(122)\n",
    "im2 = ax2.imshow(bkg_train_images,\n",
    "                      interpolation='nearest',\n",
    "#                      origin='low',\n",
    "                      cmap = 'Greens',\n",
    "                      norm=LogNorm(),\n",
    "                     vmin = 10,\n",
    "                     vmax = 200000,\n",
    "                      extent = [-2, 2, -2, 2])\n",
    "ax2.set_title('Summed Background Images')\n",
    "ax2.set_xlabel(r'Transformed $\\eta$')\n",
    "cbar_bkg = fig.colorbar(im2,\n",
    "             fraction=0.0467, pad=0.02,\n",
    "             ax=ax2)\n",
    "cbar_bkg.set_label(r'Pixel $p_T$ (GeV)')\n",
    "plt.xticks([-2,-1,0,1,2])\n",
    "plt.yticks([-2,-1,0,1,2])\n",
    "plt.tight_layout()\n",
    "plt.savefig('plots/histogram/jet_images.png')"
   ]
  },
  {
   "cell_type": "code",
   "execution_count": null,
   "metadata": {},
   "outputs": [],
   "source": [
    "extent_sig"
   ]
  },
  {
   "cell_type": "code",
   "execution_count": null,
   "metadata": {},
   "outputs": [],
   "source": [
    "sig_train_images.shape"
   ]
  },
  {
   "cell_type": "markdown",
   "metadata": {},
   "source": [
    "### jetPt"
   ]
  },
  {
   "cell_type": "code",
   "execution_count": null,
   "metadata": {
    "scrolled": false
   },
   "outputs": [],
   "source": [
    "Draw_HistoGram(data_sig, data_bkg, 'jetPt', 50, 0, 1)"
   ]
  },
  {
   "cell_type": "markdown",
   "metadata": {},
   "source": [
    "### jetEta"
   ]
  },
  {
   "cell_type": "code",
   "execution_count": null,
   "metadata": {
    "scrolled": false
   },
   "outputs": [],
   "source": [
    "Draw_HistoGram(data_sig, data_bkg, 'jetEta', 50, 0, 1)"
   ]
  },
  {
   "cell_type": "markdown",
   "metadata": {},
   "source": [
    "### jetPhi"
   ]
  },
  {
   "cell_type": "code",
   "execution_count": null,
   "metadata": {
    "scrolled": false
   },
   "outputs": [],
   "source": [
    "Draw_HistoGram(data_sig, data_bkg, 'jetPhi',50, 0, 1, legend_loc = 'lower right')"
   ]
  },
  {
   "cell_type": "markdown",
   "metadata": {},
   "source": [
    "### jetMass"
   ]
  },
  {
   "cell_type": "code",
   "execution_count": null,
   "metadata": {
    "scrolled": false
   },
   "outputs": [],
   "source": [
    "Draw_HistoGram(data_sig, data_bkg, 'jetMass',50, 0, 1)"
   ]
  },
  {
   "cell_type": "code",
   "execution_count": null,
   "metadata": {},
   "outputs": [],
   "source": [
    "Draw_HistoGram(data_sig, data_bkg, 'jetMassSD',50, 0, 1)"
   ]
  },
  {
   "cell_type": "markdown",
   "metadata": {},
   "source": [
    "### tau1"
   ]
  },
  {
   "cell_type": "code",
   "execution_count": null,
   "metadata": {},
   "outputs": [],
   "source": [
    "Draw_HistoGram(data_sig, data_bkg, 'tau1_b05',50, 0, 1)"
   ]
  },
  {
   "cell_type": "code",
   "execution_count": null,
   "metadata": {},
   "outputs": [],
   "source": [
    "Draw_HistoGram(data_sig, data_bkg, 'tau1_b10',50, 0, 1)"
   ]
  },
  {
   "cell_type": "code",
   "execution_count": null,
   "metadata": {},
   "outputs": [],
   "source": [
    "Draw_HistoGram(data_sig, data_bkg, 'tau1_b15',50, 0, 1)"
   ]
  },
  {
   "cell_type": "code",
   "execution_count": null,
   "metadata": {
    "scrolled": false
   },
   "outputs": [],
   "source": [
    "Draw_HistoGram(data_sig, data_bkg, 'tau1_b20',50, 0, 1)"
   ]
  },
  {
   "cell_type": "code",
   "execution_count": null,
   "metadata": {},
   "outputs": [],
   "source": [
    "Draw_HistoGram(data_sig, data_bkg, 'tau1_sd_b05',50, 0, 1)"
   ]
  },
  {
   "cell_type": "code",
   "execution_count": null,
   "metadata": {},
   "outputs": [],
   "source": [
    "Draw_HistoGram(data_sig, data_bkg, 'tau1_sd_b10',50, 0, 1)"
   ]
  },
  {
   "cell_type": "code",
   "execution_count": null,
   "metadata": {},
   "outputs": [],
   "source": [
    "Draw_HistoGram(data_sig, data_bkg, 'tau1_sd_b15',50, 0, 1)"
   ]
  },
  {
   "cell_type": "code",
   "execution_count": null,
   "metadata": {},
   "outputs": [],
   "source": [
    "Draw_HistoGram(data_sig, data_bkg, 'tau1_sd_b20',50, 0, 1)"
   ]
  },
  {
   "cell_type": "markdown",
   "metadata": {},
   "source": [
    "### tau2"
   ]
  },
  {
   "cell_type": "code",
   "execution_count": null,
   "metadata": {},
   "outputs": [],
   "source": [
    "Draw_HistoGram(data_sig, data_bkg, 'tau2_b05',50, 0, 1)"
   ]
  },
  {
   "cell_type": "code",
   "execution_count": null,
   "metadata": {},
   "outputs": [],
   "source": [
    "Draw_HistoGram(data_sig, data_bkg, 'tau2_b10',50, 0, 1)"
   ]
  },
  {
   "cell_type": "code",
   "execution_count": null,
   "metadata": {},
   "outputs": [],
   "source": [
    "Draw_HistoGram(data_sig, data_bkg, 'tau2_b15',50, 0, 1, legend_loc='upper center')"
   ]
  },
  {
   "cell_type": "code",
   "execution_count": null,
   "metadata": {},
   "outputs": [],
   "source": [
    "Draw_HistoGram(data_sig, data_bkg, 'tau2_b20',50, 0, 1)"
   ]
  },
  {
   "cell_type": "code",
   "execution_count": null,
   "metadata": {},
   "outputs": [],
   "source": [
    "Draw_HistoGram(data_sig, data_bkg, 'tau2_sd_b05',50, 0, 1)"
   ]
  },
  {
   "cell_type": "code",
   "execution_count": null,
   "metadata": {},
   "outputs": [],
   "source": [
    "Draw_HistoGram(data_sig, data_bkg, 'tau2_sd_b10',50, 0, 1)"
   ]
  },
  {
   "cell_type": "code",
   "execution_count": null,
   "metadata": {},
   "outputs": [],
   "source": [
    "Draw_HistoGram(data_sig, data_bkg, 'tau2_sd_b15',50, 0, 1)"
   ]
  },
  {
   "cell_type": "code",
   "execution_count": null,
   "metadata": {},
   "outputs": [],
   "source": [
    "Draw_HistoGram(data_sig, data_bkg, 'tau2_sd_b20',50, 0, 1)"
   ]
  },
  {
   "cell_type": "markdown",
   "metadata": {},
   "source": [
    "### tau3"
   ]
  },
  {
   "cell_type": "code",
   "execution_count": null,
   "metadata": {
    "scrolled": false
   },
   "outputs": [],
   "source": [
    "Draw_HistoGram(data_sig, data_bkg, 'tau3_b05',50, 0, 1)"
   ]
  },
  {
   "cell_type": "code",
   "execution_count": null,
   "metadata": {},
   "outputs": [],
   "source": [
    "Draw_HistoGram(data_sig, data_bkg, 'tau3_b10',50, 0, 1, legend_loc='upper center')"
   ]
  },
  {
   "cell_type": "code",
   "execution_count": null,
   "metadata": {},
   "outputs": [],
   "source": [
    "Draw_HistoGram(data_sig, data_bkg, 'tau3_b15',50, 0, 1, legend_loc='upper center')"
   ]
  },
  {
   "cell_type": "code",
   "execution_count": null,
   "metadata": {},
   "outputs": [],
   "source": [
    "Draw_HistoGram(data_sig, data_bkg, 'tau3_b20',50, 0, 1)"
   ]
  },
  {
   "cell_type": "code",
   "execution_count": null,
   "metadata": {
    "scrolled": false
   },
   "outputs": [],
   "source": [
    "Draw_HistoGram(data_sig, data_bkg, 'tau3_sd_b05',50, 0, 1)"
   ]
  },
  {
   "cell_type": "code",
   "execution_count": null,
   "metadata": {},
   "outputs": [],
   "source": [
    "Draw_HistoGram(data_sig, data_bkg, 'tau3_sd_b10',50, 0, 1)"
   ]
  },
  {
   "cell_type": "code",
   "execution_count": null,
   "metadata": {},
   "outputs": [],
   "source": [
    "Draw_HistoGram(data_sig, data_bkg, 'tau3_sd_b15',50, 0, 1, legend_loc='upper center')"
   ]
  },
  {
   "cell_type": "code",
   "execution_count": null,
   "metadata": {},
   "outputs": [],
   "source": [
    "Draw_HistoGram(data_sig, data_bkg, 'tau3_sd_b20',50, 0, 1)"
   ]
  },
  {
   "cell_type": "markdown",
   "metadata": {},
   "source": [
    "## beta_3"
   ]
  },
  {
   "cell_type": "code",
   "execution_count": null,
   "metadata": {},
   "outputs": [],
   "source": [
    "Draw_HistoGram(data_sig, data_bkg, 'beta3',50, 0, 1)"
   ]
  },
  {
   "cell_type": "code",
   "execution_count": null,
   "metadata": {},
   "outputs": [],
   "source": [
    "Draw_HistoGram(data_sig, data_bkg, 'beta3_sd',50, 0, 1)"
   ]
  },
  {
   "cell_type": "markdown",
   "metadata": {},
   "source": [
    "## tau21"
   ]
  },
  {
   "cell_type": "code",
   "execution_count": null,
   "metadata": {},
   "outputs": [],
   "source": [
    "Draw_HistoGram(data_sig, data_bkg, 'tau21',50, 0, 1)"
   ]
  },
  {
   "cell_type": "markdown",
   "metadata": {},
   "source": [
    "### charge Multiplicity"
   ]
  },
  {
   "cell_type": "code",
   "execution_count": null,
   "metadata": {},
   "outputs": [],
   "source": [
    "Draw_HistoGram(data_sig, data_bkg, 'chMult',10, 0, 1)"
   ]
  },
  {
   "cell_type": "markdown",
   "metadata": {},
   "source": [
    "### neutral Multiplicity"
   ]
  },
  {
   "cell_type": "code",
   "execution_count": null,
   "metadata": {},
   "outputs": [],
   "source": [
    "Draw_HistoGram(data_sig, data_bkg, 'neutMult',7, 0, 1)"
   ]
  },
  {
   "cell_type": "markdown",
   "metadata": {},
   "source": [
    "### photon Multiplicity"
   ]
  },
  {
   "cell_type": "code",
   "execution_count": null,
   "metadata": {},
   "outputs": [],
   "source": [
    "Draw_HistoGram(data_sig, data_bkg, 'phoMult',12, 0, 1)"
   ]
  },
  {
   "cell_type": "markdown",
   "metadata": {},
   "source": [
    "### electron Multiplicity"
   ]
  },
  {
   "cell_type": "code",
   "execution_count": null,
   "metadata": {},
   "outputs": [],
   "source": [
    "Draw_HistoGram(data_sig, data_bkg, 'eleMult',3, 0, 1)"
   ]
  },
  {
   "cell_type": "markdown",
   "metadata": {},
   "source": [
    "### muon Mult"
   ]
  },
  {
   "cell_type": "code",
   "execution_count": null,
   "metadata": {
    "scrolled": false
   },
   "outputs": [],
   "source": [
    "Draw_HistoGram(data_sig, data_bkg, 'muMult',2, 0, 1)"
   ]
  },
  {
   "cell_type": "markdown",
   "metadata": {},
   "source": [
    "### jetpull"
   ]
  },
  {
   "cell_type": "code",
   "execution_count": null,
   "metadata": {
    "scrolled": false
   },
   "outputs": [],
   "source": [
    "Draw_HistoGram(data_sig, data_bkg, 'jetpull_abs',50, 0, 1)"
   ]
  },
  {
   "cell_type": "markdown",
   "metadata": {},
   "source": [
    "### deltaR"
   ]
  },
  {
   "cell_type": "code",
   "execution_count": null,
   "metadata": {},
   "outputs": [],
   "source": [
    "Draw_HistoGram(data_sig, data_bkg, 'deltaR_subjets',50, 0, 1)"
   ]
  },
  {
   "cell_type": "markdown",
   "metadata": {},
   "source": [
    "### z"
   ]
  },
  {
   "cell_type": "code",
   "execution_count": null,
   "metadata": {},
   "outputs": [],
   "source": [
    "Draw_HistoGram(data_sig, data_bkg, 'z',50, 0, 1, legend_loc='upper left')"
   ]
  },
  {
   "cell_type": "markdown",
   "metadata": {},
   "source": [
    "### dxy max"
   ]
  },
  {
   "cell_type": "code",
   "execution_count": null,
   "metadata": {},
   "outputs": [],
   "source": [
    "Draw_HistoGram(data_sig, data_bkg, 'dxy_max',50, 0, 1, legend_loc='upper left', b_ylog = True)"
   ]
  },
  {
   "cell_type": "markdown",
   "metadata": {},
   "source": [
    "### dz max"
   ]
  },
  {
   "cell_type": "code",
   "execution_count": null,
   "metadata": {},
   "outputs": [],
   "source": [
    "Draw_HistoGram(data_sig, data_bkg, 'dz_max',50, 0, 1, legend_loc='upper left', b_ylog = True)"
   ]
  },
  {
   "cell_type": "code",
   "execution_count": null,
   "metadata": {},
   "outputs": [],
   "source": []
  }
 ],
 "metadata": {
  "kernelspec": {
   "display_name": "Python 3",
   "language": "python",
   "name": "python3"
  },
  "language_info": {
   "codemirror_mode": {
    "name": "ipython",
    "version": 3
   },
   "file_extension": ".py",
   "mimetype": "text/x-python",
   "name": "python",
   "nbconvert_exporter": "python",
   "pygments_lexer": "ipython3",
   "version": "3.7.3"
  }
 },
 "nbformat": 4,
 "nbformat_minor": 2
}
