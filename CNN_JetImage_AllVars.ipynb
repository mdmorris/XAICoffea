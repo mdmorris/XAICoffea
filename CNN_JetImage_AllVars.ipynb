{
 "cells": [
  {
   "cell_type": "code",
   "execution_count": 1,
   "metadata": {},
   "outputs": [],
   "source": [
    "# TensorFlow and tf.keras\n",
    "import tensorflow as tf\n",
    "from tensorflow import keras\n",
    "from tensorflow.keras import layers\n",
    "from tensorflow.keras import models\n",
    "import tensorflow.keras.utils\n",
    "from tensorflow.keras.utils import multi_gpu_model\n",
    "import pandas as pd\n",
    "\n",
    "from datetime import datetime\n",
    "from packaging import version\n",
    "\n",
    "#print(\"TensorFlow version: \", tf.__version__)\n",
    "#assert version.parse(tf.__version__).release[0] < 2, \\\n",
    "#    \"This notebook does not worl for TensorFlow 2.0\"\n",
    "\n",
    "# Helper libraries\n",
    "import numpy as np\n",
    "import matplotlib.pyplot as plt\n",
    "from matplotlib.colors import LogNorm\n",
    "import math\n",
    "import time\n",
    "import h5py\n",
    "import sklearn\n",
    "from sklearn.utils import shuffle\n",
    "from tensorflow.keras import *\n",
    "\n",
    "import os\n",
    "# from numba import jit"
   ]
  },
  {
   "cell_type": "markdown",
   "metadata": {},
   "source": [
    "# Preparing Data for CNN"
   ]
  },
  {
   "cell_type": "code",
   "execution_count": 2,
   "metadata": {
    "scrolled": true
   },
   "outputs": [
    {
     "name": "stdout",
     "output_type": "stream",
     "text": [
      "['jetImages', 'jetPt', 'jetEta', 'jetPhi', 'tau21', 'tau31', 'tau32', 'chMult', 'neutMult', 'phoMult', 'eleMult', 'muMult', 'jetpull', 'labels']\n"
     ]
    }
   ],
   "source": [
    "dataset = '/mnt/data/ml/ShowJetsData_addgroomedtau.npz'\n",
    "# dataset = '/mnt/data/ml/Constituent4vec_neve210k.npz'\n",
    "data = np.load(dataset)\n",
    "print(data.files)"
   ]
  },
  {
   "cell_type": "code",
   "execution_count": 3,
   "metadata": {},
   "outputs": [],
   "source": [
    "images=np.array(data['jetImages'], dtype=np.float64).reshape(len(data['jetImages']),16,16,1)\n",
    "eta=np.array(data['jetEta'], dtype=np.float64)\n",
    "pt=np.array(data['jetPt'], dtype=np.float64)\n",
    "phi=np.array(data['jetPhi'], dtype=np.float16)\n",
    "tau21=np.array(data['tau21'], dtype=np.float64)\n",
    "jetpull=np.array(np.abs(data['jetpull']/math.pi), dtype=np.float64)\n",
    "labels=np.array(data['labels'], dtype=np.int16)\n",
    "n_ch=np.array(data['chMult'], dtype=np.int16)\n",
    "n_nh=np.array(data['neutMult'], dtype=np.int16)\n",
    "n_gamma=np.array(data['phoMult'], dtype=np.int16)\n",
    "n_e=np.array(data['eleMult'], dtype=np.int16)\n",
    "n_mu=np.array(data['muMult'], dtype=np.int16)\n",
    "# eta=np.array(data['jetconstEta'], dtype=np.float64)\n",
    "# pt=np.array(data['jetconstPt'], dtype=np.float64)\n",
    "# phi=np.array(data['jetconstPhi'], dtype=np.float16)\n",
    "# evnum=np.array(data['jetconstEvnum'], dtype=np.float64)"
   ]
  },
  {
   "cell_type": "code",
   "execution_count": 4,
   "metadata": {},
   "outputs": [
    {
     "data": {
      "text/plain": [
       "<contextlib._GeneratorContextManager at 0x7f9d4447b9b0>"
      ]
     },
     "execution_count": 4,
     "metadata": {},
     "output_type": "execute_result"
    }
   ],
   "source": [
    "params = {'legend.fontsize': 'x-large',\n",
    "         'axes.labelsize': 'x-large',\n",
    "         'axes.titlesize':'x-large',\n",
    "         'xtick.labelsize':'x-large',\n",
    "         'ytick.labelsize':'x-large',\n",
    "         'figure.facecolor':'white'}\n",
    "plt.rcParams.update(params)\n",
    "plt.style.context('default')"
   ]
  },
  {
   "cell_type": "markdown",
   "metadata": {},
   "source": [
    "### To make sure siganl and bkg are equal in number for "
   ]
  },
  {
   "cell_type": "code",
   "execution_count": 5,
   "metadata": {},
   "outputs": [],
   "source": [
    "numZ = np.min([np.sum(labels[:,1]==1)])\n",
    "numData = np.min([numZ, np.sum(labels[:,0]==1)])"
   ]
  },
  {
   "cell_type": "code",
   "execution_count": 6,
   "metadata": {},
   "outputs": [],
   "source": [
    "f = np.array(list(zip(images, pt, eta, phi, tau21, jetpull, n_ch, n_nh, n_gamma, n_e, n_mu, labels)))\n",
    "df = pd.DataFrame(data=f, columns=['image', 'pT', 'eta', 'phi', 'tau21', 'jetpull', 'n_ch', 'n_nh', 'n_gamma', 'n_e',\n",
    "                                       'n_mu', 'labels'])"
   ]
  },
  {
   "cell_type": "code",
   "execution_count": 7,
   "metadata": {},
   "outputs": [],
   "source": [
    "# df.dtypes"
   ]
  },
  {
   "cell_type": "code",
   "execution_count": 8,
   "metadata": {},
   "outputs": [],
   "source": [
    "z1= (labels[:,1]==1)\n",
    "z1[np.argwhere(z1==True)[int(numData):]] = False\n",
    "\n",
    "qcd= (labels[:,0]==1)\n",
    "qcd[np.argwhere(qcd==True)[int(numData):]] = False"
   ]
  },
  {
   "cell_type": "code",
   "execution_count": 9,
   "metadata": {},
   "outputs": [],
   "source": [
    "signal = shuffle(df[pd.Series(z1)]).reset_index(drop=True)\n",
    "sig_labels = np.array(np.zeros((len(signal.index), 2)), dtype=np.int32)\n",
    "sig_labels[:,0]=1\n",
    "sig_labels = pd.Series(sig_labels.tolist())\n",
    "signal = signal.drop(columns=['labels'])\n",
    "signal['labels'] = sig_labels"
   ]
  },
  {
   "cell_type": "code",
   "execution_count": 10,
   "metadata": {},
   "outputs": [],
   "source": [
    "# signal.corr()"
   ]
  },
  {
   "cell_type": "code",
   "execution_count": 11,
   "metadata": {},
   "outputs": [],
   "source": [
    "# Signal image"
   ]
  },
  {
   "cell_type": "code",
   "execution_count": 12,
   "metadata": {},
   "outputs": [
    {
     "data": {
      "image/png": "[encoded data removed]",
      "text/plain": [
       "<Figure size 432x288 with 2 Axes>"
      ]
     },
     "metadata": {},
     "output_type": "display_data"
    }
   ],
   "source": [
    "sig_images=np.sum(signal['image'],axis=0)\n",
    "display_sig = sig_images.reshape(16,16)\n",
    "plt.grid(False)\n",
    "plt.imshow(display_sig, interpolation='nearest', origin='low', cmap = 'jet', norm=LogNorm())\n",
    "plt.colorbar()\n",
    "plt.title('Signal Images')\n",
    "plt.show()"
   ]
  },
  {
   "cell_type": "code",
   "execution_count": 13,
   "metadata": {},
   "outputs": [],
   "source": [
    "bkg = df[pd.Series(qcd)].reset_index(drop=True)\n",
    "bkg_labels = np.array(np.zeros((len(bkg.index), 2)), dtype=np.int32)\n",
    "bkg_labels[:,1]=1\n",
    "bkg_labels = pd.Series(bkg_labels.tolist())\n",
    "bkg = bkg.drop(columns=['labels'])\n",
    "bkg['labels'] = bkg_labels"
   ]
  },
  {
   "cell_type": "code",
   "execution_count": 14,
   "metadata": {},
   "outputs": [],
   "source": [
    "# bkg.corr()"
   ]
  },
  {
   "cell_type": "markdown",
   "metadata": {},
   "source": [
    "### Background Image -- looks like this because we are selecting jets with atleast 2 subjets"
   ]
  },
  {
   "cell_type": "code",
   "execution_count": 15,
   "metadata": {},
   "outputs": [
    {
     "data": {
      "image/png": "[encoded data removed]",
      "text/plain": [
       "<Figure size 432x288 with 2 Axes>"
      ]
     },
     "metadata": {},
     "output_type": "display_data"
    }
   ],
   "source": [
    "bkg_images=np.sum(bkg['image'],axis=0)\n",
    "display_bkg = bkg_images.reshape(16,16)\n",
    "plt.grid(False)\n",
    "plt.imshow(display_bkg, interpolation='nearest', origin='low', cmap = 'jet', norm=LogNorm())\n",
    "plt.colorbar()\n",
    "plt.title('Background Images')\n",
    "plt.show()"
   ]
  },
  {
   "cell_type": "code",
   "execution_count": 16,
   "metadata": {},
   "outputs": [],
   "source": [
    "# Displaying some features"
   ]
  },
  {
   "cell_type": "code",
   "execution_count": 17,
   "metadata": {},
   "outputs": [],
   "source": [
    "signame = r'$ZZ$'\n",
    "bkgname = 'QCD'"
   ]
  },
  {
   "cell_type": "code",
   "execution_count": 30,
   "metadata": {
    "scrolled": true
   },
   "outputs": [
    {
     "data": {
      "image/png": "[encoded data removed]",
      "text/plain": [
       "<Figure size 432x288 with 1 Axes>"
      ]
     },
     "metadata": {},
     "output_type": "display_data"
    }
   ],
   "source": [
    "signal['jetpull'].hist(bins=25, alpha=0.5, label = signame )\n",
    "bkg['jetpull'].hist(bins=25, alpha=0.5, label = bkgname)\n",
    "plt.xlabel('AK8 jet pull angle')\n",
    "plt.ylabel(\"Counts\")\n",
    "plt.legend()\n",
    "plt.savefig('plots/pullangle.png')"
   ]
  },
  {
   "cell_type": "code",
   "execution_count": 31,
   "metadata": {
    "scrolled": true
   },
   "outputs": [
    {
     "data": {
      "image/png": "[encoded data removed]",
      "text/plain": [
       "<Figure size 432x288 with 1 Axes>"
      ]
     },
     "metadata": {},
     "output_type": "display_data"
    }
   ],
   "source": [
    "signal['pT'].hist(bins=100, alpha=0.5, label =  signame)\n",
    "bkg['pT'].hist(bins=100, alpha=0.5, label = bkgname)\n",
    "plt.xlabel(r'AK8 jet $p_T$ (GeV)')\n",
    "plt.ylabel(\"Counts\")\n",
    "plt.xlim(0,3000)\n",
    "plt.legend()\n",
    "plt.savefig('plots/jetpt.png')"
   ]
  },
  {
   "cell_type": "code",
   "execution_count": 32,
   "metadata": {},
   "outputs": [
    {
     "data": {
      "image/png": "[encoded data removed]",
      "text/plain": [
       "<Figure size 432x288 with 1 Axes>"
      ]
     },
     "metadata": {},
     "output_type": "display_data"
    }
   ],
   "source": [
    "signal['eta'].hist(bins=32, alpha=0.5, label ='signal')\n",
    "bkg['eta'].hist(bins=32, alpha=0.5, label ='bkg')\n",
    "plt.xlabel(r'AK8 jet $\\eta$')\n",
    "plt.ylabel(\"Counts\")\n",
    "plt.legend()\n",
    "plt.savefig('plots/jeteta.png')"
   ]
  },
  {
   "cell_type": "code",
   "execution_count": null,
   "metadata": {},
   "outputs": [],
   "source": [
    "signal['phi'].hist(bins=25, alpha=0.5, label = signame)\n",
    "bkg['phi'].hist(bins=25, alpha=0.5, label = bkgname)\n",
    "plt.xlabel(r'AK8 jet $\\phi$ (radians)')\n",
    "plt.ylabel(\"Counts\")\n",
    "plt.legend()\n",
    "plt.savefig('plots/jetphi.png')"
   ]
  },
  {
   "cell_type": "code",
   "execution_count": null,
   "metadata": {},
   "outputs": [],
   "source": [
    "signal['tau21'].hist(bins=100, alpha=0.5, label = signame)\n",
    "bkg['tau21'].hist(bins=100, alpha=0.5, label =bkgname)\n",
    "plt.xlabel(r'AK8 jet $\\tau_2 / \\tau_1$')\n",
    "plt.ylabel(\"Counts\")\n",
    "plt.legend()\n",
    "plt.savefig('plots/jettau21.png')"
   ]
  },
  {
   "cell_type": "code",
   "execution_count": null,
   "metadata": {},
   "outputs": [],
   "source": [
    "signal['n_ch'].hist(bins=np.linspace(0,50,50), alpha=0.5, label = signame)\n",
    "bkg['n_ch'].hist(bins=np.linspace(0,50,50), alpha=0.5, label =bkgname)\n",
    "plt.xlim(0,50)\n",
    "plt.xlabel('Charged Hadron Multiplicity')\n",
    "plt.ylabel(\"Counts\")\n",
    "plt.legend()\n",
    "plt.savefig('plots/n_ch.png')"
   ]
  },
  {
   "cell_type": "code",
   "execution_count": null,
   "metadata": {},
   "outputs": [],
   "source": [
    "signal['n_gamma'].hist(bins=np.linspace(0,100,100), alpha=0.5, label = signame)\n",
    "bkg['n_gamma'].hist(bins=np.linspace(0,100,100), alpha=0.5, label =bkgname)\n",
    "plt.xlim(0,60)\n",
    "plt.xlabel('Photon Multiplicity')\n",
    "plt.ylabel(\"Counts\")\n",
    "plt.legend()\n",
    "plt.savefig('plots/n_gamma.png')"
   ]
  },
  {
   "cell_type": "code",
   "execution_count": null,
   "metadata": {},
   "outputs": [],
   "source": [
    "signal['n_mu'].hist(bins=np.linspace(0,100,100), alpha=0.5, label = signame)\n",
    "bkg['n_mu'].hist(bins=np.linspace(0,100,100), alpha=0.5, label =bkgname)\n",
    "plt.xlim(0,5)\n",
    "plt.xlabel('Muon Multiplicity')\n",
    "plt.ylabel(\"Counts\")\n",
    "plt.legend()\n",
    "plt.savefig('plots/n_mu.png')"
   ]
  },
  {
   "cell_type": "code",
   "execution_count": null,
   "metadata": {},
   "outputs": [],
   "source": [
    "signal['n_e'].hist(bins=np.linspace(0,100,100), alpha=0.5, label = signame)\n",
    "bkg['n_e'].hist(bins=np.linspace(0,100,100), alpha=0.5, label =bkgname)\n",
    "plt.xlim(0,5)\n",
    "plt.xlabel('Electron Multiplicity')\n",
    "plt.ylabel(\"Counts\")\n",
    "plt.legend()\n",
    "plt.savefig('plots/n_e.png')"
   ]
  },
  {
   "cell_type": "code",
   "execution_count": null,
   "metadata": {},
   "outputs": [],
   "source": [
    "signal['n_nh'].hist(bins=np.linspace(0,50,50), alpha=0.5, label = signame)\n",
    "bkg['n_nh'].hist(bins=np.linspace(0,50,50), alpha=0.5, label =bkgname)\n",
    "plt.xlim(0,10)\n",
    "plt.xlabel('Neutral Hadron Multiplicity')\n",
    "plt.ylabel(\"Counts\")\n",
    "plt.legend()\n",
    "plt.savefig('plots/n_nh.png')"
   ]
  },
  {
   "cell_type": "code",
   "execution_count": null,
   "metadata": {},
   "outputs": [],
   "source": [
    "train_data = shuffle(signal.iloc[:int(numData*0.8)].append(bkg.iloc[:int(numData*0.8)])).reset_index(drop=True)\n",
    "test_data = shuffle(signal.iloc[int(numData*0.8):].append(bkg.iloc[int(numData*0.8):])).reset_index(drop=True)"
   ]
  },
  {
   "cell_type": "markdown",
   "metadata": {},
   "source": [
    "# Image Only CNN"
   ]
  },
  {
   "cell_type": "code",
   "execution_count": null,
   "metadata": {},
   "outputs": [],
   "source": [
    "def build_model():\n",
    "    input1 = layers.Input(shape = (16, 16,1))\n",
    "    x = layers.Conv2D(32, (8, 8), activation='relu',padding='same', name = 'conv1')(input1)\n",
    "    x = layers.Conv2D(32, (4, 4), activation='relu',padding='same', name = 'conv2')(x)\n",
    "    x = layers.Conv2D(32, (2, 2), activation='relu',padding='same', name = 'conv3')(x)\n",
    "#     x = layers.MaxPool2D((4, 4), name = 'maxpool4x4')(x)\n",
    "#     x = layers.Conv2D(32, (6, 6), activation='relu',padding='same', name = 'conv4')(x)\n",
    "#     x = layers.Conv2D(32, (4, 4), activation='relu',padding='same', name = 'conv5')(x)\n",
    "    x = layers.MaxPool2D((2, 2), name = 'maxpool2x2')(x)\n",
    "    x = layers.Flatten(name = 'flatten')(x)\n",
    "    x = layers.Dense(256, activation='relu', name = 'relu')(x)\n",
    "    output = layers.Dense(2, activation='softmax', name = 'softmax')(x)\n",
    "    model = models.Model(inputs=input1, outputs=output)\n",
    "    \n",
    "    opt=keras.optimizers.Adam(lr=0.001,beta_1=0.9, beta_2=0.999, amsgrad=False)\n",
    "    model.compile(loss='binary_crossentropy',\n",
    "                optimizer=opt,\n",
    "                metrics=['binary_crossentropy', 'accuracy'])\n",
    "    return model"
   ]
  },
  {
   "cell_type": "code",
   "execution_count": null,
   "metadata": {},
   "outputs": [],
   "source": [
    "ImageonlyCNN = build_model()\n",
    "# ImageonlyCNN.summary()"
   ]
  },
  {
   "cell_type": "code",
   "execution_count": null,
   "metadata": {},
   "outputs": [],
   "source": [
    "X_batch = np.array(list(train_data['image'][:10].values))\n",
    "Y_batch = np.array(list(train_data['labels'][:10].values))\n",
    "example_result = ImageonlyCNN.predict(x = X_batch)\n",
    "results = ImageonlyCNN.evaluate(x = X_batch, y =Y_batch )\n",
    "print(example_result)\n",
    "print(results)"
   ]
  },
  {
   "cell_type": "code",
   "execution_count": null,
   "metadata": {
    "scrolled": true
   },
   "outputs": [],
   "source": [
    "checkpoint_path = \"model/CNN_imageonly_full_final.h1\"\n",
    "if not os.path.exists(\"model\"):\n",
    "    os.mkdir(\"model\")\n",
    "\n",
    "model_checkpoint = keras.callbacks.ModelCheckpoint(checkpoint_path, monitor='val_loss', \n",
    "                                   verbose=1, save_best_only=True, \n",
    "                                   save_weights_only=False, mode='auto',\n",
    "                                   period=1)  #save_freq='epoch',   \n",
    "EPOCHS = 3\n",
    "early_stop = keras.callbacks.EarlyStopping(monitor='val_loss', patience=2)\n",
    "history = ImageonlyCNN.fit(\n",
    "  np.array(list(train_data['image'].values)), np.array(list(train_data['labels'].values)),\n",
    "  epochs=EPOCHS, validation_split = 0.2, verbose = 1,\n",
    "  callbacks=[early_stop, model_checkpoint])\n",
    "ImageonlyCNN.save(checkpoint_path)"
   ]
  },
  {
   "cell_type": "code",
   "execution_count": null,
   "metadata": {},
   "outputs": [],
   "source": [
    "!ls model\n",
    "best_model = tf.keras.models.load_model('model/CNN_imageonly_full_final.h1', custom_objects=None, compile=True)\n",
    "best_model.summary()\n",
    "results = best_model.evaluate(np.array(list(test_data['image'].to_dict().values())), np.array(list(test_data['labels'].to_dict().values())))\n",
    "results"
   ]
  },
  {
   "cell_type": "code",
   "execution_count": null,
   "metadata": {},
   "outputs": [],
   "source": [
    "predict = best_model.predict(np.array(list(test_data['image'].to_dict().values())))"
   ]
  },
  {
   "cell_type": "code",
   "execution_count": null,
   "metadata": {},
   "outputs": [],
   "source": [
    "plt.rcParams['figure.dpi'] = 70"
   ]
  },
  {
   "cell_type": "code",
   "execution_count": null,
   "metadata": {},
   "outputs": [],
   "source": [
    "# Plot ROC\n",
    "from sklearn.metrics import roc_curve, auc\n",
    "fpr, tpr, thresholds = roc_curve(np.array(list(test_data['labels'].to_dict().values()))[:,1], predict[:,1])\n",
    "roc_auc = auc(fpr, tpr)\n",
    "plt.plot(fpr, tpr, lw=2, color='b', label='auc = %.3f' % (roc_auc))\n",
    "plt.plot([0, 1], [0, 1], linestyle='--', lw=2, color='k', label='random chance')\n",
    "plt.xlim([0, 1.0])\n",
    "plt.ylim([0, 1.0])\n",
    "plt.xlabel('False positive rate')\n",
    "plt.ylabel('True positive rate')\n",
    "plt.title('Receiver Operating Curve')\n",
    "plt.legend(loc=\"lower right\")\n",
    "plt.show()"
   ]
  },
  {
   "cell_type": "code",
   "execution_count": null,
   "metadata": {},
   "outputs": [],
   "source": [
    "# plt.hist([predict[np.argwhere(np.array(list(test_data['labels'].to_dict().values()))[:, 1] == 1), 0].flatten(), predict[np.argwhere(np.array(list(test_data['labels'].to_dict().values()))[:, 0] == 1), 0].flatten()]\n",
    "#          , histtype = 'step', label = ['QCD', 'ZZ'])\n",
    "# plt.xlabel('Prediction')\n",
    "# plt.yscale('log')\n",
    "# plt.legend(loc=\"lower center\")\n",
    "# plt.show()"
   ]
  },
  {
   "cell_type": "markdown",
   "metadata": {},
   "source": [
    "# CNN for Image+Variables"
   ]
  },
  {
   "cell_type": "code",
   "execution_count": null,
   "metadata": {},
   "outputs": [],
   "source": [
    "# the second input will be -> train_data[np.array(train_data.keys()[1:-1], dtype='str')].values"
   ]
  },
  {
   "cell_type": "code",
   "execution_count": null,
   "metadata": {},
   "outputs": [],
   "source": [
    "def build_model_injected():\n",
    "    input2 = layers.Input(shape=(10,))\n",
    "    input1 = layers.Input(shape = (16, 16,1))\n",
    "    x = layers.Conv2D(32, (8, 8), activation='relu',padding='same', name = 'conv1')(input1)\n",
    "    x = layers.Conv2D(32, (4, 4), activation='relu',padding='same', name = 'conv2')(x)\n",
    "    x = layers.Conv2D(32, (2, 2), activation='relu',padding='same', name = 'conv3')(x)\n",
    "    x = layers.MaxPool2D((2, 2), name='maxpool2x2')(x)\n",
    "    x1 = layers.Flatten(name = 'flatten')(x)\n",
    "    x = layers.concatenate(inputs=([x1,input2]), axis=-1, name='concat')\n",
    "    x = layers.Dense(256, activation='relu', name='relu')(x)\n",
    "    output = layers.Dense(2, activation='softmax', name='softmax')(x)\n",
    "    model = models.Model(inputs=(input1,input2), outputs=output)\n",
    "    \n",
    "    opt=keras.optimizers.Adam(lr=0.001,beta_1=0.9, beta_2=0.999, amsgrad=False)\n",
    "    model.compile(loss='binary_crossentropy',\n",
    "                optimizer=opt,\n",
    "                metrics=['binary_crossentropy', 'accuracy'])\n",
    "    return model"
   ]
  },
  {
   "cell_type": "code",
   "execution_count": null,
   "metadata": {},
   "outputs": [],
   "source": [
    "InjectedVarsCNN = build_model_injected()"
   ]
  },
  {
   "cell_type": "code",
   "execution_count": null,
   "metadata": {},
   "outputs": [],
   "source": [
    "var = train_data[np.array(train_data.keys()[1:-1], dtype='str')].values"
   ]
  },
  {
   "cell_type": "code",
   "execution_count": null,
   "metadata": {},
   "outputs": [],
   "source": [
    "X_batch = [np.array(list(train_data['image'].values))[:10], var[:10]]\n",
    "Y_batch = np.array(list(train_data['labels'].values))[:10]\n",
    "example_result = InjectedVarsCNN.predict(x = X_batch)\n",
    "results = InjectedVarsCNN.evaluate(x = X_batch, y = Y_batch )\n",
    "print(example_result)\n",
    "print(results)"
   ]
  },
  {
   "cell_type": "code",
   "execution_count": null,
   "metadata": {},
   "outputs": [],
   "source": [
    "checkpoint_path = \"model/CNN_allVars_full_final.h1\"\n",
    "if not os.path.exists(\"model\"):\n",
    "    os.mkdir(\"model\")\n",
    "\n",
    "model_checkpoint = keras.callbacks.ModelCheckpoint(checkpoint_path, monitor='val_loss', \n",
    "                                   verbose=1, save_best_only=True, \n",
    "                                   save_weights_only=False, mode='auto',\n",
    "                                   period=1) #save_freq='epoch'   \n",
    "EPOCHS = 4\n",
    "early_stop = keras.callbacks.EarlyStopping(monitor='val_loss', patience=2)\n",
    "history = InjectedVarsCNN.fit(\n",
    "  [np.array(list(train_data['image'].values)), var], np.array(list(train_data['labels'].values)),\n",
    "  epochs=EPOCHS, validation_split = 0.2, verbose = 1,\n",
    "  callbacks=[early_stop, model_checkpoint])\n",
    "\n",
    "InjectedVarsCNN.save(checkpoint_path)"
   ]
  },
  {
   "cell_type": "code",
   "execution_count": null,
   "metadata": {},
   "outputs": [],
   "source": [
    "test_var = test_data[np.array(test_data.keys()[1:-1], dtype='str')].values\n",
    "# test_var = test_var.reshape(test_var.shape[0], test_var.shape[1], 1)\n",
    "# test_var.shape"
   ]
  },
  {
   "cell_type": "code",
   "execution_count": null,
   "metadata": {},
   "outputs": [],
   "source": [
    "!ls model\n",
    "best_model_allVars = tf.keras.models.load_model('model/CNN_allVars_full_final.h1', custom_objects=None, compile=True)\n",
    "best_model_allVars.summary()\n",
    "results_allVars = best_model_allVars.evaluate([np.array(list(test_data['image'].values)), test_var], np.array(list(test_data['labels'].values)))\n",
    "results_allVars"
   ]
  },
  {
   "cell_type": "code",
   "execution_count": null,
   "metadata": {},
   "outputs": [],
   "source": [
    "predict = best_model_allVars.predict([np.array(list(test_data['image'].values)), test_var])"
   ]
  },
  {
   "cell_type": "code",
   "execution_count": null,
   "metadata": {},
   "outputs": [],
   "source": [
    "# Plot ROC\n",
    "from sklearn.metrics import roc_curve, auc\n",
    "fpr, tpr, thresholds = roc_curve(np.array(list(test_data['labels'].values))[:,1], predict[:,1])\n",
    "roc_auc = auc(fpr, tpr)\n",
    "plt.plot(fpr, tpr, lw=2, color='b', label='auc = %.3f' % (roc_auc))\n",
    "plt.plot([0, 1], [0, 1], linestyle='--', lw=2, color='k', label='random chance')\n",
    "plt.xlim([0, 1.0])\n",
    "plt.ylim([0, 1.0])\n",
    "plt.xlabel('False positive rate')\n",
    "plt.ylabel('True positive rate')\n",
    "plt.title('Receiver Operating Curve')\n",
    "plt.legend(loc=\"lower right\")\n",
    "plt.show()\n",
    "# plt.savefig('plots/roc_image_allVars.png')"
   ]
  },
  {
   "cell_type": "code",
   "execution_count": null,
   "metadata": {},
   "outputs": [],
   "source": []
  }
 ],
 "metadata": {
  "kernelspec": {
   "display_name": "Python 3",
   "language": "python",
   "name": "python3"
  },
  "language_info": {
   "codemirror_mode": {
    "name": "ipython",
    "version": 3
   },
   "file_extension": ".py",
   "mimetype": "text/x-python",
   "name": "python",
   "nbconvert_exporter": "python",
   "pygments_lexer": "ipython3",
   "version": "3.6.8"
  }
 },
 "nbformat": 4,
 "nbformat_minor": 2
}
