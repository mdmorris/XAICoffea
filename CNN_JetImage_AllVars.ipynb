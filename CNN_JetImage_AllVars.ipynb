{
 "cells": [
  {
   "cell_type": "code",
   "execution_count": 2,
   "metadata": {},
   "outputs": [
    {
     "name": "stdout",
     "output_type": "stream",
     "text": [
      "TensorFlow version:  1.13.1\n"
     ]
    }
   ],
   "source": [
    "# TensorFlow and tf.keras\n",
    "import tensorflow as tf\n",
    "from tensorflow import keras\n",
    "from tensorflow.keras import layers\n",
    "from tensorflow.keras import models\n",
    "import tensorflow.keras.utils\n",
    "from tensorflow.keras.utils import multi_gpu_model\n",
    "import pandas as pd\n",
    "\n",
    "from datetime import datetime\n",
    "from packaging import version\n",
    "\n",
    "print(\"TensorFlow version: \", tf.__version__)\n",
    "assert version.parse(tf.__version__).release[0] < 2, \\\n",
    "    \"This notebook does not worl for TensorFlow 2.0\"\n",
    "\n",
    "# Helper libraries\n",
    "import numpy as np\n",
    "import matplotlib.pyplot as plt\n",
    "from matplotlib.colors import LogNorm\n",
    "import math\n",
    "import time\n",
    "import h5py\n",
    "import sklearn\n",
    "from sklearn.utils import shuffle\n",
    "from tensorflow.keras import *\n",
    "\n",
    "import os\n",
    "# from numba import jit"
   ]
  },
  {
   "cell_type": "markdown",
   "metadata": {},
   "source": [
    "# Loading Data for CNN"
   ]
  },
  {
   "cell_type": "code",
   "execution_count": 3,
   "metadata": {
    "scrolled": true
   },
   "outputs": [
    {
     "name": "stdout",
     "output_type": "stream",
     "text": [
      "['jetImages', 'jetPt', 'jetEta', 'jetPhi', 'tau21', 'tau31', 'tau32', 'tau21_sd', 'tau31_sd', 'tau32_sd', 'chMult', 'neutMult', 'phoMult', 'eleMult', 'muMult', 'jetpull', 'labels']\n"
     ]
    }
   ],
   "source": [
    "train_data = np.load(\"./NormedShowJet_addgrommedtau_train.npz\")\n",
    "test_data = np.load(\"./NormedShowJet_addgrommedtau_test.npz\")\n",
    "print(train_data.files)"
   ]
  },
  {
   "cell_type": "markdown",
   "metadata": {},
   "source": [
    "# Image Only CNN"
   ]
  },
  {
   "cell_type": "code",
   "execution_count": null,
   "metadata": {},
   "outputs": [],
   "source": [
    "def build_model():\n",
    "    input1 = layers.Input(shape = (16, 16,1))\n",
    "#     x = layers.Conv2D(32, (5, 5), activation='relu', padding='same', name = 'conv1')(input1)\n",
    "#     x = layers.Conv2D(64, (3, 3), activation='relu', padding='same', name = 'conv2')(x)\n",
    "#     x = layers.MaxPool2D((2, 2), name = 'maxpool2x2_1')(x)\n",
    "#     x = layers.Conv2D(64, (5, 5), activation='relu', padding='same', name = 'conv3')(x)\n",
    "#     x = layers.Conv2D(128, (3, 3), activation='relu', padding='same', name = 'conv4')(x)\n",
    "#     x = layers.MaxPool2D((2, 2), name = 'maxpool2x2_2')(x)\n",
    "#     x = layers.Conv2D(32, (3, 3), activation='relu', padding='same', name = 'conv5')(x)\n",
    "#     x = layers.Conv2D(16, (2, 2), activation='relu', padding='same', name = 'conv6')(x)\n",
    "#     x = layers.MaxPool2D((2, 2), name = 'maxpool2x2_3')(x)\n",
    "\n",
    "    x = layers.Conv2D(32, (5, 5), activation='relu', padding='same', name = 'conv1')(input1)\n",
    "    x = layers.Conv2D(64, (3, 3), activation='relu', padding='same', name = 'conv2')(x)\n",
    "#     x = layers.Conv2D(256, (2, 2), activation='relu', padding='same', name = 'conv3')(x)\n",
    "    x = layers.MaxPool2D((2, 2), name = 'maxpool2x2_1')(x)\n",
    "    x = layers.Flatten(name = 'flatten')(x)\n",
    "    x = layers.Dense(256, activation='relu', name = 'relu1')(x)\n",
    "#     x = layers.Dense(512, activation='relu', name = 'relu2')(x)    \n",
    "    output = layers.Dense(2, activation='softmax', name = 'softmax')(x)\n",
    "    model = models.Model(inputs=input1, outputs=output)\n",
    "    \n",
    "    opt=keras.optimizers.Adam(lr=0.001,beta_1=0.9, beta_2=0.999, amsgrad=False)\n",
    "    model.compile(loss='binary_crossentropy',\n",
    "                optimizer=opt,\n",
    "                metrics=['binary_crossentropy', 'accuracy'])\n",
    "    return model"
   ]
  },
  {
   "cell_type": "code",
   "execution_count": null,
   "metadata": {
    "scrolled": true
   },
   "outputs": [],
   "source": [
    "ImageonlyCNN = build_model()"
   ]
  },
  {
   "cell_type": "code",
   "execution_count": null,
   "metadata": {},
   "outputs": [],
   "source": [
    "X_batch = train_data['jetImages'][:10]\n",
    "Y_batch = train_data['labels'][:10]\n",
    "example_result = ImageonlyCNN.predict(x = X_batch)\n",
    "results = ImageonlyCNN.evaluate(x = X_batch, y =Y_batch )\n",
    "print(example_result)\n",
    "print(results)"
   ]
  },
  {
   "cell_type": "code",
   "execution_count": null,
   "metadata": {
    "scrolled": false
   },
   "outputs": [],
   "source": [
    "checkpoint_path = \"model/CNN_imageonly_addgroomedtau_lessfilters_100epochs.h1\"\n",
    "if not os.path.exists(\"model\"):\n",
    "    os.mkdir(\"model\")\n",
    "\n",
    "model_checkpoint = keras.callbacks.ModelCheckpoint(checkpoint_path, monitor='val_loss', \n",
    "                                   verbose=1, save_best_only=True, \n",
    "                                   save_weights_only=False, mode='auto',\n",
    "                                   period=1)  #save_freq='epoch',   \n",
    "EPOCHS = 100\n",
    "early_stop = keras.callbacks.EarlyStopping(monitor='val_loss', patience=2)\n",
    "history = ImageonlyCNN.fit(train_data['jetImages'],train_data['labels'],\n",
    "                           epochs=EPOCHS, validation_split = 0.2, verbose = 1,\n",
    "                           callbacks=[early_stop, model_checkpoint])\n",
    "ImageonlyCNN.save(checkpoint_path)"
   ]
  },
  {
   "cell_type": "code",
   "execution_count": null,
   "metadata": {},
   "outputs": [],
   "source": [
    "!ls -ltr model\n",
    "best_model = tf.keras.models.load_model('model/CNN_imageonly_addgroomedtau_lessfilters_100epochs.h1', custom_objects=None, compile=True)\n",
    "best_model.summary()\n",
    "results = best_model.evaluate(test_data['jetImages'],test_data['labels'])\n",
    "results"
   ]
  },
  {
   "cell_type": "code",
   "execution_count": null,
   "metadata": {},
   "outputs": [],
   "source": [
    "predict = best_model.predict(test_data['jetImages'])"
   ]
  },
  {
   "cell_type": "code",
   "execution_count": null,
   "metadata": {},
   "outputs": [],
   "source": [
    "plt.rcParams['figure.dpi'] = 70"
   ]
  },
  {
   "cell_type": "code",
   "execution_count": null,
   "metadata": {},
   "outputs": [],
   "source": [
    "# Plot ROC for predicting signal\n",
    "from sklearn.metrics import roc_curve, auc\n",
    "fpr, tpr, thresholds = roc_curve(test_data['labels'][:,1], predict[:,1])\n",
    "roc_auc = auc(fpr, tpr)\n",
    "plt.plot(fpr, tpr, lw=2, color='b', label='auc = %.3f' % (roc_auc))\n",
    "plt.plot([0, 1], [0, 1], linestyle='--', lw=2, color='k', label='random chance')\n",
    "plt.xlim([0, 1.0])\n",
    "plt.ylim([0, 1.0])\n",
    "plt.xlabel('False positive rate')\n",
    "plt.ylabel('True positive rate')\n",
    "plt.title('Receiver Operating Curve')\n",
    "plt.legend(loc=\"lower right\")\n",
    "plt.show()"
   ]
  },
  {
   "cell_type": "code",
   "execution_count": null,
   "metadata": {},
   "outputs": [],
   "source": [
    "# Plot ROC for predicting bkg\n",
    "from sklearn.metrics import roc_curve, auc\n",
    "fpr, tpr, thresholds = roc_curve(test_data['labels'][:,0], predict[:,0])\n",
    "roc_auc = auc(fpr, tpr)\n",
    "plt.plot(fpr, tpr, lw=2, color='b', label='auc = %.3f' % (roc_auc))\n",
    "plt.plot([0, 1], [0, 1], linestyle='--', lw=2, color='k', label='random chance')\n",
    "plt.xlim([0, 1.0])\n",
    "plt.ylim([0, 1.0])\n",
    "plt.xlabel('False positive rate')\n",
    "plt.ylabel('True positive rate')\n",
    "plt.title('Receiver Operating Curve')\n",
    "plt.legend(loc=\"lower right\")\n",
    "plt.show()"
   ]
  },
  {
   "cell_type": "code",
   "execution_count": null,
   "metadata": {},
   "outputs": [],
   "source": [
    "sig = predict[(test_data['labels'][:,1]==1)][:,1]\n",
    "bkg = predict[(test_data['labels'][:,0]==1)][:,1]\n",
    "\n",
    "bins = np.linspace(0, 1, 50)\n",
    "\n",
    "plt.hist(sig, bins, alpha=0.5, label='Signal')\n",
    "plt.hist(bkg, bins, alpha=0.5, label='Background')\n",
    "\n",
    "plt.legend(loc='upper right')\n",
    "plt.xlabel('Prediction')\n",
    "plt.show()"
   ]
  },
  {
   "cell_type": "code",
   "execution_count": null,
   "metadata": {},
   "outputs": [],
   "source": [
    "sig_tp = predict[(test_data['labels'][:,1]==1) & (predict[:,1]>0.6)][:,1]\n",
    "bkg_tn = predict[(test_data['labels'][:,0]==1) & (predict[:,0]>0.6)][:,1]\n",
    "sig_fp = predict[(test_data['labels'][:,0]==1) & (predict[:,1]>0.6)][:,1]\n",
    "bkg_fn = predict[(test_data['labels'][:,1]==1) & (predict[:,0]>0.6)][:,1]\n",
    "\n",
    "bins = np.linspace(0, 1, 50)\n",
    "\n",
    "plt.hist(sig_tp, bins, alpha=0.5, label='True Signal')\n",
    "plt.hist(bkg_tn, bins, alpha=0.5, label='True Background')\n",
    "plt.hist(sig_fp, bins, alpha=0.5, label='Background predicted as Signal')\n",
    "plt.hist(bkg_fn, bins, alpha=0.5, label='Signal predicted as Background')\n",
    "plt.legend(loc='upper right')\n",
    "plt.show()"
   ]
  },
  {
   "cell_type": "code",
   "execution_count": null,
   "metadata": {},
   "outputs": [],
   "source": [
    "sig_tp = predict[(test_data['labels'][:,1]==1) & (predict[:,1]>=0.6)][:,1]\n",
    "bkg_tn = predict[(test_data['labels'][:,0]==1) & (predict[:,1]<0.6)][:,1]\n",
    "sig_fp = predict[(test_data['labels'][:,0]==1) & (predict[:,1]>=0.6)][:,1]\n",
    "bkg_fn = predict[(test_data['labels'][:,1]==1) & (predict[:,1]<0.6)][:,1]\n",
    "\n",
    "bins = np.linspace(0, 1, 50)\n",
    "\n",
    "plt.hist(sig_tp, bins, alpha=0.5, label='True Signal')\n",
    "plt.hist(bkg_tn, bins, alpha=0.5, label='True Background')\n",
    "plt.hist(sig_fp, bins, alpha=0.5, label='Background predicted as Signal')\n",
    "plt.hist(bkg_fn, bins, alpha=0.5, label='Signal predicted as Background')\n",
    "plt.legend(loc='upper right')\n",
    "plt.show()"
   ]
  },
  {
   "cell_type": "markdown",
   "metadata": {},
   "source": [
    "# CNN for Image+Variables"
   ]
  },
  {
   "cell_type": "code",
   "execution_count": 4,
   "metadata": {},
   "outputs": [],
   "source": [
    "def build_model_injected():\n",
    "    input2 = layers.Input(shape=(15,))\n",
    "    input1 = layers.Input(shape = (16, 16,1))\n",
    "    x = layers.Conv2D(32, (5, 5), activation='relu', padding='same', name = 'conv1')(input1)\n",
    "    x = layers.Conv2D(32, (3, 3), activation='relu', padding='same', name = 'conv2')(x)\n",
    "    x = layers.Conv2D(32, (2, 2), activation='relu', padding='same', name = 'conv3')(x)\n",
    "    x = layers.MaxPool2D((2, 2), name = 'maxpool2x2_1')(x)\n",
    "    x1 = layers.Flatten(name = 'flatten')(x)\n",
    "    x = layers.concatenate(inputs=([x1,input2]), axis=-1, name='concat')\n",
    "    x = layers.Dense(64, activation='relu', name='relu1')(x)\n",
    "    x = layers.Dense(128, activation='relu', name='relu2')(x)\n",
    "    output = layers.Dense(2, activation='softmax', name='softmax')(x)\n",
    "    model = models.Model(inputs=(input1,input2), outputs=output)\n",
    "    \n",
    "    opt=keras.optimizers.Adam(lr=0.001,beta_1=0.9, beta_2=0.999, amsgrad=False)\n",
    "    model.compile(loss='binary_crossentropy',\n",
    "                optimizer=opt,\n",
    "                metrics=['binary_crossentropy', 'accuracy'])\n",
    "    return model"
   ]
  },
  {
   "cell_type": "code",
   "execution_count": 5,
   "metadata": {},
   "outputs": [
    {
     "name": "stdout",
     "output_type": "stream",
     "text": [
      "WARNING:tensorflow:From /opt/conda/lib/python3.7/site-packages/tensorflow/python/ops/resource_variable_ops.py:435: colocate_with (from tensorflow.python.framework.ops) is deprecated and will be removed in a future version.\n",
      "Instructions for updating:\n",
      "Colocations handled automatically by placer.\n"
     ]
    }
   ],
   "source": [
    "InjectedVarsCNN = build_model_injected()"
   ]
  },
  {
   "cell_type": "code",
   "execution_count": 6,
   "metadata": {},
   "outputs": [],
   "source": [
    "train_var={key:train_data[key] for key in train_data.files[1:-1]}\n",
    "train_var=pd.DataFrame(train_var,columns=train_data.files[1:-1])"
   ]
  },
  {
   "cell_type": "code",
   "execution_count": 7,
   "metadata": {},
   "outputs": [
    {
     "name": "stdout",
     "output_type": "stream",
     "text": [
      "10/10 [==============================] - 0s 7ms/sample - loss: 0.6920 - binary_crossentropy: 0.6920 - acc: 0.5000\n",
      "[[0.48921812 0.5107819 ]\n",
      " [0.49146056 0.50853944]\n",
      " [0.4891857  0.51081437]\n",
      " [0.49051303 0.509487  ]\n",
      " [0.49679774 0.5032022 ]\n",
      " [0.49059555 0.5094045 ]\n",
      " [0.49198392 0.5080161 ]\n",
      " [0.49024078 0.50975925]\n",
      " [0.49428815 0.50571185]\n",
      " [0.49104372 0.5089563 ]]\n",
      "[0.6919857859611511, 0.6919858, 0.5]\n"
     ]
    }
   ],
   "source": [
    "X_batch = [train_data['jetImages'][:10], train_var[:10]]\n",
    "Y_batch = train_data['labels'][:10]\n",
    "example_result = InjectedVarsCNN.predict(x = X_batch)\n",
    "results = InjectedVarsCNN.evaluate(x = X_batch, y = Y_batch )\n",
    "print(example_result)\n",
    "print(results)"
   ]
  },
  {
   "cell_type": "code",
   "execution_count": 8,
   "metadata": {
    "scrolled": false
   },
   "outputs": [
    {
     "name": "stdout",
     "output_type": "stream",
     "text": [
      "Train on 1131118 samples, validate on 282780 samples\n",
      "WARNING:tensorflow:From /opt/conda/lib/python3.7/site-packages/tensorflow/python/ops/math_ops.py:3066: to_int32 (from tensorflow.python.ops.math_ops) is deprecated and will be removed in a future version.\n",
      "Instructions for updating:\n",
      "Use tf.cast instead.\n",
      "Epoch 1/500\n",
      "1131104/1131118 [============================>.] - ETA: 0s - loss: 0.4164 - binary_crossentropy: 0.4164 - acc: 0.8101\n",
      "Epoch 00001: val_loss improved from inf to 0.41237, saving model to model/NormedCNN_allVars_addgroomedtau_lessfilters_10patience_2.h1\n",
      "1131118/1131118 [==============================] - 656s 580us/sample - loss: 0.4164 - binary_crossentropy: 0.4164 - acc: 0.8101 - val_loss: 0.4124 - val_binary_crossentropy: 0.4124 - val_acc: 0.8111\n",
      "Epoch 2/500\n",
      "1131040/1131118 [============================>.] - ETA: 0s - loss: 0.3983 - binary_crossentropy: 0.3983 - acc: 0.8200\n",
      "Epoch 00002: val_loss improved from 0.41237 to 0.39679, saving model to model/NormedCNN_allVars_addgroomedtau_lessfilters_10patience_2.h1\n",
      "1131118/1131118 [==============================] - 655s 579us/sample - loss: 0.3983 - binary_crossentropy: 0.3983 - acc: 0.8200 - val_loss: 0.3968 - val_binary_crossentropy: 0.3968 - val_acc: 0.8205\n",
      "Epoch 3/500\n",
      "1131072/1131118 [============================>.] - ETA: 0s - loss: 0.3930 - binary_crossentropy: 0.3930 - acc: 0.8229\n",
      "Epoch 00003: val_loss improved from 0.39679 to 0.39606, saving model to model/NormedCNN_allVars_addgroomedtau_lessfilters_10patience_2.h1\n",
      "1131118/1131118 [==============================] - 657s 581us/sample - loss: 0.3930 - binary_crossentropy: 0.3930 - acc: 0.8229 - val_loss: 0.3961 - val_binary_crossentropy: 0.3961 - val_acc: 0.8213\n",
      "Epoch 4/500\n",
      "1131104/1131118 [============================>.] - ETA: 0s - loss: 0.3899 - binary_crossentropy: 0.3899 - acc: 0.8245\n",
      "Epoch 00004: val_loss improved from 0.39606 to 0.39144, saving model to model/NormedCNN_allVars_addgroomedtau_lessfilters_10patience_2.h1\n",
      "1131118/1131118 [==============================] - 656s 580us/sample - loss: 0.3899 - binary_crossentropy: 0.3899 - acc: 0.8245 - val_loss: 0.3914 - val_binary_crossentropy: 0.3914 - val_acc: 0.8238\n",
      "Epoch 5/500\n",
      "1131040/1131118 [============================>.] - ETA: 0s - loss: 0.3882 - binary_crossentropy: 0.3882 - acc: 0.8252\n",
      "Epoch 00005: val_loss improved from 0.39144 to 0.39036, saving model to model/NormedCNN_allVars_addgroomedtau_lessfilters_10patience_2.h1\n",
      "1131118/1131118 [==============================] - 657s 581us/sample - loss: 0.3882 - binary_crossentropy: 0.3882 - acc: 0.8252 - val_loss: 0.3904 - val_binary_crossentropy: 0.3904 - val_acc: 0.8235\n",
      "Epoch 6/500\n",
      " 383968/1131118 [=========>....................] - ETA: 7:06 - loss: 0.3857 - binary_crossentropy: 0.3857 - acc: 0.8260"
     ]
    },
    {
     "name": "stderr",
     "output_type": "stream",
     "text": [
      "IOPub message rate exceeded.\n",
      "The notebook server will temporarily stop sending output\n",
      "to the client in order to avoid crashing it.\n",
      "To change this limit, set the config variable\n",
      "`--NotebookApp.iopub_msg_rate_limit`.\n",
      "\n",
      "Current values:\n",
      "NotebookApp.iopub_msg_rate_limit=1000.0 (msgs/sec)\n",
      "NotebookApp.rate_limit_window=3.0 (secs)\n",
      "\n"
     ]
    },
    {
     "name": "stdout",
     "output_type": "stream",
     "text": [
      " 944960/1131118 [========================>.....] - ETA: 1:46 - loss: 0.3853 - binary_crossentropy: 0.3853 - acc: 0.8268"
     ]
    },
    {
     "name": "stderr",
     "output_type": "stream",
     "text": [
      "IOPub message rate exceeded.\n",
      "The notebook server will temporarily stop sending output\n",
      "to the client in order to avoid crashing it.\n",
      "To change this limit, set the config variable\n",
      "`--NotebookApp.iopub_msg_rate_limit`.\n",
      "\n",
      "Current values:\n",
      "NotebookApp.iopub_msg_rate_limit=1000.0 (msgs/sec)\n",
      "NotebookApp.rate_limit_window=3.0 (secs)\n",
      "\n"
     ]
    },
    {
     "name": "stdout",
     "output_type": "stream",
     "text": [
      " 364320/1131118 [========>.....................] - ETA: 7:17 - loss: 0.3838 - binary_crossentropy: 0.3838 - acc: 0.8276"
     ]
    },
    {
     "name": "stderr",
     "output_type": "stream",
     "text": [
      "IOPub message rate exceeded.\n",
      "The notebook server will temporarily stop sending output\n",
      "to the client in order to avoid crashing it.\n",
      "To change this limit, set the config variable\n",
      "`--NotebookApp.iopub_msg_rate_limit`.\n",
      "\n",
      "Current values:\n",
      "NotebookApp.iopub_msg_rate_limit=1000.0 (msgs/sec)\n",
      "NotebookApp.rate_limit_window=3.0 (secs)\n",
      "\n"
     ]
    },
    {
     "name": "stdout",
     "output_type": "stream",
     "text": [
      " 908864/1131118 [=======================>......] - ETA: 2:06 - loss: 0.3841 - binary_crossentropy: 0.3841 - acc: 0.8275"
     ]
    },
    {
     "name": "stderr",
     "output_type": "stream",
     "text": [
      "IOPub message rate exceeded.\n",
      "The notebook server will temporarily stop sending output\n",
      "to the client in order to avoid crashing it.\n",
      "To change this limit, set the config variable\n",
      "`--NotebookApp.iopub_msg_rate_limit`.\n",
      "\n",
      "Current values:\n",
      "NotebookApp.iopub_msg_rate_limit=1000.0 (msgs/sec)\n",
      "NotebookApp.rate_limit_window=3.0 (secs)\n",
      "\n"
     ]
    },
    {
     "name": "stdout",
     "output_type": "stream",
     "text": [
      " 324320/1131118 [=======>......................] - ETA: 7:39 - loss: 0.3827 - binary_crossentropy: 0.3827 - acc: 0.8280"
     ]
    },
    {
     "name": "stderr",
     "output_type": "stream",
     "text": [
      "IOPub message rate exceeded.\n",
      "The notebook server will temporarily stop sending output\n",
      "to the client in order to avoid crashing it.\n",
      "To change this limit, set the config variable\n",
      "`--NotebookApp.iopub_msg_rate_limit`.\n",
      "\n",
      "Current values:\n",
      "NotebookApp.iopub_msg_rate_limit=1000.0 (msgs/sec)\n",
      "NotebookApp.rate_limit_window=3.0 (secs)\n",
      "\n"
     ]
    },
    {
     "name": "stdout",
     "output_type": "stream",
     "text": [
      " 861504/1131118 [=====================>........] - ETA: 2:33 - loss: 0.3833 - binary_crossentropy: 0.3833 - acc: 0.8277"
     ]
    },
    {
     "name": "stderr",
     "output_type": "stream",
     "text": [
      "IOPub message rate exceeded.\n",
      "The notebook server will temporarily stop sending output\n",
      "to the client in order to avoid crashing it.\n",
      "To change this limit, set the config variable\n",
      "`--NotebookApp.iopub_msg_rate_limit`.\n",
      "\n",
      "Current values:\n",
      "NotebookApp.iopub_msg_rate_limit=1000.0 (msgs/sec)\n",
      "NotebookApp.rate_limit_window=3.0 (secs)\n",
      "\n"
     ]
    },
    {
     "name": "stdout",
     "output_type": "stream",
     "text": [
      "1131072/1131118 [============================>.] - ETA: 0s - loss: 0.3833 - binary_crossentropy: 0.3833 - acc: 0.8279\n",
      "Epoch 00009: val_loss improved from 0.38763 to 0.38535, saving model to model/NormedCNN_allVars_addgroomedtau_lessfilters_10patience_2.h1\n",
      "1131118/1131118 [==============================] - 684s 605us/sample - loss: 0.3833 - binary_crossentropy: 0.3833 - acc: 0.8279 - val_loss: 0.3853 - val_binary_crossentropy: 0.3853 - val_acc: 0.8265\n",
      "Epoch 10/500\n",
      " 302816/1131118 [=======>......................] - ETA: 7:37 - loss: 0.3807 - binary_crossentropy: 0.3807 - acc: 0.8295"
     ]
    },
    {
     "name": "stderr",
     "output_type": "stream",
     "text": [
      "IOPub message rate exceeded.\n",
      "The notebook server will temporarily stop sending output\n",
      "to the client in order to avoid crashing it.\n",
      "To change this limit, set the config variable\n",
      "`--NotebookApp.iopub_msg_rate_limit`.\n",
      "\n",
      "Current values:\n",
      "NotebookApp.iopub_msg_rate_limit=1000.0 (msgs/sec)\n",
      "NotebookApp.rate_limit_window=3.0 (secs)\n",
      "\n"
     ]
    },
    {
     "name": "stdout",
     "output_type": "stream",
     "text": [
      " 815616/1131118 [====================>.........] - ETA: 2:55 - loss: 0.3825 - binary_crossentropy: 0.3825 - acc: 0.8284"
     ]
    },
    {
     "name": "stderr",
     "output_type": "stream",
     "text": [
      "IOPub message rate exceeded.\n",
      "The notebook server will temporarily stop sending output\n",
      "to the client in order to avoid crashing it.\n",
      "To change this limit, set the config variable\n",
      "`--NotebookApp.iopub_msg_rate_limit`.\n",
      "\n",
      "Current values:\n",
      "NotebookApp.iopub_msg_rate_limit=1000.0 (msgs/sec)\n",
      "NotebookApp.rate_limit_window=3.0 (secs)\n",
      "\n"
     ]
    },
    {
     "name": "stdout",
     "output_type": "stream",
     "text": [
      "1131072/1131118 [============================>.] - ETA: 0s - loss: 0.3825 - binary_crossentropy: 0.3825 - acc: 0.8284\n",
      "Epoch 00010: val_loss did not improve from 0.38535\n",
      "1131118/1131118 [==============================] - 670s 592us/sample - loss: 0.3825 - binary_crossentropy: 0.3825 - acc: 0.8284 - val_loss: 0.3855 - val_binary_crossentropy: 0.3855 - val_acc: 0.8268\n",
      "Epoch 11/500\n",
      "1131104/1131118 [============================>.] - ETA: 0s - loss: 0.3821 - binary_crossentropy: 0.3821 - acc: 0.8283\n",
      "Epoch 00011: val_loss did not improve from 0.38535\n",
      "1131118/1131118 [==============================] - 674s 596us/sample - loss: 0.3821 - binary_crossentropy: 0.3821 - acc: 0.8283 - val_loss: 0.3867 - val_binary_crossentropy: 0.3867 - val_acc: 0.8263\n",
      "Epoch 12/500\n",
      "1028480/1131118 [==========================>...] - ETA: 57s - loss: 0.3815 - binary_crossentropy: 0.3815 - acc: 0.8288"
     ]
    },
    {
     "name": "stderr",
     "output_type": "stream",
     "text": [
      "IOPub message rate exceeded.\n",
      "The notebook server will temporarily stop sending output\n",
      "to the client in order to avoid crashing it.\n",
      "To change this limit, set the config variable\n",
      "`--NotebookApp.iopub_msg_rate_limit`.\n",
      "\n",
      "Current values:\n",
      "NotebookApp.iopub_msg_rate_limit=1000.0 (msgs/sec)\n",
      "NotebookApp.rate_limit_window=3.0 (secs)\n",
      "\n"
     ]
    },
    {
     "name": "stdout",
     "output_type": "stream",
     "text": [
      " 415808/1131118 [==========>...................] - ETA: 6:40 - loss: 0.3809 - binary_crossentropy: 0.3809 - acc: 0.8295"
     ]
    },
    {
     "name": "stderr",
     "output_type": "stream",
     "text": [
      "IOPub message rate exceeded.\n",
      "The notebook server will temporarily stop sending output\n",
      "to the client in order to avoid crashing it.\n",
      "To change this limit, set the config variable\n",
      "`--NotebookApp.iopub_msg_rate_limit`.\n",
      "\n",
      "Current values:\n",
      "NotebookApp.iopub_msg_rate_limit=1000.0 (msgs/sec)\n",
      "NotebookApp.rate_limit_window=3.0 (secs)\n",
      "\n"
     ]
    },
    {
     "name": "stdout",
     "output_type": "stream",
     "text": [
      " 994176/1131118 [=========================>....] - ETA: 1:16 - loss: 0.3812 - binary_crossentropy: 0.3812 - acc: 0.8291"
     ]
    },
    {
     "name": "stderr",
     "output_type": "stream",
     "text": [
      "IOPub message rate exceeded.\n",
      "The notebook server will temporarily stop sending output\n",
      "to the client in order to avoid crashing it.\n",
      "To change this limit, set the config variable\n",
      "`--NotebookApp.iopub_msg_rate_limit`.\n",
      "\n",
      "Current values:\n",
      "NotebookApp.iopub_msg_rate_limit=1000.0 (msgs/sec)\n",
      "NotebookApp.rate_limit_window=3.0 (secs)\n",
      "\n"
     ]
    },
    {
     "name": "stdout",
     "output_type": "stream",
     "text": [
      " 504736/1131118 [============>.................] - ETA: 5:13 - loss: 0.3808 - binary_crossentropy: 0.3808 - acc: 0.8292"
     ]
    },
    {
     "name": "stderr",
     "output_type": "stream",
     "text": [
      "IOPub message rate exceeded.\n",
      "The notebook server will temporarily stop sending output\n",
      "to the client in order to avoid crashing it.\n",
      "To change this limit, set the config variable\n",
      "`--NotebookApp.iopub_msg_rate_limit`.\n",
      "\n",
      "Current values:\n",
      "NotebookApp.iopub_msg_rate_limit=1000.0 (msgs/sec)\n",
      "NotebookApp.rate_limit_window=3.0 (secs)\n",
      "\n"
     ]
    },
    {
     "name": "stdout",
     "output_type": "stream",
     "text": [
      "1131040/1131118 [============================>.] - ETA: 0s - loss: 0.3806 - binary_crossentropy: 0.3806 - acc: 0.8294\n",
      "Epoch 00014: val_loss did not improve from 0.38397\n",
      "1131118/1131118 [==============================] - 596s 527us/sample - loss: 0.3806 - binary_crossentropy: 0.3806 - acc: 0.8294 - val_loss: 0.3985 - val_binary_crossentropy: 0.3985 - val_acc: 0.8197\n",
      "Epoch 15/500\n",
      " 132800/1131118 [==>...........................] - ETA: 8:16 - loss: 0.3791 - binary_crossentropy: 0.3791 - acc: 0.8302"
     ]
    },
    {
     "name": "stderr",
     "output_type": "stream",
     "text": [
      "IOPub message rate exceeded.\n",
      "The notebook server will temporarily stop sending output\n",
      "to the client in order to avoid crashing it.\n",
      "To change this limit, set the config variable\n",
      "`--NotebookApp.iopub_msg_rate_limit`.\n",
      "\n",
      "Current values:\n",
      "NotebookApp.iopub_msg_rate_limit=1000.0 (msgs/sec)\n",
      "NotebookApp.rate_limit_window=3.0 (secs)\n",
      "\n"
     ]
    },
    {
     "name": "stdout",
     "output_type": "stream",
     "text": [
      " 873696/1131118 [======================>.......] - ETA: 2:07 - loss: 0.3805 - binary_crossentropy: 0.3805 - acc: 0.8293"
     ]
    },
    {
     "name": "stderr",
     "output_type": "stream",
     "text": [
      "IOPub message rate exceeded.\n",
      "The notebook server will temporarily stop sending output\n",
      "to the client in order to avoid crashing it.\n",
      "To change this limit, set the config variable\n",
      "`--NotebookApp.iopub_msg_rate_limit`.\n",
      "\n",
      "Current values:\n",
      "NotebookApp.iopub_msg_rate_limit=1000.0 (msgs/sec)\n",
      "NotebookApp.rate_limit_window=3.0 (secs)\n",
      "\n"
     ]
    },
    {
     "name": "stdout",
     "output_type": "stream",
     "text": [
      " 474496/1131118 [===========>..................] - ETA: 5:25 - loss: 0.3800 - binary_crossentropy: 0.3800 - acc: 0.8296"
     ]
    },
    {
     "name": "stderr",
     "output_type": "stream",
     "text": [
      "IOPub message rate exceeded.\n",
      "The notebook server will temporarily stop sending output\n",
      "to the client in order to avoid crashing it.\n",
      "To change this limit, set the config variable\n",
      "`--NotebookApp.iopub_msg_rate_limit`.\n",
      "\n",
      "Current values:\n",
      "NotebookApp.iopub_msg_rate_limit=1000.0 (msgs/sec)\n",
      "NotebookApp.rate_limit_window=3.0 (secs)\n",
      "\n"
     ]
    },
    {
     "name": "stdout",
     "output_type": "stream",
     "text": [
      "1131072/1131118 [============================>.] - ETA: 0s - loss: 0.3799 - binary_crossentropy: 0.3799 - acc: 0.8300\n",
      "Epoch 00016: val_loss did not improve from 0.38397\n",
      "1131118/1131118 [==============================] - 594s 526us/sample - loss: 0.3799 - binary_crossentropy: 0.3799 - acc: 0.8300 - val_loss: 0.3841 - val_binary_crossentropy: 0.3841 - val_acc: 0.8274\n",
      "Epoch 17/500\n",
      "  62880/1131118 [>.............................] - ETA: 8:49 - loss: 0.3790 - binary_crossentropy: 0.3790 - acc: 0.8298"
     ]
    },
    {
     "name": "stderr",
     "output_type": "stream",
     "text": [
      "IOPub message rate exceeded.\n",
      "The notebook server will temporarily stop sending output\n",
      "to the client in order to avoid crashing it.\n",
      "To change this limit, set the config variable\n",
      "`--NotebookApp.iopub_msg_rate_limit`.\n",
      "\n",
      "Current values:\n",
      "NotebookApp.iopub_msg_rate_limit=1000.0 (msgs/sec)\n",
      "NotebookApp.rate_limit_window=3.0 (secs)\n",
      "\n"
     ]
    },
    {
     "name": "stdout",
     "output_type": "stream",
     "text": [
      " 777408/1131118 [===================>..........] - ETA: 2:55 - loss: 0.3796 - binary_crossentropy: 0.3796 - acc: 0.8297"
     ]
    },
    {
     "name": "stderr",
     "output_type": "stream",
     "text": [
      "IOPub message rate exceeded.\n",
      "The notebook server will temporarily stop sending output\n",
      "to the client in order to avoid crashing it.\n",
      "To change this limit, set the config variable\n",
      "`--NotebookApp.iopub_msg_rate_limit`.\n",
      "\n",
      "Current values:\n",
      "NotebookApp.iopub_msg_rate_limit=1000.0 (msgs/sec)\n",
      "NotebookApp.rate_limit_window=3.0 (secs)\n",
      "\n"
     ]
    },
    {
     "name": "stdout",
     "output_type": "stream",
     "text": [
      "1131040/1131118 [============================>.] - ETA: 0s - loss: 0.3796 - binary_crossentropy: 0.3796 - acc: 0.8299\n",
      "Epoch 00017: val_loss improved from 0.38397 to 0.38363, saving model to model/NormedCNN_allVars_addgroomedtau_lessfilters_10patience_2.h1\n",
      "1131118/1131118 [==============================] - 594s 525us/sample - loss: 0.3796 - binary_crossentropy: 0.3796 - acc: 0.8299 - val_loss: 0.3836 - val_binary_crossentropy: 0.3836 - val_acc: 0.8278\n",
      "Epoch 18/500\n",
      " 365280/1131118 [========>.....................] - ETA: 6:18 - loss: 0.3798 - binary_crossentropy: 0.3798 - acc: 0.8297"
     ]
    },
    {
     "name": "stderr",
     "output_type": "stream",
     "text": [
      "IOPub message rate exceeded.\n",
      "The notebook server will temporarily stop sending output\n",
      "to the client in order to avoid crashing it.\n",
      "To change this limit, set the config variable\n",
      "`--NotebookApp.iopub_msg_rate_limit`.\n",
      "\n",
      "Current values:\n",
      "NotebookApp.iopub_msg_rate_limit=1000.0 (msgs/sec)\n",
      "NotebookApp.rate_limit_window=3.0 (secs)\n",
      "\n"
     ]
    },
    {
     "name": "stdout",
     "output_type": "stream",
     "text": [
      "1080832/1131118 [===========================>..] - ETA: 24s - loss: 0.3793 - binary_crossentropy: 0.3793 - acc: 0.8300"
     ]
    },
    {
     "name": "stderr",
     "output_type": "stream",
     "text": [
      "IOPub message rate exceeded.\n",
      "The notebook server will temporarily stop sending output\n",
      "to the client in order to avoid crashing it.\n",
      "To change this limit, set the config variable\n",
      "`--NotebookApp.iopub_msg_rate_limit`.\n",
      "\n",
      "Current values:\n",
      "NotebookApp.iopub_msg_rate_limit=1000.0 (msgs/sec)\n",
      "NotebookApp.rate_limit_window=3.0 (secs)\n",
      "\n"
     ]
    },
    {
     "name": "stdout",
     "output_type": "stream",
     "text": [
      " 621696/1131118 [===============>..............] - ETA: 4:12 - loss: 0.3795 - binary_crossentropy: 0.3795 - acc: 0.8297"
     ]
    },
    {
     "name": "stderr",
     "output_type": "stream",
     "text": [
      "IOPub message rate exceeded.\n",
      "The notebook server will temporarily stop sending output\n",
      "to the client in order to avoid crashing it.\n",
      "To change this limit, set the config variable\n",
      "`--NotebookApp.iopub_msg_rate_limit`.\n",
      "\n",
      "Current values:\n",
      "NotebookApp.iopub_msg_rate_limit=1000.0 (msgs/sec)\n",
      "NotebookApp.rate_limit_window=3.0 (secs)\n",
      "\n"
     ]
    },
    {
     "name": "stdout",
     "output_type": "stream",
     "text": [
      "1131104/1131118 [============================>.] - ETA: 0s - loss: 0.3791 - binary_crossentropy: 0.3791 - acc: 0.8300\n",
      "Epoch 00019: val_loss did not improve from 0.38363\n",
      "1131118/1131118 [==============================] - 594s 525us/sample - loss: 0.3791 - binary_crossentropy: 0.3791 - acc: 0.8300 - val_loss: 0.3842 - val_binary_crossentropy: 0.3842 - val_acc: 0.8274\n",
      "Epoch 20/500\n",
      " 210400/1131118 [====>.........................] - ETA: 7:35 - loss: 0.3771 - binary_crossentropy: 0.3771 - acc: 0.8321"
     ]
    },
    {
     "name": "stderr",
     "output_type": "stream",
     "text": [
      "IOPub message rate exceeded.\n",
      "The notebook server will temporarily stop sending output\n",
      "to the client in order to avoid crashing it.\n",
      "To change this limit, set the config variable\n",
      "`--NotebookApp.iopub_msg_rate_limit`.\n",
      "\n",
      "Current values:\n",
      "NotebookApp.iopub_msg_rate_limit=1000.0 (msgs/sec)\n",
      "NotebookApp.rate_limit_window=3.0 (secs)\n",
      "\n"
     ]
    },
    {
     "name": "stdout",
     "output_type": "stream",
     "text": [
      " 924928/1131118 [=======================>......] - ETA: 1:41 - loss: 0.3789 - binary_crossentropy: 0.3789 - acc: 0.8303"
     ]
    },
    {
     "name": "stderr",
     "output_type": "stream",
     "text": [
      "IOPub message rate exceeded.\n",
      "The notebook server will temporarily stop sending output\n",
      "to the client in order to avoid crashing it.\n",
      "To change this limit, set the config variable\n",
      "`--NotebookApp.iopub_msg_rate_limit`.\n",
      "\n",
      "Current values:\n",
      "NotebookApp.iopub_msg_rate_limit=1000.0 (msgs/sec)\n",
      "NotebookApp.rate_limit_window=3.0 (secs)\n",
      "\n"
     ]
    },
    {
     "name": "stdout",
     "output_type": "stream",
     "text": [
      " 509856/1131118 [============>.................] - ETA: 5:07 - loss: 0.3783 - binary_crossentropy: 0.3783 - acc: 0.8307"
     ]
    },
    {
     "name": "stderr",
     "output_type": "stream",
     "text": [
      "IOPub message rate exceeded.\n",
      "The notebook server will temporarily stop sending output\n",
      "to the client in order to avoid crashing it.\n",
      "To change this limit, set the config variable\n",
      "`--NotebookApp.iopub_msg_rate_limit`.\n",
      "\n",
      "Current values:\n",
      "NotebookApp.iopub_msg_rate_limit=1000.0 (msgs/sec)\n",
      "NotebookApp.rate_limit_window=3.0 (secs)\n",
      "\n"
     ]
    },
    {
     "name": "stdout",
     "output_type": "stream",
     "text": [
      "1131072/1131118 [============================>.] - ETA: 0s - loss: 0.3788 - binary_crossentropy: 0.3788 - acc: 0.8304\n",
      "Epoch 00021: val_loss improved from 0.38363 to 0.38180, saving model to model/NormedCNN_allVars_addgroomedtau_lessfilters_10patience_2.h1\n",
      "1131118/1131118 [==============================] - 593s 524us/sample - loss: 0.3788 - binary_crossentropy: 0.3788 - acc: 0.8304 - val_loss: 0.3818 - val_binary_crossentropy: 0.3818 - val_acc: 0.8286\n",
      "Epoch 22/500\n",
      " 104000/1131118 [=>............................] - ETA: 8:29 - loss: 0.3750 - binary_crossentropy: 0.3750 - acc: 0.8306"
     ]
    },
    {
     "name": "stderr",
     "output_type": "stream",
     "text": [
      "IOPub message rate exceeded.\n",
      "The notebook server will temporarily stop sending output\n",
      "to the client in order to avoid crashing it.\n",
      "To change this limit, set the config variable\n",
      "`--NotebookApp.iopub_msg_rate_limit`.\n",
      "\n",
      "Current values:\n",
      "NotebookApp.iopub_msg_rate_limit=1000.0 (msgs/sec)\n",
      "NotebookApp.rate_limit_window=3.0 (secs)\n",
      "\n"
     ]
    },
    {
     "name": "stdout",
     "output_type": "stream",
     "text": [
      " 744320/1131118 [==================>...........] - ETA: 3:11 - loss: 0.3782 - binary_crossentropy: 0.3782 - acc: 0.8304"
     ]
    },
    {
     "name": "stderr",
     "output_type": "stream",
     "text": [
      "IOPub message rate exceeded.\n",
      "The notebook server will temporarily stop sending output\n",
      "to the client in order to avoid crashing it.\n",
      "To change this limit, set the config variable\n",
      "`--NotebookApp.iopub_msg_rate_limit`.\n",
      "\n",
      "Current values:\n",
      "NotebookApp.iopub_msg_rate_limit=1000.0 (msgs/sec)\n",
      "NotebookApp.rate_limit_window=3.0 (secs)\n",
      "\n"
     ]
    },
    {
     "name": "stdout",
     "output_type": "stream",
     "text": [
      "1131104/1131118 [============================>.] - ETA: 0s - loss: 0.3786 - binary_crossentropy: 0.3786 - acc: 0.8305\n",
      "Epoch 00022: val_loss did not improve from 0.38180\n",
      "1131118/1131118 [==============================] - 594s 525us/sample - loss: 0.3787 - binary_crossentropy: 0.3786 - acc: 0.8305 - val_loss: 0.3834 - val_binary_crossentropy: 0.3834 - val_acc: 0.8276\n",
      "Epoch 23/500\n",
      " 329056/1131118 [=======>......................] - ETA: 6:36 - loss: 0.3776 - binary_crossentropy: 0.3776 - acc: 0.8309"
     ]
    },
    {
     "name": "stderr",
     "output_type": "stream",
     "text": [
      "IOPub message rate exceeded.\n",
      "The notebook server will temporarily stop sending output\n",
      "to the client in order to avoid crashing it.\n",
      "To change this limit, set the config variable\n",
      "`--NotebookApp.iopub_msg_rate_limit`.\n",
      "\n",
      "Current values:\n",
      "NotebookApp.iopub_msg_rate_limit=1000.0 (msgs/sec)\n",
      "NotebookApp.rate_limit_window=3.0 (secs)\n",
      "\n"
     ]
    },
    {
     "name": "stdout",
     "output_type": "stream",
     "text": [
      "1040192/1131118 [==========================>...] - ETA: 45s - loss: 0.3785 - binary_crossentropy: 0.3785 - acc: 0.8305"
     ]
    },
    {
     "name": "stderr",
     "output_type": "stream",
     "text": [
      "IOPub message rate exceeded.\n",
      "The notebook server will temporarily stop sending output\n",
      "to the client in order to avoid crashing it.\n",
      "To change this limit, set the config variable\n",
      "`--NotebookApp.iopub_msg_rate_limit`.\n",
      "\n",
      "Current values:\n",
      "NotebookApp.iopub_msg_rate_limit=1000.0 (msgs/sec)\n",
      "NotebookApp.rate_limit_window=3.0 (secs)\n",
      "\n"
     ]
    },
    {
     "name": "stdout",
     "output_type": "stream",
     "text": [
      " 631552/1131118 [===============>..............] - ETA: 4:07 - loss: 0.3783 - binary_crossentropy: 0.3783 - acc: 0.8307"
     ]
    },
    {
     "name": "stderr",
     "output_type": "stream",
     "text": [
      "IOPub message rate exceeded.\n",
      "The notebook server will temporarily stop sending output\n",
      "to the client in order to avoid crashing it.\n",
      "To change this limit, set the config variable\n",
      "`--NotebookApp.iopub_msg_rate_limit`.\n",
      "\n",
      "Current values:\n",
      "NotebookApp.iopub_msg_rate_limit=1000.0 (msgs/sec)\n",
      "NotebookApp.rate_limit_window=3.0 (secs)\n",
      "\n"
     ]
    },
    {
     "name": "stdout",
     "output_type": "stream",
     "text": [
      "1131104/1131118 [============================>.] - ETA: 0s - loss: 0.3783 - binary_crossentropy: 0.3783 - acc: 0.8304\n",
      "Epoch 00024: val_loss did not improve from 0.38180\n",
      "1131118/1131118 [==============================] - 595s 526us/sample - loss: 0.3783 - binary_crossentropy: 0.3783 - acc: 0.8304 - val_loss: 0.3827 - val_binary_crossentropy: 0.3827 - val_acc: 0.8281\n",
      "Epoch 25/500\n",
      " 217504/1131118 [====>.........................] - ETA: 7:33 - loss: 0.3771 - binary_crossentropy: 0.3771 - acc: 0.8312"
     ]
    },
    {
     "name": "stderr",
     "output_type": "stream",
     "text": [
      "IOPub message rate exceeded.\n",
      "The notebook server will temporarily stop sending output\n",
      "to the client in order to avoid crashing it.\n",
      "To change this limit, set the config variable\n",
      "`--NotebookApp.iopub_msg_rate_limit`.\n",
      "\n",
      "Current values:\n",
      "NotebookApp.iopub_msg_rate_limit=1000.0 (msgs/sec)\n",
      "NotebookApp.rate_limit_window=3.0 (secs)\n",
      "\n"
     ]
    },
    {
     "name": "stdout",
     "output_type": "stream",
     "text": [
      " 942592/1131118 [=======================>......] - ETA: 1:33 - loss: 0.3776 - binary_crossentropy: 0.3776 - acc: 0.8311"
     ]
    },
    {
     "name": "stderr",
     "output_type": "stream",
     "text": [
      "IOPub message rate exceeded.\n",
      "The notebook server will temporarily stop sending output\n",
      "to the client in order to avoid crashing it.\n",
      "To change this limit, set the config variable\n",
      "`--NotebookApp.iopub_msg_rate_limit`.\n",
      "\n",
      "Current values:\n",
      "NotebookApp.iopub_msg_rate_limit=1000.0 (msgs/sec)\n",
      "NotebookApp.rate_limit_window=3.0 (secs)\n",
      "\n"
     ]
    },
    {
     "name": "stdout",
     "output_type": "stream",
     "text": [
      " 449312/1131118 [==========>...................] - ETA: 5:37 - loss: 0.3777 - binary_crossentropy: 0.3777 - acc: 0.8312"
     ]
    },
    {
     "name": "stderr",
     "output_type": "stream",
     "text": [
      "IOPub message rate exceeded.\n",
      "The notebook server will temporarily stop sending output\n",
      "to the client in order to avoid crashing it.\n",
      "To change this limit, set the config variable\n",
      "`--NotebookApp.iopub_msg_rate_limit`.\n",
      "\n",
      "Current values:\n",
      "NotebookApp.iopub_msg_rate_limit=1000.0 (msgs/sec)\n",
      "NotebookApp.rate_limit_window=3.0 (secs)\n",
      "\n"
     ]
    },
    {
     "name": "stdout",
     "output_type": "stream",
     "text": [
      "1131008/1131118 [============================>.] - ETA: 0s - loss: 0.3781 - binary_crossentropy: 0.3781 - acc: 0.8308\n",
      "Epoch 00026: val_loss did not improve from 0.38180\n",
      "1131118/1131118 [==============================] - 593s 524us/sample - loss: 0.3781 - binary_crossentropy: 0.3781 - acc: 0.8308 - val_loss: 0.3830 - val_binary_crossentropy: 0.3830 - val_acc: 0.8279\n",
      "Epoch 27/500\n",
      "  15392/1131118 [..............................] - ETA: 9:12 - loss: 0.3724 - binary_crossentropy: 0.3724 - acc: 0.8333"
     ]
    },
    {
     "name": "stderr",
     "output_type": "stream",
     "text": [
      "IOPub message rate exceeded.\n",
      "The notebook server will temporarily stop sending output\n",
      "to the client in order to avoid crashing it.\n",
      "To change this limit, set the config variable\n",
      "`--NotebookApp.iopub_msg_rate_limit`.\n",
      "\n",
      "Current values:\n",
      "NotebookApp.iopub_msg_rate_limit=1000.0 (msgs/sec)\n",
      "NotebookApp.rate_limit_window=3.0 (secs)\n",
      "\n"
     ]
    },
    {
     "name": "stdout",
     "output_type": "stream",
     "text": [
      " 707776/1131118 [=================>............] - ETA: 3:29 - loss: 0.3772 - binary_crossentropy: 0.3772 - acc: 0.8314"
     ]
    },
    {
     "name": "stderr",
     "output_type": "stream",
     "text": [
      "IOPub message rate exceeded.\n",
      "The notebook server will temporarily stop sending output\n",
      "to the client in order to avoid crashing it.\n",
      "To change this limit, set the config variable\n",
      "`--NotebookApp.iopub_msg_rate_limit`.\n",
      "\n",
      "Current values:\n",
      "NotebookApp.iopub_msg_rate_limit=1000.0 (msgs/sec)\n",
      "NotebookApp.rate_limit_window=3.0 (secs)\n",
      "\n"
     ]
    },
    {
     "name": "stdout",
     "output_type": "stream",
     "text": [
      "1131040/1131118 [============================>.] - ETA: 0s - loss: 0.3779 - binary_crossentropy: 0.3779 - acc: 0.8306\n",
      "Epoch 00027: val_loss did not improve from 0.38180\n",
      "1131118/1131118 [==============================] - 592s 523us/sample - loss: 0.3779 - binary_crossentropy: 0.3779 - acc: 0.8306 - val_loss: 0.3843 - val_binary_crossentropy: 0.3843 - val_acc: 0.8272\n",
      "Epoch 28/500\n",
      " 277152/1131118 [======>.......................] - ETA: 7:00 - loss: 0.3763 - binary_crossentropy: 0.3763 - acc: 0.8316"
     ]
    },
    {
     "name": "stderr",
     "output_type": "stream",
     "text": [
      "IOPub message rate exceeded.\n",
      "The notebook server will temporarily stop sending output\n",
      "to the client in order to avoid crashing it.\n",
      "To change this limit, set the config variable\n",
      "`--NotebookApp.iopub_msg_rate_limit`.\n",
      "\n",
      "Current values:\n",
      "NotebookApp.iopub_msg_rate_limit=1000.0 (msgs/sec)\n",
      "NotebookApp.rate_limit_window=3.0 (secs)\n",
      "\n"
     ]
    },
    {
     "name": "stdout",
     "output_type": "stream",
     "text": [
      "1131040/1131118 [============================>.] - ETA: 0s - loss: 0.3775 - binary_crossentropy: 0.3775 - acc: 0.8313\n",
      "Epoch 00028: val_loss did not improve from 0.38180\n",
      "1131118/1131118 [==============================] - 594s 525us/sample - loss: 0.3775 - binary_crossentropy: 0.3775 - acc: 0.8313 - val_loss: 0.3830 - val_binary_crossentropy: 0.3830 - val_acc: 0.8278\n",
      "Epoch 29/500\n",
      "1131104/1131118 [============================>.] - ETA: 0s - loss: 0.3775 - binary_crossentropy: 0.3775 - acc: 0.8312\n",
      "Epoch 00029: val_loss did not improve from 0.38180\n",
      "1131118/1131118 [==============================] - 595s 526us/sample - loss: 0.3775 - binary_crossentropy: 0.3775 - acc: 0.8312 - val_loss: 0.3827 - val_binary_crossentropy: 0.3827 - val_acc: 0.8281\n",
      "Epoch 30/500\n",
      "1131104/1131118 [============================>.] - ETA: 0s - loss: 0.3774 - binary_crossentropy: 0.3774 - acc: 0.8313\n",
      "Epoch 00030: val_loss did not improve from 0.38180\n",
      "1131118/1131118 [==============================] - 592s 524us/sample - loss: 0.3774 - binary_crossentropy: 0.3774 - acc: 0.8313 - val_loss: 0.3830 - val_binary_crossentropy: 0.3830 - val_acc: 0.8281\n",
      "Epoch 31/500\n",
      "1131008/1131118 [============================>.] - ETA: 0s - loss: 0.3774 - binary_crossentropy: 0.3774 - acc: 0.8311\n",
      "Epoch 00031: val_loss did not improve from 0.38180\n",
      "1131118/1131118 [==============================] - 594s 525us/sample - loss: 0.3774 - binary_crossentropy: 0.3774 - acc: 0.8311 - val_loss: 0.3855 - val_binary_crossentropy: 0.3855 - val_acc: 0.8267\n"
     ]
    }
   ],
   "source": [
    "checkpoint_path = \"model/NormedCNN_allVars_addgroomedtau_lessfilters_10patience_2.h1\"\n",
    "if not os.path.exists(\"model\"):\n",
    "    os.mkdir(\"model\")\n",
    "\n",
    "model_checkpoint = keras.callbacks.ModelCheckpoint(checkpoint_path, monitor='val_loss', \n",
    "                                   verbose=1, save_best_only=True, \n",
    "                                   save_weights_only=False, mode='auto',\n",
    "                                   period=1) #save_freq='epoch'   \n",
    "EPOCHS = 500\n",
    "early_stop = keras.callbacks.EarlyStopping(monitor='val_loss', patience=10)\n",
    "history = InjectedVarsCNN.fit(\n",
    "  [train_data['jetImages'], train_var], train_data['labels'],\n",
    "  epochs=EPOCHS, validation_split = 0.2, verbose = 1,\n",
    "  callbacks=[early_stop, model_checkpoint])\n",
    "\n",
    "InjectedVarsCNN.save(checkpoint_path)"
   ]
  },
  {
   "cell_type": "code",
   "execution_count": 9,
   "metadata": {},
   "outputs": [],
   "source": [
    "test_var={key:test_data[key] for key in test_data.files[1:-1]}\n",
    "test_var=pd.DataFrame(test_var,columns=test_data.files[1:-1])"
   ]
  },
  {
   "cell_type": "code",
   "execution_count": 10,
   "metadata": {},
   "outputs": [
    {
     "name": "stdout",
     "output_type": "stream",
     "text": [
      "total 354844\n",
      "-rw-r--r-- 1 jovyan users  6616640 May 30 17:31 CNN_imageonly_full_May30.h5py\n",
      "-rw-r--r-- 1 jovyan users  6649320 May 30 18:06 CNN_allVars_full_May30.h5py\n",
      "-rw-r--r-- 1 jovyan users  6616520 Jun  1 00:24 CNN_imageonly_full_final.h1\n",
      "-rw-r--r-- 1 jovyan users  6649288 Jun  1 00:48 CNN_allVars_full_final.h1\n",
      "-rw-r--r-- 1 jovyan users 25844040 Jun 18 19:45 CNN_imageonly_full_morefilters_sigmoid.h1\n",
      "-rw-r--r-- 1 jovyan users  8637032 Jun 18 21:30 CNN_allVars_full_morefilters_sigmoid.h1\n",
      "-rw-r--r-- 1 jovyan users 26337608 Jun 23 04:18 CNN_imageonly_full_morefilters.h1\n",
      "-rw-r--r-- 1 jovyan users 28253496 Jun 23 05:08 CNN_allVars_full_morefilters.h1\n",
      "-rw-r--r-- 1 jovyan users 26337608 Jun 23 16:15 CNN_imageonly_full_morefilters_2.h1\n",
      "-rw-r--r-- 1 jovyan users 28253496 Jun 23 17:17 CNN_allVars_full_morefilters_2.h1\n",
      "-rw-r--r-- 1 jovyan users  7421296 Jun 24 23:28 CNN_imageonly_addgroomedtau_morefilters.h1\n",
      "-rw-r--r-- 1 jovyan users  3085768 Jun 25 18:37 CNN_imageonly_addgroomedtau_morefilters_2.h1\n",
      "-rw-r--r-- 1 jovyan users 28268904 Jun 25 22:12 CNN_allVars_addgroomedtau_morefilters_2.h1\n",
      "-rw-r--r-- 1 jovyan users 54458296 Jun 26 06:14 CNN_imageonly_addgroomedtau_morefilters_3.h1\n",
      "-rw-r--r-- 1 jovyan users 28268856 Jun 26 09:45 CNN_allVars_addgroomedtau_morefilters_10epochs.h1\n",
      "-rw-r--r-- 1 jovyan users 54458296 Jul  1 05:53 CNN_imageonly_addgroomedtau_morefilters_100epochs.h1\n",
      "-rw-r--r-- 1 jovyan users  2376424 Jul  1 20:25 CNN_allVars_addgroomedtau_lessfilters_100epochs.h1\n",
      "-rw-r--r-- 1 jovyan users  2376424 Jul  1 21:53 CNN_allVars_addgroomedtau_lessfilters_100epochs_2.h1\n",
      "-rw-r--r-- 1 jovyan users  2376424 Jul  1 23:56 CNN_allVars_addgroomedtau_lessfilters_100epochs_3.h1\n",
      "-rw-r--r-- 1 jovyan users  2376424 Jul  2 01:29 CNN_allVars_addgroomedtau_lessfilters_100epochs_4.h1\n",
      "-rw-r--r-- 1 jovyan users  1911704 Jul  3 03:04 CNN_allVars_addgroomedtau_lessfilters_10patience.h1\n",
      "-rw-r--r-- 1 jovyan users  1911704 Jul  3 11:04 CNN_allVars_addgroomedtau_lessfilters_10patience_2.h1\n",
      "-rw-r--r-- 1 jovyan users  1911704 Jul  4 10:34 NormedCNN_allVars_addgroomedtau_lessfilters_10patience.h1\n",
      "-rw-r--r-- 1 jovyan users  1911704 Jul  4 20:25 NormedCNN_allVars_addgroomedtau_lessfilters_10patience_2.h1\n",
      "__________________________________________________________________________________________________\n",
      "Layer (type)                    Output Shape         Param #     Connected to                     \n",
      "==================================================================================================\n",
      "input_2 (InputLayer)            (None, 16, 16, 1)    0                                            \n",
      "__________________________________________________________________________________________________\n",
      "conv1 (Conv2D)                  (None, 16, 16, 32)   832         input_2[0][0]                    \n",
      "__________________________________________________________________________________________________\n",
      "conv2 (Conv2D)                  (None, 16, 16, 32)   9248        conv1[0][0]                      \n",
      "__________________________________________________________________________________________________\n",
      "conv3 (Conv2D)                  (None, 16, 16, 32)   4128        conv2[0][0]                      \n",
      "__________________________________________________________________________________________________\n",
      "maxpool2x2_1 (MaxPooling2D)     (None, 8, 8, 32)     0           conv3[0][0]                      \n",
      "__________________________________________________________________________________________________\n",
      "flatten (Flatten)               (None, 2048)         0           maxpool2x2_1[0][0]               \n",
      "__________________________________________________________________________________________________\n",
      "input_1 (InputLayer)            (None, 15)           0                                            \n",
      "__________________________________________________________________________________________________\n",
      "concat (Concatenate)            (None, 2063)         0           flatten[0][0]                    \n",
      "                                                                 input_1[0][0]                    \n",
      "__________________________________________________________________________________________________\n",
      "relu1 (Dense)                   (None, 64)           132096      concat[0][0]                     \n",
      "__________________________________________________________________________________________________\n",
      "relu2 (Dense)                   (None, 128)          8320        relu1[0][0]                      \n",
      "__________________________________________________________________________________________________\n",
      "softmax (Dense)                 (None, 2)            258         relu2[0][0]                      \n",
      "==================================================================================================\n",
      "Total params: 154,882\n",
      "Trainable params: 154,882\n",
      "Non-trainable params: 0\n",
      "__________________________________________________________________________________________________\n",
      "353476/353476 [==============================] - 46s 130us/sample - loss: 0.3823 - binary_crossentropy: 0.3823 - acc: 0.8286\n"
     ]
    },
    {
     "data": {
      "text/plain": [
       "[0.3823483210859208, 0.38234797, 0.8285711]"
      ]
     },
     "execution_count": 10,
     "metadata": {},
     "output_type": "execute_result"
    }
   ],
   "source": [
    "!ls -ltr model\n",
    "best_model_allVars = tf.keras.models.load_model('model/NormedCNN_allVars_addgroomedtau_lessfilters_10patience_2.h1', custom_objects=None, compile=True)\n",
    "best_model_allVars.summary()\n",
    "results_allVars = best_model_allVars.evaluate([test_data['jetImages'], test_var], test_data['labels'])\n",
    "results_allVars"
   ]
  },
  {
   "cell_type": "code",
   "execution_count": 11,
   "metadata": {},
   "outputs": [],
   "source": [
    "predict_1 = best_model_allVars.predict([test_data['jetImages'], test_var])"
   ]
  },
  {
   "cell_type": "code",
   "execution_count": 12,
   "metadata": {},
   "outputs": [
    {
     "data": {
      "image/png": "[encoded data removed]",
      "text/plain": [
       "<Figure size 432x288 with 1 Axes>"
      ]
     },
     "metadata": {
      "needs_background": "light"
     },
     "output_type": "display_data"
    }
   ],
   "source": [
    "# Plot ROC for Signal ID\n",
    "from sklearn.metrics import roc_curve, auc\n",
    "fpr, tpr, thresholds = roc_curve(test_data['labels'][:,1], predict_1[:,1])\n",
    "roc_auc = auc(fpr, tpr)\n",
    "plt.plot(fpr, tpr, lw=2, color='b', label='auc = %.3f' % (roc_auc))\n",
    "plt.plot([0, 1], [0, 1], linestyle='--', lw=2, color='k', label='random chance')\n",
    "plt.xlim([0, 1.0])\n",
    "plt.ylim([0, 1.0])\n",
    "plt.xlabel('False positive rate')\n",
    "plt.ylabel('True positive rate')\n",
    "plt.title('Receiver Operating Curve')\n",
    "plt.legend(loc=\"lower right\")\n",
    "plt.show()\n",
    "# plt.savefig('plots/roc_image_allVars_sig.png')"
   ]
  },
  {
   "cell_type": "code",
   "execution_count": 13,
   "metadata": {},
   "outputs": [
    {
     "data": {
      "image/png": "[encoded data removed]",
      "text/plain": [
       "<Figure size 432x288 with 1 Axes>"
      ]
     },
     "metadata": {
      "needs_background": "light"
     },
     "output_type": "display_data"
    }
   ],
   "source": [
    "# Plot ROC for Bkg ID\n",
    "from sklearn.metrics import roc_curve, auc\n",
    "fpr, tpr, thresholds = roc_curve(test_data['labels'][:,0], predict_1[:,0])\n",
    "roc_auc = auc(fpr, tpr)\n",
    "plt.plot(fpr, tpr, lw=2, color='b', label='auc = %.3f' % (roc_auc))\n",
    "plt.plot([0, 1], [0, 1], linestyle='--', lw=2, color='k', label='random chance')\n",
    "plt.xlim([0, 1.0])\n",
    "plt.ylim([0, 1.0])\n",
    "plt.xlabel('False positive rate')\n",
    "plt.ylabel('True positive rate')\n",
    "plt.title('Receiver Operating Curve')\n",
    "plt.legend(loc=\"lower right\")\n",
    "plt.show()\n",
    "# plt.savefig('plots/roc_image_allVars_bkg.png')"
   ]
  },
  {
   "cell_type": "code",
   "execution_count": 14,
   "metadata": {},
   "outputs": [
    {
     "data": {
      "image/png": "[encoded data removed]",
      "text/plain": [
       "<Figure size 432x288 with 1 Axes>"
      ]
     },
     "metadata": {
      "needs_background": "light"
     },
     "output_type": "display_data"
    }
   ],
   "source": [
    "sig_tp = predict_1[(test_data['labels'][:,1]==1) & (predict_1[:,1]>=0.6)][:,1]\n",
    "bkg_tn = predict_1[(test_data['labels'][:,0]==1) & (predict_1[:,1]<0.6)][:,1]\n",
    "sig_fp = predict_1[(test_data['labels'][:,0]==1) & (predict_1[:,1]>=0.6)][:,1]\n",
    "bkg_fn = predict_1[(test_data['labels'][:,1]==1) & (predict_1[:,1]<0.6)][:,1]\n",
    "\n",
    "bins = np.linspace(0, 1, 50)\n",
    "\n",
    "plt.hist(sig_tp, bins, alpha=0.5, label='True Signal')\n",
    "plt.hist(bkg_tn, bins, alpha=0.5, label='True Background')\n",
    "plt.hist(sig_fp, bins, alpha=0.5, label='Background predicted as Signal')\n",
    "plt.hist(bkg_fn, bins, alpha=0.5, label='Signal predicted as Background')\n",
    "plt.legend(loc='best')\n",
    "plt.show()"
   ]
  },
  {
   "cell_type": "code",
   "execution_count": 15,
   "metadata": {},
   "outputs": [
    {
     "data": {
      "image/png": "[encoded data removed]",
      "text/plain": [
       "<Figure size 432x288 with 1 Axes>"
      ]
     },
     "metadata": {
      "needs_background": "light"
     },
     "output_type": "display_data"
    }
   ],
   "source": [
    "sig = predict_1[(test_data['labels'][:,1]==1)][:,1]\n",
    "bkg = predict_1[(test_data['labels'][:,0]==1)][:,1]\n",
    "\n",
    "bins = np.linspace(0, 1, 50)\n",
    "\n",
    "plt.hist(sig, bins, alpha=0.5, label='Signal')\n",
    "plt.hist(bkg, bins, alpha=0.5, label='Background')\n",
    "plt.ylim(0,60000)\n",
    "plt.legend(loc='upper center')\n",
    "plt.xlabel('Prediction')\n",
    "plt.show()"
   ]
  },
  {
   "cell_type": "code",
   "execution_count": null,
   "metadata": {},
   "outputs": [],
   "source": [
    "#first Normed model trained for 32 epochs\n",
    "#second Normed model trained for 31 epochs"
   ]
  },
  {
   "cell_type": "code",
   "execution_count": null,
   "metadata": {},
   "outputs": [],
   "source": [
    "# matrix = tensorflow.math.confusion_matrix(np.array(list(test_data['labels'].values))[:,0], predict[:,0])"
   ]
  },
  {
   "cell_type": "code",
   "execution_count": null,
   "metadata": {},
   "outputs": [],
   "source": [
    "# with tf.Session():\n",
    "#    print('Confusion Matrix: \\n\\n', tf.Tensor.eval(matrix,feed_dict=None, session=None))"
   ]
  }
 ],
 "metadata": {
  "kernelspec": {
   "display_name": "Python 3",
   "language": "python",
   "name": "python3"
  },
  "language_info": {
   "codemirror_mode": {
    "name": "ipython",
    "version": 3
   },
   "file_extension": ".py",
   "mimetype": "text/x-python",
   "name": "python",
   "nbconvert_exporter": "python",
   "pygments_lexer": "ipython3",
   "version": "3.7.3"
  }
 },
 "nbformat": 4,
 "nbformat_minor": 2
}
