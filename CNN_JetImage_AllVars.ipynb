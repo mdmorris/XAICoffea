{
 "cells": [
  {
   "cell_type": "code",
   "execution_count": 2,
   "metadata": {},
   "outputs": [
    {
     "name": "stdout",
     "output_type": "stream",
     "text": [
      "TensorFlow version:  1.13.1\n"
     ]
    }
   ],
   "source": [
    "# TensorFlow and tf.keras\n",
    "import tensorflow as tf\n",
    "from tensorflow import keras\n",
    "from tensorflow.keras import layers\n",
    "from tensorflow.keras import models\n",
    "import tensorflow.keras.utils\n",
    "from tensorflow.keras.utils import multi_gpu_model\n",
    "import pandas as pd\n",
    "\n",
    "from datetime import datetime\n",
    "from packaging import version\n",
    "\n",
    "print(\"TensorFlow version: \", tf.__version__)\n",
    "assert version.parse(tf.__version__).release[0] < 2, \\\n",
    "    \"This notebook does not worl for TensorFlow 2.0\"\n",
    "\n",
    "# Helper libraries\n",
    "import numpy as np\n",
    "import matplotlib.pyplot as plt\n",
    "from matplotlib.colors import LogNorm\n",
    "import math\n",
    "import time\n",
    "import h5py\n",
    "import sklearn\n",
    "from sklearn.utils import shuffle\n",
    "from tensorflow.keras import *\n",
    "\n",
    "import os\n",
    "# from numba import jit"
   ]
  },
  {
   "cell_type": "markdown",
   "metadata": {},
   "source": [
    "# Loading Data for CNN"
   ]
  },
  {
   "cell_type": "code",
   "execution_count": 3,
   "metadata": {
    "scrolled": true
   },
   "outputs": [
    {
     "name": "stdout",
     "output_type": "stream",
     "text": [
      "['jetImages', 'jetPt', 'jetEta', 'jetPhi', 'tau21', 'tau31', 'tau32', 'tau21_sd', 'tau31_sd', 'tau32_sd', 'chMult', 'neutMult', 'phoMult', 'eleMult', 'muMult', 'jetpull', 'labels']\n"
     ]
    }
   ],
   "source": [
    "train_data = np.load(\"./NormedShowJet_addgrommedtau_train.npz\")\n",
    "test_data = np.load(\"./NormedShowJet_addgrommedtau_test.npz\")\n",
    "print(train_data.files)"
   ]
  },
  {
   "cell_type": "markdown",
   "metadata": {},
   "source": [
    "# Image Only CNN"
   ]
  },
  {
   "cell_type": "code",
   "execution_count": null,
   "metadata": {},
   "outputs": [],
   "source": [
    "def build_model():\n",
    "    input1 = layers.Input(shape = (16, 16,1))\n",
    "#     x = layers.Conv2D(32, (5, 5), activation='relu', padding='same', name = 'conv1')(input1)\n",
    "#     x = layers.Conv2D(64, (3, 3), activation='relu', padding='same', name = 'conv2')(x)\n",
    "#     x = layers.MaxPool2D((2, 2), name = 'maxpool2x2_1')(x)\n",
    "#     x = layers.Conv2D(64, (5, 5), activation='relu', padding='same', name = 'conv3')(x)\n",
    "#     x = layers.Conv2D(128, (3, 3), activation='relu', padding='same', name = 'conv4')(x)\n",
    "#     x = layers.MaxPool2D((2, 2), name = 'maxpool2x2_2')(x)\n",
    "#     x = layers.Conv2D(32, (3, 3), activation='relu', padding='same', name = 'conv5')(x)\n",
    "#     x = layers.Conv2D(16, (2, 2), activation='relu', padding='same', name = 'conv6')(x)\n",
    "#     x = layers.MaxPool2D((2, 2), name = 'maxpool2x2_3')(x)\n",
    "\n",
    "    x = layers.Conv2D(32, (5, 5), activation='relu', padding='same', name = 'conv1')(input1)\n",
    "    x = layers.Conv2D(64, (3, 3), activation='relu', padding='same', name = 'conv2')(x)\n",
    "#     x = layers.Conv2D(256, (2, 2), activation='relu', padding='same', name = 'conv3')(x)\n",
    "    x = layers.MaxPool2D((2, 2), name = 'maxpool2x2_1')(x)\n",
    "    x = layers.Flatten(name = 'flatten')(x)\n",
    "    x = layers.Dense(256, activation='relu', name = 'relu1')(x)\n",
    "#     x = layers.Dense(512, activation='relu', name = 'relu2')(x)    \n",
    "    output = layers.Dense(2, activation='softmax', name = 'softmax')(x)\n",
    "    model = models.Model(inputs=input1, outputs=output)\n",
    "    \n",
    "    opt=keras.optimizers.Adam(lr=0.001,beta_1=0.9, beta_2=0.999, amsgrad=False)\n",
    "    model.compile(loss='binary_crossentropy',\n",
    "                optimizer=opt,\n",
    "                metrics=['binary_crossentropy', 'accuracy'])\n",
    "    return model"
   ]
  },
  {
   "cell_type": "code",
   "execution_count": null,
   "metadata": {
    "scrolled": true
   },
   "outputs": [],
   "source": [
    "ImageonlyCNN = build_model()"
   ]
  },
  {
   "cell_type": "code",
   "execution_count": null,
   "metadata": {},
   "outputs": [],
   "source": [
    "X_batch = train_data['jetImages'][:10]\n",
    "Y_batch = train_data['labels'][:10]\n",
    "example_result = ImageonlyCNN.predict(x = X_batch)\n",
    "results = ImageonlyCNN.evaluate(x = X_batch, y =Y_batch )\n",
    "print(example_result)\n",
    "print(results)"
   ]
  },
  {
   "cell_type": "code",
   "execution_count": null,
   "metadata": {
    "scrolled": false
   },
   "outputs": [],
   "source": [
    "checkpoint_path = \"model/CNN_imageonly_addgroomedtau_lessfilters_100epochs.h1\"\n",
    "if not os.path.exists(\"model\"):\n",
    "    os.mkdir(\"model\")\n",
    "\n",
    "model_checkpoint = keras.callbacks.ModelCheckpoint(checkpoint_path, monitor='val_loss', \n",
    "                                   verbose=1, save_best_only=True, \n",
    "                                   save_weights_only=False, mode='auto',\n",
    "                                   period=1)  #save_freq='epoch',   \n",
    "EPOCHS = 100\n",
    "early_stop = keras.callbacks.EarlyStopping(monitor='val_loss', patience=2)\n",
    "history = ImageonlyCNN.fit(train_data['jetImages'],train_data['labels'],\n",
    "                           epochs=EPOCHS, validation_split = 0.2, verbose = 1,\n",
    "                           callbacks=[early_stop, model_checkpoint])\n",
    "ImageonlyCNN.save(checkpoint_path)"
   ]
  },
  {
   "cell_type": "code",
   "execution_count": null,
   "metadata": {},
   "outputs": [],
   "source": [
    "!ls -ltr model\n",
    "best_model = tf.keras.models.load_model('model/CNN_imageonly_addgroomedtau_lessfilters_100epochs.h1', custom_objects=None, compile=True)\n",
    "best_model.summary()\n",
    "results = best_model.evaluate(test_data['jetImages'],test_data['labels'])\n",
    "results"
   ]
  },
  {
   "cell_type": "code",
   "execution_count": null,
   "metadata": {},
   "outputs": [],
   "source": [
    "predict = best_model.predict(test_data['jetImages'])"
   ]
  },
  {
   "cell_type": "code",
   "execution_count": null,
   "metadata": {},
   "outputs": [],
   "source": [
    "plt.rcParams['figure.dpi'] = 70"
   ]
  },
  {
   "cell_type": "code",
   "execution_count": null,
   "metadata": {},
   "outputs": [],
   "source": [
    "# Plot ROC for predicting signal\n",
    "from sklearn.metrics import roc_curve, auc\n",
    "fpr, tpr, thresholds = roc_curve(test_data['labels'][:,1], predict[:,1])\n",
    "roc_auc = auc(fpr, tpr)\n",
    "plt.plot(fpr, tpr, lw=2, color='b', label='auc = %.3f' % (roc_auc))\n",
    "plt.plot([0, 1], [0, 1], linestyle='--', lw=2, color='k', label='random chance')\n",
    "plt.xlim([0, 1.0])\n",
    "plt.ylim([0, 1.0])\n",
    "plt.xlabel('False positive rate')\n",
    "plt.ylabel('True positive rate')\n",
    "plt.title('Receiver Operating Curve')\n",
    "plt.legend(loc=\"lower right\")\n",
    "plt.show()"
   ]
  },
  {
   "cell_type": "code",
   "execution_count": null,
   "metadata": {},
   "outputs": [],
   "source": [
    "# Plot ROC for predicting bkg\n",
    "from sklearn.metrics import roc_curve, auc\n",
    "fpr, tpr, thresholds = roc_curve(test_data['labels'][:,0], predict[:,0])\n",
    "roc_auc = auc(fpr, tpr)\n",
    "plt.plot(fpr, tpr, lw=2, color='b', label='auc = %.3f' % (roc_auc))\n",
    "plt.plot([0, 1], [0, 1], linestyle='--', lw=2, color='k', label='random chance')\n",
    "plt.xlim([0, 1.0])\n",
    "plt.ylim([0, 1.0])\n",
    "plt.xlabel('False positive rate')\n",
    "plt.ylabel('True positive rate')\n",
    "plt.title('Receiver Operating Curve')\n",
    "plt.legend(loc=\"lower right\")\n",
    "plt.show()"
   ]
  },
  {
   "cell_type": "code",
   "execution_count": null,
   "metadata": {},
   "outputs": [],
   "source": [
    "sig = predict[(test_data['labels'][:,1]==1)][:,1]\n",
    "bkg = predict[(test_data['labels'][:,0]==1)][:,1]\n",
    "\n",
    "bins = np.linspace(0, 1, 50)\n",
    "\n",
    "plt.hist(sig, bins, alpha=0.5, label='Signal')\n",
    "plt.hist(bkg, bins, alpha=0.5, label='Background')\n",
    "\n",
    "plt.legend(loc='upper right')\n",
    "plt.xlabel('Prediction')\n",
    "plt.show()"
   ]
  },
  {
   "cell_type": "code",
   "execution_count": null,
   "metadata": {},
   "outputs": [],
   "source": [
    "sig_tp = predict[(test_data['labels'][:,1]==1) & (predict[:,1]>0.6)][:,1]\n",
    "bkg_tn = predict[(test_data['labels'][:,0]==1) & (predict[:,0]>0.6)][:,1]\n",
    "sig_fp = predict[(test_data['labels'][:,0]==1) & (predict[:,1]>0.6)][:,1]\n",
    "bkg_fn = predict[(test_data['labels'][:,1]==1) & (predict[:,0]>0.6)][:,1]\n",
    "\n",
    "bins = np.linspace(0, 1, 50)\n",
    "\n",
    "plt.hist(sig_tp, bins, alpha=0.5, label='True Signal')\n",
    "plt.hist(bkg_tn, bins, alpha=0.5, label='True Background')\n",
    "plt.hist(sig_fp, bins, alpha=0.5, label='Background predicted as Signal')\n",
    "plt.hist(bkg_fn, bins, alpha=0.5, label='Signal predicted as Background')\n",
    "plt.legend(loc='upper right')\n",
    "plt.show()"
   ]
  },
  {
   "cell_type": "code",
   "execution_count": null,
   "metadata": {},
   "outputs": [],
   "source": [
    "sig_tp = predict[(test_data['labels'][:,1]==1) & (predict[:,1]>=0.6)][:,1]\n",
    "bkg_tn = predict[(test_data['labels'][:,0]==1) & (predict[:,1]<0.6)][:,1]\n",
    "sig_fp = predict[(test_data['labels'][:,0]==1) & (predict[:,1]>=0.6)][:,1]\n",
    "bkg_fn = predict[(test_data['labels'][:,1]==1) & (predict[:,1]<0.6)][:,1]\n",
    "\n",
    "bins = np.linspace(0, 1, 50)\n",
    "\n",
    "plt.hist(sig_tp, bins, alpha=0.5, label='True Signal')\n",
    "plt.hist(bkg_tn, bins, alpha=0.5, label='True Background')\n",
    "plt.hist(sig_fp, bins, alpha=0.5, label='Background predicted as Signal')\n",
    "plt.hist(bkg_fn, bins, alpha=0.5, label='Signal predicted as Background')\n",
    "plt.legend(loc='upper right')\n",
    "plt.show()"
   ]
  },
  {
   "cell_type": "markdown",
   "metadata": {},
   "source": [
    "# CNN for Image+Variables"
   ]
  },
  {
   "cell_type": "code",
   "execution_count": 4,
   "metadata": {},
   "outputs": [],
   "source": [
    "def build_model_injected():\n",
    "    input2 = layers.Input(shape=(15,))\n",
    "    input1 = layers.Input(shape = (16, 16,1))\n",
    "    x = layers.Conv2D(32, (5, 5), activation='relu', padding='same', name = 'conv1')(input1)\n",
    "    x = layers.Conv2D(32, (3, 3), activation='relu', padding='same', name = 'conv2')(x)\n",
    "    x = layers.Conv2D(32, (2, 2), activation='relu', padding='same', name = 'conv3')(x)\n",
    "    x = layers.MaxPool2D((2, 2), name = 'maxpool2x2_1')(x)\n",
    "    x1 = layers.Flatten(name = 'flatten')(x)\n",
    "    x = layers.concatenate(inputs=([x1,input2]), axis=-1, name='concat')\n",
    "    x = layers.Dense(64, activation='relu', name='relu1')(x)\n",
    "    x = layers.Dense(128, activation='relu', name='relu2')(x)\n",
    "    output = layers.Dense(2, activation='softmax', name='softmax')(x)\n",
    "    model = models.Model(inputs=(input1,input2), outputs=output)\n",
    "    \n",
    "    opt=keras.optimizers.Adam(lr=0.001,beta_1=0.9, beta_2=0.999, amsgrad=False)\n",
    "    model.compile(loss='binary_crossentropy',\n",
    "                optimizer=opt,\n",
    "                metrics=['binary_crossentropy', 'accuracy'])\n",
    "    return model"
   ]
  },
  {
   "cell_type": "code",
   "execution_count": 5,
   "metadata": {},
   "outputs": [
    {
     "name": "stdout",
     "output_type": "stream",
     "text": [
      "WARNING:tensorflow:From /opt/conda/lib/python3.7/site-packages/tensorflow/python/ops/resource_variable_ops.py:435: colocate_with (from tensorflow.python.framework.ops) is deprecated and will be removed in a future version.\n",
      "Instructions for updating:\n",
      "Colocations handled automatically by placer.\n"
     ]
    }
   ],
   "source": [
    "InjectedVarsCNN = build_model_injected()"
   ]
  },
  {
   "cell_type": "code",
   "execution_count": 6,
   "metadata": {},
   "outputs": [],
   "source": [
    "train_var={key:train_data[key] for key in train_data.files[1:-1]}\n",
    "train_var=pd.DataFrame(train_var,columns=train_data.files[1:-1])"
   ]
  },
  {
   "cell_type": "code",
   "execution_count": 7,
   "metadata": {},
   "outputs": [
    {
     "name": "stdout",
     "output_type": "stream",
     "text": [
      "10/10 [==============================] - 0s 15ms/sample - loss: 0.6923 - binary_crossentropy: 0.6923 - acc: 0.5000\n",
      "[[0.5168644  0.48313558]\n",
      " [0.5221687  0.47783124]\n",
      " [0.5230482  0.4769518 ]\n",
      " [0.522429   0.477571  ]\n",
      " [0.52468044 0.47531956]\n",
      " [0.5208456  0.47915435]\n",
      " [0.5154753  0.48452473]\n",
      " [0.5242653  0.47573477]\n",
      " [0.527741   0.47225893]\n",
      " [0.52212554 0.4778745 ]]\n",
      "[0.6922599673271179, 0.69225997, 0.5]\n"
     ]
    }
   ],
   "source": [
    "X_batch = [train_data['jetImages'][:10], train_var[:10]]\n",
    "Y_batch = train_data['labels'][:10]\n",
    "example_result = InjectedVarsCNN.predict(x = X_batch)\n",
    "results = InjectedVarsCNN.evaluate(x = X_batch, y = Y_batch )\n",
    "print(example_result)\n",
    "print(results)"
   ]
  },
  {
   "cell_type": "code",
   "execution_count": 8,
   "metadata": {
    "scrolled": false
   },
   "outputs": [
    {
     "name": "stdout",
     "output_type": "stream",
     "text": [
      "Train on 1131118 samples, validate on 282780 samples\n",
      "WARNING:tensorflow:From /opt/conda/lib/python3.7/site-packages/tensorflow/python/ops/math_ops.py:3066: to_int32 (from tensorflow.python.ops.math_ops) is deprecated and will be removed in a future version.\n",
      "Instructions for updating:\n",
      "Use tf.cast instead.\n",
      "Epoch 1/500\n",
      "1131104/1131118 [============================>.] - ETA: 0s - loss: 0.4171 - binary_crossentropy: 0.4171 - acc: 0.8096\n",
      "Epoch 00001: val_loss improved from inf to 0.41099, saving model to model/NormedCNN_allVars_addgroomedtau_lessfilters_10patience.h1\n",
      "1131118/1131118 [==============================] - 689s 609us/sample - loss: 0.4171 - binary_crossentropy: 0.4171 - acc: 0.8096 - val_loss: 0.4110 - val_binary_crossentropy: 0.4110 - val_acc: 0.8130\n",
      "Epoch 2/500\n",
      " 838016/1131118 [=====================>........] - ETA: 2:47 - loss: 0.3977 - binary_crossentropy: 0.3977 - acc: 0.8202"
     ]
    },
    {
     "name": "stderr",
     "output_type": "stream",
     "text": [
      "IOPub message rate exceeded.\n",
      "The notebook server will temporarily stop sending output\n",
      "to the client in order to avoid crashing it.\n",
      "To change this limit, set the config variable\n",
      "`--NotebookApp.iopub_msg_rate_limit`.\n",
      "\n",
      "Current values:\n",
      "NotebookApp.iopub_msg_rate_limit=1000.0 (msgs/sec)\n",
      "NotebookApp.rate_limit_window=3.0 (secs)\n",
      "\n"
     ]
    },
    {
     "name": "stdout",
     "output_type": "stream",
     "text": [
      "1131104/1131118 [============================>.] - ETA: 0s - loss: 0.3974 - binary_crossentropy: 0.3974 - acc: 0.8204\n",
      "Epoch 00002: val_loss improved from 0.41099 to 0.40086, saving model to model/NormedCNN_allVars_addgroomedtau_lessfilters_10patience.h1\n",
      "1131118/1131118 [==============================] - 687s 607us/sample - loss: 0.3974 - binary_crossentropy: 0.3974 - acc: 0.8204 - val_loss: 0.4009 - val_binary_crossentropy: 0.4009 - val_acc: 0.8180\n",
      "Epoch 3/500\n",
      " 266528/1131118 [======>.......................] - ETA: 8:12 - loss: 0.3942 - binary_crossentropy: 0.3942 - acc: 0.8217"
     ]
    },
    {
     "name": "stderr",
     "output_type": "stream",
     "text": [
      "IOPub message rate exceeded.\n",
      "The notebook server will temporarily stop sending output\n",
      "to the client in order to avoid crashing it.\n",
      "To change this limit, set the config variable\n",
      "`--NotebookApp.iopub_msg_rate_limit`.\n",
      "\n",
      "Current values:\n",
      "NotebookApp.iopub_msg_rate_limit=1000.0 (msgs/sec)\n",
      "NotebookApp.rate_limit_window=3.0 (secs)\n",
      "\n"
     ]
    },
    {
     "name": "stdout",
     "output_type": "stream",
     "text": [
      " 852512/1131118 [=====================>........] - ETA: 2:38 - loss: 0.3923 - binary_crossentropy: 0.3923 - acc: 0.8232"
     ]
    },
    {
     "name": "stderr",
     "output_type": "stream",
     "text": [
      "IOPub message rate exceeded.\n",
      "The notebook server will temporarily stop sending output\n",
      "to the client in order to avoid crashing it.\n",
      "To change this limit, set the config variable\n",
      "`--NotebookApp.iopub_msg_rate_limit`.\n",
      "\n",
      "Current values:\n",
      "NotebookApp.iopub_msg_rate_limit=1000.0 (msgs/sec)\n",
      "NotebookApp.rate_limit_window=3.0 (secs)\n",
      "\n"
     ]
    },
    {
     "name": "stdout",
     "output_type": "stream",
     "text": [
      " 300224/1131118 [======>.......................] - ETA: 7:52 - loss: 0.3894 - binary_crossentropy: 0.3894 - acc: 0.8247"
     ]
    },
    {
     "name": "stderr",
     "output_type": "stream",
     "text": [
      "IOPub message rate exceeded.\n",
      "The notebook server will temporarily stop sending output\n",
      "to the client in order to avoid crashing it.\n",
      "To change this limit, set the config variable\n",
      "`--NotebookApp.iopub_msg_rate_limit`.\n",
      "\n",
      "Current values:\n",
      "NotebookApp.iopub_msg_rate_limit=1000.0 (msgs/sec)\n",
      "NotebookApp.rate_limit_window=3.0 (secs)\n",
      "\n"
     ]
    },
    {
     "name": "stdout",
     "output_type": "stream",
     "text": [
      " 896640/1131118 [======================>.......] - ETA: 2:11 - loss: 0.3891 - binary_crossentropy: 0.3891 - acc: 0.8247"
     ]
    },
    {
     "name": "stderr",
     "output_type": "stream",
     "text": [
      "IOPub message rate exceeded.\n",
      "The notebook server will temporarily stop sending output\n",
      "to the client in order to avoid crashing it.\n",
      "To change this limit, set the config variable\n",
      "`--NotebookApp.iopub_msg_rate_limit`.\n",
      "\n",
      "Current values:\n",
      "NotebookApp.iopub_msg_rate_limit=1000.0 (msgs/sec)\n",
      "NotebookApp.rate_limit_window=3.0 (secs)\n",
      "\n"
     ]
    },
    {
     "name": "stdout",
     "output_type": "stream",
     "text": [
      " 311904/1131118 [=======>......................] - ETA: 7:38 - loss: 0.3897 - binary_crossentropy: 0.3897 - acc: 0.8244"
     ]
    },
    {
     "name": "stderr",
     "output_type": "stream",
     "text": [
      "IOPub message rate exceeded.\n",
      "The notebook server will temporarily stop sending output\n",
      "to the client in order to avoid crashing it.\n",
      "To change this limit, set the config variable\n",
      "`--NotebookApp.iopub_msg_rate_limit`.\n",
      "\n",
      "Current values:\n",
      "NotebookApp.iopub_msg_rate_limit=1000.0 (msgs/sec)\n",
      "NotebookApp.rate_limit_window=3.0 (secs)\n",
      "\n"
     ]
    },
    {
     "name": "stdout",
     "output_type": "stream",
     "text": [
      " 879648/1131118 [======================>.......] - ETA: 2:21 - loss: 0.3871 - binary_crossentropy: 0.3871 - acc: 0.8260"
     ]
    },
    {
     "name": "stderr",
     "output_type": "stream",
     "text": [
      "IOPub message rate exceeded.\n",
      "The notebook server will temporarily stop sending output\n",
      "to the client in order to avoid crashing it.\n",
      "To change this limit, set the config variable\n",
      "`--NotebookApp.iopub_msg_rate_limit`.\n",
      "\n",
      "Current values:\n",
      "NotebookApp.iopub_msg_rate_limit=1000.0 (msgs/sec)\n",
      "NotebookApp.rate_limit_window=3.0 (secs)\n",
      "\n"
     ]
    },
    {
     "name": "stdout",
     "output_type": "stream",
     "text": [
      "1131040/1131118 [============================>.] - ETA: 0s - loss: 0.3870 - binary_crossentropy: 0.3870 - acc: 0.8260\n",
      "Epoch 00005: val_loss improved from 0.39135 to 0.38899, saving model to model/NormedCNN_allVars_addgroomedtau_lessfilters_10patience.h1\n",
      "1131118/1131118 [==============================] - 673s 595us/sample - loss: 0.3870 - binary_crossentropy: 0.3870 - acc: 0.8260 - val_loss: 0.3890 - val_binary_crossentropy: 0.3890 - val_acc: 0.8244\n",
      "Epoch 6/500\n",
      "1131072/1131118 [============================>.] - ETA: 0s - loss: 0.3858 - binary_crossentropy: 0.3858 - acc: 0.8265\n",
      "Epoch 00006: val_loss improved from 0.38899 to 0.38854, saving model to model/NormedCNN_allVars_addgroomedtau_lessfilters_10patience.h1\n",
      "1131118/1131118 [==============================] - 672s 595us/sample - loss: 0.3858 - binary_crossentropy: 0.3858 - acc: 0.8265 - val_loss: 0.3885 - val_binary_crossentropy: 0.3885 - val_acc: 0.8248\n",
      "Epoch 7/500\n",
      " 720288/1131118 [==================>...........] - ETA: 3:50 - loss: 0.3851 - binary_crossentropy: 0.3851 - acc: 0.8266"
     ]
    },
    {
     "name": "stderr",
     "output_type": "stream",
     "text": [
      "IOPub message rate exceeded.\n",
      "The notebook server will temporarily stop sending output\n",
      "to the client in order to avoid crashing it.\n",
      "To change this limit, set the config variable\n",
      "`--NotebookApp.iopub_msg_rate_limit`.\n",
      "\n",
      "Current values:\n",
      "NotebookApp.iopub_msg_rate_limit=1000.0 (msgs/sec)\n",
      "NotebookApp.rate_limit_window=3.0 (secs)\n",
      "\n"
     ]
    },
    {
     "name": "stdout",
     "output_type": "stream",
     "text": [
      "1131104/1131118 [============================>.] - ETA: 0s - loss: 0.3848 - binary_crossentropy: 0.3848 - acc: 0.8268\n",
      "Epoch 00007: val_loss did not improve from 0.38854\n",
      "1131118/1131118 [==============================] - 672s 594us/sample - loss: 0.3848 - binary_crossentropy: 0.3848 - acc: 0.8268 - val_loss: 0.3929 - val_binary_crossentropy: 0.3929 - val_acc: 0.8221\n",
      "Epoch 8/500\n",
      " 125792/1131118 [==>...........................] - ETA: 9:23 - loss: 0.3837 - binary_crossentropy: 0.3837 - acc: 0.8284"
     ]
    },
    {
     "name": "stderr",
     "output_type": "stream",
     "text": [
      "IOPub message rate exceeded.\n",
      "The notebook server will temporarily stop sending output\n",
      "to the client in order to avoid crashing it.\n",
      "To change this limit, set the config variable\n",
      "`--NotebookApp.iopub_msg_rate_limit`.\n",
      "\n",
      "Current values:\n",
      "NotebookApp.iopub_msg_rate_limit=1000.0 (msgs/sec)\n",
      "NotebookApp.rate_limit_window=3.0 (secs)\n",
      "\n"
     ]
    },
    {
     "name": "stdout",
     "output_type": "stream",
     "text": [
      " 917888/1131118 [=======================>......] - ETA: 1:51 - loss: 0.3843 - binary_crossentropy: 0.3843 - acc: 0.8271"
     ]
    },
    {
     "name": "stderr",
     "output_type": "stream",
     "text": [
      "IOPub message rate exceeded.\n",
      "The notebook server will temporarily stop sending output\n",
      "to the client in order to avoid crashing it.\n",
      "To change this limit, set the config variable\n",
      "`--NotebookApp.iopub_msg_rate_limit`.\n",
      "\n",
      "Current values:\n",
      "NotebookApp.iopub_msg_rate_limit=1000.0 (msgs/sec)\n",
      "NotebookApp.rate_limit_window=3.0 (secs)\n",
      "\n"
     ]
    },
    {
     "name": "stdout",
     "output_type": "stream",
     "text": [
      " 612064/1131118 [===============>..............] - ETA: 4:17 - loss: 0.3831 - binary_crossentropy: 0.3831 - acc: 0.8282"
     ]
    },
    {
     "name": "stderr",
     "output_type": "stream",
     "text": [
      "IOPub message rate exceeded.\n",
      "The notebook server will temporarily stop sending output\n",
      "to the client in order to avoid crashing it.\n",
      "To change this limit, set the config variable\n",
      "`--NotebookApp.iopub_msg_rate_limit`.\n",
      "\n",
      "Current values:\n",
      "NotebookApp.iopub_msg_rate_limit=1000.0 (msgs/sec)\n",
      "NotebookApp.rate_limit_window=3.0 (secs)\n",
      "\n"
     ]
    },
    {
     "name": "stdout",
     "output_type": "stream",
     "text": [
      "1131040/1131118 [============================>.] - ETA: 0s - loss: 0.3832 - binary_crossentropy: 0.3832 - acc: 0.8279\n",
      "Epoch 00009: val_loss did not improve from 0.38593\n",
      "1131118/1131118 [==============================] - 594s 525us/sample - loss: 0.3832 - binary_crossentropy: 0.3832 - acc: 0.8279 - val_loss: 0.3868 - val_binary_crossentropy: 0.3868 - val_acc: 0.8259\n",
      "Epoch 10/500\n",
      " 349088/1131118 [========>.....................] - ETA: 6:27 - loss: 0.3828 - binary_crossentropy: 0.3828 - acc: 0.8281"
     ]
    },
    {
     "name": "stderr",
     "output_type": "stream",
     "text": [
      "IOPub message rate exceeded.\n",
      "The notebook server will temporarily stop sending output\n",
      "to the client in order to avoid crashing it.\n",
      "To change this limit, set the config variable\n",
      "`--NotebookApp.iopub_msg_rate_limit`.\n",
      "\n",
      "Current values:\n",
      "NotebookApp.iopub_msg_rate_limit=1000.0 (msgs/sec)\n",
      "NotebookApp.rate_limit_window=3.0 (secs)\n",
      "\n"
     ]
    },
    {
     "name": "stdout",
     "output_type": "stream",
     "text": [
      "1131072/1131118 [============================>.] - ETA: 0s - loss: 0.3827 - binary_crossentropy: 0.3827 - acc: 0.8281\n",
      "Epoch 00010: val_loss did not improve from 0.38593\n",
      "1131118/1131118 [==============================] - 592s 524us/sample - loss: 0.3827 - binary_crossentropy: 0.3827 - acc: 0.8281 - val_loss: 0.3872 - val_binary_crossentropy: 0.3872 - val_acc: 0.8254\n",
      "Epoch 11/500\n",
      "    768/1131118 [..............................] - ETA: 10:15 - loss: 0.3513 - binary_crossentropy: 0.3513 - acc: 0.8464"
     ]
    },
    {
     "name": "stderr",
     "output_type": "stream",
     "text": [
      "IOPub message rate exceeded.\n",
      "The notebook server will temporarily stop sending output\n",
      "to the client in order to avoid crashing it.\n",
      "To change this limit, set the config variable\n",
      "`--NotebookApp.iopub_msg_rate_limit`.\n",
      "\n",
      "Current values:\n",
      "NotebookApp.iopub_msg_rate_limit=1000.0 (msgs/sec)\n",
      "NotebookApp.rate_limit_window=3.0 (secs)\n",
      "\n"
     ]
    },
    {
     "name": "stdout",
     "output_type": "stream",
     "text": [
      " 875808/1131118 [======================>.......] - ETA: 2:06 - loss: 0.3824 - binary_crossentropy: 0.3824 - acc: 0.8284"
     ]
    },
    {
     "name": "stderr",
     "output_type": "stream",
     "text": [
      "IOPub message rate exceeded.\n",
      "The notebook server will temporarily stop sending output\n",
      "to the client in order to avoid crashing it.\n",
      "To change this limit, set the config variable\n",
      "`--NotebookApp.iopub_msg_rate_limit`.\n",
      "\n",
      "Current values:\n",
      "NotebookApp.iopub_msg_rate_limit=1000.0 (msgs/sec)\n",
      "NotebookApp.rate_limit_window=3.0 (secs)\n",
      "\n"
     ]
    },
    {
     "name": "stdout",
     "output_type": "stream",
     "text": [
      " 622144/1131118 [===============>..............] - ETA: 4:10 - loss: 0.3816 - binary_crossentropy: 0.3816 - acc: 0.8288"
     ]
    },
    {
     "name": "stderr",
     "output_type": "stream",
     "text": [
      "IOPub message rate exceeded.\n",
      "The notebook server will temporarily stop sending output\n",
      "to the client in order to avoid crashing it.\n",
      "To change this limit, set the config variable\n",
      "`--NotebookApp.iopub_msg_rate_limit`.\n",
      "\n",
      "Current values:\n",
      "NotebookApp.iopub_msg_rate_limit=1000.0 (msgs/sec)\n",
      "NotebookApp.rate_limit_window=3.0 (secs)\n",
      "\n"
     ]
    },
    {
     "name": "stdout",
     "output_type": "stream",
     "text": [
      "1131008/1131118 [============================>.] - ETA: 0s - loss: 0.3817 - binary_crossentropy: 0.3817 - acc: 0.8287\n",
      "Epoch 00012: val_loss improved from 0.38593 to 0.38486, saving model to model/NormedCNN_allVars_addgroomedtau_lessfilters_10patience.h1\n",
      "1131118/1131118 [==============================] - 591s 523us/sample - loss: 0.3817 - binary_crossentropy: 0.3817 - acc: 0.8287 - val_loss: 0.3849 - val_binary_crossentropy: 0.3849 - val_acc: 0.8269\n",
      "Epoch 13/500\n",
      " 368992/1131118 [========>.....................] - ETA: 6:15 - loss: 0.3810 - binary_crossentropy: 0.3810 - acc: 0.8293"
     ]
    },
    {
     "name": "stderr",
     "output_type": "stream",
     "text": [
      "IOPub message rate exceeded.\n",
      "The notebook server will temporarily stop sending output\n",
      "to the client in order to avoid crashing it.\n",
      "To change this limit, set the config variable\n",
      "`--NotebookApp.iopub_msg_rate_limit`.\n",
      "\n",
      "Current values:\n",
      "NotebookApp.iopub_msg_rate_limit=1000.0 (msgs/sec)\n",
      "NotebookApp.rate_limit_window=3.0 (secs)\n",
      "\n"
     ]
    },
    {
     "name": "stdout",
     "output_type": "stream",
     "text": [
      "1131072/1131118 [============================>.] - ETA: 0s - loss: 0.3813 - binary_crossentropy: 0.3813 - acc: 0.8289\n",
      "Epoch 00013: val_loss did not improve from 0.38486\n",
      "1131118/1131118 [==============================] - 591s 522us/sample - loss: 0.3813 - binary_crossentropy: 0.3813 - acc: 0.8289 - val_loss: 0.3860 - val_binary_crossentropy: 0.3860 - val_acc: 0.8271\n",
      "Epoch 14/500\n",
      " 112960/1131118 [=>............................] - ETA: 8:22 - loss: 0.3798 - binary_crossentropy: 0.3798 - acc: 0.8304"
     ]
    },
    {
     "name": "stderr",
     "output_type": "stream",
     "text": [
      "IOPub message rate exceeded.\n",
      "The notebook server will temporarily stop sending output\n",
      "to the client in order to avoid crashing it.\n",
      "To change this limit, set the config variable\n",
      "`--NotebookApp.iopub_msg_rate_limit`.\n",
      "\n",
      "Current values:\n",
      "NotebookApp.iopub_msg_rate_limit=1000.0 (msgs/sec)\n",
      "NotebookApp.rate_limit_window=3.0 (secs)\n",
      "\n"
     ]
    },
    {
     "name": "stdout",
     "output_type": "stream",
     "text": [
      " 904416/1131118 [======================>.......] - ETA: 1:51 - loss: 0.3807 - binary_crossentropy: 0.3807 - acc: 0.8293"
     ]
    },
    {
     "name": "stderr",
     "output_type": "stream",
     "text": [
      "IOPub message rate exceeded.\n",
      "The notebook server will temporarily stop sending output\n",
      "to the client in order to avoid crashing it.\n",
      "To change this limit, set the config variable\n",
      "`--NotebookApp.iopub_msg_rate_limit`.\n",
      "\n",
      "Current values:\n",
      "NotebookApp.iopub_msg_rate_limit=1000.0 (msgs/sec)\n",
      "NotebookApp.rate_limit_window=3.0 (secs)\n",
      "\n"
     ]
    },
    {
     "name": "stdout",
     "output_type": "stream",
     "text": [
      " 641792/1131118 [================>.............] - ETA: 4:01 - loss: 0.3803 - binary_crossentropy: 0.3803 - acc: 0.8294"
     ]
    },
    {
     "name": "stderr",
     "output_type": "stream",
     "text": [
      "IOPub message rate exceeded.\n",
      "The notebook server will temporarily stop sending output\n",
      "to the client in order to avoid crashing it.\n",
      "To change this limit, set the config variable\n",
      "`--NotebookApp.iopub_msg_rate_limit`.\n",
      "\n",
      "Current values:\n",
      "NotebookApp.iopub_msg_rate_limit=1000.0 (msgs/sec)\n",
      "NotebookApp.rate_limit_window=3.0 (secs)\n",
      "\n"
     ]
    },
    {
     "name": "stdout",
     "output_type": "stream",
     "text": [
      " 381408/1131118 [=========>....................] - ETA: 6:10 - loss: 0.3797 - binary_crossentropy: 0.3797 - acc: 0.8297"
     ]
    },
    {
     "name": "stderr",
     "output_type": "stream",
     "text": [
      "IOPub message rate exceeded.\n",
      "The notebook server will temporarily stop sending output\n",
      "to the client in order to avoid crashing it.\n",
      "To change this limit, set the config variable\n",
      "`--NotebookApp.iopub_msg_rate_limit`.\n",
      "\n",
      "Current values:\n",
      "NotebookApp.iopub_msg_rate_limit=1000.0 (msgs/sec)\n",
      "NotebookApp.rate_limit_window=3.0 (secs)\n",
      "\n"
     ]
    },
    {
     "name": "stdout",
     "output_type": "stream",
     "text": [
      "1131104/1131118 [============================>.] - ETA: 0s - loss: 0.3804 - binary_crossentropy: 0.3804 - acc: 0.8295\n",
      "Epoch 00016: val_loss did not improve from 0.38338\n",
      "1131118/1131118 [==============================] - 592s 523us/sample - loss: 0.3804 - binary_crossentropy: 0.3804 - acc: 0.8295 - val_loss: 0.3889 - val_binary_crossentropy: 0.3889 - val_acc: 0.8256\n",
      "Epoch 17/500\n",
      " 116128/1131118 [==>...........................] - ETA: 8:18 - loss: 0.3786 - binary_crossentropy: 0.3786 - acc: 0.8304"
     ]
    },
    {
     "name": "stderr",
     "output_type": "stream",
     "text": [
      "IOPub message rate exceeded.\n",
      "The notebook server will temporarily stop sending output\n",
      "to the client in order to avoid crashing it.\n",
      "To change this limit, set the config variable\n",
      "`--NotebookApp.iopub_msg_rate_limit`.\n",
      "\n",
      "Current values:\n",
      "NotebookApp.iopub_msg_rate_limit=1000.0 (msgs/sec)\n",
      "NotebookApp.rate_limit_window=3.0 (secs)\n",
      "\n"
     ]
    },
    {
     "name": "stdout",
     "output_type": "stream",
     "text": [
      " 945248/1131118 [========================>.....] - ETA: 1:31 - loss: 0.3798 - binary_crossentropy: 0.3798 - acc: 0.8297"
     ]
    },
    {
     "name": "stderr",
     "output_type": "stream",
     "text": [
      "IOPub message rate exceeded.\n",
      "The notebook server will temporarily stop sending output\n",
      "to the client in order to avoid crashing it.\n",
      "To change this limit, set the config variable\n",
      "`--NotebookApp.iopub_msg_rate_limit`.\n",
      "\n",
      "Current values:\n",
      "NotebookApp.iopub_msg_rate_limit=1000.0 (msgs/sec)\n",
      "NotebookApp.rate_limit_window=3.0 (secs)\n",
      "\n"
     ]
    },
    {
     "name": "stdout",
     "output_type": "stream",
     "text": [
      " 649376/1131118 [================>.............] - ETA: 3:57 - loss: 0.3806 - binary_crossentropy: 0.3806 - acc: 0.8294"
     ]
    },
    {
     "name": "stderr",
     "output_type": "stream",
     "text": [
      "IOPub message rate exceeded.\n",
      "The notebook server will temporarily stop sending output\n",
      "to the client in order to avoid crashing it.\n",
      "To change this limit, set the config variable\n",
      "`--NotebookApp.iopub_msg_rate_limit`.\n",
      "\n",
      "Current values:\n",
      "NotebookApp.iopub_msg_rate_limit=1000.0 (msgs/sec)\n",
      "NotebookApp.rate_limit_window=3.0 (secs)\n",
      "\n"
     ]
    },
    {
     "name": "stdout",
     "output_type": "stream",
     "text": [
      "1131072/1131118 [============================>.] - ETA: 0s - loss: 0.3798 - binary_crossentropy: 0.3798 - acc: 0.8299\n",
      "Epoch 00018: val_loss did not improve from 0.38338\n",
      "1131118/1131118 [==============================] - 591s 523us/sample - loss: 0.3798 - binary_crossentropy: 0.3798 - acc: 0.8299 - val_loss: 0.3860 - val_binary_crossentropy: 0.3860 - val_acc: 0.8264\n",
      "Epoch 19/500\n",
      " 257696/1131118 [=====>........................] - ETA: 7:11 - loss: 0.3768 - binary_crossentropy: 0.3768 - acc: 0.8318"
     ]
    },
    {
     "name": "stderr",
     "output_type": "stream",
     "text": [
      "IOPub message rate exceeded.\n",
      "The notebook server will temporarily stop sending output\n",
      "to the client in order to avoid crashing it.\n",
      "To change this limit, set the config variable\n",
      "`--NotebookApp.iopub_msg_rate_limit`.\n",
      "\n",
      "Current values:\n",
      "NotebookApp.iopub_msg_rate_limit=1000.0 (msgs/sec)\n",
      "NotebookApp.rate_limit_window=3.0 (secs)\n",
      "\n"
     ]
    },
    {
     "name": "stdout",
     "output_type": "stream",
     "text": [
      "1090976/1131118 [===========================>..] - ETA: 19s - loss: 0.3795 - binary_crossentropy: 0.3795 - acc: 0.8300"
     ]
    },
    {
     "name": "stderr",
     "output_type": "stream",
     "text": [
      "IOPub message rate exceeded.\n",
      "The notebook server will temporarily stop sending output\n",
      "to the client in order to avoid crashing it.\n",
      "To change this limit, set the config variable\n",
      "`--NotebookApp.iopub_msg_rate_limit`.\n",
      "\n",
      "Current values:\n",
      "NotebookApp.iopub_msg_rate_limit=1000.0 (msgs/sec)\n",
      "NotebookApp.rate_limit_window=3.0 (secs)\n",
      "\n"
     ]
    },
    {
     "name": "stdout",
     "output_type": "stream",
     "text": [
      " 782944/1131118 [===================>..........] - ETA: 2:51 - loss: 0.3797 - binary_crossentropy: 0.3797 - acc: 0.8298"
     ]
    },
    {
     "name": "stderr",
     "output_type": "stream",
     "text": [
      "IOPub message rate exceeded.\n",
      "The notebook server will temporarily stop sending output\n",
      "to the client in order to avoid crashing it.\n",
      "To change this limit, set the config variable\n",
      "`--NotebookApp.iopub_msg_rate_limit`.\n",
      "\n",
      "Current values:\n",
      "NotebookApp.iopub_msg_rate_limit=1000.0 (msgs/sec)\n",
      "NotebookApp.rate_limit_window=3.0 (secs)\n",
      "\n"
     ]
    },
    {
     "name": "stdout",
     "output_type": "stream",
     "text": [
      " 486944/1131118 [===========>..................] - ETA: 5:17 - loss: 0.3786 - binary_crossentropy: 0.3786 - acc: 0.8302"
     ]
    },
    {
     "name": "stderr",
     "output_type": "stream",
     "text": [
      "IOPub message rate exceeded.\n",
      "The notebook server will temporarily stop sending output\n",
      "to the client in order to avoid crashing it.\n",
      "To change this limit, set the config variable\n",
      "`--NotebookApp.iopub_msg_rate_limit`.\n",
      "\n",
      "Current values:\n",
      "NotebookApp.iopub_msg_rate_limit=1000.0 (msgs/sec)\n",
      "NotebookApp.rate_limit_window=3.0 (secs)\n",
      "\n"
     ]
    },
    {
     "name": "stdout",
     "output_type": "stream",
     "text": [
      "1121408/1131118 [============================>.] - ETA: 4s - loss: 0.3790 - binary_crossentropy: 0.3790 - acc: 0.8303"
     ]
    },
    {
     "name": "stderr",
     "output_type": "stream",
     "text": [
      "IOPub message rate exceeded.\n",
      "The notebook server will temporarily stop sending output\n",
      "to the client in order to avoid crashing it.\n",
      "To change this limit, set the config variable\n",
      "`--NotebookApp.iopub_msg_rate_limit`.\n",
      "\n",
      "Current values:\n",
      "NotebookApp.iopub_msg_rate_limit=1000.0 (msgs/sec)\n",
      "NotebookApp.rate_limit_window=3.0 (secs)\n",
      "\n"
     ]
    },
    {
     "name": "stdout",
     "output_type": "stream",
     "text": [
      " 821760/1131118 [====================>.........] - ETA: 2:32 - loss: 0.3786 - binary_crossentropy: 0.3786 - acc: 0.8304"
     ]
    },
    {
     "name": "stderr",
     "output_type": "stream",
     "text": [
      "IOPub message rate exceeded.\n",
      "The notebook server will temporarily stop sending output\n",
      "to the client in order to avoid crashing it.\n",
      "To change this limit, set the config variable\n",
      "`--NotebookApp.iopub_msg_rate_limit`.\n",
      "\n",
      "Current values:\n",
      "NotebookApp.iopub_msg_rate_limit=1000.0 (msgs/sec)\n",
      "NotebookApp.rate_limit_window=3.0 (secs)\n",
      "\n"
     ]
    },
    {
     "name": "stdout",
     "output_type": "stream",
     "text": [
      " 513376/1131118 [============>.................] - ETA: 5:05 - loss: 0.3776 - binary_crossentropy: 0.3776 - acc: 0.8304"
     ]
    },
    {
     "name": "stderr",
     "output_type": "stream",
     "text": [
      "IOPub message rate exceeded.\n",
      "The notebook server will temporarily stop sending output\n",
      "to the client in order to avoid crashing it.\n",
      "To change this limit, set the config variable\n",
      "`--NotebookApp.iopub_msg_rate_limit`.\n",
      "\n",
      "Current values:\n",
      "NotebookApp.iopub_msg_rate_limit=1000.0 (msgs/sec)\n",
      "NotebookApp.rate_limit_window=3.0 (secs)\n",
      "\n"
     ]
    },
    {
     "name": "stdout",
     "output_type": "stream",
     "text": [
      "1080608/1131118 [===========================>..] - ETA: 24s - loss: 0.3784 - binary_crossentropy: 0.3784 - acc: 0.8304"
     ]
    },
    {
     "name": "stderr",
     "output_type": "stream",
     "text": [
      "IOPub message rate exceeded.\n",
      "The notebook server will temporarily stop sending output\n",
      "to the client in order to avoid crashing it.\n",
      "To change this limit, set the config variable\n",
      "`--NotebookApp.iopub_msg_rate_limit`.\n",
      "\n",
      "Current values:\n",
      "NotebookApp.iopub_msg_rate_limit=1000.0 (msgs/sec)\n",
      "NotebookApp.rate_limit_window=3.0 (secs)\n",
      "\n"
     ]
    },
    {
     "name": "stdout",
     "output_type": "stream",
     "text": [
      " 211264/1131118 [====>.........................] - ETA: 7:34 - loss: 0.3786 - binary_crossentropy: 0.3786 - acc: 0.8302"
     ]
    },
    {
     "name": "stderr",
     "output_type": "stream",
     "text": [
      "IOPub message rate exceeded.\n",
      "The notebook server will temporarily stop sending output\n",
      "to the client in order to avoid crashing it.\n",
      "To change this limit, set the config variable\n",
      "`--NotebookApp.iopub_msg_rate_limit`.\n",
      "\n",
      "Current values:\n",
      "NotebookApp.iopub_msg_rate_limit=1000.0 (msgs/sec)\n",
      "NotebookApp.rate_limit_window=3.0 (secs)\n",
      "\n"
     ]
    },
    {
     "name": "stdout",
     "output_type": "stream",
     "text": [
      " 774880/1131118 [===================>..........] - ETA: 2:56 - loss: 0.3784 - binary_crossentropy: 0.3784 - acc: 0.8304"
     ]
    },
    {
     "name": "stderr",
     "output_type": "stream",
     "text": [
      "IOPub message rate exceeded.\n",
      "The notebook server will temporarily stop sending output\n",
      "to the client in order to avoid crashing it.\n",
      "To change this limit, set the config variable\n",
      "`--NotebookApp.iopub_msg_rate_limit`.\n",
      "\n",
      "Current values:\n",
      "NotebookApp.iopub_msg_rate_limit=1000.0 (msgs/sec)\n",
      "NotebookApp.rate_limit_window=3.0 (secs)\n",
      "\n"
     ]
    },
    {
     "name": "stdout",
     "output_type": "stream",
     "text": [
      "1045856/1131118 [==========================>...] - ETA: 42s - loss: 0.3783 - binary_crossentropy: 0.3783 - acc: 0.8306"
     ]
    },
    {
     "name": "stderr",
     "output_type": "stream",
     "text": [
      "IOPub message rate exceeded.\n",
      "The notebook server will temporarily stop sending output\n",
      "to the client in order to avoid crashing it.\n",
      "To change this limit, set the config variable\n",
      "`--NotebookApp.iopub_msg_rate_limit`.\n",
      "\n",
      "Current values:\n",
      "NotebookApp.iopub_msg_rate_limit=1000.0 (msgs/sec)\n",
      "NotebookApp.rate_limit_window=3.0 (secs)\n",
      "\n"
     ]
    },
    {
     "name": "stdout",
     "output_type": "stream",
     "text": [
      " 470208/1131118 [===========>..................] - ETA: 5:26 - loss: 0.3787 - binary_crossentropy: 0.3787 - acc: 0.8303"
     ]
    },
    {
     "name": "stderr",
     "output_type": "stream",
     "text": [
      "IOPub message rate exceeded.\n",
      "The notebook server will temporarily stop sending output\n",
      "to the client in order to avoid crashing it.\n",
      "To change this limit, set the config variable\n",
      "`--NotebookApp.iopub_msg_rate_limit`.\n",
      "\n",
      "Current values:\n",
      "NotebookApp.iopub_msg_rate_limit=1000.0 (msgs/sec)\n",
      "NotebookApp.rate_limit_window=3.0 (secs)\n",
      "\n"
     ]
    },
    {
     "name": "stdout",
     "output_type": "stream",
     "text": [
      " 745728/1131118 [==================>...........] - ETA: 3:10 - loss: 0.3779 - binary_crossentropy: 0.3779 - acc: 0.8307"
     ]
    },
    {
     "name": "stderr",
     "output_type": "stream",
     "text": [
      "IOPub message rate exceeded.\n",
      "The notebook server will temporarily stop sending output\n",
      "to the client in order to avoid crashing it.\n",
      "To change this limit, set the config variable\n",
      "`--NotebookApp.iopub_msg_rate_limit`.\n",
      "\n",
      "Current values:\n",
      "NotebookApp.iopub_msg_rate_limit=1000.0 (msgs/sec)\n",
      "NotebookApp.rate_limit_window=3.0 (secs)\n",
      "\n"
     ]
    },
    {
     "name": "stdout",
     "output_type": "stream",
     "text": [
      "1131072/1131118 [============================>.] - ETA: 0s - loss: 0.3783 - binary_crossentropy: 0.3783 - acc: 0.8306\n",
      "Epoch 00025: val_loss did not improve from 0.38168\n",
      "1131118/1131118 [==============================] - 593s 524us/sample - loss: 0.3783 - binary_crossentropy: 0.3783 - acc: 0.8306 - val_loss: 0.3844 - val_binary_crossentropy: 0.3844 - val_acc: 0.8272\n",
      "Epoch 26/500\n",
      " 162272/1131118 [===>..........................] - ETA: 8:00 - loss: 0.3760 - binary_crossentropy: 0.3760 - acc: 0.8318"
     ]
    },
    {
     "name": "stderr",
     "output_type": "stream",
     "text": [
      "IOPub message rate exceeded.\n",
      "The notebook server will temporarily stop sending output\n",
      "to the client in order to avoid crashing it.\n",
      "To change this limit, set the config variable\n",
      "`--NotebookApp.iopub_msg_rate_limit`.\n",
      "\n",
      "Current values:\n",
      "NotebookApp.iopub_msg_rate_limit=1000.0 (msgs/sec)\n",
      "NotebookApp.rate_limit_window=3.0 (secs)\n",
      "\n"
     ]
    },
    {
     "name": "stdout",
     "output_type": "stream",
     "text": [
      " 445504/1131118 [==========>...................] - ETA: 5:39 - loss: 0.3773 - binary_crossentropy: 0.3773 - acc: 0.8312"
     ]
    },
    {
     "name": "stderr",
     "output_type": "stream",
     "text": [
      "IOPub message rate exceeded.\n",
      "The notebook server will temporarily stop sending output\n",
      "to the client in order to avoid crashing it.\n",
      "To change this limit, set the config variable\n",
      "`--NotebookApp.iopub_msg_rate_limit`.\n",
      "\n",
      "Current values:\n",
      "NotebookApp.iopub_msg_rate_limit=1000.0 (msgs/sec)\n",
      "NotebookApp.rate_limit_window=3.0 (secs)\n",
      "\n"
     ]
    },
    {
     "name": "stdout",
     "output_type": "stream",
     "text": [
      " 987232/1131118 [=========================>....] - ETA: 1:11 - loss: 0.3779 - binary_crossentropy: 0.3779 - acc: 0.8310"
     ]
    },
    {
     "name": "stderr",
     "output_type": "stream",
     "text": [
      "IOPub message rate exceeded.\n",
      "The notebook server will temporarily stop sending output\n",
      "to the client in order to avoid crashing it.\n",
      "To change this limit, set the config variable\n",
      "`--NotebookApp.iopub_msg_rate_limit`.\n",
      "\n",
      "Current values:\n",
      "NotebookApp.iopub_msg_rate_limit=1000.0 (msgs/sec)\n",
      "NotebookApp.rate_limit_window=3.0 (secs)\n",
      "\n"
     ]
    },
    {
     "name": "stdout",
     "output_type": "stream",
     "text": [
      " 145440/1131118 [==>...........................] - ETA: 8:07 - loss: 0.3756 - binary_crossentropy: 0.3756 - acc: 0.8324"
     ]
    },
    {
     "name": "stderr",
     "output_type": "stream",
     "text": [
      "IOPub message rate exceeded.\n",
      "The notebook server will temporarily stop sending output\n",
      "to the client in order to avoid crashing it.\n",
      "To change this limit, set the config variable\n",
      "`--NotebookApp.iopub_msg_rate_limit`.\n",
      "\n",
      "Current values:\n",
      "NotebookApp.iopub_msg_rate_limit=1000.0 (msgs/sec)\n",
      "NotebookApp.rate_limit_window=3.0 (secs)\n",
      "\n"
     ]
    },
    {
     "name": "stdout",
     "output_type": "stream",
     "text": [
      " 681600/1131118 [=================>............] - ETA: 3:42 - loss: 0.3776 - binary_crossentropy: 0.3776 - acc: 0.8311"
     ]
    },
    {
     "name": "stderr",
     "output_type": "stream",
     "text": [
      "IOPub message rate exceeded.\n",
      "The notebook server will temporarily stop sending output\n",
      "to the client in order to avoid crashing it.\n",
      "To change this limit, set the config variable\n",
      "`--NotebookApp.iopub_msg_rate_limit`.\n",
      "\n",
      "Current values:\n",
      "NotebookApp.iopub_msg_rate_limit=1000.0 (msgs/sec)\n",
      "NotebookApp.rate_limit_window=3.0 (secs)\n",
      "\n"
     ]
    },
    {
     "name": "stdout",
     "output_type": "stream",
     "text": [
      " 975296/1131118 [========================>.....] - ETA: 1:17 - loss: 0.3781 - binary_crossentropy: 0.3781 - acc: 0.8308"
     ]
    },
    {
     "name": "stderr",
     "output_type": "stream",
     "text": [
      "IOPub message rate exceeded.\n",
      "The notebook server will temporarily stop sending output\n",
      "to the client in order to avoid crashing it.\n",
      "To change this limit, set the config variable\n",
      "`--NotebookApp.iopub_msg_rate_limit`.\n",
      "\n",
      "Current values:\n",
      "NotebookApp.iopub_msg_rate_limit=1000.0 (msgs/sec)\n",
      "NotebookApp.rate_limit_window=3.0 (secs)\n",
      "\n"
     ]
    },
    {
     "name": "stdout",
     "output_type": "stream",
     "text": [
      " 379840/1131118 [=========>....................] - ETA: 6:11 - loss: 0.3772 - binary_crossentropy: 0.3772 - acc: 0.8311"
     ]
    },
    {
     "name": "stderr",
     "output_type": "stream",
     "text": [
      "IOPub message rate exceeded.\n",
      "The notebook server will temporarily stop sending output\n",
      "to the client in order to avoid crashing it.\n",
      "To change this limit, set the config variable\n",
      "`--NotebookApp.iopub_msg_rate_limit`.\n",
      "\n",
      "Current values:\n",
      "NotebookApp.iopub_msg_rate_limit=1000.0 (msgs/sec)\n",
      "NotebookApp.rate_limit_window=3.0 (secs)\n",
      "\n"
     ]
    },
    {
     "name": "stdout",
     "output_type": "stream",
     "text": [
      " 677376/1131118 [================>.............] - ETA: 3:44 - loss: 0.3784 - binary_crossentropy: 0.3784 - acc: 0.8308"
     ]
    },
    {
     "name": "stderr",
     "output_type": "stream",
     "text": [
      "IOPub message rate exceeded.\n",
      "The notebook server will temporarily stop sending output\n",
      "to the client in order to avoid crashing it.\n",
      "To change this limit, set the config variable\n",
      "`--NotebookApp.iopub_msg_rate_limit`.\n",
      "\n",
      "Current values:\n",
      "NotebookApp.iopub_msg_rate_limit=1000.0 (msgs/sec)\n",
      "NotebookApp.rate_limit_window=3.0 (secs)\n",
      "\n"
     ]
    },
    {
     "name": "stdout",
     "output_type": "stream",
     "text": [
      "1131008/1131118 [============================>.] - ETA: 0s - loss: 0.3779 - binary_crossentropy: 0.3779 - acc: 0.8309\n",
      "Epoch 00028: val_loss did not improve from 0.38168\n",
      "1131118/1131118 [==============================] - 592s 524us/sample - loss: 0.3779 - binary_crossentropy: 0.3779 - acc: 0.8309 - val_loss: 0.3855 - val_binary_crossentropy: 0.3855 - val_acc: 0.8268\n",
      "Epoch 29/500\n",
      "  71040/1131118 [>.............................] - ETA: 8:41 - loss: 0.3767 - binary_crossentropy: 0.3767 - acc: 0.8306"
     ]
    },
    {
     "name": "stderr",
     "output_type": "stream",
     "text": [
      "IOPub message rate exceeded.\n",
      "The notebook server will temporarily stop sending output\n",
      "to the client in order to avoid crashing it.\n",
      "To change this limit, set the config variable\n",
      "`--NotebookApp.iopub_msg_rate_limit`.\n",
      "\n",
      "Current values:\n",
      "NotebookApp.iopub_msg_rate_limit=1000.0 (msgs/sec)\n",
      "NotebookApp.rate_limit_window=3.0 (secs)\n",
      "\n"
     ]
    },
    {
     "name": "stdout",
     "output_type": "stream",
     "text": [
      " 372192/1131118 [========>.....................] - ETA: 6:14 - loss: 0.3777 - binary_crossentropy: 0.3777 - acc: 0.8312"
     ]
    },
    {
     "name": "stderr",
     "output_type": "stream",
     "text": [
      "IOPub message rate exceeded.\n",
      "The notebook server will temporarily stop sending output\n",
      "to the client in order to avoid crashing it.\n",
      "To change this limit, set the config variable\n",
      "`--NotebookApp.iopub_msg_rate_limit`.\n",
      "\n",
      "Current values:\n",
      "NotebookApp.iopub_msg_rate_limit=1000.0 (msgs/sec)\n",
      "NotebookApp.rate_limit_window=3.0 (secs)\n",
      "\n"
     ]
    },
    {
     "name": "stdout",
     "output_type": "stream",
     "text": [
      " 894624/1131118 [======================>.......] - ETA: 1:56 - loss: 0.3777 - binary_crossentropy: 0.3777 - acc: 0.8310"
     ]
    },
    {
     "name": "stderr",
     "output_type": "stream",
     "text": [
      "IOPub message rate exceeded.\n",
      "The notebook server will temporarily stop sending output\n",
      "to the client in order to avoid crashing it.\n",
      "To change this limit, set the config variable\n",
      "`--NotebookApp.iopub_msg_rate_limit`.\n",
      "\n",
      "Current values:\n",
      "NotebookApp.iopub_msg_rate_limit=1000.0 (msgs/sec)\n",
      "NotebookApp.rate_limit_window=3.0 (secs)\n",
      "\n"
     ]
    },
    {
     "name": "stdout",
     "output_type": "stream",
     "text": [
      "1131072/1131118 [============================>.] - ETA: 0s - loss: 0.3776 - binary_crossentropy: 0.3776 - acc: 0.8310\n",
      "Epoch 00029: val_loss did not improve from 0.38168\n",
      "1131118/1131118 [==============================] - 591s 523us/sample - loss: 0.3776 - binary_crossentropy: 0.3776 - acc: 0.8310 - val_loss: 0.3822 - val_binary_crossentropy: 0.3822 - val_acc: 0.8283\n",
      "Epoch 30/500\n",
      "  73344/1131118 [>.............................] - ETA: 8:43 - loss: 0.3753 - binary_crossentropy: 0.3753 - acc: 0.8330"
     ]
    },
    {
     "name": "stderr",
     "output_type": "stream",
     "text": [
      "IOPub message rate exceeded.\n",
      "The notebook server will temporarily stop sending output\n",
      "to the client in order to avoid crashing it.\n",
      "To change this limit, set the config variable\n",
      "`--NotebookApp.iopub_msg_rate_limit`.\n",
      "\n",
      "Current values:\n",
      "NotebookApp.iopub_msg_rate_limit=1000.0 (msgs/sec)\n",
      "NotebookApp.rate_limit_window=3.0 (secs)\n",
      "\n"
     ]
    },
    {
     "name": "stdout",
     "output_type": "stream",
     "text": [
      " 453632/1131118 [===========>..................] - ETA: 5:34 - loss: 0.3771 - binary_crossentropy: 0.3771 - acc: 0.8310"
     ]
    },
    {
     "name": "stderr",
     "output_type": "stream",
     "text": [
      "IOPub message rate exceeded.\n",
      "The notebook server will temporarily stop sending output\n",
      "to the client in order to avoid crashing it.\n",
      "To change this limit, set the config variable\n",
      "`--NotebookApp.iopub_msg_rate_limit`.\n",
      "\n",
      "Current values:\n",
      "NotebookApp.iopub_msg_rate_limit=1000.0 (msgs/sec)\n",
      "NotebookApp.rate_limit_window=3.0 (secs)\n",
      "\n"
     ]
    },
    {
     "name": "stdout",
     "output_type": "stream",
     "text": [
      " 907968/1131118 [=======================>......] - ETA: 1:49 - loss: 0.3775 - binary_crossentropy: 0.3775 - acc: 0.8309"
     ]
    },
    {
     "name": "stderr",
     "output_type": "stream",
     "text": [
      "IOPub message rate exceeded.\n",
      "The notebook server will temporarily stop sending output\n",
      "to the client in order to avoid crashing it.\n",
      "To change this limit, set the config variable\n",
      "`--NotebookApp.iopub_msg_rate_limit`.\n",
      "\n",
      "Current values:\n",
      "NotebookApp.iopub_msg_rate_limit=1000.0 (msgs/sec)\n",
      "NotebookApp.rate_limit_window=3.0 (secs)\n",
      "\n"
     ]
    },
    {
     "name": "stdout",
     "output_type": "stream",
     "text": [
      "1131104/1131118 [============================>.] - ETA: 0s - loss: 0.3778 - binary_crossentropy: 0.3778 - acc: 0.8309\n",
      "Epoch 00030: val_loss did not improve from 0.38168\n",
      "1131118/1131118 [==============================] - 591s 522us/sample - loss: 0.3778 - binary_crossentropy: 0.3778 - acc: 0.8309 - val_loss: 0.3865 - val_binary_crossentropy: 0.3865 - val_acc: 0.8262\n",
      "Epoch 31/500\n",
      " 158560/1131118 [===>..........................] - ETA: 7:59 - loss: 0.3789 - binary_crossentropy: 0.3789 - acc: 0.8304"
     ]
    },
    {
     "name": "stderr",
     "output_type": "stream",
     "text": [
      "IOPub message rate exceeded.\n",
      "The notebook server will temporarily stop sending output\n",
      "to the client in order to avoid crashing it.\n",
      "To change this limit, set the config variable\n",
      "`--NotebookApp.iopub_msg_rate_limit`.\n",
      "\n",
      "Current values:\n",
      "NotebookApp.iopub_msg_rate_limit=1000.0 (msgs/sec)\n",
      "NotebookApp.rate_limit_window=3.0 (secs)\n",
      "\n"
     ]
    },
    {
     "name": "stdout",
     "output_type": "stream",
     "text": [
      " 611744/1131118 [===============>..............] - ETA: 4:16 - loss: 0.3775 - binary_crossentropy: 0.3775 - acc: 0.8313"
     ]
    },
    {
     "name": "stderr",
     "output_type": "stream",
     "text": [
      "IOPub message rate exceeded.\n",
      "The notebook server will temporarily stop sending output\n",
      "to the client in order to avoid crashing it.\n",
      "To change this limit, set the config variable\n",
      "`--NotebookApp.iopub_msg_rate_limit`.\n",
      "\n",
      "Current values:\n",
      "NotebookApp.iopub_msg_rate_limit=1000.0 (msgs/sec)\n",
      "NotebookApp.rate_limit_window=3.0 (secs)\n",
      "\n"
     ]
    },
    {
     "name": "stdout",
     "output_type": "stream",
     "text": [
      " 992448/1131118 [=========================>....] - ETA: 1:08 - loss: 0.3778 - binary_crossentropy: 0.3778 - acc: 0.8309"
     ]
    },
    {
     "name": "stderr",
     "output_type": "stream",
     "text": [
      "IOPub message rate exceeded.\n",
      "The notebook server will temporarily stop sending output\n",
      "to the client in order to avoid crashing it.\n",
      "To change this limit, set the config variable\n",
      "`--NotebookApp.iopub_msg_rate_limit`.\n",
      "\n",
      "Current values:\n",
      "NotebookApp.iopub_msg_rate_limit=1000.0 (msgs/sec)\n",
      "NotebookApp.rate_limit_window=3.0 (secs)\n",
      "\n"
     ]
    },
    {
     "name": "stdout",
     "output_type": "stream",
     "text": [
      " 309536/1131118 [=======>......................] - ETA: 6:46 - loss: 0.3774 - binary_crossentropy: 0.3774 - acc: 0.8313"
     ]
    },
    {
     "name": "stderr",
     "output_type": "stream",
     "text": [
      "IOPub message rate exceeded.\n",
      "The notebook server will temporarily stop sending output\n",
      "to the client in order to avoid crashing it.\n",
      "To change this limit, set the config variable\n",
      "`--NotebookApp.iopub_msg_rate_limit`.\n",
      "\n",
      "Current values:\n",
      "NotebookApp.iopub_msg_rate_limit=1000.0 (msgs/sec)\n",
      "NotebookApp.rate_limit_window=3.0 (secs)\n",
      "\n"
     ]
    },
    {
     "name": "stdout",
     "output_type": "stream",
     "text": [
      " 697600/1131118 [=================>............] - ETA: 3:34 - loss: 0.3780 - binary_crossentropy: 0.3780 - acc: 0.8311"
     ]
    },
    {
     "name": "stderr",
     "output_type": "stream",
     "text": [
      "IOPub message rate exceeded.\n",
      "The notebook server will temporarily stop sending output\n",
      "to the client in order to avoid crashing it.\n",
      "To change this limit, set the config variable\n",
      "`--NotebookApp.iopub_msg_rate_limit`.\n",
      "\n",
      "Current values:\n",
      "NotebookApp.iopub_msg_rate_limit=1000.0 (msgs/sec)\n",
      "NotebookApp.rate_limit_window=3.0 (secs)\n",
      "\n"
     ]
    },
    {
     "name": "stdout",
     "output_type": "stream",
     "text": [
      "1131040/1131118 [============================>.] - ETA: 0s - loss: 0.3775 - binary_crossentropy: 0.3775 - acc: 0.8312\n",
      "Epoch 00032: val_loss did not improve from 0.38168\n",
      "1131118/1131118 [==============================] - 593s 524us/sample - loss: 0.3775 - binary_crossentropy: 0.3775 - acc: 0.8312 - val_loss: 0.3841 - val_binary_crossentropy: 0.3841 - val_acc: 0.8283\n"
     ]
    }
   ],
   "source": [
    "checkpoint_path = \"model/NormedCNN_allVars_addgroomedtau_lessfilters_10patience.h1\"\n",
    "if not os.path.exists(\"model\"):\n",
    "    os.mkdir(\"model\")\n",
    "\n",
    "model_checkpoint = keras.callbacks.ModelCheckpoint(checkpoint_path, monitor='val_loss', \n",
    "                                   verbose=1, save_best_only=True, \n",
    "                                   save_weights_only=False, mode='auto',\n",
    "                                   period=1) #save_freq='epoch'   \n",
    "EPOCHS = 500\n",
    "early_stop = keras.callbacks.EarlyStopping(monitor='val_loss', patience=10)\n",
    "history = InjectedVarsCNN.fit(\n",
    "  [train_data['jetImages'], train_var], train_data['labels'],\n",
    "  epochs=EPOCHS, validation_split = 0.2, verbose = 1,\n",
    "  callbacks=[early_stop, model_checkpoint])\n",
    "\n",
    "InjectedVarsCNN.save(checkpoint_path)"
   ]
  },
  {
   "cell_type": "code",
   "execution_count": 9,
   "metadata": {},
   "outputs": [],
   "source": [
    "test_var={key:test_data[key] for key in test_data.files[1:-1]}\n",
    "test_var=pd.DataFrame(test_var,columns=test_data.files[1:-1])"
   ]
  },
  {
   "cell_type": "code",
   "execution_count": 11,
   "metadata": {},
   "outputs": [
    {
     "name": "stdout",
     "output_type": "stream",
     "text": [
      "total 352976\n",
      "-rw-r--r-- 1 jovyan users  6616640 May 30 17:31 CNN_imageonly_full_May30.h5py\n",
      "-rw-r--r-- 1 jovyan users  6649320 May 30 18:06 CNN_allVars_full_May30.h5py\n",
      "-rw-r--r-- 1 jovyan users  6616520 Jun  1 00:24 CNN_imageonly_full_final.h1\n",
      "-rw-r--r-- 1 jovyan users  6649288 Jun  1 00:48 CNN_allVars_full_final.h1\n",
      "-rw-r--r-- 1 jovyan users 25844040 Jun 18 19:45 CNN_imageonly_full_morefilters_sigmoid.h1\n",
      "-rw-r--r-- 1 jovyan users  8637032 Jun 18 21:30 CNN_allVars_full_morefilters_sigmoid.h1\n",
      "-rw-r--r-- 1 jovyan users 26337608 Jun 23 04:18 CNN_imageonly_full_morefilters.h1\n",
      "-rw-r--r-- 1 jovyan users 28253496 Jun 23 05:08 CNN_allVars_full_morefilters.h1\n",
      "-rw-r--r-- 1 jovyan users 26337608 Jun 23 16:15 CNN_imageonly_full_morefilters_2.h1\n",
      "-rw-r--r-- 1 jovyan users 28253496 Jun 23 17:17 CNN_allVars_full_morefilters_2.h1\n",
      "-rw-r--r-- 1 jovyan users  7421296 Jun 24 23:28 CNN_imageonly_addgroomedtau_morefilters.h1\n",
      "-rw-r--r-- 1 jovyan users  3085768 Jun 25 18:37 CNN_imageonly_addgroomedtau_morefilters_2.h1\n",
      "-rw-r--r-- 1 jovyan users 28268904 Jun 25 22:12 CNN_allVars_addgroomedtau_morefilters_2.h1\n",
      "-rw-r--r-- 1 jovyan users 54458296 Jun 26 06:14 CNN_imageonly_addgroomedtau_morefilters_3.h1\n",
      "-rw-r--r-- 1 jovyan users 28268856 Jun 26 09:45 CNN_allVars_addgroomedtau_morefilters_10epochs.h1\n",
      "-rw-r--r-- 1 jovyan users 54458296 Jul  1 05:53 CNN_imageonly_addgroomedtau_morefilters_100epochs.h1\n",
      "-rw-r--r-- 1 jovyan users  2376424 Jul  1 20:25 CNN_allVars_addgroomedtau_lessfilters_100epochs.h1\n",
      "-rw-r--r-- 1 jovyan users  2376424 Jul  1 21:53 CNN_allVars_addgroomedtau_lessfilters_100epochs_2.h1\n",
      "-rw-r--r-- 1 jovyan users  2376424 Jul  1 23:56 CNN_allVars_addgroomedtau_lessfilters_100epochs_3.h1\n",
      "-rw-r--r-- 1 jovyan users  2376424 Jul  2 01:29 CNN_allVars_addgroomedtau_lessfilters_100epochs_4.h1\n",
      "-rw-r--r-- 1 jovyan users  1911704 Jul  3 03:04 CNN_allVars_addgroomedtau_lessfilters_10patience.h1\n",
      "-rw-r--r-- 1 jovyan users  1911704 Jul  3 11:04 CNN_allVars_addgroomedtau_lessfilters_10patience_2.h1\n",
      "-rw-r--r-- 1 jovyan users  1911704 Jul  4 10:34 NormedCNN_allVars_addgroomedtau_lessfilters_10patience.h1\n",
      "__________________________________________________________________________________________________\n",
      "Layer (type)                    Output Shape         Param #     Connected to                     \n",
      "==================================================================================================\n",
      "input_2 (InputLayer)            (None, 16, 16, 1)    0                                            \n",
      "__________________________________________________________________________________________________\n",
      "conv1 (Conv2D)                  (None, 16, 16, 32)   832         input_2[0][0]                    \n",
      "__________________________________________________________________________________________________\n",
      "conv2 (Conv2D)                  (None, 16, 16, 32)   9248        conv1[0][0]                      \n",
      "__________________________________________________________________________________________________\n",
      "conv3 (Conv2D)                  (None, 16, 16, 32)   4128        conv2[0][0]                      \n",
      "__________________________________________________________________________________________________\n",
      "maxpool2x2_1 (MaxPooling2D)     (None, 8, 8, 32)     0           conv3[0][0]                      \n",
      "__________________________________________________________________________________________________\n",
      "flatten (Flatten)               (None, 2048)         0           maxpool2x2_1[0][0]               \n",
      "__________________________________________________________________________________________________\n",
      "input_1 (InputLayer)            (None, 15)           0                                            \n",
      "__________________________________________________________________________________________________\n",
      "concat (Concatenate)            (None, 2063)         0           flatten[0][0]                    \n",
      "                                                                 input_1[0][0]                    \n",
      "__________________________________________________________________________________________________\n",
      "relu1 (Dense)                   (None, 64)           132096      concat[0][0]                     \n",
      "__________________________________________________________________________________________________\n",
      "relu2 (Dense)                   (None, 128)          8320        relu1[0][0]                      \n",
      "__________________________________________________________________________________________________\n",
      "softmax (Dense)                 (None, 2)            258         relu2[0][0]                      \n",
      "==================================================================================================\n",
      "Total params: 154,882\n",
      "Trainable params: 154,882\n",
      "Non-trainable params: 0\n",
      "__________________________________________________________________________________________________\n",
      "353476/353476 [==============================] - 46s 129us/sample - loss: 0.3813 - binary_crossentropy: 0.3813 - acc: 0.8307\n"
     ]
    },
    {
     "data": {
      "text/plain": [
       "[0.38132696283449213, 0.38132632, 0.8307127]"
      ]
     },
     "execution_count": 11,
     "metadata": {},
     "output_type": "execute_result"
    }
   ],
   "source": [
    "!ls -ltr model\n",
    "best_model_allVars = tf.keras.models.load_model('model/NormedCNN_allVars_addgroomedtau_lessfilters_10patience.h1', custom_objects=None, compile=True)\n",
    "best_model_allVars.summary()\n",
    "results_allVars = best_model_allVars.evaluate([test_data['jetImages'], test_var], test_data['labels'])\n",
    "results_allVars"
   ]
  },
  {
   "cell_type": "code",
   "execution_count": 12,
   "metadata": {},
   "outputs": [],
   "source": [
    "predict_1 = best_model_allVars.predict([test_data['jetImages'], test_var])"
   ]
  },
  {
   "cell_type": "code",
   "execution_count": 13,
   "metadata": {},
   "outputs": [
    {
     "data": {
      "image/png": "[encoded data removed]",
      "text/plain": [
       "<Figure size 432x288 with 1 Axes>"
      ]
     },
     "metadata": {
      "needs_background": "light"
     },
     "output_type": "display_data"
    }
   ],
   "source": [
    "# Plot ROC for Signal ID\n",
    "from sklearn.metrics import roc_curve, auc\n",
    "fpr, tpr, thresholds = roc_curve(test_data['labels'][:,1], predict_1[:,1])\n",
    "roc_auc = auc(fpr, tpr)\n",
    "plt.plot(fpr, tpr, lw=2, color='b', label='auc = %.3f' % (roc_auc))\n",
    "plt.plot([0, 1], [0, 1], linestyle='--', lw=2, color='k', label='random chance')\n",
    "plt.xlim([0, 1.0])\n",
    "plt.ylim([0, 1.0])\n",
    "plt.xlabel('False positive rate')\n",
    "plt.ylabel('True positive rate')\n",
    "plt.title('Receiver Operating Curve')\n",
    "plt.legend(loc=\"lower right\")\n",
    "plt.show()\n",
    "# plt.savefig('plots/roc_image_allVars_sig.png')"
   ]
  },
  {
   "cell_type": "code",
   "execution_count": 14,
   "metadata": {},
   "outputs": [
    {
     "data": {
      "image/png": "[encoded data removed]",
      "text/plain": [
       "<Figure size 432x288 with 1 Axes>"
      ]
     },
     "metadata": {
      "needs_background": "light"
     },
     "output_type": "display_data"
    }
   ],
   "source": [
    "# Plot ROC for Bkg ID\n",
    "from sklearn.metrics import roc_curve, auc\n",
    "fpr, tpr, thresholds = roc_curve(test_data['labels'][:,0], predict_1[:,0])\n",
    "roc_auc = auc(fpr, tpr)\n",
    "plt.plot(fpr, tpr, lw=2, color='b', label='auc = %.3f' % (roc_auc))\n",
    "plt.plot([0, 1], [0, 1], linestyle='--', lw=2, color='k', label='random chance')\n",
    "plt.xlim([0, 1.0])\n",
    "plt.ylim([0, 1.0])\n",
    "plt.xlabel('False positive rate')\n",
    "plt.ylabel('True positive rate')\n",
    "plt.title('Receiver Operating Curve')\n",
    "plt.legend(loc=\"lower right\")\n",
    "plt.show()\n",
    "# plt.savefig('plots/roc_image_allVars_bkg.png')"
   ]
  },
  {
   "cell_type": "code",
   "execution_count": 15,
   "metadata": {},
   "outputs": [
    {
     "data": {
      "image/png": "[encoded data removed]",
      "text/plain": [
       "<Figure size 432x288 with 1 Axes>"
      ]
     },
     "metadata": {
      "needs_background": "light"
     },
     "output_type": "display_data"
    }
   ],
   "source": [
    "sig_tp = predict_1[(test_data['labels'][:,1]==1) & (predict_1[:,1]>=0.6)][:,1]\n",
    "bkg_tn = predict_1[(test_data['labels'][:,0]==1) & (predict_1[:,1]<0.6)][:,1]\n",
    "sig_fp = predict_1[(test_data['labels'][:,0]==1) & (predict_1[:,1]>=0.6)][:,1]\n",
    "bkg_fn = predict_1[(test_data['labels'][:,1]==1) & (predict_1[:,1]<0.6)][:,1]\n",
    "\n",
    "bins = np.linspace(0, 1, 50)\n",
    "\n",
    "plt.hist(sig_tp, bins, alpha=0.5, label='True Signal')\n",
    "plt.hist(bkg_tn, bins, alpha=0.5, label='True Background')\n",
    "plt.hist(sig_fp, bins, alpha=0.5, label='Background predicted as Signal')\n",
    "plt.hist(bkg_fn, bins, alpha=0.5, label='Signal predicted as Background')\n",
    "plt.legend(loc='best')\n",
    "plt.show()"
   ]
  },
  {
   "cell_type": "code",
   "execution_count": 16,
   "metadata": {},
   "outputs": [
    {
     "data": {
      "image/png": "[encoded data removed]",
      "text/plain": [
       "<Figure size 432x288 with 1 Axes>"
      ]
     },
     "metadata": {
      "needs_background": "light"
     },
     "output_type": "display_data"
    }
   ],
   "source": [
    "sig = predict_1[(test_data['labels'][:,1]==1)][:,1]\n",
    "bkg = predict_1[(test_data['labels'][:,0]==1)][:,1]\n",
    "\n",
    "bins = np.linspace(0, 1, 50)\n",
    "\n",
    "plt.hist(sig, bins, alpha=0.5, label='Signal')\n",
    "plt.hist(bkg, bins, alpha=0.5, label='Background')\n",
    "plt.ylim(0,60000)\n",
    "plt.legend(loc='upper center')\n",
    "plt.xlabel('Prediction')\n",
    "plt.show()"
   ]
  },
  {
   "cell_type": "code",
   "execution_count": null,
   "metadata": {},
   "outputs": [],
   "source": [
    "#first Normed model trained for 32 epochs\n",
    "#second Normed model trained for"
   ]
  },
  {
   "cell_type": "code",
   "execution_count": null,
   "metadata": {},
   "outputs": [],
   "source": [
    "# matrix = tensorflow.math.confusion_matrix(np.array(list(test_data['labels'].values))[:,0], predict[:,0])"
   ]
  },
  {
   "cell_type": "code",
   "execution_count": null,
   "metadata": {},
   "outputs": [],
   "source": [
    "# with tf.Session():\n",
    "#    print('Confusion Matrix: \\n\\n', tf.Tensor.eval(matrix,feed_dict=None, session=None))"
   ]
  }
 ],
 "metadata": {
  "kernelspec": {
   "display_name": "Python 3",
   "language": "python",
   "name": "python3"
  },
  "language_info": {
   "codemirror_mode": {
    "name": "ipython",
    "version": 3
   },
   "file_extension": ".py",
   "mimetype": "text/x-python",
   "name": "python",
   "nbconvert_exporter": "python",
   "pygments_lexer": "ipython3",
   "version": "3.7.3"
  }
 },
 "nbformat": 4,
 "nbformat_minor": 2
}
