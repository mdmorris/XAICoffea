{
 "cells": [
  {
   "cell_type": "code",
   "execution_count": 1,
   "metadata": {},
   "outputs": [
    {
     "name": "stderr",
     "output_type": "stream",
     "text": [
      "Using TensorFlow backend.\n",
      "/opt/conda/lib/python3.7/site-packages/tensorflow/python/framework/dtypes.py:526: FutureWarning: Passing (type, 1) or '1type' as a synonym of type is deprecated; in a future version of numpy, it will be understood as (type, (1,)) / '(1,)type'.\n",
      "  _np_qint8 = np.dtype([(\"qint8\", np.int8, 1)])\n",
      "/opt/conda/lib/python3.7/site-packages/tensorflow/python/framework/dtypes.py:527: FutureWarning: Passing (type, 1) or '1type' as a synonym of type is deprecated; in a future version of numpy, it will be understood as (type, (1,)) / '(1,)type'.\n",
      "  _np_quint8 = np.dtype([(\"quint8\", np.uint8, 1)])\n",
      "/opt/conda/lib/python3.7/site-packages/tensorflow/python/framework/dtypes.py:528: FutureWarning: Passing (type, 1) or '1type' as a synonym of type is deprecated; in a future version of numpy, it will be understood as (type, (1,)) / '(1,)type'.\n",
      "  _np_qint16 = np.dtype([(\"qint16\", np.int16, 1)])\n",
      "/opt/conda/lib/python3.7/site-packages/tensorflow/python/framework/dtypes.py:529: FutureWarning: Passing (type, 1) or '1type' as a synonym of type is deprecated; in a future version of numpy, it will be understood as (type, (1,)) / '(1,)type'.\n",
      "  _np_quint16 = np.dtype([(\"quint16\", np.uint16, 1)])\n",
      "/opt/conda/lib/python3.7/site-packages/tensorflow/python/framework/dtypes.py:530: FutureWarning: Passing (type, 1) or '1type' as a synonym of type is deprecated; in a future version of numpy, it will be understood as (type, (1,)) / '(1,)type'.\n",
      "  _np_qint32 = np.dtype([(\"qint32\", np.int32, 1)])\n",
      "/opt/conda/lib/python3.7/site-packages/tensorflow/python/framework/dtypes.py:535: FutureWarning: Passing (type, 1) or '1type' as a synonym of type is deprecated; in a future version of numpy, it will be understood as (type, (1,)) / '(1,)type'.\n",
      "  np_resource = np.dtype([(\"resource\", np.ubyte, 1)])\n"
     ]
    }
   ],
   "source": [
    "# TensorFlow and tf.keras\n",
    "\n",
    "# import tensorflow as tf\n",
    "\n",
    "# from tensorflow import keras\n",
    "# from tensorflow.keras import layers\n",
    "# from tensorflow.keras import models\n",
    "# import tensorflow.keras.utils\n",
    "import pandas as pd\n",
    "\n",
    "import keras\n",
    "import keras.backend\n",
    "from keras import layers\n",
    "from keras import models\n",
    "import keras.utils\n",
    "\n",
    "\n",
    "# Helper libraries\n",
    "import numpy as np\n",
    "import matplotlib.pyplot as plt\n",
    "from matplotlib.colors import LogNorm\n",
    "import math\n",
    "import time\n",
    "import h5py\n",
    "import sklearn\n",
    "from sklearn.utils import shuffle\n",
    "\n",
    "import os"
   ]
  },
  {
   "cell_type": "markdown",
   "metadata": {},
   "source": [
    "## Import data"
   ]
  },
  {
   "cell_type": "code",
   "execution_count": 2,
   "metadata": {
    "scrolled": true
   },
   "outputs": [
    {
     "name": "stdout",
     "output_type": "stream",
     "text": [
      "16540 16540 16540 49620\n"
     ]
    }
   ],
   "source": [
    "data = np.load('/mnt/data/ml/ShowJetsData1.npz')\n",
    "# !ls /mnt/data/ml/\n",
    "images = data['jetImages']\n",
    "labels = data['labels']\n",
    "grid = np.size(images, 1)\n",
    "#ensure same number of signal vs. background and even split of z events\n",
    "qcd_im = images[np.where(labels[:,0] == 1)]\n",
    "if len(qcd_im) % 3 != 0:\n",
    "    qcd_im = qcd_im[:len(qcd_im)-(len(qcd_im) % 3)]\n",
    "z1_im = images[np.where(labels[:,1] == 1)]\n",
    "z1_im = z1_im[:int(len(qcd_im)/3)]\n",
    "z2_im = images[np.where(labels[:,2] == 1)]\n",
    "z2_im = z2_im[:int(len(qcd_im)/3)]\n",
    "z3_im = images[np.where(labels[:,3] == 1)]\n",
    "z3_im = z3_im[:int(len(qcd_im)/3)]\n",
    "print(len(z1_im), len(z2_im), len(z3_im), len(qcd_im))\n",
    "qcd_lab = np.zeros([len(qcd_im), 2])\n",
    "qcd_lab[:,0] = 1\n",
    "z_lab = np.zeros([len(qcd_im), 2])\n",
    "z_lab[:,1] = 1\n",
    "images = np.vstack((qcd_im, z1_im, z2_im, z3_im))\n",
    "labels = np.vstack((qcd_lab, z_lab))\n",
    "n_data = len(images)\n",
    "images = images.reshape(n_data, grid, grid, 1)\n",
    "#split data into testing/training/validation\n",
    "\n",
    "testimages = images[::4]\n",
    "testlabels = labels[::4]\n",
    "mask_im = np.ones(images.shape,dtype=bool)\n",
    "mask_im[::4] = 0\n",
    "mask_im[1::8] = 0\n",
    "mask_lab = np.ones(labels.shape,dtype=bool)\n",
    "mask_lab[::4] = 0\n",
    "mask_lab[1::8] = 0\n",
    "valimages = images[1::8]\n",
    "vallabels = labels[1::8]\n",
    "\n",
    "trainimages = images[mask_im].reshape((n_data-len(testimages)-len(valimages)), grid, grid, 1)\n",
    "trainlabels = labels[mask_lab].reshape((n_data-len(testimages)-len(valimages)), 2)"
   ]
  },
  {
   "cell_type": "markdown",
   "metadata": {},
   "source": [
    "Print a plot of data to see what it looks like!"
   ]
  },
  {
   "cell_type": "markdown",
   "metadata": {},
   "source": [
    "Preprocessing -> spit data into training and testing; take 80% for training and 20% for testing.\n",
    "\n",
    "If using CNN, uncomment \".reshape(n_data, grid, grid, 1)\"."
   ]
  },
  {
   "cell_type": "code",
   "execution_count": 3,
   "metadata": {},
   "outputs": [
    {
     "data": {
      "image/png": "[encoded data removed]",
      "text/plain": [
       "<Figure size 432x288 with 2 Axes>"
      ]
     },
     "metadata": {
      "needs_background": "light"
     },
     "output_type": "display_data"
    }
   ],
   "source": [
    "#plot input signal and background\n",
    "sig_trainimages = np.zeros_like(trainimages[1])\n",
    "bkg_trainimages = np.zeros_like(trainimages[1])\n",
    "for i in range(len(trainimages)):\n",
    "    if trainlabels[i,0] == 1:\n",
    "        sig_trainimages += trainimages[i]\n",
    "    else:\n",
    "        bkg_trainimages += trainimages[i]\n",
    "display_sig = sig_trainimages.reshape(grid,grid)\n",
    "plt.grid(False)\n",
    "plt.imshow(display_sig, interpolation='nearest', origin='low', cmap = 'Greens', norm=LogNorm())\n",
    "plt.colorbar()\n",
    "plt.show()"
   ]
  },
  {
   "cell_type": "markdown",
   "metadata": {},
   "source": [
    "Build DNN:"
   ]
  },
  {
   "cell_type": "code",
   "execution_count": 4,
   "metadata": {},
   "outputs": [
    {
     "data": {
      "image/png": "[encoded data removed]",
      "text/plain": [
       "<Figure size 432x288 with 2 Axes>"
      ]
     },
     "metadata": {
      "needs_background": "light"
     },
     "output_type": "display_data"
    }
   ],
   "source": [
    "#background\n",
    "display_bkg = bkg_trainimages.reshape(grid,grid)\n",
    "plt.grid(False)\n",
    "plt.imshow(display_bkg, interpolation='nearest', origin='low', cmap = 'Greens', norm=LogNorm())\n",
    "plt.colorbar()\n",
    "plt.show()"
   ]
  },
  {
   "cell_type": "code",
   "execution_count": 5,
   "metadata": {},
   "outputs": [],
   "source": [
    "def build_model():\n",
    "    input1 = layers.Input(shape = (grid, grid, 1), name = 'input')\n",
    "    x = layers.Conv2D(64, (12, 12), padding = 'same', activation='relu', name = 'conv1')(input1)\n",
    "    x = layers.Conv2D(64, (6, 6), padding = 'same', activation='relu', name = 'conv2')(x)\n",
    "    x = layers.Conv2D(64, (4, 4), padding = 'same', activation='relu', name = 'conv3')(x)\n",
    "    x = layers.MaxPool2D((2, 2), name = 'maxpool1')(x)\n",
    "#     x = layers.Conv2D(32, (4, 4), padding = 'same', activation='relu', name = 'conv4')(x)\n",
    "#     x = layers.Conv2D(32, (3, 3), padding = 'same', activation='relu', name = 'conv5')(x)\n",
    "#     x = layers.Conv2D(32, (2, 2), padding = 'same', activation='relu', name = 'conv6')(x)\n",
    "#     x = layers.MaxPool2D((2, 2), name = 'maxpool2')(x)\n",
    "    x = layers.Flatten(name = 'flatten')(x)\n",
    "#     x = layers.Dense(64, activation='relu', name = 'relu1')(x)\n",
    "#     x = layers.Dense(256, activation='relu', name = 'relu2')(x)\n",
    "    x = layers.Dense(256, activation='relu', name = 'relu3')(x)\n",
    "    output = layers.Dense(2, activation='softmax', name = 'softmax')(x)\n",
    "    model = models.Model(inputs=input1, outputs=output)\n",
    "    model.compile(loss='categorical_crossentropy',\n",
    "                optimizer='adam',\n",
    "                metrics=['categorical_crossentropy', 'accuracy'])\n",
    "    return model"
   ]
  },
  {
   "cell_type": "markdown",
   "metadata": {},
   "source": [
    "Initialize model:"
   ]
  },
  {
   "cell_type": "code",
   "execution_count": 6,
   "metadata": {},
   "outputs": [
    {
     "name": "stdout",
     "output_type": "stream",
     "text": [
      "WARNING:tensorflow:From /opt/conda/lib/python3.7/site-packages/tensorflow/python/framework/op_def_library.py:263: colocate_with (from tensorflow.python.framework.ops) is deprecated and will be removed in a future version.\n",
      "Instructions for updating:\n",
      "Colocations handled automatically by placer.\n"
     ]
    }
   ],
   "source": [
    "CNN = build_model()"
   ]
  },
  {
   "cell_type": "markdown",
   "metadata": {},
   "source": [
    "Test model's prediction $before$ training:"
   ]
  },
  {
   "cell_type": "code",
   "execution_count": 7,
   "metadata": {},
   "outputs": [
    {
     "name": "stdout",
     "output_type": "stream",
     "text": [
      "[[0.5032421  0.49675792]\n",
      " [0.5025284  0.49747148]\n",
      " [0.50241715 0.49758288]\n",
      " [0.50294423 0.4970557 ]\n",
      " [0.5035009  0.49649912]\n",
      " [0.5020624  0.4979376 ]\n",
      " [0.5024052  0.4975947 ]\n",
      " [0.5030817  0.4969183 ]\n",
      " [0.5027102  0.4972898 ]\n",
      " [0.5021157  0.49788433]\n",
      " [0.5025892  0.4974108 ]\n",
      " [0.5011588  0.4988412 ]\n",
      " [0.5019574  0.49804258]\n",
      " [0.5014893  0.4985107 ]\n",
      " [0.5027429  0.49725708]\n",
      " [0.502256   0.49774402]\n",
      " [0.502762   0.49723807]\n",
      " [0.50181    0.49819   ]\n",
      " [0.5017056  0.49829438]\n",
      " [0.5019313  0.4980687 ]\n",
      " [0.50217855 0.49782145]\n",
      " [0.50295097 0.497049  ]\n",
      " [0.5015843  0.49841574]\n",
      " [0.50151473 0.49848533]\n",
      " [0.50214654 0.49785343]\n",
      " [0.50256896 0.49743098]\n",
      " [0.50261855 0.4973814 ]\n",
      " [0.50203454 0.49796548]\n",
      " [0.50330657 0.49669343]\n",
      " [0.5033206  0.4966795 ]\n",
      " [0.50200725 0.49799272]\n",
      " [0.5022664  0.4977336 ]\n",
      " [0.5023655  0.4976344 ]\n",
      " [0.5030755  0.49692452]\n",
      " [0.5029725  0.49702755]\n",
      " [0.5031933  0.49680668]\n",
      " [0.50413936 0.49586067]\n",
      " [0.5021482  0.49785176]\n",
      " [0.5026248  0.4973752 ]\n",
      " [0.5022578  0.49774215]\n",
      " [0.5027046  0.4972954 ]\n",
      " [0.5024146  0.49758548]\n",
      " [0.50176966 0.4982303 ]\n",
      " [0.50198543 0.4980146 ]\n",
      " [0.50214595 0.49785408]\n",
      " [0.50356597 0.4964341 ]\n",
      " [0.5023906  0.49760938]\n",
      " [0.50255096 0.497449  ]\n",
      " [0.5028471  0.49715284]\n",
      " [0.50179136 0.49820867]\n",
      " [0.50371695 0.49628302]\n",
      " [0.50306606 0.496934  ]\n",
      " [0.5024273  0.49757275]\n",
      " [0.5020032  0.49799687]\n",
      " [0.50189406 0.4981059 ]\n",
      " [0.50197655 0.49802345]\n",
      " [0.5027338  0.49726614]\n",
      " [0.5026488  0.49735126]\n",
      " [0.50279325 0.49720678]\n",
      " [0.5015847  0.49841532]\n",
      " [0.5023573  0.4976428 ]\n",
      " [0.50214756 0.4978525 ]\n",
      " [0.501915   0.49808502]\n",
      " [0.5023426  0.4976574 ]\n",
      " [0.50367993 0.49632013]\n",
      " [0.5029626  0.49703738]\n",
      " [0.503282   0.49671802]\n",
      " [0.5028876  0.4971124 ]\n",
      " [0.5021478  0.49785215]\n",
      " [0.5017379  0.4982621 ]\n",
      " [0.50270903 0.49729094]\n",
      " [0.50235265 0.49764735]\n",
      " [0.5014955  0.4985045 ]\n",
      " [0.50221956 0.49778047]\n",
      " [0.5011202  0.4988798 ]\n",
      " [0.50254136 0.49745864]\n",
      " [0.50268584 0.49731413]\n",
      " [0.5022858  0.49771425]\n",
      " [0.5025965  0.49740356]\n",
      " [0.50245327 0.4975467 ]\n",
      " [0.5036243  0.49637574]\n",
      " [0.50323725 0.49676266]\n",
      " [0.5031566  0.49684334]\n",
      " [0.5025353  0.49746475]\n",
      " [0.50225604 0.49774393]\n",
      " [0.5026658  0.4973342 ]\n",
      " [0.50251216 0.49748787]\n",
      " [0.50331765 0.4966823 ]\n",
      " [0.5032495  0.49675053]\n",
      " [0.5031242  0.49687573]\n",
      " [0.5030893  0.49691066]\n",
      " [0.50286293 0.49713698]\n",
      " [0.5029998  0.49700022]\n",
      " [0.5022983  0.49770167]\n",
      " [0.5014881  0.4985119 ]\n",
      " [0.50238085 0.49761915]\n",
      " [0.5037052  0.49629477]\n",
      " [0.50154406 0.498456  ]\n",
      " [0.5034586  0.49654138]\n",
      " [0.5028029  0.49719703]\n",
      " [0.5032013  0.4967987 ]\n",
      " [0.50220776 0.4977922 ]\n",
      " [0.5024178  0.4975822 ]\n",
      " [0.50287604 0.4971239 ]\n",
      " [0.50281805 0.49718195]\n",
      " [0.5036567  0.4963433 ]\n",
      " [0.50377786 0.49622208]\n",
      " [0.5029532  0.49704686]\n",
      " [0.50228477 0.49771523]\n",
      " [0.50217    0.49782997]\n",
      " [0.50341386 0.49658605]\n",
      " [0.5023744  0.49762553]\n",
      " [0.5039685  0.49603155]\n",
      " [0.5033298  0.4966702 ]\n",
      " [0.5018618  0.49813822]\n",
      " [0.5024129  0.497587  ]\n",
      " [0.50304395 0.49695602]\n",
      " [0.50374883 0.4962512 ]\n",
      " [0.5017846  0.49821532]\n",
      " [0.50326616 0.49673393]\n",
      " [0.50324535 0.49675465]\n",
      " [0.5032529  0.4967471 ]\n",
      " [0.5026124  0.49738756]\n",
      " [0.5034493  0.49655068]\n",
      " [0.5029166  0.49708343]\n",
      " [0.5034591  0.49654093]\n",
      " [0.5018042  0.49819586]\n",
      " [0.50307554 0.4969244 ]\n",
      " [0.5026572  0.49734288]\n",
      " [0.5020388  0.49796116]\n",
      " [0.50332296 0.49667707]\n",
      " [0.5027335  0.49726644]\n",
      " [0.5032499  0.49675012]\n",
      " [0.50304526 0.49695477]\n",
      " [0.502249   0.49775094]\n",
      " [0.5029417  0.49705827]\n",
      " [0.50227135 0.49772865]\n",
      " [0.5035095  0.49649042]\n",
      " [0.5032178  0.4967822 ]\n",
      " [0.5033785  0.49662143]\n",
      " [0.50206524 0.49793482]\n",
      " [0.5027318  0.49726823]\n",
      " [0.5033135  0.4966865 ]\n",
      " [0.5028371  0.49716288]\n",
      " [0.5034682  0.4965318 ]\n",
      " [0.50252116 0.49747887]\n",
      " [0.50177574 0.49822417]\n",
      " [0.50353533 0.49646464]\n",
      " [0.50341547 0.49658456]\n",
      " [0.5030326  0.4969674 ]\n",
      " [0.50379443 0.4962055 ]\n",
      " [0.5035536  0.49644643]\n",
      " [0.5029372  0.49706283]\n",
      " [0.5032278  0.49677223]\n",
      " [0.50310516 0.4968949 ]\n",
      " [0.50210434 0.49789563]\n",
      " [0.50348204 0.49651793]\n",
      " [0.5027481  0.4972519 ]\n",
      " [0.503679   0.496321  ]\n",
      " [0.5031133  0.49688664]\n",
      " [0.50363296 0.496367  ]\n",
      " [0.5030476  0.49695238]\n",
      " [0.5025687  0.49743128]\n",
      " [0.502226   0.497774  ]\n",
      " [0.5029826  0.49701738]\n",
      " [0.50291425 0.4970857 ]\n",
      " [0.5031776  0.49682242]\n",
      " [0.50323087 0.49676913]\n",
      " [0.50256234 0.4974377 ]\n",
      " [0.50271994 0.49728003]\n",
      " [0.50262314 0.49737683]\n",
      " [0.5032629  0.49673706]\n",
      " [0.5028401  0.4971599 ]\n",
      " [0.50381595 0.49618402]\n",
      " [0.5030081  0.49699187]\n",
      " [0.50241446 0.4975855 ]\n",
      " [0.5022012  0.49779883]\n",
      " [0.5025625  0.49743742]\n",
      " [0.5026114  0.49738857]\n",
      " [0.5026756  0.49732438]\n",
      " [0.50276816 0.4972318 ]\n",
      " [0.5021045  0.49789542]\n",
      " [0.5034904  0.49650958]\n",
      " [0.5029209  0.49707913]\n",
      " [0.5028671  0.49713287]\n",
      " [0.5024537  0.49754634]\n",
      " [0.5047367  0.4952633 ]\n",
      " [0.50332683 0.49667317]\n",
      " [0.5031793  0.49682075]\n",
      " [0.50280225 0.4971978 ]\n",
      " [0.50259435 0.4974057 ]\n",
      " [0.5022023  0.4977977 ]\n",
      " [0.5029993  0.49700066]\n",
      " [0.5024427  0.49755725]\n",
      " [0.5015308  0.49846914]\n",
      " [0.50267094 0.49732903]\n",
      " [0.5025843  0.49741572]\n",
      " [0.5028654  0.49713463]\n",
      " [0.50241876 0.49758118]\n",
      " [0.50335455 0.49664542]\n",
      " [0.5034405  0.4965595 ]\n",
      " [0.50220495 0.497795  ]\n",
      " [0.5024843  0.49751574]\n",
      " [0.5029089  0.4970911 ]\n",
      " [0.5023356  0.4976644 ]\n",
      " [0.5022357  0.49776432]\n",
      " [0.5027086  0.49729145]]\n",
      "[0.693498985202992, 0.693498985202992, 0.5024154589371981]\n"
     ]
    }
   ],
   "source": [
    "example_batch = trainimages[::300]\n",
    "example_labels = trainlabels[::300]\n",
    "# example_radii = trainradii[:10]\n",
    "# example_theta = traintheta[:10]\n",
    "# example_z = trainz[:10]\n",
    "example_result = CNN.predict(x = example_batch)\n",
    "results = CNN.evaluate(x = example_batch, y = example_labels, verbose = 0)\n",
    "print(example_result)\n",
    "print(results)"
   ]
  },
  {
   "cell_type": "code",
   "execution_count": null,
   "metadata": {
    "scrolled": true
   },
   "outputs": [
    {
     "name": "stdout",
     "output_type": "stream",
     "text": [
      "WARNING:tensorflow:From /opt/conda/lib/python3.7/site-packages/tensorflow/python/ops/math_ops.py:3066: to_int32 (from tensorflow.python.ops.math_ops) is deprecated and will be removed in a future version.\n",
      "Instructions for updating:\n",
      "Use tf.cast instead.\n",
      "Train on 62025 samples, validate on 12405 samples\n",
      "Epoch 1/50\n",
      "62025/62025 [==============================] - 655s 11ms/step - loss: 0.5677 - categorical_crossentropy: 0.5677 - acc: 0.7135 - val_loss: 0.5498 - val_categorical_crossentropy: 0.5498 - val_acc: 0.7281\n",
      "\n",
      "Epoch 00001: val_loss improved from inf to 0.54977, saving model to model/CNN_images1.h5\n",
      "Epoch 2/50\n",
      "62025/62025 [==============================] - 570s 9ms/step - loss: 0.5387 - categorical_crossentropy: 0.5387 - acc: 0.7407 - val_loss: 0.5395 - val_categorical_crossentropy: 0.5395 - val_acc: 0.7389\n",
      "\n",
      "Epoch 00002: val_loss improved from 0.54977 to 0.53946, saving model to model/CNN_images1.h5\n",
      "Epoch 3/50\n",
      "34400/62025 [===============>..............] - ETA: 3:55 - loss: 0.5339 - categorical_crossentropy: 0.5339 - acc: 0.7430"
     ]
    }
   ],
   "source": [
    "checkpoint_path = \"model/CNN_images1.h5\"\n",
    "if not os.path.exists(\"model\"):\n",
    "    os.mkdir(\"model\")\n",
    "\n",
    "# Create checkpoint callback\n",
    "# cp_callback = tf.keras.callbacks.ModelCheckpoint(checkpoint_path, \n",
    "#                                                  save_best_only=True,\n",
    "#                                                  verbose=1)\n",
    "model_checkpoint = keras.callbacks.ModelCheckpoint(checkpoint_path, monitor='val_loss', \n",
    "                                   verbose=1, save_best_only=True, \n",
    "                                   save_weights_only=False, mode='auto')    \n",
    "EPOCHS = 50\n",
    "early_stop = keras.callbacks.EarlyStopping(monitor='val_loss', patience=10)\n",
    "history = CNN.fit(\n",
    "  trainimages, trainlabels,\n",
    "  epochs=EPOCHS, validation_data = (valimages, vallabels), verbose = 1,\n",
    "  callbacks=[early_stop, model_checkpoint])"
   ]
  },
  {
   "cell_type": "markdown",
   "metadata": {},
   "source": [
    "Now make a plot that shows the pregression of accuracy through each training epoch."
   ]
  },
  {
   "cell_type": "code",
   "execution_count": null,
   "metadata": {},
   "outputs": [],
   "source": [
    "# def plot_history(history):\n",
    "#   hist = pd.DataFrame(history.history)\n",
    "#   hist['epoch'] = history.epoch\n",
    "  \n",
    "#   plt.figure()\n",
    "#   plt.xlabel('Epoch')\n",
    "#   plt.ylabel('Mean Square Error')\n",
    "#   plt.plot(hist['epoch'], hist['binary'],\n",
    "#            label='Train Error')\n",
    "#   plt.plot(hist['epoch'], hist['val_mean_squared_error'],\n",
    "#            label = 'Val Error')\n",
    "#   plt.ylim([0,100])\n",
    "#   plt.legend()\n",
    "#   plt.show()\n",
    "\n",
    "# plot_history(history)"
   ]
  },
  {
   "cell_type": "markdown",
   "metadata": {},
   "source": [
    "Load best weights."
   ]
  },
  {
   "cell_type": "code",
   "execution_count": null,
   "metadata": {},
   "outputs": [],
   "source": [
    "!ls model\n",
    "best_model = keras.models.load_model('model/CNN_images1.h5')\n",
    "best_model.summary()\n",
    "results = best_model.evaluate(testimages, testlabels, verbose = 0)\n",
    "print(results)"
   ]
  },
  {
   "cell_type": "markdown",
   "metadata": {},
   "source": [
    "Evaluate the performance of our DNN! Plot predictions vs. true values (the line is predictions vs. predicitons)."
   ]
  },
  {
   "cell_type": "code",
   "execution_count": null,
   "metadata": {},
   "outputs": [],
   "source": [
    "predict = best_model.predict(testimages)"
   ]
  },
  {
   "cell_type": "code",
   "execution_count": null,
   "metadata": {},
   "outputs": [],
   "source": [
    "from sklearn.metrics import roc_curve, auc\n",
    "fpr, tpr, thresholds = roc_curve(testlabels[:,1], predict[:,1])\n",
    "roc_auc = auc(fpr, tpr)\n",
    "plt.plot(fpr, tpr, lw=2, color='b', label='auc = %.3f' % (roc_auc))\n",
    "plt.plot([0, 1], [0, 1], linestyle='--', lw=2, color='k', label='random chance')\n",
    "plt.xlim([0, 1.0])\n",
    "plt.ylim([0, 1.0])\n",
    "plt.xlabel('false positive rate')\n",
    "plt.ylabel('true positive rate')\n",
    "plt.title('receiver operating curve')\n",
    "plt.legend(loc=\"lower right\")\n",
    "plt.show()"
   ]
  },
  {
   "cell_type": "code",
   "execution_count": null,
   "metadata": {},
   "outputs": [],
   "source": [
    "indqcd = np.argwhere(testlabels[:,1] == 0)\n",
    "ind1  = np.where(testlabels[:,1] == 1) \n",
    "# ind2  = np.where(testlabels[:,2] == 1)\n",
    "# ind3  = np.where(testlabels[:,3] == 1)\n",
    "hist_, bin_edges_ = np.histogram(predict[indqcd])\n",
    "plt.hist([predict[indqcd, 0].flatten(),predict[ind1, 1].flatten()] , histtype = 'step', label = ['qcd', 'ZZ'])\n",
    "plt.legend()\n",
    "plt.title('Predictions w/o normalized Pt')\n",
    "plt.yscale('log')\n",
    "plt.xlabel('Prediction (correct = 1)')\n",
    "plt.show()"
   ]
  },
  {
   "cell_type": "code",
   "execution_count": null,
   "metadata": {},
   "outputs": [],
   "source": []
  },
  {
   "cell_type": "code",
   "execution_count": null,
   "metadata": {},
   "outputs": [],
   "source": []
  },
  {
   "cell_type": "code",
   "execution_count": null,
   "metadata": {},
   "outputs": [],
   "source": []
  },
  {
   "cell_type": "code",
   "execution_count": null,
   "metadata": {},
   "outputs": [],
   "source": []
  }
 ],
 "metadata": {
  "kernelspec": {
   "display_name": "Python 3",
   "language": "python",
   "name": "python3"
  },
  "language_info": {
   "codemirror_mode": {
    "name": "ipython",
    "version": 3
   },
   "file_extension": ".py",
   "mimetype": "text/x-python",
   "name": "python",
   "nbconvert_exporter": "python",
   "pygments_lexer": "ipython3",
   "version": "3.7.3"
  }
 },
 "nbformat": 4,
 "nbformat_minor": 2
}
