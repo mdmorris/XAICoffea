{
 "cells": [
  {
   "cell_type": "markdown",
   "metadata": {},
   "source": [
    "# Plotting jets as images"
   ]
  },
  {
   "cell_type": "code",
   "execution_count": 1,
   "metadata": {},
   "outputs": [],
   "source": [
    "import time\n",
    "from coffea import hist\n",
    "from coffea.analysis_objects import JaggedCandidateArray\n",
    "import coffea.processor as processor\n",
    "from awkward import JaggedArray, MaskedArray\n",
    "import numpy as np\n",
    "import glob as glob\n",
    "import itertools\n",
    "import json\n",
    "import uproot_methods\n",
    "import copy\n",
    "from coord_transform import *\n",
    "import tensorflow as tf\n",
    "import pandas as pd\n",
    "\n",
    "np.set_printoptions(threshold=np.inf)"
   ]
  },
  {
   "cell_type": "code",
   "execution_count": 2,
   "metadata": {},
   "outputs": [],
   "source": [
    "def pseudorapidity(theta):\n",
    "    return -np.log(np.tan(theta*0.5))"
   ]
  },
  {
   "cell_type": "code",
   "execution_count": 3,
   "metadata": {},
   "outputs": [],
   "source": [
    "def dataStream(output):\n",
    "    image = output['flippedImages'].value\n",
    "    jetPt = output['jetPt'].value\n",
    "    jetEta = output['jetEta'].value\n",
    "    jetPhi = output['jetPhi'].value\n",
    "    jetTau21 = output['jetTau21'].value\n",
    "    jetTau31 = output['jetTau31'].value\n",
    "    jetTau32 = output['jetTau32'].value\n",
    "    chMult = output['chargedHadronMult'].value\n",
    "    neutMult = output['neutralHadronMult'].value\n",
    "    phoMult = output['photonMult'].value\n",
    "    eleMult = output['electronMult'].value\n",
    "    muMult = output['muonMult'].value\n",
    "\n",
    "    \n",
    "    print(chMult.shape)\n",
    "    print(neutMult.shape)\n",
    "    print(phoMult.shape)\n",
    "    print(eleMult.shape)\n",
    "    print(muMult.shape)\n",
    "    \n",
    "    jetconstEvnum = output['jetconstEvnum'].value\n",
    "    jetconstEta = output['jetconstEta'].value\n",
    "    jetconstPhi = output['jetconstPhi'].value\n",
    "    jetconstPt = output['jetconstPt'].value\n",
    "    chargedHadronPt = output['chargedHadronPt'].value\n",
    "    neutralHadronPt = output['neutralHadronPt'].value\n",
    "    pullAngle = output['pullAngle'].value\n",
    "\n",
    "    jetFile = '/mnt/data/ml/ShowJetsDataPull'\n",
    "    constituentFile = '/mnt/data/ml/Constituent4vecDataPull'\n",
    "    \n",
    "    labels = output['label'].value\n",
    "    np.savez(jetFile, jetImages = image, jetPt = jetPt,\n",
    "             jetEta = jetEta, jetPhi = jetPhi, tau21=jetTau21, chMult=chMult, neutMult = neutMult, \n",
    "             phoMult=phoMult, eleMult=eleMult, muMult=muMult, pullAngle=pullAngle, labels = labels)\n",
    "    labels = np.repeat(labels, 27, axis=0).reshape(len(labels)*27, 4)\n",
    "    np.savez(constituentFile, jetconstEvnum=jetconstEvnum, jetconstPt = jetconstPt, \n",
    "            jetconstEta = jetconstEta, jetconstPhi = jetconstPhi, chargedHadronPt = chargedHadronPt,\n",
    "             neutralHadronPt = neutralHadronPt, tau21=jetTau21, chMult=chMult, neutMult = neutMult,\n",
    "             phoMult=phoMult, eleMult=eleMult, muMult=muMult, labels = labels)"
   ]
  },
  {
   "cell_type": "code",
   "execution_count": 4,
   "metadata": {},
   "outputs": [],
   "source": [
    "def transform_to_softdrop_axes(jetparticles,Jets):\n",
    "    \n",
    "    subjet0leading = (Jets.subjet0_pt > Jets.subjet1_pt)\n",
    "    centroid1_pt = np.where( subjet0leading, Jets.subjet0_pt, Jets.subjet1_pt  )\n",
    "    centroid1_eta = np.where( subjet0leading, Jets.subjet0_eta, Jets.subjet1_eta  )\n",
    "    centroid1_phi = np.where( subjet0leading, Jets.subjet0_phi, Jets.subjet1_phi  )\n",
    "    centroid1_m = np.where( subjet0leading, Jets.subjet0_m, Jets.subjet1_m  )\n",
    "    centroid2_pt = np.where( subjet0leading, Jets.subjet1_pt, Jets.subjet0_pt,   )\n",
    "    centroid2_eta = np.where( subjet0leading, Jets.subjet1_eta, Jets.subjet0_eta  )\n",
    "    centroid2_phi = np.where( subjet0leading, Jets.subjet1_phi, Jets.subjet0_phi  )\n",
    "    centroid2_m = np.where( subjet0leading, Jets.subjet1_m, Jets.subjet0_m  )\n",
    "    pcentroid1 = uproot_methods.TLorentzVectorArray.from_ptetaphim( centroid1_pt, centroid1_eta, centroid1_phi, centroid1_m )\n",
    "    pcentroid2 = uproot_methods.TLorentzVectorArray.from_ptetaphim( centroid2_pt, centroid2_eta, centroid2_phi, centroid2_m )\n",
    "    \n",
    "    #distance between the two centroids\n",
    "    r0 = pcentroid1.delta_r(pcentroid2)\n",
    "    \n",
    "    centroid1 = uproot_methods.TVector3Array.from_cartesian(pcentroid1.x, pcentroid1.y, pcentroid1.z)\n",
    "    centroid2 = uproot_methods.TVector3Array.from_cartesian(pcentroid2.x, pcentroid2.y, pcentroid2.z)\n",
    "    particle_p3s = uproot_methods.TVector3Array.from_cartesian(jetparticles.p4.x, jetparticles.p4.y, jetparticles.p4.z)\n",
    "    \n",
    "    # Rotate coordinate system so \"centroid1\" is along the x axis\n",
    "    rot1_axis, rot1_angle = coord_rotation( centroid1, uproot_methods.TVector3(1,0,0) )    \n",
    "    centroid1 = centroid1.rotate_axis(rot1_axis, rot1_angle)\n",
    "    centroid2 = centroid2.rotate_axis(rot1_axis, rot1_angle)\n",
    "    particle_p3s = particle_p3s.rotate_axis(rot1_axis, rot1_angle)\n",
    "\n",
    "    # Rotate about the z axis so that centroid2 is pointing down\n",
    "    rot2_angle = -np.arctan2( centroid2.z, centroid2.y )\n",
    "    centroid2 = centroid2.rotatex(rot2_angle)\n",
    "    particle_p3s = particle_p3s.rotatex(rot2_angle)\n",
    "    \n",
    "    # Scale the image so that centroid2 is at (0,1,0)\n",
    "    deta = np.divide(pseudorapidity(particle_p3s.theta),r0)\n",
    "    dphi = np.divide(particle_p3s.phi,r0)\n",
    "        \n",
    "    return deta,dphi,centroid1,centroid2"
   ]
  },
  {
   "cell_type": "code",
   "execution_count": 5,
   "metadata": {},
   "outputs": [],
   "source": [
    "# Look at ProcessorABC to see the expected methods and what they are supposed to do\n",
    "class JetImageProcessor(processor.ProcessorABC):\n",
    "    def __init__(self):\n",
    "        self.eta_bins = 16\n",
    "        self.phi_bins = 16\n",
    "        dataset_axis = hist.Cat(\"dataset\", \"Primary dataset\")\n",
    "        event_axis = hist.Bin(\"event\", \"Event number\", 10000, 0, 10000 )\n",
    "        pdgid_axis = hist.Bin(\"pdgid\", r\"PDG ID\", 10000, -5000, 5000)\n",
    "        eta_axis = hist.Bin(\"eta\", r\"$\\eta$\", 32, -5, 5)\n",
    "        phi_axis = hist.Bin(\"phi\", r\"$\\phi$\", 32, -np.pi, np.pi)\n",
    "        image_dphi = hist.Bin(\"image_dphi\", r\"$Q_1$\", self.phi_bins, -2, 2) #yaxis\n",
    "        image_deta = hist.Bin(\"image_deta\", r\"$Q_2$\", self.eta_bins, -2, 2) #xaxis\n",
    "        pt_axis = hist.Bin(\"pt\", r\"$p_{T}$ [GeV]\", 1000, 0, 5000)\n",
    "        chPt_axis = hist.Bin(\"chPt\", r\"$p_{T}$ [GeV]\", 100, 0, 500)\n",
    "        nhPt_axis = hist.Bin(\"nhPt\", r\"$p_{T}$ [GeV]\", 100, 0, 500)\n",
    "        hadron_axis = hist.Cat(\"hadron\", \"Hadron Category\")\n",
    "        m_axis = hist.Bin(\"m\", r\"$p_{T}$ [GeV]\", 200, 0, 500)\n",
    "        dr_axis = hist.Bin(\"dr\", r\"$\\Delta r$\", 80, 0, 0.8)\n",
    "        tau_axis = hist.Bin(\"tau\", r\"$\\tau$\", 100, 0, 1.0)\n",
    "        mult_axis = hist.Bin(\"mult\", \"Multiplicity\", 50, 0, 50)\n",
    "        pullAngle_axis = hist.Bin(\"pullAngle\", \"Jet Pull Angle\", 100, -5, 5)\n",
    "        pull_axis = hist.Bin(\"pull\", \"Jet Pull\", 100, 0, 1)\n",
    "\n",
    "        \n",
    "        self._accumulator = processor.dict_accumulator({\n",
    "            'pt':hist.Hist(\"Counts\", dataset_axis, pt_axis),\n",
    "            'eta':hist.Hist(\"Counts\", dataset_axis, eta_axis),\n",
    "            'flippedImages': processor.column_accumulator(np.zeros(shape=(0,16,16))),\n",
    "            'jetEta': processor.column_accumulator(np.zeros(shape=(0))),\n",
    "            'jetPhi': processor.column_accumulator(np.zeros(shape=(0))),\n",
    "            'jetPt': processor.column_accumulator(np.zeros(shape=(0))),\n",
    "            'jetTau21': processor.column_accumulator(np.zeros(shape=(0))),\n",
    "            'jetTau31': processor.column_accumulator(np.zeros(shape=(0))),\n",
    "            'jetTau32': processor.column_accumulator(np.zeros(shape=(0))),\n",
    "            'chPt':hist.Hist(\"Counts\", dataset_axis, chPt_axis, hadron_axis),\n",
    "            'hmult':hist.Hist(\"Counts\", dataset_axis, mult_axis, hadron_axis),# event_axis),\n",
    "            'h_muMult':hist.Hist(\"Counts\", dataset_axis, mult_axis),\n",
    "            'h_eleMult':hist.Hist(\"Counts\", dataset_axis, mult_axis),\n",
    "            'h_phoMult':hist.Hist(\"Counts\", dataset_axis, mult_axis),\n",
    "            'h_jetPull':hist.Hist(\"Counts\", dataset_axis, pull_axis),\n",
    "            'h_jetPullAngle':hist.Hist(\"Counts\", dataset_axis, pullAngle_axis),\n",
    "\n",
    "            'jetconstEvnum': processor.column_accumulator(np.zeros(shape=(0))),\n",
    "            'jetconstEta': processor.column_accumulator(np.zeros(shape=(0))),\n",
    "            'jetconstPhi': processor.column_accumulator(np.zeros(shape=(0))),\n",
    "            'jetconstPt': processor.column_accumulator(np.zeros(shape=(0))),\n",
    "            'chargedHadronMult': processor.column_accumulator(np.zeros(shape=(0))),\n",
    "            'neutralHadronMult': processor.column_accumulator(np.zeros(shape=(0))),\n",
    "            'photonMult': processor.column_accumulator(np.zeros(shape=(0))),\n",
    "            'electronMult': processor.column_accumulator(np.zeros(shape=(0))),\n",
    "            'muonMult': processor.column_accumulator(np.zeros(shape=(0))), \n",
    "            'chargedHadronPt': processor.column_accumulator(np.zeros(shape=(0))),\n",
    "            'chargedHadronEta': processor.column_accumulator(np.zeros(shape=(0))),\n",
    "            'chargedHadronPhi': processor.column_accumulator(np.zeros(shape=(0))),\n",
    "            'neutralHadronPt': processor.column_accumulator(np.zeros(shape=(0))),\n",
    "            'neutralHadronEta': processor.column_accumulator(np.zeros(shape=(0))),\n",
    "            'neutralHadronPhi': processor.column_accumulator(np.zeros(shape=(0))),\n",
    "            'jetconstCharge': processor.column_accumulator(np.zeros(shape=(0))),\n",
    "            'pullAngle': processor.column_accumulator(np.zeros(shape=(0))),\n",
    "            \n",
    "            'label': processor.column_accumulator(np.zeros(shape=(0,4))),\n",
    "            'image':hist.Hist(r\"$p_{T}$\", dataset_axis, event_axis, image_dphi, image_deta),\n",
    "            'dr':hist.Hist(\"Counts\", dataset_axis, dr_axis),\n",
    "            'dr_true':hist.Hist(\"Counts\", dataset_axis, dr_axis),\n",
    "            'pdgid':hist.Hist(\"Counts\", dataset_axis, pdgid_axis),\n",
    "            'tau21':hist.Hist(\"Counts\", dataset_axis, tau_axis),\n",
    "            'tau31':hist.Hist(\"Counts\", dataset_axis, tau_axis),\n",
    "            'tau32':hist.Hist(\"Counts\", dataset_axis, tau_axis),\n",
    "            'cutflow': processor.defaultdict_accumulator(int)\n",
    "        })\n",
    "    \n",
    "    @property\n",
    "    def accumulator(self):\n",
    "        return self._accumulator\n",
    "    \n",
    "    def process(self, df):\n",
    "        \n",
    "        \n",
    "        output = self.accumulator.identity()\n",
    "\n",
    "        \n",
    "        dataset = df['dataset']\n",
    "        evnum = df['eventNum']\n",
    "        \n",
    "        Jets = JaggedCandidateArray.candidatesfromcounts(\n",
    "            df['nJet'],\n",
    "            pt=df['jet_pt'],\n",
    "            eta=df['jet_eta'],\n",
    "            phi=df['jet_phi'],\n",
    "            mass=df['jet_m'],\n",
    "            msd=df['jet_msd'],\n",
    "            nsubjet=df['jet_nsubjet'],\n",
    "            subjet0_pt=df['jet_subjet0_pt'],\n",
    "            subjet0_eta=df['jet_subjet0_eta'],\n",
    "            subjet0_phi=df['jet_subjet0_phi'],\n",
    "            subjet0_m=df['jet_subjet0_m'],\n",
    "            subjet1_pt=df['jet_subjet1_pt'],\n",
    "            subjet1_eta=df['jet_subjet1_eta'],\n",
    "            subjet1_phi=df['jet_subjet1_phi'],\n",
    "            subjet1_m=df['jet_subjet1_m'],\n",
    "            tau1=df['jet_tau1'],\n",
    "            tau2=df['jet_tau2'],\n",
    "            tau3=df['jet_tau3'],\n",
    "            tau4=df['jet_tau4'],\n",
    "            ic=df['jet_ic'],\n",
    "            nc=df['jet_nc']\n",
    "            )        \n",
    "        ntuple_constituents = JaggedCandidateArray.candidatesfromcounts(\n",
    "            df['nConstituent'],\n",
    "            pt=df['constituent_pt'],\n",
    "            eta=df['constituent_eta'],\n",
    "            phi=df['constituent_phi'],\n",
    "            mass=df['constituent_m'],\n",
    "            pdgid=df['constituent_id'],\n",
    "            status=df['constituent_status'],\n",
    "            jetndx=df['constituent_jetndx'],\n",
    "            subjetndx=df['constituent_subjetndx'],\n",
    "            )\n",
    "        \n",
    "        pullconstituents = ntuple_constituents\n",
    "        deta,dphi,centroid1,centroid2= transform_to_softdrop_axes(ntuple_constituents, Jets[:,0])        \n",
    "        ntuple_constituents.add_attributes( deta=deta )\n",
    "        ntuple_constituents.add_attributes( dphi=dphi )\n",
    "        \n",
    "       # print(evnum)\n",
    "        \n",
    "        constituents = ntuple_constituents[ntuple_constituents.pt > 1]\n",
    "        pulljets = Jets\n",
    "        Jets = Jets[Jets.pt > 200]\n",
    "        oneJet = (Jets.counts >=1)\n",
    "        Jets = Jets[oneJet]\n",
    "        constituents = constituents[oneJet]\n",
    "        jetconstituents=constituents[ constituents.jetndx == 0]\n",
    "\n",
    "        validImages = np.zeros(int(np.max(evnum)+1), dtype=bool)\n",
    "        evnum = evnum[oneJet]\n",
    "        validImages[evnum] = True\n",
    "                \n",
    "        dr = Jets[:,0].p4.delta_r(constituents.p4)\n",
    "        deta = jetconstituents.deta\n",
    "        dphi = jetconstituents.dphi\n",
    "        \n",
    "        # Get the leading 20 constituents in each event for\n",
    "        # output to a npz file for deepak8 like architechtures. \n",
    "        truncated_constituents = jetconstituents[jetconstituents.pt.argsort()][:,:20]\n",
    "\n",
    "        \n",
    "        # Make a Jagged Array of event numbers with the correct offsets\n",
    "        jaggedshape = JaggedArray.fromoffsets( jetconstituents.offsets, np.ones(deta.flatten().shape[0]))\n",
    "        eventReshaped = jaggedshape * evnum\n",
    "        \n",
    "        # Performing parity flip so that sum(right) is higher than sum(left) for each image\n",
    "        eventbins = np.arange(len(validImages)+1)\n",
    "        xbins= np.linspace(-2,2,num=self.eta_bins+1)\n",
    "        ybins= np.linspace(-2,2,num=self.phi_bins+1)\n",
    "        \n",
    "        # For the images, normalize each constituent to the jet pt\n",
    "        # to remove any pt dependence\n",
    "        const_pts = jetconstituents.pt\n",
    "        normed_pts = const_pts / Jets[:,0].p4.pt\n",
    "        \n",
    "        #print('normed_pts = ', normed_pts)\n",
    "    \n",
    "        \n",
    "        #H_images = np.histogramdd((eventReshaped.flatten(),dphi.flatten(),deta.flatten()),\n",
    "        #            bins=(eventbins ,ybins, xbins), weights = normed_pts.flatten())[0]\n",
    "        #H_images = H_images[validImages]\n",
    "        #mask = (np.sum(H_images[:,:,:int(self.eta_bins/2)], axis = (1,2)) < np.sum(H_images[:,:,int(self.eta_bins/2):], axis = (1,2)))\n",
    "        #sign = np.where(mask, 1, -1)\n",
    "        #deta = (sign*deta)\n",
    "        #H_images_new = np.histogramdd((eventReshaped.flatten(),dphi.flatten(),deta.flatten()),\n",
    "        #            bins=(eventbins ,ybins, xbins), weights = normed_pts.flatten())[0]\n",
    "\n",
    "        labels = np.zeros([len(deta),4])\n",
    "        if (\"Zprime1TeV\" in dataset):\n",
    "            labels[:,1]=1\n",
    "        elif (\"Zprime2TeV\" in dataset):\n",
    "            labels[:,2]=1\n",
    "        elif (\"Zprime3TeV\" in dataset):\n",
    "            labels[:,3]=1\n",
    "        else:\n",
    "            labels[:,0]=1\n",
    "            \n",
    "        charge = np.zeros([len(constituents.pt)])\n",
    "        idfound1 = abs(jetconstituents.pdgid) == 2212 # proton\n",
    "        idfound2 = abs(jetconstituents.pdgid) == 211  # pion\n",
    "        idfound3 = abs(jetconstituents.pdgid) == 321  # kaon\n",
    "        idfound4 = abs(jetconstituents.pdgid) == 2112 # neutron\n",
    "        idfound5 = abs(jetconstituents.pdgid) == 130  # K-long\n",
    "        idfound6 = abs(jetconstituents.pdgid) == 22   # photon    \n",
    "        idfound7 = abs(jetconstituents.pdgid) == 11\n",
    "        idfound8 = abs(jetconstituents.pdgid) == 12\n",
    "        idfound9 = abs(jetconstituents.pdgid) == 13\n",
    "        idfound10 = abs(jetconstituents.pdgid) == 14\n",
    "        idfound11 = abs(jetconstituents.pdgid) == 15\n",
    "        idfound12 = abs(jetconstituents.pdgid) == 16\n",
    "        # all else = 11, 12, 13, 14, 15, 16 (leptons and lepton neutrinos)\n",
    "        ids = idfound1 | idfound2 | idfound3 | idfound4 | idfound5 | idfound6 | idfound8 | idfound8 | idfound9 | idfound10 | idfound11 | idfound12\n",
    "        \n",
    "        isEle = abs(jetconstituents.pdgid) == 11\n",
    "        isMuon = abs(jetconstituents.pdgid) == 13\n",
    "        isPho = abs(jetconstituents.pdgid) == 22\n",
    "        \n",
    "        ID = jetconstituents.pdgid\n",
    "        chID = idfound1 | idfound2 | idfound3\n",
    "        isFinal = (jetconstituents.status == 91)\n",
    "        nhID = idfound4 | idfound5\n",
    "        nonHID = ~chID & ~nhID\n",
    "        \n",
    "        #pdgs = jetconstituents[~ids].pdgid\n",
    "        #pdgbool = np.abs(pdgs) > np.zeros_like(jetconstituents)\n",
    "        #print(pdgs[np.where(pdgbool)])\n",
    "                \n",
    "        chargedHadrons = jetconstituents[chID & isFinal]\n",
    "        neutralHadrons = jetconstituents[nhID & isFinal]\n",
    "        nonHadrons = jetconstituents[nonHID & isFinal]\n",
    "        photons = jetconstituents[isPho & isFinal]\n",
    "        electrons = jetconstituents[isEle & isFinal]\n",
    "        muons = jetconstituents[isMuon & isFinal]\n",
    "        \n",
    "        truncated_chargedHadrons = chargedHadrons[chargedHadrons.pt.argsort()][:,:20]\n",
    "        truncated_neutralHadrons = neutralHadrons[neutralHadrons.pt.argsort()][:,:20]\n",
    "        truncated_nonHadrons = nonHadrons[nonHadrons.pt.argsort()][:,:20]\n",
    "     \n",
    "        chargedHadronsPt_jagged = JaggedArray.fromiter(chargedHadrons.p4.pt)\n",
    "        neutralHadronsPt_jagged = JaggedArray.fromiter(neutralHadrons.p4.pt)\n",
    "        nonHadronsPt_jagged = JaggedArray.fromiter(nonHadrons.p4.pt)\n",
    "        photonsPt_jagged = JaggedArray.fromiter(photons.p4.pt)\n",
    "        electronsPt_jagged = JaggedArray.fromiter(electrons.p4.pt)\n",
    "        muonsPt_jagged = JaggedArray.fromiter(muons.p4.pt)\n",
    "        \n",
    "        chargedHadronMult = chargedHadronsPt_jagged.count()\n",
    "        neutralHadronMult = neutralHadronsPt_jagged.count()\n",
    "        nonHadronMult = nonHadronsPt_jagged.count()\n",
    "        photonMult = photonsPt_jagged.count()\n",
    "        electronMult = electronsPt_jagged.count()\n",
    "        muonMult = muonsPt_jagged.count()\n",
    "                \n",
    "        output['pt'].fill(dataset=dataset,\n",
    "                          pt=Jets.pt[:,0].flatten())\n",
    "        output['chPt'].fill(dataset=dataset,\n",
    "                            chPt=chargedHadrons.pt.flatten(),\n",
    "                            hadron=\"Charged Hadrons\",\n",
    "                           )\n",
    "        output['chPt'].fill(dataset=dataset,\n",
    "                            chPt=neutralHadrons.pt.flatten(),\n",
    "                            hadron=\"Neutral Hadrons\",\n",
    "                           )\n",
    "        output['chPt'].fill(dataset=dataset,\n",
    "                            chPt=nonHadrons.pt.flatten(),\n",
    "                            hadron=\"Non Hadrons\",\n",
    "                           )\n",
    "        \n",
    "        output['hmult'].fill(dataset=dataset,\n",
    "                            mult=chargedHadronMult,\n",
    "                            hadron=\"Charged Hadrons\",\n",
    "                           )\n",
    "        output['hmult'].fill(dataset=dataset,\n",
    "                            mult=neutralHadronMult,\n",
    "                            hadron=\"Neutral Hadrons\",\n",
    "                           )\n",
    "        output['hmult'].fill(dataset=dataset,\n",
    "                            mult=nonHadronMult,\n",
    "                            hadron=\"Non Hadrons\",\n",
    "                           )\n",
    "        output['h_phoMult'].fill(dataset=dataset,\n",
    "                            mult=photonMult,\n",
    "                           )        \n",
    "       \n",
    "        output['h_eleMult'].fill(dataset=dataset,\n",
    "                            mult=electronMult,\n",
    "                           )   \n",
    "        \n",
    "        output['h_muMult'].fill(dataset=dataset,\n",
    "                            mult=muonMult,\n",
    "                           )           \n",
    "        tau1 = Jets.tau1[:,0].flatten()\n",
    "        tau2 = Jets.tau2[:,0].flatten()\n",
    "        tau3 = Jets.tau3[:,0].flatten()\n",
    "        tau4 = Jets.tau4[:,0].flatten()\n",
    "\n",
    "        tau21 = np.where( tau1 > 0, tau2/tau1, 0)\n",
    "        tau31 = np.where( tau1 > 0, tau3/tau1, 0)\n",
    "        tau32 = np.where( tau2 > 0, tau3/tau2, 0)\n",
    "        \n",
    "        \n",
    "        Jets = Jets[ Jets.nsubjet >= 2 ]\n",
    "        constituents = constituents[Jets.counts >=1]\n",
    "        Jets = Jets[Jets.counts >= 1] ## at least one jet with two subjets\n",
    "        \n",
    "        Jet0 = Jets[:,0]\n",
    "        \n",
    "        \n",
    "        SubJet0 = uproot_methods.TLorentzVectorArray.from_ptetaphim( Jet0.subjet0_pt, Jet0.subjet0_eta, Jet0.subjet0_phi, Jet0.subjet0_m )\n",
    "        SubJet1 = uproot_methods.TLorentzVectorArray.from_ptetaphim( Jet0.subjet1_pt, Jet0.subjet1_eta, Jet0.subjet1_phi, Jet0.subjet1_m )\n",
    "        Jet0_constituents = constituents[constituents.jetndx == 0]\n",
    "        SubJet0_constituents = constituents[(constituents.jetndx == 0) & (constituents.subjetndx == 0)]\n",
    "        SubJet1_constituents = constituents[(constituents.jetndx == 0) & (constituents.subjetndx == 1)]\n",
    "\n",
    "        ## calculating jet pull ###\n",
    "        constituent_pt = SubJet0_constituents.pt\n",
    "        constituent_y = SubJet0_constituents.p4.rapidity\n",
    "        constituent_phi = SubJet0_constituents.p4.phi\n",
    "        \n",
    "        pull_r = SubJet0.delta_r(SubJet1)\n",
    "        pull_dphi = SubJet0.delta_phi(SubJet1)\n",
    "        pull_dy = SubJet0.rapidity - SubJet1.rapidity\n",
    "        \n",
    "\n",
    "        #print(pull_r)\n",
    "        \n",
    "        pull_i_r = SubJet0_constituents.p4.delta_r(SubJet0)\n",
    "        pull_i_dphi = SubJet0_constituents.p4.delta_phi(SubJet0)\n",
    "        pull_i_dy = SubJet0_constituents.p4.rapidity - SubJet0.rapidity\n",
    "        \n",
    "        #print(pull_i_r)\n",
    "        \n",
    "        #calculate phi and y components of pull\n",
    "\n",
    "        valtemp = np.divide( np.multiply(constituent_pt, pull_i_r), Jet0.p4.pt )\n",
    "        pull_tosum_phi = np.multiply(valtemp, pull_i_dphi)\n",
    "        pull_tosum_y = np.multiply(valtemp, pull_i_dy)\n",
    "        \n",
    "        \n",
    "        \n",
    "        pull_sum_phi = pull_tosum_phi.sum()\n",
    "        pull_sum_y = pull_tosum_y.sum()\n",
    "        pull_mag = np.sqrt(np.power(pull_sum_phi,2) + np.power(pull_sum_y,2))\n",
    "        #calculate pull angle in polar coordinates\n",
    "        pull_angle = np.arctan2(pull_sum_phi, pull_sum_y)\n",
    "        \n",
    "\n",
    "        \n",
    "        output['eta'].fill(dataset=dataset,\n",
    "                           eta=Jets.eta[:,0].flatten())\n",
    "        #output['flippedImages'] += processor.column_accumulator(H_images_new[validImages])\n",
    "        output['jetPt'] += processor.column_accumulator(Jets.pt[:,0].flatten())\n",
    "        output['jetEta'] += processor.column_accumulator(Jets.eta[:,0].flatten())\n",
    "        output['jetPhi'] += processor.column_accumulator(Jets.phi[:,0].flatten())\n",
    "        output['jetTau21'] += processor.column_accumulator(tau21)\n",
    "        output['jetTau31'] += processor.column_accumulator(tau31)\n",
    "        output['jetTau32'] += processor.column_accumulator(tau32)\n",
    "\n",
    "        \n",
    "        output['jetconstEvnum'] += processor.column_accumulator(np.repeat(eventReshaped[:,:1].flatten(), 20, axis=0))\n",
    "        output['jetconstPt'] += processor.column_accumulator(pd.DataFrame(truncated_constituents.p4.pt).fillna(0.0).values.flatten())\n",
    "        output['jetconstEta'] += processor.column_accumulator(pd.DataFrame(truncated_constituents.p4.eta).fillna(0.0).values.flatten())\n",
    "        output['jetconstPhi'] += processor.column_accumulator(pd.DataFrame(truncated_constituents.p4.phi).fillna(0.0).values.flatten())\n",
    "        output['chargedHadronMult'] += processor.column_accumulator(pd.DataFrame(chargedHadronMult).fillna(0.0).values.flatten())\n",
    "        output['neutralHadronMult'] += processor.column_accumulator(pd.DataFrame(neutralHadronMult).fillna(0.0).values.flatten())\n",
    "        output['photonMult'] += processor.column_accumulator(pd.DataFrame(photonMult).fillna(0.0).values.flatten())\n",
    "        output['electronMult'] += processor.column_accumulator(pd.DataFrame(electronMult).fillna(0.0).values.flatten())\n",
    "        output['muonMult'] += processor.column_accumulator(pd.DataFrame(muonMult).fillna(0.0).values.flatten())\n",
    "        output['chargedHadronPt'] += processor.column_accumulator(pd.DataFrame(truncated_chargedHadrons.p4.pt).fillna(0.0).values.flatten())\n",
    "        output['chargedHadronEta'] += processor.column_accumulator(pd.DataFrame(truncated_chargedHadrons.p4.pt).fillna(0.0).values.flatten())\n",
    "        output['chargedHadronPhi'] += processor.column_accumulator(pd.DataFrame(truncated_chargedHadrons.p4.pt).fillna(0.0).values.flatten())\n",
    "        output['neutralHadronPt'] += processor.column_accumulator(pd.DataFrame(truncated_neutralHadrons.p4.pt).fillna(0.0).values.flatten())\n",
    "        output['neutralHadronEta'] += processor.column_accumulator(pd.DataFrame(truncated_neutralHadrons.p4.pt).fillna(0.0).values.flatten())\n",
    "        output['neutralHadronPhi'] += processor.column_accumulator(pd.DataFrame(truncated_neutralHadrons.p4.pt).fillna(0.0).values.flatten())\n",
    "        output['pullAngle'] += processor.column_accumulator(pd.DataFrame(np.abs(pull_angle)).fillna(0.0).values.flatten())\n",
    "        output['label'] += processor.column_accumulator(labels)\n",
    "        #output['image'].fill(dataset=dataset,\n",
    "        #                    event=eventReshaped.flatten(), \n",
    "        #                    image_deta=deta.flatten(),\n",
    "        #                    image_dphi=dphi.flatten(),\n",
    "        #                    weight=normed_pts.flatten())\n",
    "        output['dr'].fill(dataset=dataset,\n",
    "                          dr=dr.flatten())\n",
    "        output['pdgid'].fill(dataset=dataset,\n",
    "                             pdgid=jetconstituents.pdgid.flatten())\n",
    "        output['tau21'].fill(dataset=dataset,\n",
    "                          tau=tau21)\n",
    "        output['tau31'].fill(dataset=dataset,\n",
    "                          tau=tau31)\n",
    "        output['tau32'].fill(dataset=dataset,\n",
    "                          tau=tau32)\n",
    "        \n",
    "        output['h_jetPull'].fill(dataset=dataset,\n",
    "                          pull=pull_mag.flatten())\n",
    "        \n",
    "        output['h_jetPullAngle'].fill(dataset=dataset,\n",
    "                          pullAngle=pull_angle.flatten())\n",
    "        \n",
    "        \n",
    "        return output\n",
    "\n",
    "    def postprocess(self, accumulator):\n",
    "        return accumulator"
   ]
  },
  {
   "cell_type": "code",
   "execution_count": null,
   "metadata": {
    "scrolled": false
   },
   "outputs": [
    {
     "data": {
      "application/vnd.jupyter.widget-view+json": {
       "model_id": "5e7a3d4f9b5a4cd1ac1ef13f95cd1bb5",
       "version_major": 2,
       "version_minor": 0
      },
      "text/plain": [
       "HBox(children=(IntProgress(value=0, description='Preprocessing', max=4, style=ProgressStyle(description_width=…"
      ]
     },
     "metadata": {},
     "output_type": "display_data"
    },
    {
     "name": "stdout",
     "output_type": "stream",
     "text": [
      "\n"
     ]
    },
    {
     "data": {
      "application/vnd.jupyter.widget-view+json": {
       "model_id": "9d458511d7414efda87cf5c50d806238",
       "version_major": 2,
       "version_minor": 0
      },
      "text/plain": [
       "HBox(children=(IntProgress(value=0, description='Processing', max=3959, style=ProgressStyle(description_width=…"
      ]
     },
     "metadata": {},
     "output_type": "display_data"
    }
   ],
   "source": [
    "fileset={\n",
    "     'Zprime1TeV':['/mnt/data/ml/gravkk_zz_1TeV_addindices.root'],\n",
    "     'Zprime2TeV':['/mnt/data/ml/gravkk_zz_2TeV_addindices.root'],\n",
    "     'Zprime3TeV':['/mnt/data/ml/gravkk_zz_3TeV_addindices.root'],\n",
    "     'QCD':['/mnt/data/ml/qcd_flat15to7000_addindices.root']\n",
    "}\n",
    "tstart = time.time() \n",
    "output = processor.run_uproot_job(fileset,\n",
    "                                  treename='T',\n",
    "                                  processor_instance=JetImageProcessor(),\n",
    "                                  executor=processor.futures_executor,\n",
    "                                  executor_args={'workers':3, 'flatten': True},\n",
    "                                  chunksize=1000)#, maxchunks=1)\n",
    "elapsed = time.time() - tstart\n",
    "# print(output)"
   ]
  },
  {
   "cell_type": "code",
   "execution_count": 11,
   "metadata": {},
   "outputs": [
    {
     "name": "stdout",
     "output_type": "stream",
     "text": [
      "['pt', 'eta', 'flippedImages', 'jetEta', 'jetPhi', 'jetPt', 'jetTau21', 'jetTau31', 'jetTau32', 'chPt', 'hmult', 'h_muMult', 'h_eleMult', 'h_phoMult', 'h_jetPull', 'h_jetPullAngle', 'h_subjetConstDr', 'h_subjet12Dr', 'jetconstEvnum', 'jetconstEta', 'jetconstPhi', 'jetconstPt', 'chargedHadronMult', 'neutralHadronMult', 'photonMult', 'electronMult', 'muonMult', 'chargedHadronPt', 'chargedHadronEta', 'chargedHadronPhi', 'neutralHadronPt', 'neutralHadronEta', 'neutralHadronPhi', 'jetconstCharge', 'label', 'image', 'dr', 'pdgid', 'tau21', 'tau31', 'tau32', 'cutflow']\n",
      "(139651,)\n",
      "(139651,)\n",
      "(139651,)\n",
      "(139651,)\n",
      "(139651,)\n"
     ]
    }
   ],
   "source": [
    "parameters = list(output)\n",
    "print(parameters)\n",
    "dataStream(output)"
   ]
  },
  {
   "cell_type": "code",
   "execution_count": null,
   "metadata": {},
   "outputs": [],
   "source": []
  },
  {
   "cell_type": "code",
   "execution_count": null,
   "metadata": {},
   "outputs": [],
   "source": [
    "import matplotlib.pyplot as plt\n",
    "from matplotlib.colors import LogNorm\n"
   ]
  },
  {
   "cell_type": "code",
   "execution_count": null,
   "metadata": {},
   "outputs": [],
   "source": [
    "plt.rcParams['figure.dpi'] = 90"
   ]
  },
  {
   "cell_type": "code",
   "execution_count": null,
   "metadata": {},
   "outputs": [],
   "source": [
    "fig, ax, grid = hist.plot2d(output['image'].integrate('dataset', 'Zprime1TeV').integrate(\"event\",1),\n",
    "                            xaxis='image_deta', patch_opts={'norm':LogNorm(vmin=1e-3, vmax=1),'cmap':'Greens'})\n",
    "print(fig)\n",
    "fig.savefig(\"Zprime1TeV_eventImage.png\")"
   ]
  },
  {
   "cell_type": "code",
   "execution_count": null,
   "metadata": {},
   "outputs": [],
   "source": [
    "fig, ax, grid = hist.plot2d(output['image'].integrate('dataset', 'Zprime1TeV').integrate(\"event\"),\n",
    "                            xaxis='image_deta', patch_opts={'norm':LogNorm(vmin=1, vmax=1e3),'cmap':'Greens'})\n",
    "print(fig)\n",
    "fig.savefig(\"Zprime1TeV_image.png\")"
   ]
  },
  {
   "cell_type": "code",
   "execution_count": null,
   "metadata": {
    "scrolled": true
   },
   "outputs": [],
   "source": [
    "fig, ax, grid = hist.plot2d(output['image'].integrate('dataset', 'Zprime2TeV').integrate(\"event\"),\n",
    "                            xaxis='image_deta', patch_opts={'norm':LogNorm(vmin=1, vmax=1e3),'cmap':'Greens'})\n",
    "print(fig)\n",
    "fig.savefig(\"Zprime2TeV_image.png\")"
   ]
  },
  {
   "cell_type": "code",
   "execution_count": null,
   "metadata": {},
   "outputs": [],
   "source": [
    "fig, ax, grid = hist.plot2d(output['image'].integrate('dataset', 'Zprime3TeV').integrate(\"event\"),\n",
    "                            xaxis='image_deta', patch_opts={'norm':LogNorm(vmin=1, vmax=1e3),'cmap':'Greens'})\n",
    "print(fig)\n",
    "fig.savefig(\"Zprime3TeV_image.png\")"
   ]
  },
  {
   "cell_type": "code",
   "execution_count": null,
   "metadata": {},
   "outputs": [],
   "source": [
    "fig, ax, grid = hist.plot2d(output['image'].integrate('dataset', 'Zprime3TeV').integrate(\"event\",1)\n",
    "                            ,xaxis='image_deta', patch_opts={'norm':LogNorm(vmin=1e-3, vmax=1),'cmap':'Greens'})\n",
    "print(fig)\n",
    "fig.savefig(\"Zprime3TeV_eventImage.png\")"
   ]
  },
  {
   "cell_type": "code",
   "execution_count": null,
   "metadata": {},
   "outputs": [],
   "source": [
    "fig, ax, grid = hist.plot2d(output['image'].integrate('dataset', 'QCD').integrate(\"event\"),\n",
    "                            xaxis='image_deta', patch_opts={'norm':LogNorm(vmin=1, vmax=1e3),'cmap':'Greens'})\n",
    "print(fig)\n",
    "fig.savefig(\"QCD_image.png\")"
   ]
  },
  {
   "cell_type": "code",
   "execution_count": 16,
   "metadata": {},
   "outputs": [
    {
     "data": {
      "image/png": "[encoded data removed]",
      "text/plain": [
       "<Figure size 432x288 with 1 Axes>"
      ]
     },
     "metadata": {
      "needs_background": "light"
     },
     "output_type": "display_data"
    }
   ],
   "source": [
    "fig, ax = hist.plotgrid(output['dr'], overlay=\"dataset\", stack=False, density=True\n",
    "                                 )\n",
    "for iax in ax.flatten():\n",
    "    iax.autoscale(axis='y')\n",
    "fig.show()\n",
    "fig.savefig(\"dr_plot.png\")"
   ]
  },
  {
   "cell_type": "code",
   "execution_count": null,
   "metadata": {},
   "outputs": [],
   "source": [
    "fig, ax = hist.plotgrid(output['pt'], overlay=\"dataset\", stack=False, density=True\n",
    "                                 )\n",
    "for iax in ax.flatten():\n",
    "    iax.autoscale(axis='y')\n",
    "fig.show()\n",
    "fig.savefig(\"pt_plot.png\")"
   ]
  },
  {
   "cell_type": "code",
   "execution_count": null,
   "metadata": {},
   "outputs": [],
   "source": [
    "fig, ax = hist.plotgrid(output['tau21'], overlay=\"dataset\", stack=False, density=True\n",
    "                                 )\n",
    "for iax in ax.flatten():\n",
    "    iax.autoscale(axis='y')\n",
    "    iax.set_xlabel(r'$\\tau_{21}$')\n",
    "fig.show()\n",
    "fig.savefig(\"tau_plot.png\")"
   ]
  },
  {
   "cell_type": "code",
   "execution_count": null,
   "metadata": {},
   "outputs": [],
   "source": [
    "fig, ax = hist.plotgrid(output['chPt'].integrate(\"dataset\"), overlay=\"hadron\", stack=False, density=True\n",
    "                                 )\n",
    "for iax in ax.flatten():\n",
    "    iax.autoscale(axis='y')\n",
    "    \n",
    "fig.show()\n",
    "fig.savefig(\"chPt_plot.png\")"
   ]
  },
  {
   "cell_type": "code",
   "execution_count": null,
   "metadata": {},
   "outputs": [],
   "source": [
    "fig, ax = hist.plotgrid(output['hmult'].integrate(\"hadron\",\"Charged Hadrons\"), overlay=\"dataset\", stack=False, density=True\n",
    "                                 )\n",
    "for iax in ax.flatten():\n",
    "    iax.autoscale(axis='y')\n",
    "    iax.set_xlabel(\"Charged Hadron Multicplicity\")\n",
    "    \n",
    "fig.show()\n",
    "fig.savefig(\"chMult_plot.png\")"
   ]
  },
  {
   "cell_type": "code",
   "execution_count": null,
   "metadata": {},
   "outputs": [],
   "source": [
    "fig, ax = hist.plotgrid(output['hmult'].integrate(\"hadron\",\"Neutral Hadrons\"), overlay=\"dataset\", stack=False, density=True\n",
    "                                 )\n",
    "for iax in ax.flatten():\n",
    "    iax.autoscale(axis='y')\n",
    "    \n",
    "fig.show()\n",
    "fig.savefig(\"neutMult_plot.png\")"
   ]
  },
  {
   "cell_type": "code",
   "execution_count": null,
   "metadata": {},
   "outputs": [],
   "source": [
    "fig, ax = hist.plotgrid(output['hmult'].integrate(\"hadron\",\"Charged Hadrons\"), overlay=\"dataset\", stack=False, density=True\n",
    "                                 )\n",
    "for iax in ax.flatten():\n",
    "    iax.autoscale(axis='y')\n",
    "    \n",
    "fig.show()\n"
   ]
  },
  {
   "cell_type": "code",
   "execution_count": null,
   "metadata": {},
   "outputs": [],
   "source": [
    "fig, ax = hist.plotgrid(output['h_eleMult'], overlay=\"dataset\", stack=False, density=True\n",
    "                                 )\n",
    "for iax in ax.flatten():\n",
    "    iax.autoscale(axis='y')\n",
    "    iax.set_xlim([0,10])\n",
    "    iax.set_title('Electron Multiplicity')\n",
    "    iax.set_xlabel('Electron Multiplicity')\n",
    "\n",
    "fig.show()\n",
    "fig.savefig(\"eleMult_plot.png\")"
   ]
  },
  {
   "cell_type": "code",
   "execution_count": null,
   "metadata": {},
   "outputs": [],
   "source": [
    "fig, ax = hist.plotgrid(output['h_muMult'], overlay=\"dataset\", stack=False, density=True\n",
    "                                 )\n",
    "for iax in ax.flatten():\n",
    "    iax.autoscale(axis='y')\n",
    "    iax.set_xlim([0,10])\n",
    "    iax.set_title('Muon Multiplicity')\n",
    "    iax.set_xlabel('Muon Multiplicity')\n",
    "\n",
    "fig.show()\n",
    "fig.savefig(\"muMult_plot.png\")"
   ]
  },
  {
   "cell_type": "code",
   "execution_count": null,
   "metadata": {},
   "outputs": [],
   "source": [
    "fig, ax = hist.plotgrid(output['h_phoMult'], overlay=\"dataset\", stack=False, density=True\n",
    "                                 )\n",
    "for iax in ax.flatten():\n",
    "    iax.autoscale(axis='y')\n",
    "    iax.set_title('Photon Multiplicity')\n",
    "    iax.set_xlabel('Photon Multiplicity')\n",
    "\n",
    "\n",
    "\n",
    "fig.show()\n",
    "fig.savefig(\"phoMult_plot.png\")"
   ]
  },
  {
   "cell_type": "code",
   "execution_count": 22,
   "metadata": {
    "scrolled": false
   },
   "outputs": [
    {
     "data": {
      "image/png": "[encoded data removed]",
      "text/plain": [
       "<Figure size 432x288 with 1 Axes>"
      ]
     },
     "metadata": {
      "needs_background": "light"
     },
     "output_type": "display_data"
    }
   ],
   "source": [
    "fig, ax = hist.plotgrid(output['h_jetPullAngle'], overlay=\"dataset\", stack=False, density=True\n",
    "                                 )\n",
    "for iax in ax.flatten():\n",
    "    iax.autoscale(axis='y')\n",
    "    iax.set_title('Jet Pull Angle')\n",
    "\n",
    "\n",
    "fig.show()\n",
    "fig.savefig(\"pullAngle_plot.png\")"
   ]
  },
  {
   "cell_type": "code",
   "execution_count": 9,
   "metadata": {},
   "outputs": [],
   "source": [
    "fig, ax = hist.plotgrid(output['h_jetPull'], overlay=\"dataset\", stack=False, density=True\n",
    "                                 )\n",
    "for iax in ax.flatten():\n",
    "    iax.autoscale(axis='y')\n",
    "    iax.set_title('Jet Pull')\n",
    "    iax.set_xlabel('Jet Pull')\n",
    "    iax.set_xlim([0,0.1])\n",
    "\n",
    "\n",
    "fig.show()\n",
    "fig.savefig(\"jetPull_plot.png\")"
   ]
  },
  {
   "cell_type": "code",
   "execution_count": 15,
   "metadata": {},
   "outputs": [
    {
     "data": {
      "image/png": "[encoded data removed]",
      "text/plain": [
       "<Figure size 432x288 with 1 Axes>"
      ]
     },
     "metadata": {
      "needs_background": "light"
     },
     "output_type": "display_data"
    }
   ],
   "source": [
    "fig, ax = hist.plotgrid(output['h_subjet12Dr'], overlay=\"dataset\", stack=False, density=True\n",
    "                                 )\n",
    "for iax in ax.flatten():\n",
    "    iax.autoscale(axis='y')\n",
    "    iax.set_xlabel('Subjet $\\Delta R$')\n",
    "\n",
    "\n",
    "fig.show()\n",
    "fig.savefig(\"subjetDr.png\")"
   ]
  },
  {
   "cell_type": "code",
   "execution_count": 2,
   "metadata": {},
   "outputs": [
    {
     "data": {
      "text/plain": [
       "array([[1, 0, 0, 0],\n",
       "       [1, 0, 0, 0],\n",
       "       [1, 0, 0, 0],\n",
       "       [1, 0, 0, 0],\n",
       "       [1, 0, 0, 0],\n",
       "       [1, 0, 0, 0],\n",
       "       [1, 0, 0, 0],\n",
       "       [1, 0, 0, 0],\n",
       "       [1, 0, 0, 0],\n",
       "       [1, 0, 0, 0],\n",
       "       [1, 0, 0, 0],\n",
       "       [1, 0, 0, 0],\n",
       "       [1, 0, 0, 0],\n",
       "       [1, 0, 0, 0],\n",
       "       [1, 0, 0, 0],\n",
       "       [1, 0, 0, 0],\n",
       "       [1, 0, 0, 0],\n",
       "       [1, 0, 0, 0],\n",
       "       [1, 0, 0, 0],\n",
       "       [1, 0, 0, 0],\n",
       "       [0, 1, 0, 0],\n",
       "       [0, 1, 0, 0],\n",
       "       [0, 1, 0, 0],\n",
       "       [0, 1, 0, 0],\n",
       "       [0, 1, 0, 0],\n",
       "       [0, 1, 0, 0],\n",
       "       [0, 1, 0, 0],\n",
       "       [0, 1, 0, 0],\n",
       "       [0, 1, 0, 0],\n",
       "       [0, 1, 0, 0],\n",
       "       [0, 1, 0, 0],\n",
       "       [0, 1, 0, 0],\n",
       "       [0, 1, 0, 0],\n",
       "       [0, 1, 0, 0],\n",
       "       [0, 1, 0, 0],\n",
       "       [0, 1, 0, 0],\n",
       "       [0, 1, 0, 0],\n",
       "       [0, 1, 0, 0],\n",
       "       [0, 1, 0, 0],\n",
       "       [0, 1, 0, 0]])"
      ]
     },
     "execution_count": 2,
     "metadata": {},
     "output_type": "execute_result"
    }
   ],
   "source": [
    "import numpy as np\n",
    "a = np.array([[1, 0, 0, 0], [0,1,0,0]])\n",
    "a = np.repeat(a, 20, axis=0) #.reshape(len(labels)*20, 4)\n",
    "a"
   ]
  },
  {
   "cell_type": "code",
   "execution_count": 2,
   "metadata": {},
   "outputs": [],
   "source": [
    "import numpy as np\n",
    "data = np.load('/mnt/data/ml/ShowJetsDataTest2.npz')"
   ]
  },
  {
   "cell_type": "code",
   "execution_count": 7,
   "metadata": {},
   "outputs": [
    {
     "data": {
      "text/plain": [
       "array([[0., 1., 0., 0.],\n",
       "       [0., 1., 0., 0.],\n",
       "       [0., 1., 0., 0.],\n",
       "       ...,\n",
       "       [0., 1., 0., 0.],\n",
       "       [0., 1., 0., 0.],\n",
       "       [0., 1., 0., 0.]])"
      ]
     },
     "execution_count": 7,
     "metadata": {},
     "output_type": "execute_result"
    }
   ],
   "source": [
    "labels = data['labels']\n",
    "labels[np.where(labels[:,1]==1)]"
   ]
  },
  {
   "cell_type": "code",
   "execution_count": null,
   "metadata": {},
   "outputs": [],
   "source": []
  }
 ],
 "metadata": {
  "kernelspec": {
   "display_name": "Python 3",
   "language": "python",
   "name": "python3"
  },
  "language_info": {
   "codemirror_mode": {
    "name": "ipython",
    "version": 3
   },
   "file_extension": ".py",
   "mimetype": "text/x-python",
   "name": "python",
   "nbconvert_exporter": "python",
   "pygments_lexer": "ipython3",
   "version": "3.6.8"
  }
 },
 "nbformat": 4,
 "nbformat_minor": 2
}
