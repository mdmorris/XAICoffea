{
 "cells": [
  {
   "cell_type": "code",
   "execution_count": 2,
   "metadata": {},
   "outputs": [
    {
     "name": "stderr",
     "output_type": "stream",
     "text": [
      "Using TensorFlow backend.\n",
      "/opt/conda/lib/python3.7/site-packages/tensorflow/python/framework/dtypes.py:526: FutureWarning: Passing (type, 1) or '1type' as a synonym of type is deprecated; in a future version of numpy, it will be understood as (type, (1,)) / '(1,)type'.\n",
      "  _np_qint8 = np.dtype([(\"qint8\", np.int8, 1)])\n",
      "/opt/conda/lib/python3.7/site-packages/tensorflow/python/framework/dtypes.py:527: FutureWarning: Passing (type, 1) or '1type' as a synonym of type is deprecated; in a future version of numpy, it will be understood as (type, (1,)) / '(1,)type'.\n",
      "  _np_quint8 = np.dtype([(\"quint8\", np.uint8, 1)])\n",
      "/opt/conda/lib/python3.7/site-packages/tensorflow/python/framework/dtypes.py:528: FutureWarning: Passing (type, 1) or '1type' as a synonym of type is deprecated; in a future version of numpy, it will be understood as (type, (1,)) / '(1,)type'.\n",
      "  _np_qint16 = np.dtype([(\"qint16\", np.int16, 1)])\n",
      "/opt/conda/lib/python3.7/site-packages/tensorflow/python/framework/dtypes.py:529: FutureWarning: Passing (type, 1) or '1type' as a synonym of type is deprecated; in a future version of numpy, it will be understood as (type, (1,)) / '(1,)type'.\n",
      "  _np_quint16 = np.dtype([(\"quint16\", np.uint16, 1)])\n",
      "/opt/conda/lib/python3.7/site-packages/tensorflow/python/framework/dtypes.py:530: FutureWarning: Passing (type, 1) or '1type' as a synonym of type is deprecated; in a future version of numpy, it will be understood as (type, (1,)) / '(1,)type'.\n",
      "  _np_qint32 = np.dtype([(\"qint32\", np.int32, 1)])\n",
      "/opt/conda/lib/python3.7/site-packages/tensorflow/python/framework/dtypes.py:535: FutureWarning: Passing (type, 1) or '1type' as a synonym of type is deprecated; in a future version of numpy, it will be understood as (type, (1,)) / '(1,)type'.\n",
      "  np_resource = np.dtype([(\"resource\", np.ubyte, 1)])\n"
     ]
    }
   ],
   "source": [
    "import pandas as pd\n",
    "\n",
    "import keras\n",
    "from keras import layers\n",
    "import keras.backend\n",
    "from keras.layers import Input, Conv1D, MaxPool1D, Flatten, Dense, BatchNormalization, Dropout\n",
    "from keras import models\n",
    "import keras.utils\n",
    "\n",
    "# Helper libraries\n",
    "import numpy as np\n",
    "import matplotlib.pyplot as plt\n",
    "from matplotlib.colors import LogNorm\n",
    "import math\n",
    "import time\n",
    "import h5py\n",
    "import sklearn\n",
    "from sklearn.utils import shuffle\n",
    "\n",
    "import os"
   ]
  },
  {
   "cell_type": "markdown",
   "metadata": {},
   "source": [
    "### 1D CNN -> Vectors Only"
   ]
  },
  {
   "cell_type": "code",
   "execution_count": 17,
   "metadata": {},
   "outputs": [
    {
     "name": "stdout",
     "output_type": "stream",
     "text": [
      "10\n",
      "(20000, 10)\n",
      "(20000, 10)\n",
      "(20000, 10)\n"
     ]
    }
   ],
   "source": [
    "# training data\n",
    "traindata_sig = np.load('data/dummyvectors_signal.npz')\n",
    "traindata_bkg = np.load('data/dummyvectors_bkg.npz')\n",
    "trainlabels = np.concatenate((traindata_sig['labels'],traindata_bkg['labels']),axis=0)\n",
    "n_train = len(trainlabels)\n",
    "train_pt = np.concatenate((traindata_sig['pt'], traindata_bkg['pt']), axis = 0)\n",
    "batch = np.size(train_pt, 1)\n",
    "train_pt = train_pt.reshape(n_train, batch, 1)\n",
    "train_eta = np.concatenate((traindata_sig['eta'], traindata_bkg['eta']), axis = 0).reshape(n_train, batch, 1)\n",
    "train_phi = np.concatenate((traindata_sig['phi'], traindata_bkg['phi']), axis = 0).reshape(n_train, batch, 1)\n",
    "train_mass = np.concatenate((traindata_sig['mass'], traindata_bkg['mass']), axis = 0).reshape(n_train, batch, 1)\n",
    "train_r = np.concatenate((traindata_sig['radiilab'], traindata_bkg['radiilab']), axis = 0)\n",
    "train_theta = np.concatenate((traindata_sig['thetalab'], traindata_bkg['thetalab']), axis = 0)\n",
    "train_z = np.concatenate((traindata_sig['zlab'], traindata_bkg['zlab']), axis = 0)\n",
    "trainlabels = trainlabels.reshape(n_train, 2)\n",
    "# testing data\n",
    "testdata_sig = np.load('data/dummyvectors_sgn_test.npz')\n",
    "testdata_bkg = np.load('data/dummyvectors_bkg_test.npz')\n",
    "testlabels = np.concatenate((testdata_sig['labels'], testdata_bkg['labels']),axis=0)\n",
    "n_test = len(testlabels)\n",
    "test_pt = np.concatenate((testdata_sig['pt'], testdata_bkg['pt']), axis = 0)\n",
    "batch = np.size(test_pt, 1)\n",
    "test_pt = test_pt.reshape(n_test, batch, 1)\n",
    "test_pt = np.concatenate((testdata_sig['pt'], testdata_bkg['pt']), axis = 0).reshape(n_test, batch, 1)\n",
    "test_eta = np.concatenate((testdata_sig['eta'], testdata_bkg['eta']), axis = 0).reshape(n_test, batch, 1)\n",
    "test_phi = np.concatenate((testdata_sig['phi'], testdata_bkg['phi']), axis = 0).reshape(n_test, batch, 1)\n",
    "test_mass = np.concatenate((testdata_sig['mass'], testdata_bkg['mass']), axis = 0).reshape(n_test, batch, 1)\n",
    "test_r = np.concatenate((testdata_sig['radiilab'], testdata_bkg['radiilab']), axis = 0)\n",
    "test_theta = np.concatenate((testdata_sig['thetalab'], testdata_bkg['thetalab']), axis = 0)\n",
    "test_z = np.concatenate((testdata_sig['zlab'], testdata_bkg['zlab']), axis = 0)\n",
    "testlabels = testlabels.reshape(int(n_train), 2)\n",
    "print(train_z.shape)\n",
    "print(train_theta.shape)\n",
    "print(train_r.shape)"
   ]
  },
  {
   "cell_type": "code",
   "execution_count": 4,
   "metadata": {},
   "outputs": [],
   "source": [
    "def build_model():\n",
    "    input0 = layers.Input(name = 'pt_input', batch_shape=(None,batch, 1) )\n",
    "    input1 = layers.Input(name = 'eta_input', batch_shape=(None,batch, 1) )\n",
    "    input2 = layers.Input(name = 'phi_input', batch_shape=(None,batch, 1) )\n",
    "    input3 = layers.Input(name = 'mass_input', batch_shape=(None,batch, 1) )\n",
    "    x = layers.concatenate(inputs = [input0, input1, input2, input3],axis=-1, name = 'concat')\n",
    "    x = layers.Conv1D(64, 3, padding = 'same', activation='relu', name = 'conv1')(x)\n",
    "    x = layers.Conv1D(64, 1, padding = 'same', activation='relu', name = 'conv2')(x)\n",
    "    x = layers.MaxPool1D(2)(x)\n",
    "    x = layers.Conv1D(32, 3, padding = 'same', activation='relu', name = 'conv3')(x)\n",
    "    x = layers.Conv1D(32, 1, padding = 'same', activation='relu', name = 'conv4')(x)\n",
    "    x = layers.MaxPool1D(2)(x)\n",
    "    x = layers.Flatten(name = 'flatten')(x)\n",
    "    x = layers.Dense(64, activation='relu', name = 'relu')(x)\n",
    "    output = layers.Dense(2, activation='softmax', name = 'output')(x)  #switch to sigmoid\n",
    "    model = models.Model(inputs=[input0, input1, input2, input3], outputs=output)\n",
    "    model.compile(loss='categorical_crossentropy',\n",
    "                optimizer='adam',\n",
    "                metrics=['categorical_crossentropy', 'accuracy'])\n",
    "    return model"
   ]
  },
  {
   "cell_type": "code",
   "execution_count": 5,
   "metadata": {},
   "outputs": [
    {
     "name": "stdout",
     "output_type": "stream",
     "text": [
      "WARNING:tensorflow:From /opt/conda/lib/python3.7/site-packages/tensorflow/python/framework/op_def_library.py:263: colocate_with (from tensorflow.python.framework.ops) is deprecated and will be removed in a future version.\n",
      "Instructions for updating:\n",
      "Colocations handled automatically by placer.\n"
     ]
    }
   ],
   "source": [
    "CNN = build_model()\n",
    "train_batch = [train_pt, train_eta, train_phi, train_mass]"
   ]
  },
  {
   "cell_type": "code",
   "execution_count": 7,
   "metadata": {},
   "outputs": [
    {
     "name": "stdout",
     "output_type": "stream",
     "text": [
      "[[1.0000000e+00 1.7041027e-12]\n",
      " [1.0000000e+00 1.3392378e-08]\n",
      " [9.9997663e-01 2.3367240e-05]\n",
      " [9.9997807e-01 2.1881837e-05]\n",
      " [9.9981517e-01 1.8488150e-04]\n",
      " [1.0000000e+00 4.2971221e-10]\n",
      " [1.0000000e+00 1.2736246e-08]\n",
      " [1.0000000e+00 5.1788336e-17]\n",
      " [1.0000000e+00 1.5204380e-08]\n",
      " [9.9999845e-01 1.5061397e-06]]\n",
      "[2.322969157830812e-05, 2.322969157830812e-05, 1.0]\n"
     ]
    }
   ],
   "source": [
    "example_batch = [train_pt[:10], train_eta[:10], train_phi[:10], train_mass[:10]]\n",
    "example_labels = trainlabels[:10]\n",
    "example_result = CNN.predict(x = example_batch)\n",
    "results = CNN.evaluate(x = example_batch, y = example_labels, verbose = 0)\n",
    "print(example_result)\n",
    "print(results)"
   ]
  },
  {
   "cell_type": "code",
   "execution_count": 8,
   "metadata": {},
   "outputs": [],
   "source": [
    "# checkpoint_path = \"model/CNN1D.h5\"\n",
    "# if not os.path.exists(\"model\"):\n",
    "#     os.mkdir(\"model\")\n",
    "\n",
    "# model_checkpoint = keras.callbacks.ModelCheckpoint(checkpoint_path, monitor='val_loss', \n",
    "#                                    verbose=1, save_best_only=True, \n",
    "#                                    save_weights_only=False, mode='auto')    \n",
    "# EPOCHS = 50\n",
    "# early_stop = keras.callbacks.EarlyStopping(monitor='val_loss', patience=10)\n",
    "# history = CNN.fit(\n",
    "#   train_batch, trainlabels,\n",
    "#   epochs=EPOCHS, validation_split = 0.2, verbose = 0,\n",
    "#   callbacks=[early_stop, model_checkpoint])"
   ]
  },
  {
   "cell_type": "code",
   "execution_count": 6,
   "metadata": {
    "scrolled": true
   },
   "outputs": [
    {
     "name": "stdout",
     "output_type": "stream",
     "text": [
      "4MLP.h5\t\t\tCNN_test.h5\t\t\t  RNN_4GRU.h5\n",
      "CNN1D.h5\t\tCNN_XAUG_image.h1\t\t  RNN_5GRU.h5\n",
      "CNN1D_v3.h5\t\tMLP.h5\t\t\t\t  RNN.h5\n",
      "CNN1D_XAUG.h5\t\tRNN_1dense_4GRU.h5\t\t  RNN_jetqandml.h5\n",
      "CNN_cat_multi_input.h5\tRNN_2x2048_2x512_1batchrenorm.h5  RNN_XAUG.h5\n",
      "CNN_class_leakyrelu.h5\tRNN_4GRU_gradclip.h5\n",
      "WARNING:tensorflow:From /opt/conda/lib/python3.7/site-packages/tensorflow/python/ops/math_ops.py:3066: to_int32 (from tensorflow.python.ops.math_ops) is deprecated and will be removed in a future version.\n",
      "Instructions for updating:\n",
      "Use tf.cast instead.\n",
      "__________________________________________________________________________________________________\n",
      "Layer (type)                    Output Shape         Param #     Connected to                     \n",
      "==================================================================================================\n",
      "pt_input (InputLayer)           (None, 10, 1)        0                                            \n",
      "__________________________________________________________________________________________________\n",
      "eta_input (InputLayer)          (None, 10, 1)        0                                            \n",
      "__________________________________________________________________________________________________\n",
      "phi_input (InputLayer)          (None, 10, 1)        0                                            \n",
      "__________________________________________________________________________________________________\n",
      "mass_input (InputLayer)         (None, 10, 1)        0                                            \n",
      "__________________________________________________________________________________________________\n",
      "concat (Concatenate)            (None, 10, 4)        0           pt_input[0][0]                   \n",
      "                                                                 eta_input[0][0]                  \n",
      "                                                                 phi_input[0][0]                  \n",
      "                                                                 mass_input[0][0]                 \n",
      "__________________________________________________________________________________________________\n",
      "conv1 (Conv1D)                  (None, 10, 64)       832         concat[0][0]                     \n",
      "__________________________________________________________________________________________________\n",
      "conv2 (Conv1D)                  (None, 10, 64)       4160        conv1[0][0]                      \n",
      "__________________________________________________________________________________________________\n",
      "max_pooling1d_1 (MaxPooling1D)  (None, 5, 64)        0           conv2[0][0]                      \n",
      "__________________________________________________________________________________________________\n",
      "conv3 (Conv1D)                  (None, 5, 32)        6176        max_pooling1d_1[0][0]            \n",
      "__________________________________________________________________________________________________\n",
      "conv4 (Conv1D)                  (None, 5, 32)        1056        conv3[0][0]                      \n",
      "__________________________________________________________________________________________________\n",
      "max_pooling1d_2 (MaxPooling1D)  (None, 2, 32)        0           conv4[0][0]                      \n",
      "__________________________________________________________________________________________________\n",
      "flatten (Flatten)               (None, 64)           0           max_pooling1d_2[0][0]            \n",
      "__________________________________________________________________________________________________\n",
      "relu (Dense)                    (None, 64)           4160        flatten[0][0]                    \n",
      "__________________________________________________________________________________________________\n",
      "output (Dense)                  (None, 2)            130         relu[0][0]                       \n",
      "==================================================================================================\n",
      "Total params: 16,514\n",
      "Trainable params: 16,514\n",
      "Non-trainable params: 0\n",
      "__________________________________________________________________________________________________\n",
      "[0.00683691319156951, 0.00683691319156951, 0.99785]\n"
     ]
    }
   ],
   "source": [
    "!ls model\n",
    "test_batch = [test_pt, test_eta, test_phi, test_mass]\n",
    "best_model = keras.models.load_model('model/CNN1D.h5')\n",
    "best_model.summary()\n",
    "results = best_model.evaluate(test_batch, testlabels, verbose = 0)\n",
    "print(results)"
   ]
  },
  {
   "cell_type": "code",
   "execution_count": 7,
   "metadata": {},
   "outputs": [
    {
     "data": {
      "image/png": "[encoded data removed]",
      "text/plain": [
       "<Figure size 432x288 with 1 Axes>"
      ]
     },
     "metadata": {
      "needs_background": "light"
     },
     "output_type": "display_data"
    }
   ],
   "source": [
    "# Plot ROC\n",
    "predict = best_model.predict(train_batch)\n",
    "from sklearn.metrics import roc_curve, auc\n",
    "fpr, tpr, thresholds = roc_curve(trainlabels[:,0].flatten(), predict[:,0].flatten())\n",
    "roc_auc = auc(fpr, tpr)\n",
    "plt.plot(fpr, tpr, lw=2, color='blue', label='auc = %.3f' % (roc_auc))\n",
    "plt.plot([0, 1], [0, 1], linestyle='--', lw=2, color='k', label='random chance')\n",
    "plt.xlim([0, 1.0])\n",
    "plt.ylim([0, 1.0])\n",
    "plt.xlabel('false positive rate')\n",
    "plt.ylabel('true positive rate')\n",
    "plt.title('receiver operating curve')\n",
    "plt.legend(loc=\"lower right\")\n",
    "plt.show()"
   ]
  },
  {
   "cell_type": "code",
   "execution_count": 8,
   "metadata": {},
   "outputs": [],
   "source": [
    "#1D CNN WITH XAUG INPUTS"
   ]
  },
  {
   "cell_type": "code",
   "execution_count": 9,
   "metadata": {},
   "outputs": [],
   "source": [
    "def build_xaug():\n",
    "    input0 = layers.Input(name = 'pt_input', batch_shape=(None,batch, 1) )\n",
    "    input1 = layers.Input(name = 'eta_input', batch_shape=(None,batch, 1) )\n",
    "    input2 = layers.Input(name = 'phi_input', batch_shape=(None,batch, 1) )\n",
    "    input3 = layers.Input(name = 'mass_input', batch_shape=(None,batch, 1) )\n",
    "    x = layers.concatenate(inputs = [input0, input1, input2, input3],axis=-1, name = 'concat1')\n",
    "    x = layers.Conv1D(64, 3, padding = 'same', activation='relu', name = 'conv1')(x)\n",
    "    x = layers.Conv1D(64, 1, padding = 'same', activation='relu', name = 'conv2')(x)\n",
    "    x = layers.MaxPool1D(2, name = \"maxpool1\")(x)\n",
    "    x = layers.Conv1D(32, 3, padding = 'same', activation='relu', name = 'conv3')(x)\n",
    "    x = layers.Conv1D(32, 1, padding = 'same', activation='relu', name = 'conv4')(x)\n",
    "    x = layers.MaxPool1D(2, name = 'maxpool2')(x)\n",
    "    x = layers.Flatten(name = 'flatten1')(x)\n",
    "    input4 = layers.Input(batch_shape=(None,batch,), name = 'zinput')\n",
    "    input5 = layers.Input(batch_shape=(None,batch,), name = 'rinput')\n",
    "    input6 = layers.Input(batch_shape=(None,batch,), name = 'thetainput')\n",
    "    x = layers.concatenate(inputs = [x, input4, input5, input6],axis=-1, name = 'concat2')\n",
    "    x = layers.Dense(64, activation='relu', name = 'relu')(x)\n",
    "    output = layers.Dense(2, activation='softmax', name = 'output')(x)  #switch to sigmoid\n",
    "    model = models.Model(inputs=[input0, input1, input2, input3, input4, input5, input6], outputs=output)\n",
    "    model.compile(loss='categorical_crossentropy',\n",
    "                optimizer='adam',\n",
    "                metrics=['categorical_crossentropy', 'accuracy'])\n",
    "    return model"
   ]
  },
  {
   "cell_type": "code",
   "execution_count": 18,
   "metadata": {},
   "outputs": [],
   "source": [
    "CNN_XAUG = build_xaug()\n",
    "train_batch = [train_pt, train_eta, train_phi, train_mass, train_z, train_r, train_theta]"
   ]
  },
  {
   "cell_type": "code",
   "execution_count": 19,
   "metadata": {},
   "outputs": [
    {
     "name": "stdout",
     "output_type": "stream",
     "text": [
      "[[0.6446766  0.35532334]\n",
      " [0.9402984  0.05970158]\n",
      " [0.87180156 0.12819847]\n",
      " [0.99523795 0.00476207]\n",
      " [0.29283395 0.707166  ]\n",
      " [0.91549623 0.0845037 ]\n",
      " [0.1835899  0.81641006]\n",
      " [0.08375311 0.91624695]\n",
      " [0.8875588  0.11244117]\n",
      " [0.05440696 0.945593  ]]\n",
      "[0.9164445996284485, 0.9164445996284485, 0.6000000238418579]\n"
     ]
    }
   ],
   "source": [
    "example_batch = [train_pt[:10], train_eta[:10], train_phi[:10], train_mass[:10], train_z[:10], train_r[:10], train_theta[:10]]\n",
    "example_labels = trainlabels[:10]\n",
    "example_result = CNN_XAUG.predict(x = example_batch)\n",
    "results = CNN_XAUG.evaluate(x = example_batch, y = example_labels, verbose = 0)\n",
    "print(example_result)\n",
    "print(results)"
   ]
  },
  {
   "cell_type": "code",
   "execution_count": 20,
   "metadata": {},
   "outputs": [
    {
     "name": "stdout",
     "output_type": "stream",
     "text": [
      "\n",
      "Epoch 00001: val_loss improved from inf to 0.01034, saving model to model/CNN1D_XAUG.h5\n",
      "\n",
      "Epoch 00002: val_loss improved from 0.01034 to 0.00966, saving model to model/CNN1D_XAUG.h5\n",
      "\n",
      "Epoch 00003: val_loss did not improve from 0.00966\n",
      "\n",
      "Epoch 00004: val_loss improved from 0.00966 to 0.00220, saving model to model/CNN1D_XAUG.h5\n",
      "\n",
      "Epoch 00005: val_loss improved from 0.00220 to 0.00109, saving model to model/CNN1D_XAUG.h5\n",
      "\n",
      "Epoch 00006: val_loss improved from 0.00109 to 0.00043, saving model to model/CNN1D_XAUG.h5\n",
      "\n",
      "Epoch 00007: val_loss improved from 0.00043 to 0.00018, saving model to model/CNN1D_XAUG.h5\n",
      "\n",
      "Epoch 00008: val_loss did not improve from 0.00018\n",
      "\n",
      "Epoch 00009: val_loss did not improve from 0.00018\n",
      "\n",
      "Epoch 00010: val_loss did not improve from 0.00018\n",
      "\n",
      "Epoch 00011: val_loss did not improve from 0.00018\n",
      "\n",
      "Epoch 00012: val_loss did not improve from 0.00018\n",
      "\n",
      "Epoch 00013: val_loss improved from 0.00018 to 0.00014, saving model to model/CNN1D_XAUG.h5\n",
      "\n",
      "Epoch 00014: val_loss did not improve from 0.00014\n",
      "\n",
      "Epoch 00015: val_loss did not improve from 0.00014\n",
      "\n",
      "Epoch 00016: val_loss did not improve from 0.00014\n",
      "\n",
      "Epoch 00017: val_loss did not improve from 0.00014\n",
      "\n",
      "Epoch 00018: val_loss improved from 0.00014 to 0.00002, saving model to model/CNN1D_XAUG.h5\n",
      "\n",
      "Epoch 00019: val_loss did not improve from 0.00002\n",
      "\n",
      "Epoch 00020: val_loss did not improve from 0.00002\n",
      "\n",
      "Epoch 00021: val_loss did not improve from 0.00002\n",
      "\n",
      "Epoch 00022: val_loss did not improve from 0.00002\n",
      "\n",
      "Epoch 00023: val_loss did not improve from 0.00002\n",
      "\n",
      "Epoch 00024: val_loss did not improve from 0.00002\n",
      "\n",
      "Epoch 00025: val_loss did not improve from 0.00002\n",
      "\n",
      "Epoch 00026: val_loss did not improve from 0.00002\n",
      "\n",
      "Epoch 00027: val_loss did not improve from 0.00002\n",
      "\n",
      "Epoch 00028: val_loss did not improve from 0.00002\n"
     ]
    }
   ],
   "source": [
    "checkpoint_path = \"model/CNN1D_XAUG.h5\"\n",
    "if not os.path.exists(\"model\"):\n",
    "    os.mkdir(\"model\")\n",
    "\n",
    "model_checkpoint = keras.callbacks.ModelCheckpoint(checkpoint_path, monitor='val_loss', \n",
    "                                   verbose=1, save_best_only=True, \n",
    "                                   save_weights_only=False, mode='auto')    \n",
    "EPOCHS = 50\n",
    "early_stop = keras.callbacks.EarlyStopping(monitor='val_loss', patience=10)\n",
    "history = CNN_XAUG.fit(\n",
    "  train_batch, trainlabels,\n",
    "  epochs=EPOCHS, validation_split = 0.2, verbose = 0,\n",
    "  callbacks=[early_stop, model_checkpoint])"
   ]
  },
  {
   "cell_type": "code",
   "execution_count": 22,
   "metadata": {},
   "outputs": [
    {
     "name": "stdout",
     "output_type": "stream",
     "text": [
      "4MLP.h5\t\t\tCNN_test.h5\t\t\t  RNN_4GRU.h5\n",
      "CNN1D.h5\t\tCNN_XAUG_image.h1\t\t  RNN_5GRU.h5\n",
      "CNN1D_v3.h5\t\tMLP.h5\t\t\t\t  RNN.h5\n",
      "CNN1D_XAUG.h5\t\tRNN_1dense_4GRU.h5\t\t  RNN_jetqandml.h5\n",
      "CNN_cat_multi_input.h5\tRNN_2x2048_2x512_1batchrenorm.h5  RNN_XAUG.h5\n",
      "CNN_class_leakyrelu.h5\tRNN_4GRU_gradclip.h5\n",
      "__________________________________________________________________________________________________\n",
      "Layer (type)                    Output Shape         Param #     Connected to                     \n",
      "==================================================================================================\n",
      "pt_input (InputLayer)           (None, 10, 1)        0                                            \n",
      "__________________________________________________________________________________________________\n",
      "eta_input (InputLayer)          (None, 10, 1)        0                                            \n",
      "__________________________________________________________________________________________________\n",
      "phi_input (InputLayer)          (None, 10, 1)        0                                            \n",
      "__________________________________________________________________________________________________\n",
      "mass_input (InputLayer)         (None, 10, 1)        0                                            \n",
      "__________________________________________________________________________________________________\n",
      "concat1 (Concatenate)           (None, 10, 4)        0           pt_input[0][0]                   \n",
      "                                                                 eta_input[0][0]                  \n",
      "                                                                 phi_input[0][0]                  \n",
      "                                                                 mass_input[0][0]                 \n",
      "__________________________________________________________________________________________________\n",
      "conv1 (Conv1D)                  (None, 10, 64)       832         concat1[0][0]                    \n",
      "__________________________________________________________________________________________________\n",
      "conv2 (Conv1D)                  (None, 10, 64)       4160        conv1[0][0]                      \n",
      "__________________________________________________________________________________________________\n",
      "maxpool1 (MaxPooling1D)         (None, 5, 64)        0           conv2[0][0]                      \n",
      "__________________________________________________________________________________________________\n",
      "conv3 (Conv1D)                  (None, 5, 32)        6176        maxpool1[0][0]                   \n",
      "__________________________________________________________________________________________________\n",
      "conv4 (Conv1D)                  (None, 5, 32)        1056        conv3[0][0]                      \n",
      "__________________________________________________________________________________________________\n",
      "maxpool2 (MaxPooling1D)         (None, 2, 32)        0           conv4[0][0]                      \n",
      "__________________________________________________________________________________________________\n",
      "flatten1 (Flatten)              (None, 64)           0           maxpool2[0][0]                   \n",
      "__________________________________________________________________________________________________\n",
      "zinput (InputLayer)             (None, 10)           0                                            \n",
      "__________________________________________________________________________________________________\n",
      "rinput (InputLayer)             (None, 10)           0                                            \n",
      "__________________________________________________________________________________________________\n",
      "thetainput (InputLayer)         (None, 10)           0                                            \n",
      "__________________________________________________________________________________________________\n",
      "concat2 (Concatenate)           (None, 94)           0           flatten1[0][0]                   \n",
      "                                                                 zinput[0][0]                     \n",
      "                                                                 rinput[0][0]                     \n",
      "                                                                 thetainput[0][0]                 \n",
      "__________________________________________________________________________________________________\n",
      "relu (Dense)                    (None, 64)           6080        concat2[0][0]                    \n",
      "__________________________________________________________________________________________________\n",
      "output (Dense)                  (None, 2)            130         relu[0][0]                       \n",
      "==================================================================================================\n",
      "Total params: 18,434\n",
      "Trainable params: 18,434\n",
      "Non-trainable params: 0\n",
      "__________________________________________________________________________________________________\n",
      "[6.700930329247967e-05, 6.700930329247967e-05, 1.0]\n"
     ]
    }
   ],
   "source": [
    "!ls model\n",
    "test_batch = [test_pt, test_eta, test_phi, test_mass, test_z, test_r, test_theta]\n",
    "best_model = keras.models.load_model('model/CNN1D_XAUG.h5')\n",
    "best_model.summary()\n",
    "results = best_model.evaluate(test_batch, testlabels, verbose = 0)\n",
    "print(results)"
   ]
  },
  {
   "cell_type": "code",
   "execution_count": 24,
   "metadata": {},
   "outputs": [
    {
     "data": {
      "image/png": "[encoded data removed]",
      "text/plain": [
       "<Figure size 432x288 with 1 Axes>"
      ]
     },
     "metadata": {
      "needs_background": "light"
     },
     "output_type": "display_data"
    }
   ],
   "source": [
    "# Plot ROC\n",
    "predict = best_model.predict(test_batch)\n",
    "from sklearn.metrics import roc_curve, auc\n",
    "fpr, tpr, thresholds = roc_curve(testlabels[:,0].flatten(), predict[:,0].flatten())\n",
    "roc_auc = auc(fpr, tpr)\n",
    "plt.plot(fpr, tpr, lw=2, color='blue', label='auc = %.3f' % (roc_auc))\n",
    "plt.plot([0, 1], [0, 1], linestyle='--', lw=2, color='k', label='random chance')\n",
    "plt.xlim([0, 1.0])\n",
    "plt.ylim([0, 1.0])\n",
    "plt.xlabel('false positive rate')\n",
    "plt.ylabel('true positive rate')\n",
    "plt.title('receiver operating curve')\n",
    "plt.legend(loc=\"lower right\")\n",
    "plt.show()"
   ]
  },
  {
   "cell_type": "code",
   "execution_count": null,
   "metadata": {},
   "outputs": [],
   "source": []
  }
 ],
 "metadata": {
  "kernelspec": {
   "display_name": "Python 3",
   "language": "python",
   "name": "python3"
  },
  "language_info": {
   "codemirror_mode": {
    "name": "ipython",
    "version": 3
   },
   "file_extension": ".py",
   "mimetype": "text/x-python",
   "name": "python",
   "nbconvert_exporter": "python",
   "pygments_lexer": "ipython3",
   "version": "3.7.3"
  }
 },
 "nbformat": 4,
 "nbformat_minor": 2
}
