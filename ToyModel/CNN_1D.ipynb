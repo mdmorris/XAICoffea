{
 "cells": [
  {
   "cell_type": "code",
   "execution_count": 1,
   "metadata": {},
   "outputs": [
    {
     "name": "stderr",
     "output_type": "stream",
     "text": [
      "Using TensorFlow backend.\n",
      "/opt/conda/lib/python3.7/site-packages/tensorflow/python/framework/dtypes.py:526: FutureWarning: Passing (type, 1) or '1type' as a synonym of type is deprecated; in a future version of numpy, it will be understood as (type, (1,)) / '(1,)type'.\n",
      "  _np_qint8 = np.dtype([(\"qint8\", np.int8, 1)])\n",
      "/opt/conda/lib/python3.7/site-packages/tensorflow/python/framework/dtypes.py:527: FutureWarning: Passing (type, 1) or '1type' as a synonym of type is deprecated; in a future version of numpy, it will be understood as (type, (1,)) / '(1,)type'.\n",
      "  _np_quint8 = np.dtype([(\"quint8\", np.uint8, 1)])\n",
      "/opt/conda/lib/python3.7/site-packages/tensorflow/python/framework/dtypes.py:528: FutureWarning: Passing (type, 1) or '1type' as a synonym of type is deprecated; in a future version of numpy, it will be understood as (type, (1,)) / '(1,)type'.\n",
      "  _np_qint16 = np.dtype([(\"qint16\", np.int16, 1)])\n",
      "/opt/conda/lib/python3.7/site-packages/tensorflow/python/framework/dtypes.py:529: FutureWarning: Passing (type, 1) or '1type' as a synonym of type is deprecated; in a future version of numpy, it will be understood as (type, (1,)) / '(1,)type'.\n",
      "  _np_quint16 = np.dtype([(\"quint16\", np.uint16, 1)])\n",
      "/opt/conda/lib/python3.7/site-packages/tensorflow/python/framework/dtypes.py:530: FutureWarning: Passing (type, 1) or '1type' as a synonym of type is deprecated; in a future version of numpy, it will be understood as (type, (1,)) / '(1,)type'.\n",
      "  _np_qint32 = np.dtype([(\"qint32\", np.int32, 1)])\n",
      "/opt/conda/lib/python3.7/site-packages/tensorflow/python/framework/dtypes.py:535: FutureWarning: Passing (type, 1) or '1type' as a synonym of type is deprecated; in a future version of numpy, it will be understood as (type, (1,)) / '(1,)type'.\n",
      "  np_resource = np.dtype([(\"resource\", np.ubyte, 1)])\n"
     ]
    }
   ],
   "source": [
    "import pandas as pd\n",
    "\n",
    "import keras\n",
    "from keras import layers\n",
    "import keras.backend\n",
    "from keras.layers import Input, Conv1D, MaxPool1D, Flatten, Dense, BatchNormalization, Dropout\n",
    "from keras import models\n",
    "import keras.utils\n",
    "\n",
    "# Helper libraries\n",
    "import numpy as np\n",
    "import matplotlib.pyplot as plt\n",
    "from matplotlib.colors import LogNorm\n",
    "import math\n",
    "import time\n",
    "import h5py\n",
    "import sklearn\n",
    "from sklearn.utils import shuffle\n",
    "\n",
    "import os"
   ]
  },
  {
   "cell_type": "markdown",
   "metadata": {},
   "source": [
    "### 1D CNN -> Vectors Only"
   ]
  },
  {
   "cell_type": "code",
   "execution_count": 2,
   "metadata": {},
   "outputs": [],
   "source": [
    "# training data\n",
    "data_train = np.load('data/jetConstTrain.npz')\n",
    "data_test = np.load('data/jetConstTest.npz')\n",
    "batch = len(data_train['pt'][1])\n",
    "feat_all = [key for key in data_train.keys()]\n",
    "feat_all.remove('labels')"
   ]
  },
  {
   "cell_type": "code",
   "execution_count": 3,
   "metadata": {},
   "outputs": [],
   "source": [
    "def build_model():\n",
    "    input0 = layers.Input(name = 'pt_input', batch_shape=(None,batch, 1) )\n",
    "    input1 = layers.Input(name = 'eta_input', batch_shape=(None,batch, 1) )\n",
    "    input2 = layers.Input(name = 'phi_input', batch_shape=(None,batch, 1) )\n",
    "    input3 = layers.Input(name = 'mass_input', batch_shape=(None,batch, 1) )\n",
    "    x = layers.concatenate(inputs = [input0, input1, input2, input3],axis=-1, name = 'concat')\n",
    "    x = layers.Conv1D(64, 3, padding = 'same', activation='relu', name = 'conv1')(x)\n",
    "    x = layers.Conv1D(64, 1, padding = 'same', activation='relu', name = 'conv2')(x)\n",
    "    x = layers.MaxPool1D(2)(x)\n",
    "    x = layers.Conv1D(32, 3, padding = 'same', activation='relu', name = 'conv3')(x)\n",
    "    x = layers.Conv1D(32, 1, padding = 'same', activation='relu', name = 'conv4')(x)\n",
    "    x = layers.MaxPool1D(2)(x)\n",
    "    x = layers.Flatten(name = 'flatten')(x)\n",
    "    x = layers.Dense(64, activation='relu', name = 'relu')(x)\n",
    "    output = layers.Dense(2, activation='softmax', name = 'output')(x)  #switch to sigmoid\n",
    "    model = models.Model(inputs=[input0, input1, input2, input3], outputs=output)\n",
    "    model.compile(loss='categorical_crossentropy',\n",
    "                optimizer='adam',\n",
    "                metrics=['categorical_crossentropy', 'accuracy'])\n",
    "    return model"
   ]
  },
  {
   "cell_type": "code",
   "execution_count": 4,
   "metadata": {},
   "outputs": [
    {
     "name": "stdout",
     "output_type": "stream",
     "text": [
      "WARNING:tensorflow:From /opt/conda/lib/python3.7/site-packages/tensorflow/python/framework/op_def_library.py:263: colocate_with (from tensorflow.python.framework.ops) is deprecated and will be removed in a future version.\n",
      "Instructions for updating:\n",
      "Colocations handled automatically by placer.\n"
     ]
    }
   ],
   "source": [
    "def build_XY(features,label,dic):\n",
    "    X = [dic[key] for key in features]\n",
    "    Y = [dic[key] for key in label]\n",
    "    return X,Y\n",
    "features = ['pt', 'eta', 'phi', 'mass']\n",
    "X_train, Y_train = build_XY(features,['labels'],data_train)\n",
    "X_test, Y_test = build_XY(features,['labels'],data_test)\n",
    "CNN = build_model()"
   ]
  },
  {
   "cell_type": "code",
   "execution_count": 5,
   "metadata": {},
   "outputs": [
    {
     "name": "stdout",
     "output_type": "stream",
     "text": [
      "10/10 [==============================] - 0s 5ms/step\n",
      "[8.032194137573242, 8.032194137573242, 0.5]\n"
     ]
    }
   ],
   "source": [
    "X_batch = [ele[:10] for ele in X_train]\n",
    "Y_batch = [ele[:10] for ele in Y_train]\n",
    "example_result = CNN.predict(x = X_batch)\n",
    "results = CNN.evaluate(x = X_batch, y = Y_batch )\n",
    "print(results)"
   ]
  },
  {
   "cell_type": "code",
   "execution_count": 6,
   "metadata": {},
   "outputs": [],
   "source": [
    "X_batch = [ele for ele in X_train]\n",
    "Y_batch = [ele for ele in Y_train]\n",
    "X_batch_test = [ele for ele in X_test]\n",
    "Y_batch_test = [ele for ele in Y_test]"
   ]
  },
  {
   "cell_type": "code",
   "execution_count": 7,
   "metadata": {},
   "outputs": [
    {
     "name": "stdout",
     "output_type": "stream",
     "text": [
      "WARNING:tensorflow:From /opt/conda/lib/python3.7/site-packages/tensorflow/python/ops/math_ops.py:3066: to_int32 (from tensorflow.python.ops.math_ops) is deprecated and will be removed in a future version.\n",
      "Instructions for updating:\n",
      "Use tf.cast instead.\n",
      "\n",
      "Epoch 00001: val_loss improved from inf to 0.08531, saving model to model/CNN1D.h5\n",
      "\n",
      "Epoch 00002: val_loss improved from 0.08531 to 0.04802, saving model to model/CNN1D.h5\n",
      "\n",
      "Epoch 00003: val_loss improved from 0.04802 to 0.02502, saving model to model/CNN1D.h5\n",
      "\n",
      "Epoch 00004: val_loss improved from 0.02502 to 0.01821, saving model to model/CNN1D.h5\n",
      "\n",
      "Epoch 00005: val_loss did not improve from 0.01821\n",
      "\n",
      "Epoch 00006: val_loss improved from 0.01821 to 0.01307, saving model to model/CNN1D.h5\n",
      "\n",
      "Epoch 00007: val_loss improved from 0.01307 to 0.01294, saving model to model/CNN1D.h5\n",
      "\n",
      "Epoch 00008: val_loss improved from 0.01294 to 0.01255, saving model to model/CNN1D.h5\n",
      "\n",
      "Epoch 00009: val_loss improved from 0.01255 to 0.00974, saving model to model/CNN1D.h5\n",
      "\n",
      "Epoch 00010: val_loss improved from 0.00974 to 0.00810, saving model to model/CNN1D.h5\n",
      "\n",
      "Epoch 00011: val_loss did not improve from 0.00810\n",
      "\n",
      "Epoch 00012: val_loss improved from 0.00810 to 0.00748, saving model to model/CNN1D.h5\n",
      "\n",
      "Epoch 00013: val_loss did not improve from 0.00748\n",
      "\n",
      "Epoch 00014: val_loss did not improve from 0.00748\n",
      "\n",
      "Epoch 00015: val_loss did not improve from 0.00748\n",
      "\n",
      "Epoch 00016: val_loss did not improve from 0.00748\n",
      "\n",
      "Epoch 00017: val_loss did not improve from 0.00748\n",
      "\n",
      "Epoch 00018: val_loss did not improve from 0.00748\n",
      "\n",
      "Epoch 00019: val_loss did not improve from 0.00748\n",
      "\n",
      "Epoch 00020: val_loss did not improve from 0.00748\n",
      "\n",
      "Epoch 00021: val_loss did not improve from 0.00748\n",
      "\n",
      "Epoch 00022: val_loss did not improve from 0.00748\n"
     ]
    }
   ],
   "source": [
    "checkpoint_path = \"model/CNN1D.h5\"\n",
    "model_checkpoint = keras.callbacks.ModelCheckpoint(checkpoint_path, monitor='val_loss', \n",
    "                                   verbose=1, save_best_only=True, \n",
    "                                   save_weights_only=False, mode='auto', \n",
    "                                   period=1)    \n",
    "EPOCHS = 1000\n",
    "early_stop = keras.callbacks.EarlyStopping(monitor='val_loss', patience=10)\n",
    "history = CNN.fit(\n",
    "  X_batch, Y_batch,\n",
    "  epochs=EPOCHS, validation_split = 0.2, verbose = 0,\n",
    "  callbacks=[early_stop, model_checkpoint])"
   ]
  },
  {
   "cell_type": "code",
   "execution_count": 8,
   "metadata": {
    "scrolled": true
   },
   "outputs": [
    {
     "name": "stdout",
     "output_type": "stream",
     "text": [
      "__________________________________________________________________________________________________\n",
      "Layer (type)                    Output Shape         Param #     Connected to                     \n",
      "==================================================================================================\n",
      "pt_input (InputLayer)           (None, 10, 1)        0                                            \n",
      "__________________________________________________________________________________________________\n",
      "eta_input (InputLayer)          (None, 10, 1)        0                                            \n",
      "__________________________________________________________________________________________________\n",
      "phi_input (InputLayer)          (None, 10, 1)        0                                            \n",
      "__________________________________________________________________________________________________\n",
      "mass_input (InputLayer)         (None, 10, 1)        0                                            \n",
      "__________________________________________________________________________________________________\n",
      "concat (Concatenate)            (None, 10, 4)        0           pt_input[0][0]                   \n",
      "                                                                 eta_input[0][0]                  \n",
      "                                                                 phi_input[0][0]                  \n",
      "                                                                 mass_input[0][0]                 \n",
      "__________________________________________________________________________________________________\n",
      "conv1 (Conv1D)                  (None, 10, 64)       832         concat[0][0]                     \n",
      "__________________________________________________________________________________________________\n",
      "conv2 (Conv1D)                  (None, 10, 64)       4160        conv1[0][0]                      \n",
      "__________________________________________________________________________________________________\n",
      "max_pooling1d_1 (MaxPooling1D)  (None, 5, 64)        0           conv2[0][0]                      \n",
      "__________________________________________________________________________________________________\n",
      "conv3 (Conv1D)                  (None, 5, 32)        6176        max_pooling1d_1[0][0]            \n",
      "__________________________________________________________________________________________________\n",
      "conv4 (Conv1D)                  (None, 5, 32)        1056        conv3[0][0]                      \n",
      "__________________________________________________________________________________________________\n",
      "max_pooling1d_2 (MaxPooling1D)  (None, 2, 32)        0           conv4[0][0]                      \n",
      "__________________________________________________________________________________________________\n",
      "flatten (Flatten)               (None, 64)           0           max_pooling1d_2[0][0]            \n",
      "__________________________________________________________________________________________________\n",
      "relu (Dense)                    (None, 64)           4160        flatten[0][0]                    \n",
      "__________________________________________________________________________________________________\n",
      "output (Dense)                  (None, 2)            130         relu[0][0]                       \n",
      "==================================================================================================\n",
      "Total params: 16,514\n",
      "Trainable params: 16,514\n",
      "Non-trainable params: 0\n",
      "__________________________________________________________________________________________________\n",
      "[0.005002149248233763, 0.005002149248233763, 0.9984]\n"
     ]
    }
   ],
   "source": [
    "best_model = keras.models.load_model('model/CNN1D.h5')\n",
    "best_model.summary()\n",
    "results = best_model.evaluate(X_batch_test, Y_batch_test, verbose = 0)\n",
    "print(results)"
   ]
  },
  {
   "cell_type": "code",
   "execution_count": 9,
   "metadata": {},
   "outputs": [
    {
     "data": {
      "image/png": "[encoded data removed]",
      "text/plain": [
       "<Figure size 432x288 with 1 Axes>"
      ]
     },
     "metadata": {
      "needs_background": "light"
     },
     "output_type": "display_data"
    }
   ],
   "source": [
    "# Plot ROC\n",
    "predict = best_model.predict(X_batch_test)\n",
    "from sklearn.metrics import roc_curve, auc\n",
    "fpr, tpr, thresholds = roc_curve(Y_batch_test[0][:][:,0], predict[:][:,0])\n",
    "roc_auc = auc(fpr, tpr)\n",
    "plt.plot(fpr, tpr, lw=4, color='b', label='auc = %.3f' % (roc_auc))\n",
    "plt.plot([0, 1], [0, 1], linestyle='--', lw=2, color='k', label='random chance')\n",
    "plt.xlim([0, 1.0])\n",
    "plt.ylim([0, 1.0])\n",
    "plt.xlabel('false positive rate')\n",
    "plt.ylabel('true positive rate')\n",
    "plt.title('Toy 2D CNN ROC')\n",
    "plt.legend(loc=\"lower right\")\n",
    "plt.show()"
   ]
  },
  {
   "cell_type": "code",
   "execution_count": 10,
   "metadata": {},
   "outputs": [],
   "source": [
    "#1D CNN WITH XAUG INPUTS"
   ]
  },
  {
   "cell_type": "code",
   "execution_count": 11,
   "metadata": {},
   "outputs": [],
   "source": [
    "def build_xaug():\n",
    "    input0 = layers.Input(name = 'pt_input', batch_shape=(None,batch, 1) )\n",
    "    input1 = layers.Input(name = 'eta_input', batch_shape=(None,batch, 1) )\n",
    "    input2 = layers.Input(name = 'phi_input', batch_shape=(None,batch, 1) )\n",
    "    input3 = layers.Input(name = 'mass_input', batch_shape=(None,batch, 1) )\n",
    "    x = layers.concatenate(inputs = [input0, input1, input2, input3],axis=-1, name = 'concat1')\n",
    "    x = layers.Conv1D(64, 3, padding = 'same', activation='relu', name = 'conv1')(x)\n",
    "    x = layers.Conv1D(64, 1, padding = 'same', activation='relu', name = 'conv2')(x)\n",
    "    x = layers.MaxPool1D(2, name = \"maxpool1\")(x)\n",
    "    x = layers.Conv1D(32, 3, padding = 'same', activation='relu', name = 'conv3')(x)\n",
    "    x = layers.Conv1D(32, 1, padding = 'same', activation='relu', name = 'conv4')(x)\n",
    "    x = layers.MaxPool1D(2, name = 'maxpool2')(x)\n",
    "    x = layers.Flatten(name = 'flatten1')(x)\n",
    "    input4 = layers.Input(batch_shape=(None,batch,), name = 'zinput')\n",
    "    input5 = layers.Input(batch_shape=(None,batch,), name = 'rinput')\n",
    "    input6 = layers.Input(batch_shape=(None,batch,), name = 'thetainput')\n",
    "    x = layers.concatenate(inputs = [x, input4, input5, input6],axis=-1, name = 'concat2')\n",
    "    x = layers.Dense(64, activation='relu', name = 'relu')(x)\n",
    "    output = layers.Dense(2, activation='softmax', name = 'output')(x)  #switch to sigmoid\n",
    "    model = models.Model(inputs=[input0, input1, input2, input3, input4, input5, input6], outputs=output)\n",
    "    model.compile(loss='categorical_crossentropy',\n",
    "                optimizer='adam',\n",
    "                metrics=['categorical_crossentropy', 'accuracy'])\n",
    "    return model"
   ]
  },
  {
   "cell_type": "code",
   "execution_count": 14,
   "metadata": {},
   "outputs": [],
   "source": [
    "features = [key for key in data_train.keys()];features.remove('labels');features\n",
    "X_train, Y_train = build_XY(features,['labels'],data_train)\n",
    "X_test, Y_test = build_XY(features,['labels'],data_test)\n",
    "CNN_XAUG = build_xaug()"
   ]
  },
  {
   "cell_type": "code",
   "execution_count": 15,
   "metadata": {},
   "outputs": [
    {
     "name": "stdout",
     "output_type": "stream",
     "text": [
      "10/10 [==============================] - 0s 12ms/step\n",
      "[7.130660057067871, 7.130660057067871, 0.5]\n"
     ]
    }
   ],
   "source": [
    "X_batch = [ele[:10] for ele in X_train]\n",
    "Y_batch = [ele[:10] for ele in Y_train]\n",
    "example_result = CNN_XAUG.predict(x = X_batch)\n",
    "results = CNN_XAUG.evaluate(x = X_batch, y = Y_batch )\n",
    "print(results)"
   ]
  },
  {
   "cell_type": "code",
   "execution_count": 16,
   "metadata": {},
   "outputs": [],
   "source": [
    "X_batch = [ele for ele in X_train]\n",
    "Y_batch = [ele for ele in Y_train]\n",
    "X_batch_test = [ele for ele in X_test]\n",
    "Y_batch_test = [ele for ele in Y_test]"
   ]
  },
  {
   "cell_type": "code",
   "execution_count": 17,
   "metadata": {},
   "outputs": [
    {
     "name": "stdout",
     "output_type": "stream",
     "text": [
      "\n",
      "Epoch 00001: val_loss improved from inf to 0.02691, saving model to model/CNN1D_XAUG.h5\n",
      "\n",
      "Epoch 00002: val_loss improved from 0.02691 to 0.00754, saving model to model/CNN1D_XAUG.h5\n",
      "\n",
      "Epoch 00003: val_loss improved from 0.00754 to 0.00363, saving model to model/CNN1D_XAUG.h5\n",
      "\n",
      "Epoch 00004: val_loss improved from 0.00363 to 0.00212, saving model to model/CNN1D_XAUG.h5\n",
      "\n",
      "Epoch 00005: val_loss improved from 0.00212 to 0.00132, saving model to model/CNN1D_XAUG.h5\n",
      "\n",
      "Epoch 00006: val_loss improved from 0.00132 to 0.00120, saving model to model/CNN1D_XAUG.h5\n",
      "\n",
      "Epoch 00007: val_loss improved from 0.00120 to 0.00075, saving model to model/CNN1D_XAUG.h5\n",
      "\n",
      "Epoch 00008: val_loss did not improve from 0.00075\n",
      "\n",
      "Epoch 00009: val_loss improved from 0.00075 to 0.00040, saving model to model/CNN1D_XAUG.h5\n",
      "\n",
      "Epoch 00010: val_loss improved from 0.00040 to 0.00038, saving model to model/CNN1D_XAUG.h5\n",
      "\n",
      "Epoch 00011: val_loss did not improve from 0.00038\n",
      "\n",
      "Epoch 00012: val_loss improved from 0.00038 to 0.00030, saving model to model/CNN1D_XAUG.h5\n",
      "\n",
      "Epoch 00013: val_loss improved from 0.00030 to 0.00021, saving model to model/CNN1D_XAUG.h5\n",
      "\n",
      "Epoch 00014: val_loss improved from 0.00021 to 0.00018, saving model to model/CNN1D_XAUG.h5\n",
      "\n",
      "Epoch 00015: val_loss improved from 0.00018 to 0.00015, saving model to model/CNN1D_XAUG.h5\n",
      "\n",
      "Epoch 00016: val_loss improved from 0.00015 to 0.00011, saving model to model/CNN1D_XAUG.h5\n",
      "\n",
      "Epoch 00017: val_loss did not improve from 0.00011\n",
      "\n",
      "Epoch 00018: val_loss improved from 0.00011 to 0.00009, saving model to model/CNN1D_XAUG.h5\n",
      "\n",
      "Epoch 00019: val_loss improved from 0.00009 to 0.00005, saving model to model/CNN1D_XAUG.h5\n",
      "\n",
      "Epoch 00020: val_loss improved from 0.00005 to 0.00005, saving model to model/CNN1D_XAUG.h5\n",
      "\n",
      "Epoch 00021: val_loss did not improve from 0.00005\n",
      "\n",
      "Epoch 00022: val_loss improved from 0.00005 to 0.00002, saving model to model/CNN1D_XAUG.h5\n",
      "\n",
      "Epoch 00023: val_loss did not improve from 0.00002\n",
      "\n",
      "Epoch 00024: val_loss improved from 0.00002 to 0.00002, saving model to model/CNN1D_XAUG.h5\n",
      "\n",
      "Epoch 00025: val_loss improved from 0.00002 to 0.00002, saving model to model/CNN1D_XAUG.h5\n",
      "\n",
      "Epoch 00026: val_loss did not improve from 0.00002\n",
      "\n",
      "Epoch 00027: val_loss improved from 0.00002 to 0.00001, saving model to model/CNN1D_XAUG.h5\n",
      "\n",
      "Epoch 00028: val_loss improved from 0.00001 to 0.00001, saving model to model/CNN1D_XAUG.h5\n",
      "\n",
      "Epoch 00029: val_loss improved from 0.00001 to 0.00001, saving model to model/CNN1D_XAUG.h5\n",
      "\n",
      "Epoch 00030: val_loss improved from 0.00001 to 0.00000, saving model to model/CNN1D_XAUG.h5\n",
      "\n",
      "Epoch 00031: val_loss did not improve from 0.00000\n",
      "\n",
      "Epoch 00032: val_loss did not improve from 0.00000\n",
      "\n",
      "Epoch 00033: val_loss did not improve from 0.00000\n",
      "\n",
      "Epoch 00034: val_loss did not improve from 0.00000\n",
      "\n",
      "Epoch 00035: val_loss did not improve from 0.00000\n",
      "\n",
      "Epoch 00036: val_loss did not improve from 0.00000\n",
      "\n",
      "Epoch 00037: val_loss did not improve from 0.00000\n",
      "\n",
      "Epoch 00038: val_loss did not improve from 0.00000\n",
      "\n",
      "Epoch 00039: val_loss improved from 0.00000 to 0.00000, saving model to model/CNN1D_XAUG.h5\n",
      "\n",
      "Epoch 00040: val_loss did not improve from 0.00000\n",
      "\n",
      "Epoch 00041: val_loss improved from 0.00000 to 0.00000, saving model to model/CNN1D_XAUG.h5\n",
      "\n",
      "Epoch 00042: val_loss did not improve from 0.00000\n",
      "\n",
      "Epoch 00043: val_loss did not improve from 0.00000\n",
      "\n",
      "Epoch 00044: val_loss did not improve from 0.00000\n",
      "\n",
      "Epoch 00045: val_loss did not improve from 0.00000\n",
      "\n",
      "Epoch 00046: val_loss did not improve from 0.00000\n",
      "\n",
      "Epoch 00047: val_loss did not improve from 0.00000\n",
      "\n",
      "Epoch 00048: val_loss did not improve from 0.00000\n",
      "\n",
      "Epoch 00049: val_loss did not improve from 0.00000\n",
      "\n",
      "Epoch 00050: val_loss did not improve from 0.00000\n",
      "\n",
      "Epoch 00051: val_loss did not improve from 0.00000\n"
     ]
    }
   ],
   "source": [
    "checkpoint_path = \"model/CNN1D_XAUG.h5\"\n",
    "model_checkpoint = keras.callbacks.ModelCheckpoint(checkpoint_path, monitor='val_loss', \n",
    "                                   verbose=1, save_best_only=True, \n",
    "                                   save_weights_only=False, mode='auto', \n",
    "                                   period=1)    \n",
    "EPOCHS = 1000\n",
    "early_stop = keras.callbacks.EarlyStopping(monitor='val_loss', patience=10)\n",
    "history = CNN_XAUG.fit(\n",
    "  X_batch, Y_batch,\n",
    "  epochs=EPOCHS, validation_split = 0.2, verbose = 0,\n",
    "  callbacks=[early_stop, model_checkpoint])"
   ]
  },
  {
   "cell_type": "code",
   "execution_count": 18,
   "metadata": {},
   "outputs": [
    {
     "name": "stdout",
     "output_type": "stream",
     "text": [
      "__________________________________________________________________________________________________\n",
      "Layer (type)                    Output Shape         Param #     Connected to                     \n",
      "==================================================================================================\n",
      "pt_input (InputLayer)           (None, 10, 1)        0                                            \n",
      "__________________________________________________________________________________________________\n",
      "eta_input (InputLayer)          (None, 10, 1)        0                                            \n",
      "__________________________________________________________________________________________________\n",
      "phi_input (InputLayer)          (None, 10, 1)        0                                            \n",
      "__________________________________________________________________________________________________\n",
      "mass_input (InputLayer)         (None, 10, 1)        0                                            \n",
      "__________________________________________________________________________________________________\n",
      "concat1 (Concatenate)           (None, 10, 4)        0           pt_input[0][0]                   \n",
      "                                                                 eta_input[0][0]                  \n",
      "                                                                 phi_input[0][0]                  \n",
      "                                                                 mass_input[0][0]                 \n",
      "__________________________________________________________________________________________________\n",
      "conv1 (Conv1D)                  (None, 10, 64)       832         concat1[0][0]                    \n",
      "__________________________________________________________________________________________________\n",
      "conv2 (Conv1D)                  (None, 10, 64)       4160        conv1[0][0]                      \n",
      "__________________________________________________________________________________________________\n",
      "maxpool1 (MaxPooling1D)         (None, 5, 64)        0           conv2[0][0]                      \n",
      "__________________________________________________________________________________________________\n",
      "conv3 (Conv1D)                  (None, 5, 32)        6176        maxpool1[0][0]                   \n",
      "__________________________________________________________________________________________________\n",
      "conv4 (Conv1D)                  (None, 5, 32)        1056        conv3[0][0]                      \n",
      "__________________________________________________________________________________________________\n",
      "maxpool2 (MaxPooling1D)         (None, 2, 32)        0           conv4[0][0]                      \n",
      "__________________________________________________________________________________________________\n",
      "flatten1 (Flatten)              (None, 64)           0           maxpool2[0][0]                   \n",
      "__________________________________________________________________________________________________\n",
      "zinput (InputLayer)             (None, 10)           0                                            \n",
      "__________________________________________________________________________________________________\n",
      "rinput (InputLayer)             (None, 10)           0                                            \n",
      "__________________________________________________________________________________________________\n",
      "thetainput (InputLayer)         (None, 10)           0                                            \n",
      "__________________________________________________________________________________________________\n",
      "concat2 (Concatenate)           (None, 94)           0           flatten1[0][0]                   \n",
      "                                                                 zinput[0][0]                     \n",
      "                                                                 rinput[0][0]                     \n",
      "                                                                 thetainput[0][0]                 \n",
      "__________________________________________________________________________________________________\n",
      "relu (Dense)                    (None, 64)           6080        concat2[0][0]                    \n",
      "__________________________________________________________________________________________________\n",
      "output (Dense)                  (None, 2)            130         relu[0][0]                       \n",
      "==================================================================================================\n",
      "Total params: 18,434\n",
      "Trainable params: 18,434\n",
      "Non-trainable params: 0\n",
      "__________________________________________________________________________________________________\n",
      "[[[  1.73768577]\n",
      "  [447.40296227]\n",
      "  [ 94.46957351]\n",
      "  ...\n",
      "  [195.62946423]\n",
      "  [157.41669612]\n",
      "  [204.29276877]]\n",
      "\n",
      " [[464.17701391]\n",
      "  [170.9929593 ]\n",
      "  [762.75992182]\n",
      "  ...\n",
      "  [ 92.71114809]\n",
      "  [ 21.29515527]\n",
      "  [578.63123104]]\n",
      "\n",
      " [[916.59778181]\n",
      "  [  9.52793621]\n",
      "  [764.12800063]\n",
      "  ...\n",
      "  [ 35.25401827]\n",
      "  [740.70987821]\n",
      "  [ 55.83626306]]\n",
      "\n",
      " ...\n",
      "\n",
      " [[ 19.36469919]\n",
      "  [127.90293162]\n",
      "  [ 86.49919873]\n",
      "  ...\n",
      "  [ 58.59021164]\n",
      "  [  3.09657401]\n",
      "  [ 82.95798743]]\n",
      "\n",
      " [[ 26.48558928]\n",
      "  [329.75475039]\n",
      "  [ 88.4061381 ]\n",
      "  ...\n",
      "  [207.5735039 ]\n",
      "  [ 55.38990967]\n",
      "  [191.38023879]]\n",
      "\n",
      " [[ 14.69071515]\n",
      "  [ 20.14287732]\n",
      "  [  6.20248538]\n",
      "  ...\n",
      "  [258.7475367 ]\n",
      "  [255.37009826]\n",
      "  [173.58864053]]]\n",
      "[5.578203794925684e-06, 5.578203794925684e-06, 1.0]\n"
     ]
    }
   ],
   "source": [
    "best_model = keras.models.load_model('model/CNN1D_XAUG.h5')\n",
    "best_model.summary()\n",
    "results = best_model.evaluate(X_batch_test, Y_batch_test[0], verbose = 0)\n",
    "print(X_batch_test[0])\n",
    "print(results)"
   ]
  },
  {
   "cell_type": "code",
   "execution_count": 19,
   "metadata": {},
   "outputs": [
    {
     "ename": "ValueError",
     "evalue": "multilabel-indicator format is not supported",
     "output_type": "error",
     "traceback": [
      "\u001b[0;31m---------------------------------------------------------------------------\u001b[0m",
      "\u001b[0;31mValueError\u001b[0m                                Traceback (most recent call last)",
      "\u001b[0;32m<ipython-input-19-d41800210001>\u001b[0m in \u001b[0;36m<module>\u001b[0;34m\u001b[0m\n\u001b[1;32m      2\u001b[0m \u001b[0mpredict\u001b[0m \u001b[0;34m=\u001b[0m \u001b[0mbest_model\u001b[0m\u001b[0;34m.\u001b[0m\u001b[0mpredict\u001b[0m\u001b[0;34m(\u001b[0m\u001b[0mX_batch_test\u001b[0m\u001b[0;34m)\u001b[0m\u001b[0;34m\u001b[0m\u001b[0;34m\u001b[0m\u001b[0m\n\u001b[1;32m      3\u001b[0m \u001b[0;32mfrom\u001b[0m \u001b[0msklearn\u001b[0m\u001b[0;34m.\u001b[0m\u001b[0mmetrics\u001b[0m \u001b[0;32mimport\u001b[0m \u001b[0mroc_curve\u001b[0m\u001b[0;34m,\u001b[0m \u001b[0mauc\u001b[0m\u001b[0;34m\u001b[0m\u001b[0;34m\u001b[0m\u001b[0m\n\u001b[0;32m----> 4\u001b[0;31m \u001b[0mfpr\u001b[0m\u001b[0;34m,\u001b[0m \u001b[0mtpr\u001b[0m\u001b[0;34m,\u001b[0m \u001b[0mthresholds\u001b[0m \u001b[0;34m=\u001b[0m \u001b[0mroc_curve\u001b[0m\u001b[0;34m(\u001b[0m\u001b[0mY_batch_test\u001b[0m\u001b[0;34m[\u001b[0m\u001b[0;36m0\u001b[0m\u001b[0;34m]\u001b[0m\u001b[0;34m,\u001b[0m \u001b[0mpredict\u001b[0m\u001b[0;34m)\u001b[0m\u001b[0;34m\u001b[0m\u001b[0;34m\u001b[0m\u001b[0m\n\u001b[0m\u001b[1;32m      5\u001b[0m \u001b[0mroc_auc\u001b[0m \u001b[0;34m=\u001b[0m \u001b[0mauc\u001b[0m\u001b[0;34m(\u001b[0m\u001b[0mfpr\u001b[0m\u001b[0;34m,\u001b[0m \u001b[0mtpr\u001b[0m\u001b[0;34m)\u001b[0m\u001b[0;34m\u001b[0m\u001b[0;34m\u001b[0m\u001b[0m\n\u001b[1;32m      6\u001b[0m \u001b[0mplt\u001b[0m\u001b[0;34m.\u001b[0m\u001b[0mplot\u001b[0m\u001b[0;34m(\u001b[0m\u001b[0mfpr\u001b[0m\u001b[0;34m,\u001b[0m \u001b[0mtpr\u001b[0m\u001b[0;34m,\u001b[0m \u001b[0mlw\u001b[0m\u001b[0;34m=\u001b[0m\u001b[0;36m4\u001b[0m\u001b[0;34m,\u001b[0m \u001b[0mcolor\u001b[0m\u001b[0;34m=\u001b[0m\u001b[0;34m'b'\u001b[0m\u001b[0;34m,\u001b[0m \u001b[0mlabel\u001b[0m\u001b[0;34m=\u001b[0m\u001b[0;34m'auc = %.3f'\u001b[0m \u001b[0;34m%\u001b[0m \u001b[0;34m(\u001b[0m\u001b[0mroc_auc\u001b[0m\u001b[0;34m)\u001b[0m\u001b[0;34m)\u001b[0m\u001b[0;34m\u001b[0m\u001b[0;34m\u001b[0m\u001b[0m\n",
      "\u001b[0;32m/opt/conda/lib/python3.7/site-packages/sklearn/metrics/ranking.py\u001b[0m in \u001b[0;36mroc_curve\u001b[0;34m(y_true, y_score, pos_label, sample_weight, drop_intermediate)\u001b[0m\n\u001b[1;32m    620\u001b[0m     \"\"\"\n\u001b[1;32m    621\u001b[0m     fps, tps, thresholds = _binary_clf_curve(\n\u001b[0;32m--> 622\u001b[0;31m         y_true, y_score, pos_label=pos_label, sample_weight=sample_weight)\n\u001b[0m\u001b[1;32m    623\u001b[0m \u001b[0;34m\u001b[0m\u001b[0m\n\u001b[1;32m    624\u001b[0m     \u001b[0;31m# Attempt to drop thresholds corresponding to points in between and\u001b[0m\u001b[0;34m\u001b[0m\u001b[0;34m\u001b[0m\u001b[0;34m\u001b[0m\u001b[0m\n",
      "\u001b[0;32m/opt/conda/lib/python3.7/site-packages/sklearn/metrics/ranking.py\u001b[0m in \u001b[0;36m_binary_clf_curve\u001b[0;34m(y_true, y_score, pos_label, sample_weight)\u001b[0m\n\u001b[1;32m    394\u001b[0m     if not (y_type == \"binary\" or\n\u001b[1;32m    395\u001b[0m             (y_type == \"multiclass\" and pos_label is not None)):\n\u001b[0;32m--> 396\u001b[0;31m         \u001b[0;32mraise\u001b[0m \u001b[0mValueError\u001b[0m\u001b[0;34m(\u001b[0m\u001b[0;34m\"{0} format is not supported\"\u001b[0m\u001b[0;34m.\u001b[0m\u001b[0mformat\u001b[0m\u001b[0;34m(\u001b[0m\u001b[0my_type\u001b[0m\u001b[0;34m)\u001b[0m\u001b[0;34m)\u001b[0m\u001b[0;34m\u001b[0m\u001b[0;34m\u001b[0m\u001b[0m\n\u001b[0m\u001b[1;32m    397\u001b[0m \u001b[0;34m\u001b[0m\u001b[0m\n\u001b[1;32m    398\u001b[0m     \u001b[0mcheck_consistent_length\u001b[0m\u001b[0;34m(\u001b[0m\u001b[0my_true\u001b[0m\u001b[0;34m,\u001b[0m \u001b[0my_score\u001b[0m\u001b[0;34m,\u001b[0m \u001b[0msample_weight\u001b[0m\u001b[0;34m)\u001b[0m\u001b[0;34m\u001b[0m\u001b[0;34m\u001b[0m\u001b[0m\n",
      "\u001b[0;31mValueError\u001b[0m: multilabel-indicator format is not supported"
     ]
    }
   ],
   "source": [
    "# Plot ROC\n",
    "predict = best_model.predict(X_batch_test)\n",
    "from sklearn.metrics import roc_curve, auc\n",
    "fpr, tpr, thresholds = roc_curve(Y_batch_test[0], predict)\n",
    "roc_auc = auc(fpr, tpr)\n",
    "plt.plot(fpr, tpr, lw=4, color='b', label='auc = %.3f' % (roc_auc))\n",
    "plt.plot([0, 1], [0, 1], linestyle='--', lw=2, color='k', label='random chance')\n",
    "plt.xlim([0, 1.0])\n",
    "plt.ylim([0, 1.0])\n",
    "plt.xlabel('false positive rate')\n",
    "plt.ylabel('true positive rate')\n",
    "plt.title('Toy 2D CNN ROC')\n",
    "plt.legend(loc=\"lower right\")\n",
    "plt.show()"
   ]
  },
  {
   "cell_type": "code",
   "execution_count": 40,
   "metadata": {},
   "outputs": [
    {
     "data": {
      "image/png": "[encoded data removed]",
      "text/plain": [
       "<Figure size 432x288 with 1 Axes>"
      ]
     },
     "metadata": {
      "needs_background": "light"
     },
     "output_type": "display_data"
    }
   ],
   "source": [
    "sig_pred = predict[np.argwhere(Y_batch_test[0][:,0]==1.).squeeze()].squeeze()\n",
    "bkg_pred = predict[np.argwhere(Y_batch_test[0][:,0]==0.).squeeze()].squeeze()\n",
    "plt.hist([sig_pred[:,0], bkg_pred[:,0]], \n",
    "         color = ['blue', 'red'], histtype = 'step', label = ['signal predictions', 'background predictions'])\n",
    "plt.legend()\n",
    "plt.show()"
   ]
  },
  {
   "cell_type": "code",
   "execution_count": null,
   "metadata": {},
   "outputs": [],
   "source": []
  },
  {
   "cell_type": "code",
   "execution_count": null,
   "metadata": {},
   "outputs": [],
   "source": [
    "sig_pred = predict[np.argwhere(Y_batch_test[0].squeeze()==1.)].squeeze()\n",
    "bkg_pred = predict[np.argwhere(Y_batch_test[0].squeeze()==0.)].squeeze()\n",
    "plt.hist([sig_pred, bkg_pred],\n",
    "         color = ['blue', 'red'], histtype = 'step', label = ['signal predictions', 'background predictions'])\n",
    "plt.legend()\n",
    "plt.show()"
   ]
  },
  {
   "cell_type": "code",
   "execution_count": null,
   "metadata": {},
   "outputs": [],
   "source": []
  }
 ],
 "metadata": {
  "kernelspec": {
   "display_name": "Python 3",
   "language": "python",
   "name": "python3"
  },
  "language_info": {
   "codemirror_mode": {
    "name": "ipython",
    "version": 3
   },
   "file_extension": ".py",
   "mimetype": "text/x-python",
   "name": "python",
   "nbconvert_exporter": "python",
   "pygments_lexer": "ipython3",
   "version": "3.8.2"
  }
 },
 "nbformat": 4,
 "nbformat_minor": 2
}
