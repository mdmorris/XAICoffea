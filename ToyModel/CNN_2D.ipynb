{
 "cells": [
  {
   "cell_type": "markdown",
   "metadata": {},
   "source": [
    "# Toy Model 2D CNN \n",
    "\n",
    "This notebook get's the training and testing data for toy model data and trains two seperate 2D CNN models- one with Image as input and other woth Image and XAUGs (r1, r2,$\\theta$, z)"
   ]
  },
  {
   "cell_type": "code",
   "execution_count": 2,
   "metadata": {},
   "outputs": [
    {
     "name": "stdout",
     "output_type": "stream",
     "text": [
      "TensorFlow version:  1.13.1\n"
     ]
    }
   ],
   "source": [
    "# TensorFlow and tf.keras\n",
    "import tensorflow as tf\n",
    "from tensorflow import keras\n",
    "from tensorflow.keras import layers\n",
    "from tensorflow.keras import models\n",
    "import tensorflow.keras.utils\n",
    "from tensorflow.keras.utils import multi_gpu_model\n",
    "import pandas as pd\n",
    "\n",
    "from datetime import datetime\n",
    "from packaging import version\n",
    "\n",
    "print(\"TensorFlow version: \", tf.__version__)\n",
    "assert version.parse(tf.__version__).release[0] < 2, \\\n",
    "    \"This notebook does not worl for TensorFlow 2.0\"\n",
    "\n",
    "# Helper libraries\n",
    "import numpy as np\n",
    "import matplotlib.pyplot as plt\n",
    "from matplotlib.colors import LogNorm\n",
    "import math\n",
    "import time\n",
    "import h5py\n",
    "import sklearn\n",
    "from sklearn.utils import shuffle\n",
    "from tensorflow.keras import *\n",
    "\n",
    "import os\n",
    "import pickle\n",
    "# from numba import jit"
   ]
  },
  {
   "cell_type": "markdown",
   "metadata": {},
   "source": [
    "## Import data:\n",
    "Using jetImagesTrain.npz and jetImagesTest.npz to train and test the neural network respectively."
   ]
  },
  {
   "cell_type": "code",
   "execution_count": 3,
   "metadata": {},
   "outputs": [
    {
     "data": {
      "text/plain": [
       "['jetImages', 'theta', 'radii', 'z', 'labels']"
      ]
     },
     "execution_count": 3,
     "metadata": {},
     "output_type": "execute_result"
    }
   ],
   "source": [
    "grid = 16\n",
    "data_train = np.load('data/jetImagesTrain.npz')\n",
    "data_test = np.load('data/jetImagesTest.npz')\n",
    "# feat_all = [key for key in data_train.keys()]\n",
    "# feat_all.remove('labels')\n",
    "data_train.files"
   ]
  },
  {
   "cell_type": "code",
   "execution_count": 4,
   "metadata": {},
   "outputs": [
    {
     "data": {
      "text/plain": [
       "Text(0.5, 1.0, 'Toy Model $Z$')"
      ]
     },
     "execution_count": 4,
     "metadata": {},
     "output_type": "execute_result"
    },
    {
     "data": {
      "image/png": "[encoded data removed]",
      "text/plain": [
       "<Figure size 432x288 with 1 Axes>"
      ]
     },
     "metadata": {
      "needs_background": "light"
     },
     "output_type": "display_data"
    }
   ],
   "source": [
    "hist1, bins1 = np.histogram(data_train['z'][data_test['labels'][:,1]==1], bins=40, range = [0.5,1])\n",
    "hist2, bins2 = np.histogram(data_train['z'][data_test['labels'][:,0]==1], bins=bins1)\n",
    "fig, ax = plt.subplots()\n",
    "ax.bar(bins1[:-1], hist1/(np.sum(hist1)), width=np.diff(bins1), alpha = 0.5, label = r\"Signal $z$\")\n",
    "ax.bar(bins2[:-1], hist2/(np.sum(hist2)), width=np.diff(bins2), alpha = 0.5, label = r\"Bkg $z$\")\n",
    "plt.xlabel('z')\n",
    "plt.ylabel(\"Fraction\")\n",
    "legend = plt.legend()\n",
    "plt.title(r\"Toy Model $Z$\")"
   ]
  },
  {
   "cell_type": "markdown",
   "metadata": {},
   "source": [
    "## Image only CNN"
   ]
  },
  {
   "cell_type": "markdown",
   "metadata": {},
   "source": [
    "Build DNN:"
   ]
  },
  {
   "cell_type": "code",
   "execution_count": 5,
   "metadata": {},
   "outputs": [],
   "source": [
    "def build_model():\n",
    "    input1 = layers.Input(shape = (grid, grid, 1), name = 'input')\n",
    "    x = layers.Conv2D(32, (5, 5), activation='relu', name = \"conv1\", padding = 'same')(input1)\n",
    "    x = layers.Conv2D(32, (3, 3), activation='relu', name = 'conv2', padding = 'same')(x)\n",
    "    x = layers.Conv2D(32, (2, 2), activation='relu', name = 'conv3', padding = 'same')(x)\n",
    "    x = layers.Dropout(0.2)(x)\n",
    "    x = layers.MaxPool2D((2, 2), name = 'maxpool1')(x)\n",
    "    x = layers.Flatten(name = 'flatten')(x)\n",
    "    x = layers.Dense(64, activation='relu', name = 'dense1')(x)\n",
    "    output = layers.Dense(2, activation='softmax', name = 'softmax')(x)\n",
    "    model = models.Model(inputs=input1, outputs=output)\n",
    "    opt=keras.optimizers.Adam(lr=0.001,beta_1=0.9, beta_2=0.999, amsgrad = False)\n",
    "    model.compile(loss='binary_crossentropy',\n",
    "                optimizer=opt,\n",
    "                metrics=['mean_squared_error', 'binary_crossentropy', 'accuracy'])\n",
    "    return model"
   ]
  },
  {
   "cell_type": "markdown",
   "metadata": {},
   "source": [
    "Initialize model:"
   ]
  },
  {
   "cell_type": "code",
   "execution_count": 6,
   "metadata": {},
   "outputs": [],
   "source": [
    "CNN = build_model()"
   ]
  },
  {
   "cell_type": "markdown",
   "metadata": {},
   "source": [
    "Test model's prediction $before$ training:"
   ]
  },
  {
   "cell_type": "code",
   "execution_count": 7,
   "metadata": {},
   "outputs": [],
   "source": [
    "X_batch = data_train['jetImages'][:10]\n",
    "Y_batch = data_train['labels'][:10]\n",
    "example_result = CNN.predict(x = X_batch)\n",
    "results = CNN.evaluate(x = X_batch, y = Y_batch )\n",
    "print(results)"
   ]
  },
  {
   "cell_type": "markdown",
   "metadata": {},
   "source": [
    "Now train!"
   ]
  },
  {
   "cell_type": "code",
   "execution_count": 8,
   "metadata": {
    "scrolled": false
   },
   "outputs": [],
   "source": [
    "checkpoint_path = \"model/CNN2D_1mil_1.h5\"\n",
    "if not os.path.exists(\"model\"):\n",
    "    os.mkdir(\"model\")\n",
    "\n",
    "model_checkpoint = keras.callbacks.ModelCheckpoint(checkpoint_path, monitor='val_loss', \n",
    "                                   verbose=1, save_best_only=True, \n",
    "                                   save_weights_only=False, mode='auto',\n",
    "                                   period=1)\n",
    "EPOCHS = 80\n",
    "early_stop = keras.callbacks.EarlyStopping(monitor='val_loss', patience=10)\n",
    "history = CNN.fit(data_train['jetImages'], data_train['labels'],\n",
    "                           epochs=EPOCHS, validation_split = 0.2, verbose = 1,\n",
    "                           callbacks=[early_stop, model_checkpoint])\n",
    "CNN.save(checkpoint_path)"
   ]
  },
  {
   "cell_type": "code",
   "execution_count": 9,
   "metadata": {},
   "outputs": [],
   "source": [
    "hist = pd.DataFrame(history.history)\n",
    "hist['epoch'] = history.epoch\n",
    "hist.to_csv('history_1.csv',index=False)"
   ]
  },
  {
   "cell_type": "markdown",
   "metadata": {},
   "source": [
    "Load best weights."
   ]
  },
  {
   "cell_type": "code",
   "execution_count": 10,
   "metadata": {},
   "outputs": [],
   "source": [
    "best_model = keras.models.load_model('model/CNN2D_1mil_1.h5')\n",
    "best_model.summary()\n",
    "results = best_model.evaluate(data_test['jetImages'], data_test['labels'], verbose = 1)\n",
    "print(results)"
   ]
  },
  {
   "cell_type": "markdown",
   "metadata": {},
   "source": [
    "Evaluate the performance of our DNN! Plot predictions vs. true values (the line is predictions vs. predicitons)."
   ]
  },
  {
   "cell_type": "code",
   "execution_count": 11,
   "metadata": {},
   "outputs": [],
   "source": [
    "predict = best_model.predict(data_test['jetImages'])"
   ]
  },
  {
   "cell_type": "code",
   "execution_count": 12,
   "metadata": {},
   "outputs": [],
   "source": [
    "# Plot ROC\n",
    "from sklearn.metrics import roc_curve, auc\n",
    "fpr, tpr, thresholds = roc_curve(data_test['labels'][:,1], predict[:,1])\n",
    "roc_auc = auc(fpr, tpr)\n",
    "plt.plot(fpr, tpr, lw=2, color='b', label='auc = %.4f' % (roc_auc))\n",
    "plt.plot([0, 1], [0, 1], linestyle='--', lw=2, color='k', label='random chance')\n",
    "plt.xlim([0, 1.0])\n",
    "plt.ylim([0, 1.0])\n",
    "plt.xlabel('False Positive Rate')\n",
    "plt.ylabel('True Positive Rate')\n",
    "plt.title('Receiver Operating Curve')\n",
    "plt.legend(loc=\"lower right\")\n",
    "plt.show()"
   ]
  },
  {
   "cell_type": "code",
   "execution_count": 13,
   "metadata": {},
   "outputs": [],
   "source": [
    "sig = predict[data_test['labels'][:,1]==1][:,1]\n",
    "bkg = predict[data_test['labels'][:,0]==1][:,1]\n",
    "\n",
    "bins = np.linspace(0, 1, 20)\n",
    "\n",
    "plt.hist(sig, bins, alpha=0.5, label='Signal')\n",
    "plt.hist(bkg, bins, alpha=0.5, label='Background')\n",
    "# plt.ylim(0,25000)\n",
    "plt.yscale('log')\n",
    "plt.legend(loc='upper center')\n",
    "plt.xlabel('Prediction')\n",
    "plt.show()"
   ]
  },
  {
   "cell_type": "markdown",
   "metadata": {},
   "source": [
    "## CNN with XAUGs\n",
    "\n",
    "Build DNN:"
   ]
  },
  {
   "cell_type": "code",
   "execution_count": 14,
   "metadata": {},
   "outputs": [],
   "source": [
    "def build_model():\n",
    "    input1 = layers.Input(shape = (grid, grid,1))\n",
    "    x = layers.Conv2D(32, (5, 5), activation='relu', padding='same', name = 'conv1')(input1)\n",
    "    x = layers.Conv2D(32, (3, 3), activation='relu', padding='same', name = 'conv2')(x)\n",
    "    x = layers.Conv2D(32, (2, 2), activation='relu', padding='same', name = 'conv3')(x)\n",
    "    x = layers.Dropout(0.2)(x)\n",
    "    x = layers.MaxPool2D((2, 2), name = 'maxpool2x2_1')(x)\n",
    "    x1 = layers.Flatten(name = 'flatten')(x)\n",
    "    input2 = layers.Input(shape=(2,))\n",
    "    input3 = layers.Input(shape=(1,))\n",
    "    input4 = layers.Input(shape=(1,))\n",
    "    x = layers.concatenate(inputs = [x1, input2, input3, input4], axis=-1, name='concat')\n",
    "    x = layers.Dense(64, activation='relu', name = 'relu1')(x)\n",
    "    x = layers.Dense(128, activation='relu', name = 'relu2')(x)    \n",
    "    output = layers.Dense(2, activation='softmax', name = 'softmax')(x)\n",
    "    model = models.Model(inputs=[input1, input2, input3, input4], outputs=output)\n",
    "    \n",
    "    opt=keras.optimizers.Adam(lr=0.001,beta_1=0.9, beta_2=0.999, amsgrad = False)\n",
    "    model.compile(loss='binary_crossentropy',\n",
    "                optimizer=opt,\n",
    "                metrics=['mean_squared_error', 'binary_crossentropy', 'accuracy'])\n",
    "    return model"
   ]
  },
  {
   "cell_type": "markdown",
   "metadata": {},
   "source": [
    "Initialize model:"
   ]
  },
  {
   "cell_type": "code",
   "execution_count": 15,
   "metadata": {},
   "outputs": [
    {
     "name": "stdout",
     "output_type": "stream",
     "text": [
      "WARNING:tensorflow:From /opt/conda/lib/python3.7/site-packages/tensorflow/python/ops/resource_variable_ops.py:435: colocate_with (from tensorflow.python.framework.ops) is deprecated and will be removed in a future version.\n",
      "Instructions for updating:\n",
      "Colocations handled automatically by placer.\n",
      "WARNING:tensorflow:From /opt/conda/lib/python3.7/site-packages/tensorflow/python/keras/layers/core.py:143: calling dropout (from tensorflow.python.ops.nn_ops) with keep_prob is deprecated and will be removed in a future version.\n",
      "Instructions for updating:\n",
      "Please use `rate` instead of `keep_prob`. Rate should be set to `rate = 1 - keep_prob`.\n"
     ]
    }
   ],
   "source": [
    "CNN_XAUG = build_model()"
   ]
  },
  {
   "cell_type": "markdown",
   "metadata": {},
   "source": [
    "Test model's prediction $before$ training:"
   ]
  },
  {
   "cell_type": "code",
   "execution_count": 16,
   "metadata": {},
   "outputs": [
    {
     "name": "stdout",
     "output_type": "stream",
     "text": [
      "10/10 [==============================] - 0s 7ms/sample - loss: 0.6936 - mean_squared_error: 0.2502 - binary_crossentropy: 0.6936 - acc: 0.5000\n",
      "[0.6935637593269348, 0.25020826, 0.69356376, 0.5]\n"
     ]
    }
   ],
   "source": [
    "X_batch1 = data_train['jetImages'][:10]\n",
    "X_batch2 = data_train['radii'][:10]\n",
    "X_batch3 = data_train['theta'][:10]\n",
    "X_batch4 = data_train['z'][:10]\n",
    "Y_batch = data_train['labels'][:10]\n",
    "example_result = CNN_XAUG.predict(x = [X_batch1,X_batch2,X_batch3,X_batch4])\n",
    "results = CNN_XAUG.evaluate(x = [X_batch1,X_batch2,X_batch3,X_batch4], y = Y_batch )\n",
    "print(results)"
   ]
  },
  {
   "cell_type": "markdown",
   "metadata": {},
   "source": [
    "Now train!"
   ]
  },
  {
   "cell_type": "code",
   "execution_count": 17,
   "metadata": {},
   "outputs": [],
   "source": [
    "XAUG_input = [data_train['jetImages'], data_train['radii'],\n",
    "              data_train['theta'], data_train['z']]"
   ]
  },
  {
   "cell_type": "code",
   "execution_count": 18,
   "metadata": {
    "scrolled": false
   },
   "outputs": [
    {
     "name": "stdout",
     "output_type": "stream",
     "text": [
      "Train on 800000 samples, validate on 200000 samples\n",
      "WARNING:tensorflow:From /opt/conda/lib/python3.7/site-packages/tensorflow/python/ops/math_ops.py:3066: to_int32 (from tensorflow.python.ops.math_ops) is deprecated and will be removed in a future version.\n",
      "Instructions for updating:\n",
      "Use tf.cast instead.\n",
      "Epoch 1/80\n",
      "799936/800000 [============================>.] - ETA: 0s - loss: 0.0113 - mean_squared_error: 0.0028 - binary_crossentropy: 0.0113 - acc: 0.9965\n",
      "Epoch 00001: val_loss improved from inf to 0.00762, saving model to model/CNN2D_XAUG_1mil_1.h5\n",
      "800000/800000 [==============================] - 654s 817us/sample - loss: 0.0113 - mean_squared_error: 0.0028 - binary_crossentropy: 0.0113 - acc: 0.9965 - val_loss: 0.0076 - val_mean_squared_error: 0.0018 - val_binary_crossentropy: 0.0076 - val_acc: 0.9978\n",
      "Epoch 2/80\n",
      "799968/800000 [============================>.] - ETA: 0s - loss: 0.0077 - mean_squared_error: 0.0018 - binary_crossentropy: 0.0077 - acc: 0.9977\n",
      "Epoch 00002: val_loss improved from 0.00762 to 0.00690, saving model to model/CNN2D_XAUG_1mil_1.h5\n",
      "800000/800000 [==============================] - 935s 1ms/sample - loss: 0.0077 - mean_squared_error: 0.0018 - binary_crossentropy: 0.0077 - acc: 0.9977 - val_loss: 0.0069 - val_mean_squared_error: 0.0017 - val_binary_crossentropy: 0.0069 - val_acc: 0.9979\n",
      "Epoch 3/80\n",
      "799968/800000 [============================>.] - ETA: 0s - loss: 0.0072 - mean_squared_error: 0.0017 - binary_crossentropy: 0.0072 - acc: 0.9979\n",
      "Epoch 00003: val_loss did not improve from 0.00690\n",
      "800000/800000 [==============================] - 935s 1ms/sample - loss: 0.0072 - mean_squared_error: 0.0017 - binary_crossentropy: 0.0072 - acc: 0.9979 - val_loss: 0.0069 - val_mean_squared_error: 0.0017 - val_binary_crossentropy: 0.0069 - val_acc: 0.9979\n",
      "Epoch 4/80\n",
      "799936/800000 [============================>.] - ETA: 0s - loss: 0.0070 - mean_squared_error: 0.0017 - binary_crossentropy: 0.0070 - acc: 0.9980\n",
      "Epoch 00004: val_loss improved from 0.00690 to 0.00683, saving model to model/CNN2D_XAUG_1mil_1.h5\n",
      "800000/800000 [==============================] - 934s 1ms/sample - loss: 0.0070 - mean_squared_error: 0.0017 - binary_crossentropy: 0.0070 - acc: 0.9980 - val_loss: 0.0068 - val_mean_squared_error: 0.0016 - val_binary_crossentropy: 0.0068 - val_acc: 0.9980\n",
      "Epoch 5/80\n",
      "799936/800000 [============================>.] - ETA: 0s - loss: 0.0069 - mean_squared_error: 0.0017 - binary_crossentropy: 0.0069 - acc: 0.9979\n",
      "Epoch 00005: val_loss did not improve from 0.00683\n",
      "800000/800000 [==============================] - 939s 1ms/sample - loss: 0.0069 - mean_squared_error: 0.0017 - binary_crossentropy: 0.0069 - acc: 0.9979 - val_loss: 0.0069 - val_mean_squared_error: 0.0017 - val_binary_crossentropy: 0.0069 - val_acc: 0.9979\n",
      "Epoch 6/80\n",
      "799968/800000 [============================>.] - ETA: 0s - loss: 0.0069 - mean_squared_error: 0.0016 - binary_crossentropy: 0.0069 - acc: 0.9979\n",
      "Epoch 00006: val_loss improved from 0.00683 to 0.00655, saving model to model/CNN2D_XAUG_1mil_1.h5\n",
      "800000/800000 [==============================] - 936s 1ms/sample - loss: 0.0069 - mean_squared_error: 0.0016 - binary_crossentropy: 0.0069 - acc: 0.9979 - val_loss: 0.0065 - val_mean_squared_error: 0.0016 - val_binary_crossentropy: 0.0065 - val_acc: 0.9980\n",
      "Epoch 7/80\n",
      "799968/800000 [============================>.] - ETA: 0s - loss: 0.0068 - mean_squared_error: 0.0016 - binary_crossentropy: 0.0068 - acc: 0.9980\n",
      "Epoch 00007: val_loss improved from 0.00655 to 0.00643, saving model to model/CNN2D_XAUG_1mil_1.h5\n",
      "800000/800000 [==============================] - 937s 1ms/sample - loss: 0.0068 - mean_squared_error: 0.0016 - binary_crossentropy: 0.0068 - acc: 0.9980 - val_loss: 0.0064 - val_mean_squared_error: 0.0016 - val_binary_crossentropy: 0.0064 - val_acc: 0.9981\n",
      "Epoch 8/80\n",
      "799968/800000 [============================>.] - ETA: 0s - loss: 0.0068 - mean_squared_error: 0.0016 - binary_crossentropy: 0.0068 - acc: 0.9980\n",
      "Epoch 00008: val_loss did not improve from 0.00643\n",
      "800000/800000 [==============================] - 935s 1ms/sample - loss: 0.0068 - mean_squared_error: 0.0016 - binary_crossentropy: 0.0068 - acc: 0.9980 - val_loss: 0.0074 - val_mean_squared_error: 0.0018 - val_binary_crossentropy: 0.0074 - val_acc: 0.9977\n",
      "Epoch 9/80\n",
      "799936/800000 [============================>.] - ETA: 0s - loss: 0.0067 - mean_squared_error: 0.0016 - binary_crossentropy: 0.0067 - acc: 0.9980\n",
      "Epoch 00009: val_loss did not improve from 0.00643\n",
      "800000/800000 [==============================] - 937s 1ms/sample - loss: 0.0067 - mean_squared_error: 0.0016 - binary_crossentropy: 0.0067 - acc: 0.9980 - val_loss: 0.0065 - val_mean_squared_error: 0.0016 - val_binary_crossentropy: 0.0065 - val_acc: 0.9981\n",
      "Epoch 10/80\n",
      "799936/800000 [============================>.] - ETA: 0s - loss: 0.0067 - mean_squared_error: 0.0016 - binary_crossentropy: 0.0067 - acc: 0.9980 ETA: 1s - loss: 0.0067 - mean_squared_error: 0.0016 -\n",
      "Epoch 00010: val_loss did not improve from 0.00643\n",
      "800000/800000 [==============================] - 935s 1ms/sample - loss: 0.0067 - mean_squared_error: 0.0016 - binary_crossentropy: 0.0067 - acc: 0.9980 - val_loss: 0.0065 - val_mean_squared_error: 0.0016 - val_binary_crossentropy: 0.0065 - val_acc: 0.9980\n",
      "Epoch 11/80\n",
      "799968/800000 [============================>.] - ETA: 0s - loss: 0.0067 - mean_squared_error: 0.0016 - binary_crossentropy: 0.0067 - acc: 0.9980\n",
      "Epoch 00011: val_loss did not improve from 0.00643\n",
      "800000/800000 [==============================] - 936s 1ms/sample - loss: 0.0067 - mean_squared_error: 0.0016 - binary_crossentropy: 0.0067 - acc: 0.9980 - val_loss: 0.0066 - val_mean_squared_error: 0.0016 - val_binary_crossentropy: 0.0066 - val_acc: 0.9980\n",
      "Epoch 12/80\n",
      "799968/800000 [============================>.] - ETA: 0s - loss: 0.0068 - mean_squared_error: 0.0016 - binary_crossentropy: 0.0068 - acc: 0.9980\n",
      "Epoch 00012: val_loss improved from 0.00643 to 0.00634, saving model to model/CNN2D_XAUG_1mil_1.h5\n",
      "800000/800000 [==============================] - 937s 1ms/sample - loss: 0.0068 - mean_squared_error: 0.0016 - binary_crossentropy: 0.0068 - acc: 0.9980 - val_loss: 0.0063 - val_mean_squared_error: 0.0015 - val_binary_crossentropy: 0.0063 - val_acc: 0.9981\n",
      "Epoch 13/80\n",
      "799936/800000 [============================>.] - ETA: 0s - loss: 0.0067 - mean_squared_error: 0.0016 - binary_crossentropy: 0.0067 - acc: 0.9980\n",
      "Epoch 00013: val_loss did not improve from 0.00634\n",
      "800000/800000 [==============================] - 935s 1ms/sample - loss: 0.0067 - mean_squared_error: 0.0016 - binary_crossentropy: 0.0067 - acc: 0.9980 - val_loss: 0.0065 - val_mean_squared_error: 0.0016 - val_binary_crossentropy: 0.0065 - val_acc: 0.9980\n",
      "Epoch 14/80\n",
      "799936/800000 [============================>.] - ETA: 0s - loss: 0.0066 - mean_squared_error: 0.0016 - binary_crossentropy: 0.0066 - acc: 0.9980\n",
      "Epoch 00014: val_loss did not improve from 0.00634\n",
      "800000/800000 [==============================] - 937s 1ms/sample - loss: 0.0066 - mean_squared_error: 0.0016 - binary_crossentropy: 0.0066 - acc: 0.9980 - val_loss: 0.0064 - val_mean_squared_error: 0.0016 - val_binary_crossentropy: 0.0064 - val_acc: 0.9980\n",
      "Epoch 15/80\n",
      "799936/800000 [============================>.] - ETA: 0s - loss: 0.0067 - mean_squared_error: 0.0016 - binary_crossentropy: 0.0067 - acc: 0.9980\n",
      "Epoch 00015: val_loss did not improve from 0.00634\n",
      "800000/800000 [==============================] - 937s 1ms/sample - loss: 0.0067 - mean_squared_error: 0.0016 - binary_crossentropy: 0.0067 - acc: 0.9980 - val_loss: 0.0070 - val_mean_squared_error: 0.0018 - val_binary_crossentropy: 0.0070 - val_acc: 0.9977\n",
      "Epoch 16/80\n",
      "799968/800000 [============================>.] - ETA: 0s - loss: 0.0066 - mean_squared_error: 0.0016 - binary_crossentropy: 0.0066 - acc: 0.9980\n",
      "Epoch 00016: val_loss did not improve from 0.00634\n",
      "800000/800000 [==============================] - 936s 1ms/sample - loss: 0.0066 - mean_squared_error: 0.0016 - binary_crossentropy: 0.0066 - acc: 0.9980 - val_loss: 0.0065 - val_mean_squared_error: 0.0016 - val_binary_crossentropy: 0.0065 - val_acc: 0.9980\n",
      "Epoch 17/80\n",
      "799968/800000 [============================>.] - ETA: 0s - loss: 0.0067 - mean_squared_error: 0.0016 - binary_crossentropy: 0.0067 - acc: 0.9980\n",
      "Epoch 00017: val_loss did not improve from 0.00634\n",
      "800000/800000 [==============================] - 939s 1ms/sample - loss: 0.0067 - mean_squared_error: 0.0016 - binary_crossentropy: 0.0067 - acc: 0.9980 - val_loss: 0.0080 - val_mean_squared_error: 0.0020 - val_binary_crossentropy: 0.0080 - val_acc: 0.9975\n",
      "Epoch 18/80\n",
      "799936/800000 [============================>.] - ETA: 0s - loss: 0.0067 - mean_squared_error: 0.0016 - binary_crossentropy: 0.0067 - acc: 0.9980\n",
      "Epoch 00018: val_loss did not improve from 0.00634\n",
      "800000/800000 [==============================] - 937s 1ms/sample - loss: 0.0067 - mean_squared_error: 0.0016 - binary_crossentropy: 0.0067 - acc: 0.9980 - val_loss: 0.0067 - val_mean_squared_error: 0.0016 - val_binary_crossentropy: 0.0067 - val_acc: 0.9980\n",
      "Epoch 19/80\n",
      "799936/800000 [============================>.] - ETA: 0s - loss: 0.0066 - mean_squared_error: 0.0016 - binary_crossentropy: 0.0066 - acc: 0.9981\n",
      "Epoch 00019: val_loss did not improve from 0.00634\n",
      "800000/800000 [==============================] - 936s 1ms/sample - loss: 0.0066 - mean_squared_error: 0.0016 - binary_crossentropy: 0.0066 - acc: 0.9981 - val_loss: 0.0068 - val_mean_squared_error: 0.0017 - val_binary_crossentropy: 0.0068 - val_acc: 0.9979\n",
      "Epoch 20/80\n",
      "799968/800000 [============================>.] - ETA: 0s - loss: 0.0066 - mean_squared_error: 0.0016 - binary_crossentropy: 0.0066 - acc: 0.9981\n",
      "Epoch 00020: val_loss did not improve from 0.00634\n",
      "800000/800000 [==============================] - 937s 1ms/sample - loss: 0.0066 - mean_squared_error: 0.0016 - binary_crossentropy: 0.0066 - acc: 0.9981 - val_loss: 0.0064 - val_mean_squared_error: 0.0015 - val_binary_crossentropy: 0.0064 - val_acc: 0.9981\n",
      "Epoch 21/80\n",
      "799968/800000 [============================>.] - ETA: 0s - loss: 0.0066 - mean_squared_error: 0.0016 - binary_crossentropy: 0.0066 - acc: 0.9980\n",
      "Epoch 00021: val_loss did not improve from 0.00634\n",
      "800000/800000 [==============================] - 936s 1ms/sample - loss: 0.0066 - mean_squared_error: 0.0016 - binary_crossentropy: 0.0066 - acc: 0.9980 - val_loss: 0.0064 - val_mean_squared_error: 0.0015 - val_binary_crossentropy: 0.0064 - val_acc: 0.9981\n",
      "Epoch 22/80\n",
      "799936/800000 [============================>.] - ETA: 0s - loss: 0.0066 - mean_squared_error: 0.0016 - binary_crossentropy: 0.0066 - acc: 0.9980\n",
      "Epoch 00022: val_loss did not improve from 0.00634\n",
      "800000/800000 [==============================] - 936s 1ms/sample - loss: 0.0066 - mean_squared_error: 0.0016 - binary_crossentropy: 0.0066 - acc: 0.9980 - val_loss: 0.0066 - val_mean_squared_error: 0.0016 - val_binary_crossentropy: 0.0066 - val_acc: 0.9980\n"
     ]
    }
   ],
   "source": [
    "checkpoint_path = \"model/CNN2D_XAUG_1mil_1.h5\"\n",
    "if not os.path.exists(\"model\"):\n",
    "    os.mkdir(\"model\")\n",
    "\n",
    "model_checkpoint = keras.callbacks.ModelCheckpoint(checkpoint_path, monitor='val_loss', \n",
    "                                   verbose=1, save_best_only=True, \n",
    "                                   save_weights_only=False, mode='auto',\n",
    "                                   period=1)  #save_freq='epoch',   \n",
    "EPOCHS = 80\n",
    "early_stop = keras.callbacks.EarlyStopping(monitor='val_loss', patience=10)\n",
    "history = CNN_XAUG.fit(XAUG_input, data_train['labels'],\n",
    "                       epochs=EPOCHS, validation_split = 0.2, verbose = 1,\n",
    "                       callbacks=[early_stop, model_checkpoint])\n",
    "CNN_XAUG.save(checkpoint_path)"
   ]
  },
  {
   "cell_type": "code",
   "execution_count": 19,
   "metadata": {},
   "outputs": [],
   "source": [
    "hist = pd.DataFrame(history.history)\n",
    "hist['epoch'] = history.epoch\n",
    "hist.to_csv('history_XAUG_1.csv',index=False)"
   ]
  },
  {
   "cell_type": "code",
   "execution_count": 20,
   "metadata": {},
   "outputs": [],
   "source": [
    "XAUG_test = [data_test['jetImages'], data_test['radii'],\n",
    "              data_test['theta'], data_test['z']]"
   ]
  },
  {
   "cell_type": "markdown",
   "metadata": {},
   "source": [
    "Load best weights."
   ]
  },
  {
   "cell_type": "code",
   "execution_count": 21,
   "metadata": {},
   "outputs": [
    {
     "name": "stdout",
     "output_type": "stream",
     "text": [
      "__________________________________________________________________________________________________\n",
      "Layer (type)                    Output Shape         Param #     Connected to                     \n",
      "==================================================================================================\n",
      "input_1 (InputLayer)            (None, 16, 16, 1)    0                                            \n",
      "__________________________________________________________________________________________________\n",
      "conv1 (Conv2D)                  (None, 16, 16, 32)   832         input_1[0][0]                    \n",
      "__________________________________________________________________________________________________\n",
      "conv2 (Conv2D)                  (None, 16, 16, 32)   9248        conv1[0][0]                      \n",
      "__________________________________________________________________________________________________\n",
      "conv3 (Conv2D)                  (None, 16, 16, 32)   4128        conv2[0][0]                      \n",
      "__________________________________________________________________________________________________\n",
      "dropout (Dropout)               (None, 16, 16, 32)   0           conv3[0][0]                      \n",
      "__________________________________________________________________________________________________\n",
      "maxpool2x2_1 (MaxPooling2D)     (None, 8, 8, 32)     0           dropout[0][0]                    \n",
      "__________________________________________________________________________________________________\n",
      "flatten (Flatten)               (None, 2048)         0           maxpool2x2_1[0][0]               \n",
      "__________________________________________________________________________________________________\n",
      "input_2 (InputLayer)            (None, 2)            0                                            \n",
      "__________________________________________________________________________________________________\n",
      "input_3 (InputLayer)            (None, 1)            0                                            \n",
      "__________________________________________________________________________________________________\n",
      "input_4 (InputLayer)            (None, 1)            0                                            \n",
      "__________________________________________________________________________________________________\n",
      "concat (Concatenate)            (None, 2052)         0           flatten[0][0]                    \n",
      "                                                                 input_2[0][0]                    \n",
      "                                                                 input_3[0][0]                    \n",
      "                                                                 input_4[0][0]                    \n",
      "__________________________________________________________________________________________________\n",
      "relu1 (Dense)                   (None, 64)           131392      concat[0][0]                     \n",
      "__________________________________________________________________________________________________\n",
      "relu2 (Dense)                   (None, 128)          8320        relu1[0][0]                      \n",
      "__________________________________________________________________________________________________\n",
      "softmax (Dense)                 (None, 2)            258         relu2[0][0]                      \n",
      "==================================================================================================\n",
      "Total params: 154,178\n",
      "Trainable params: 154,178\n",
      "Non-trainable params: 0\n",
      "__________________________________________________________________________________________________\n",
      "1000000/1000000 [==============================] - 313s 313us/sample - loss: 0.0064 - mean_squared_error: 0.0015 - binary_crossentropy: 0.0064 - acc: 0.9982\n",
      "[0.006403301829699544, 0.0014876345, 0.006403336, 0.998168]\n"
     ]
    }
   ],
   "source": [
    "best_model = keras.models.load_model('model/CNN2D_XAUG_1mil_1.h5')\n",
    "best_model.summary()\n",
    "results = best_model.evaluate(XAUG_test, data_test['labels'], verbose = 1)\n",
    "print(results)"
   ]
  },
  {
   "cell_type": "markdown",
   "metadata": {},
   "source": [
    "Evaluate the performance of our DNN! Plot predictions vs. true values (the line is predictions vs. predicitons)."
   ]
  },
  {
   "cell_type": "code",
   "execution_count": 22,
   "metadata": {},
   "outputs": [],
   "source": [
    "predict_XAUG = best_model.predict(XAUG_test)"
   ]
  },
  {
   "cell_type": "code",
   "execution_count": 23,
   "metadata": {},
   "outputs": [
    {
     "data": {
      "image/png": "[encoded data removed]",
      "text/plain": [
       "<Figure size 432x288 with 1 Axes>"
      ]
     },
     "metadata": {
      "needs_background": "light"
     },
     "output_type": "display_data"
    }
   ],
   "source": [
    "# Plot ROC\n",
    "from sklearn.metrics import roc_curve, auc\n",
    "fpr, tpr, thresholds = roc_curve(data_test['labels'][:,1], predict_XAUG[:,1])\n",
    "roc_auc = auc(fpr, tpr)\n",
    "plt.plot(fpr, tpr, lw=2, color='b', label='auc = %.4f' % (roc_auc))\n",
    "plt.plot([0, 1], [0, 1], linestyle='--', lw=2, color='k', label='random chance')\n",
    "plt.xlim([0, 1.0])\n",
    "plt.ylim([0, 1.0])\n",
    "plt.xlabel('False Positive Rate')\n",
    "plt.ylabel('True Positive Rate')\n",
    "plt.title('Receiver Operating Curve')\n",
    "plt.legend(loc=\"lower right\")\n",
    "plt.show()"
   ]
  },
  {
   "cell_type": "code",
   "execution_count": 24,
   "metadata": {},
   "outputs": [
    {
     "data": {
      "image/png": "[encoded data removed]",
      "text/plain": [
       "<Figure size 432x288 with 1 Axes>"
      ]
     },
     "metadata": {
      "needs_background": "light"
     },
     "output_type": "display_data"
    }
   ],
   "source": [
    "sig = predict_XAUG[data_test['labels'][:,1]==1][:,1]\n",
    "bkg = predict_XAUG[data_test['labels'][:,0]==1][:,1]\n",
    "\n",
    "bins = np.linspace(0, 1, 20)\n",
    "\n",
    "plt.hist(sig, bins, alpha=0.5, label='Signal')\n",
    "plt.hist(bkg, bins, alpha=0.5, label='Background')\n",
    "# plt.ylim(0,25000)\n",
    "plt.yscale('log')\n",
    "plt.legend(loc='upper center')\n",
    "plt.xlabel('Prediction')\n",
    "plt.show()"
   ]
  },
  {
   "cell_type": "code",
   "execution_count": null,
   "metadata": {},
   "outputs": [],
   "source": []
  }
 ],
 "metadata": {
  "kernelspec": {
   "display_name": "Python 3",
   "language": "python",
   "name": "python3"
  },
  "language_info": {
   "codemirror_mode": {
    "name": "ipython",
    "version": 3
   },
   "file_extension": ".py",
   "mimetype": "text/x-python",
   "name": "python",
   "nbconvert_exporter": "python",
   "pygments_lexer": "ipython3",
   "version": "3.7.3"
  }
 },
 "nbformat": 4,
 "nbformat_minor": 2
}
