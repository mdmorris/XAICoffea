{
 "cells": [
  {
   "cell_type": "code",
   "execution_count": 2,
   "metadata": {},
   "outputs": [
    {
     "name": "stdout",
     "output_type": "stream",
     "text": [
      "TensorFlow version:  1.13.1\n"
     ]
    }
   ],
   "source": [
    "# TensorFlow and tf.keras\n",
    "import tensorflow as tf\n",
    "from tensorflow import keras\n",
    "from tensorflow.keras import layers\n",
    "from tensorflow.keras import models\n",
    "import tensorflow.keras.utils\n",
    "from tensorflow.keras.utils import multi_gpu_model\n",
    "import pandas as pd\n",
    "\n",
    "from datetime import datetime\n",
    "from packaging import version\n",
    "\n",
    "print(\"TensorFlow version: \", tf.__version__)\n",
    "assert version.parse(tf.__version__).release[0] < 2, \\\n",
    "    \"This notebook does not worl for TensorFlow 2.0\"\n",
    "\n",
    "# Helper libraries\n",
    "import numpy as np\n",
    "import matplotlib.pyplot as plt\n",
    "from matplotlib.colors import LogNorm\n",
    "import math\n",
    "import time\n",
    "import h5py\n",
    "import sklearn\n",
    "from sklearn.utils import shuffle\n",
    "from tensorflow.keras import *\n",
    "\n",
    "import os\n",
    "import pickle\n",
    "# from numba import jit"
   ]
  },
  {
   "cell_type": "markdown",
   "metadata": {},
   "source": [
    "## Import data:\n",
    "Using jetImages_signal.npz and jetImages_bkg.npz to train the neural network and using jetImages_signal_test.npz and jetImages_bkg_test.npz for testing."
   ]
  },
  {
   "cell_type": "code",
   "execution_count": 3,
   "metadata": {},
   "outputs": [],
   "source": [
    "grid = 16\n",
    "# training data : 100,000 signal samples and 100,000 bkg samples\n",
    "traindata_sig = np.load('data/jetImages_signal_littleoverlap_train.npz')\n",
    "traindata_bkg = np.load('data/jetImages_bkg_littleoverlap_train.npz')\n",
    "train={}\n",
    "for key in traindata_sig.files[:-1]:\n",
    "    if (key == 'jetImages'):\n",
    "        train[key] = np.concatenate((traindata_sig[key], traindata_bkg[key]),axis=1).reshape(\n",
    "        (len(traindata_sig[key])+len(traindata_bkg[key])), grid, grid, 1)\n",
    "    else:\n",
    "        train[key] = np.concatenate((traindata_sig[key], traindata_bkg[key]),axis=1).reshape(\n",
    "        (len(traindata_sig[key])+len(traindata_bkg[key])), traindata_sig[key].shape[1])\n",
    "        \n",
    "# testing data : 20,000 signal samples and 10,000 bkg samples\n",
    "testdata_sig = np.load('data/jetImages_signal_littleoverlap_test.npz')\n",
    "testdata_bkg = np.load('data/jetImages_bkg_littleoverlap_test.npz')\n",
    "test={}\n",
    "for key in testdata_sig.files[:-1]:\n",
    "    if (key == 'jetImages'):\n",
    "        test[key] = np.concatenate((testdata_sig[key], testdata_bkg[key]),axis=1).reshape(\n",
    "        (len(testdata_sig[key])+len(testdata_bkg[key])), grid, grid, 1)\n",
    "    else:\n",
    "        test[key] = np.concatenate((testdata_sig[key], testdata_bkg[key]),axis=1).reshape(\n",
    "        (len(testdata_sig[key])+len(testdata_bkg[key])), testdata_sig[key].shape[1])"
   ]
  },
  {
   "cell_type": "code",
   "execution_count": 4,
   "metadata": {},
   "outputs": [],
   "source": [
    "#n_train = len(train['labels'])\n",
    "#n_test = len(test['labels'])\n",
    "#train['jetImages'] = train['jetImages'].reshape(n_train, grid, grid, 1)\n",
    "#test['jetImages'] = test['jetImages'].reshape(n_test, grid, grid, 1)\n",
    "np.savez('data/jetImagesTrain', jetImages = train['jetImages'], thetalab = train['thetalab'], radiilab = train['radiilab'], zlab = train['zlab'], labels = train['labels'])\n",
    "np.savez('data/jetImagesTest', jetImages = test['jetImages'], thetalab = test['thetalab'], radiilab = test['radiilab'], zlab = test['zlab'], labels = test['labels'])"
   ]
  },
  {
   "cell_type": "code",
   "execution_count": 5,
   "metadata": {},
   "outputs": [],
   "source": [
    "data_train = np.load('data/jetImagesTrain.npz')\n",
    "data_test = np.load('data/jetImagesTest.npz')\n",
    "# feat_all = [key for key in data_train.keys()]\n",
    "# feat_all.remove('labels')"
   ]
  },
  {
   "cell_type": "markdown",
   "metadata": {},
   "source": [
    "Build DNN:"
   ]
  },
  {
   "cell_type": "code",
   "execution_count": 6,
   "metadata": {},
   "outputs": [],
   "source": [
    "def build_model():\n",
    "    input1 = layers.Input(shape = (grid, grid, 1), name = 'input')\n",
    "    x = layers.Conv2D(32, (5, 5), activation='relu', name = \"conv1\", padding = 'same')(input1)\n",
    "    x = layers.Conv2D(32, (3, 3), activation='relu', name = 'conv2', padding = 'same')(x)\n",
    "    x = layers.Conv2D(32, (2, 2), activation='relu', name = 'conv3', padding = 'same')(x)\n",
    "    x = layers.MaxPool2D((2, 2), name = 'maxpool1')(x)\n",
    "    x = layers.Flatten(name = 'flatten')(x)\n",
    "    x = layers.Dense(64, activation='relu', name = 'dense1')(x)\n",
    "    output = layers.Dense(2, activation='softmax', name = 'softmax')(x)\n",
    "    model = models.Model(inputs=input1, outputs=output)\n",
    "    opt=keras.optimizers.Adam(lr=0.001,beta_1=0.9, beta_2=0.999, amsgrad=False)\n",
    "    model.compile(loss='binary_crossentropy',\n",
    "                optimizer=opt,\n",
    "                metrics=['mean_squared_error', 'binary_crossentropy', 'accuracy'])\n",
    "    return model"
   ]
  },
  {
   "cell_type": "markdown",
   "metadata": {},
   "source": [
    "Initialize model:"
   ]
  },
  {
   "cell_type": "code",
   "execution_count": 7,
   "metadata": {},
   "outputs": [
    {
     "name": "stdout",
     "output_type": "stream",
     "text": [
      "WARNING:tensorflow:From /opt/conda/lib/python3.7/site-packages/tensorflow/python/ops/resource_variable_ops.py:435: colocate_with (from tensorflow.python.framework.ops) is deprecated and will be removed in a future version.\n",
      "Instructions for updating:\n",
      "Colocations handled automatically by placer.\n"
     ]
    }
   ],
   "source": [
    "CNN = build_model()"
   ]
  },
  {
   "cell_type": "markdown",
   "metadata": {},
   "source": [
    "Test model's prediction $before$ training:"
   ]
  },
  {
   "cell_type": "code",
   "execution_count": 8,
   "metadata": {},
   "outputs": [
    {
     "name": "stdout",
     "output_type": "stream",
     "text": [
      "10/10 [==============================] - 0s 6ms/sample - loss: 0.6931 - mean_squared_error: 0.2500 - binary_crossentropy: 0.6931 - acc: 0.4000\n",
      "[0.6930874586105347, 0.24997012, 0.69308746, 0.4]\n"
     ]
    }
   ],
   "source": [
    "X_batch = data_train['jetImages'][:10]\n",
    "Y_batch = data_train['labels'][:10]\n",
    "example_result = CNN.predict(x = X_batch)\n",
    "results = CNN.evaluate(x = X_batch, y = Y_batch )\n",
    "print(results)"
   ]
  },
  {
   "cell_type": "markdown",
   "metadata": {},
   "source": [
    "Now train!"
   ]
  },
  {
   "cell_type": "code",
   "execution_count": 9,
   "metadata": {
    "scrolled": false
   },
   "outputs": [
    {
     "name": "stdout",
     "output_type": "stream",
     "text": [
      "Train on 160000 samples, validate on 40000 samples\n",
      "WARNING:tensorflow:From /opt/conda/lib/python3.7/site-packages/tensorflow/python/ops/math_ops.py:3066: to_int32 (from tensorflow.python.ops.math_ops) is deprecated and will be removed in a future version.\n",
      "Instructions for updating:\n",
      "Use tf.cast instead.\n",
      "Epoch 1/500\n",
      "159904/160000 [============================>.] - ETA: 0s - loss: 0.0713 - mean_squared_error: 0.0197 - binary_crossentropy: 0.0713 - acc: 0.9743\n",
      "Epoch 00001: val_loss improved from inf to 0.05971, saving model to model/CNN2D.h5\n",
      "160000/160000 [==============================] - 80s 498us/sample - loss: 0.0713 - mean_squared_error: 0.0197 - binary_crossentropy: 0.0713 - acc: 0.9743 - val_loss: 0.0597 - val_mean_squared_error: 0.0162 - val_binary_crossentropy: 0.0597 - val_acc: 0.9791\n",
      "Epoch 2/500\n",
      "159936/160000 [============================>.] - ETA: 0s - loss: 0.0530 - mean_squared_error: 0.0144 - binary_crossentropy: 0.0530 - acc: 0.9811\n",
      "Epoch 00002: val_loss improved from 0.05971 to 0.04705, saving model to model/CNN2D.h5\n",
      "160000/160000 [==============================] - 79s 497us/sample - loss: 0.0530 - mean_squared_error: 0.0144 - binary_crossentropy: 0.0530 - acc: 0.9811 - val_loss: 0.0470 - val_mean_squared_error: 0.0129 - val_binary_crossentropy: 0.0470 - val_acc: 0.9833\n",
      "Epoch 3/500\n",
      "159936/160000 [============================>.] - ETA: 0s - loss: 0.0488 - mean_squared_error: 0.0133 - binary_crossentropy: 0.0488 - acc: 0.9827\n",
      "Epoch 00003: val_loss improved from 0.04705 to 0.04312, saving model to model/CNN2D.h5\n",
      "160000/160000 [==============================] - 79s 495us/sample - loss: 0.0488 - mean_squared_error: 0.0133 - binary_crossentropy: 0.0488 - acc: 0.9827 - val_loss: 0.0431 - val_mean_squared_error: 0.0118 - val_binary_crossentropy: 0.0431 - val_acc: 0.9844\n",
      "Epoch 4/500\n",
      "159904/160000 [============================>.] - ETA: 0s - loss: 0.0458 - mean_squared_error: 0.0125 - binary_crossentropy: 0.0458 - acc: 0.9837\n",
      "Epoch 00004: val_loss did not improve from 0.04312\n",
      "160000/160000 [==============================] - 79s 493us/sample - loss: 0.0458 - mean_squared_error: 0.0125 - binary_crossentropy: 0.0458 - acc: 0.9837 - val_loss: 0.0469 - val_mean_squared_error: 0.0127 - val_binary_crossentropy: 0.0469 - val_acc: 0.9837\n",
      "Epoch 5/500\n",
      "159968/160000 [============================>.] - ETA: 0s - loss: 0.0432 - mean_squared_error: 0.0117 - binary_crossentropy: 0.0432 - acc: 0.9848\n",
      "Epoch 00005: val_loss improved from 0.04312 to 0.03987, saving model to model/CNN2D.h5\n",
      "160000/160000 [==============================] - 79s 491us/sample - loss: 0.0432 - mean_squared_error: 0.0117 - binary_crossentropy: 0.0432 - acc: 0.9848 - val_loss: 0.0399 - val_mean_squared_error: 0.0109 - val_binary_crossentropy: 0.0399 - val_acc: 0.9863\n",
      "Epoch 6/500\n",
      "159904/160000 [============================>.] - ETA: 0s - loss: 0.0421 - mean_squared_error: 0.0114 - binary_crossentropy: 0.0421 - acc: 0.9850\n",
      "Epoch 00006: val_loss did not improve from 0.03987\n",
      "160000/160000 [==============================] - 79s 495us/sample - loss: 0.0421 - mean_squared_error: 0.0115 - binary_crossentropy: 0.0421 - acc: 0.9850 - val_loss: 0.0548 - val_mean_squared_error: 0.0154 - val_binary_crossentropy: 0.0548 - val_acc: 0.9793\n",
      "Epoch 7/500\n",
      "159872/160000 [============================>.] - ETA: 0s - loss: 0.0402 - mean_squared_error: 0.0109 - binary_crossentropy: 0.0402 - acc: 0.9858\n",
      "Epoch 00007: val_loss did not improve from 0.03987\n",
      "160000/160000 [==============================] - 79s 495us/sample - loss: 0.0402 - mean_squared_error: 0.0109 - binary_crossentropy: 0.0402 - acc: 0.9858 - val_loss: 0.0401 - val_mean_squared_error: 0.0109 - val_binary_crossentropy: 0.0401 - val_acc: 0.9858\n",
      "Epoch 8/500\n",
      "159872/160000 [============================>.] - ETA: 0s - loss: 0.0391 - mean_squared_error: 0.0106 - binary_crossentropy: 0.0391 - acc: 0.9863\n",
      "Epoch 00008: val_loss did not improve from 0.03987\n",
      "160000/160000 [==============================] - 79s 493us/sample - loss: 0.0391 - mean_squared_error: 0.0106 - binary_crossentropy: 0.0391 - acc: 0.9863 - val_loss: 0.0473 - val_mean_squared_error: 0.0127 - val_binary_crossentropy: 0.0473 - val_acc: 0.9837\n",
      "Epoch 9/500\n",
      "159904/160000 [============================>.] - ETA: 0s - loss: 0.0376 - mean_squared_error: 0.0102 - binary_crossentropy: 0.0376 - acc: 0.9867\n",
      "Epoch 00009: val_loss did not improve from 0.03987\n",
      "160000/160000 [==============================] - 79s 495us/sample - loss: 0.0376 - mean_squared_error: 0.0102 - binary_crossentropy: 0.0376 - acc: 0.9867 - val_loss: 0.0409 - val_mean_squared_error: 0.0109 - val_binary_crossentropy: 0.0409 - val_acc: 0.9860\n",
      "Epoch 10/500\n",
      "159968/160000 [============================>.] - ETA: 0s - loss: 0.0359 - mean_squared_error: 0.0097 - binary_crossentropy: 0.0359 - acc: 0.9874\n",
      "Epoch 00010: val_loss improved from 0.03987 to 0.03914, saving model to model/CNN2D.h5\n",
      "160000/160000 [==============================] - 79s 492us/sample - loss: 0.0359 - mean_squared_error: 0.0097 - binary_crossentropy: 0.0359 - acc: 0.9874 - val_loss: 0.0391 - val_mean_squared_error: 0.0106 - val_binary_crossentropy: 0.0391 - val_acc: 0.9865\n",
      "Epoch 11/500\n",
      "159904/160000 [============================>.] - ETA: 0s - loss: 0.0344 - mean_squared_error: 0.0093 - binary_crossentropy: 0.0344 - acc: 0.9879\n",
      "Epoch 00011: val_loss did not improve from 0.03914\n",
      "160000/160000 [==============================] - 79s 495us/sample - loss: 0.0343 - mean_squared_error: 0.0093 - binary_crossentropy: 0.0343 - acc: 0.9879 - val_loss: 0.0394 - val_mean_squared_error: 0.0105 - val_binary_crossentropy: 0.0394 - val_acc: 0.9868\n",
      "Epoch 12/500\n",
      "159872/160000 [============================>.] - ETA: 0s - loss: 0.0330 - mean_squared_error: 0.0089 - binary_crossentropy: 0.0330 - acc: 0.9885\n",
      "Epoch 00012: val_loss did not improve from 0.03914\n",
      "160000/160000 [==============================] - 79s 495us/sample - loss: 0.0330 - mean_squared_error: 0.0089 - binary_crossentropy: 0.0330 - acc: 0.9885 - val_loss: 0.0398 - val_mean_squared_error: 0.0104 - val_binary_crossentropy: 0.0398 - val_acc: 0.9870\n",
      "Epoch 13/500\n",
      "159936/160000 [============================>.] - ETA: 0s - loss: 0.0317 - mean_squared_error: 0.0086 - binary_crossentropy: 0.0317 - acc: 0.9891\n",
      "Epoch 00013: val_loss did not improve from 0.03914\n",
      "160000/160000 [==============================] - 79s 494us/sample - loss: 0.0318 - mean_squared_error: 0.0086 - binary_crossentropy: 0.0318 - acc: 0.9890 - val_loss: 0.0398 - val_mean_squared_error: 0.0106 - val_binary_crossentropy: 0.0398 - val_acc: 0.9867\n",
      "Epoch 14/500\n",
      "159904/160000 [============================>.] - ETA: 0s - loss: 0.0306 - mean_squared_error: 0.0083 - binary_crossentropy: 0.0306 - acc: 0.9894\n",
      "Epoch 00014: val_loss did not improve from 0.03914\n",
      "160000/160000 [==============================] - 79s 495us/sample - loss: 0.0306 - mean_squared_error: 0.0083 - binary_crossentropy: 0.0306 - acc: 0.9894 - val_loss: 0.0394 - val_mean_squared_error: 0.0102 - val_binary_crossentropy: 0.0394 - val_acc: 0.9870\n",
      "Epoch 15/500\n",
      "159936/160000 [============================>.] - ETA: 0s - loss: 0.0287 - mean_squared_error: 0.0078 - binary_crossentropy: 0.0287 - acc: 0.9898\n",
      "Epoch 00015: val_loss did not improve from 0.03914\n",
      "160000/160000 [==============================] - 79s 494us/sample - loss: 0.0288 - mean_squared_error: 0.0078 - binary_crossentropy: 0.0288 - acc: 0.9898 - val_loss: 0.0415 - val_mean_squared_error: 0.0105 - val_binary_crossentropy: 0.0415 - val_acc: 0.9865\n",
      "Epoch 16/500\n",
      "159872/160000 [============================>.] - ETA: 0s - loss: 0.0273 - mean_squared_error: 0.0073 - binary_crossentropy: 0.0273 - acc: 0.9906\n",
      "Epoch 00016: val_loss did not improve from 0.03914\n",
      "160000/160000 [==============================] - 79s 495us/sample - loss: 0.0273 - mean_squared_error: 0.0073 - binary_crossentropy: 0.0273 - acc: 0.9906 - val_loss: 0.0430 - val_mean_squared_error: 0.0108 - val_binary_crossentropy: 0.0430 - val_acc: 0.9859\n",
      "Epoch 17/500\n",
      "159936/160000 [============================>.] - ETA: 0s - loss: 0.0260 - mean_squared_error: 0.0071 - binary_crossentropy: 0.0260 - acc: 0.9908\n",
      "Epoch 00017: val_loss did not improve from 0.03914\n",
      "160000/160000 [==============================] - 78s 488us/sample - loss: 0.0260 - mean_squared_error: 0.0071 - binary_crossentropy: 0.0260 - acc: 0.9908 - val_loss: 0.0411 - val_mean_squared_error: 0.0106 - val_binary_crossentropy: 0.0411 - val_acc: 0.9863\n"
     ]
    },
    {
     "name": "stdout",
     "output_type": "stream",
     "text": [
      "Epoch 18/500\n",
      "159936/160000 [============================>.] - ETA: 0s - loss: 0.0246 - mean_squared_error: 0.0067 - binary_crossentropy: 0.0246 - acc: 0.9913\n",
      "Epoch 00018: val_loss did not improve from 0.03914\n",
      "160000/160000 [==============================] - 79s 492us/sample - loss: 0.0246 - mean_squared_error: 0.0067 - binary_crossentropy: 0.0246 - acc: 0.9913 - val_loss: 0.0431 - val_mean_squared_error: 0.0108 - val_binary_crossentropy: 0.0431 - val_acc: 0.9865\n",
      "Epoch 19/500\n",
      "159936/160000 [============================>.] - ETA: 0s - loss: 0.0232 - mean_squared_error: 0.0063 - binary_crossentropy: 0.0232 - acc: 0.9920\n",
      "Epoch 00019: val_loss did not improve from 0.03914\n",
      "160000/160000 [==============================] - 79s 493us/sample - loss: 0.0232 - mean_squared_error: 0.0062 - binary_crossentropy: 0.0232 - acc: 0.9920 - val_loss: 0.0445 - val_mean_squared_error: 0.0112 - val_binary_crossentropy: 0.0445 - val_acc: 0.9855\n",
      "Epoch 20/500\n",
      "159968/160000 [============================>.] - ETA: 0s - loss: 0.0221 - mean_squared_error: 0.0060 - binary_crossentropy: 0.0221 - acc: 0.9921\n",
      "Epoch 00020: val_loss did not improve from 0.03914\n",
      "160000/160000 [==============================] - 79s 494us/sample - loss: 0.0221 - mean_squared_error: 0.0060 - binary_crossentropy: 0.0221 - acc: 0.9921 - val_loss: 0.0454 - val_mean_squared_error: 0.0110 - val_binary_crossentropy: 0.0454 - val_acc: 0.9861\n"
     ]
    }
   ],
   "source": [
    "checkpoint_path = \"model/CNN2D.h5\"\n",
    "if not os.path.exists(\"model\"):\n",
    "    os.mkdir(\"model\")\n",
    "\n",
    "model_checkpoint = keras.callbacks.ModelCheckpoint(checkpoint_path, monitor='val_loss', \n",
    "                                   verbose=1, save_best_only=True, \n",
    "                                   save_weights_only=False, mode='auto',\n",
    "                                   period=1)\n",
    "EPOCHS = 500\n",
    "early_stop = keras.callbacks.EarlyStopping(monitor='val_loss', patience=10)\n",
    "history = CNN.fit(data_train['jetImages'], data_train['labels'],\n",
    "                           epochs=EPOCHS, validation_split = 0.2, verbose = 1,\n",
    "                           callbacks=[early_stop, model_checkpoint])\n",
    "CNN.save(checkpoint_path)"
   ]
  },
  {
   "cell_type": "markdown",
   "metadata": {},
   "source": [
    "Load best weights."
   ]
  },
  {
   "cell_type": "code",
   "execution_count": 10,
   "metadata": {},
   "outputs": [
    {
     "name": "stdout",
     "output_type": "stream",
     "text": [
      "_________________________________________________________________\n",
      "Layer (type)                 Output Shape              Param #   \n",
      "=================================================================\n",
      "input (InputLayer)           (None, 16, 16, 1)         0         \n",
      "_________________________________________________________________\n",
      "conv1 (Conv2D)               (None, 16, 16, 32)        832       \n",
      "_________________________________________________________________\n",
      "conv2 (Conv2D)               (None, 16, 16, 32)        9248      \n",
      "_________________________________________________________________\n",
      "conv3 (Conv2D)               (None, 16, 16, 32)        4128      \n",
      "_________________________________________________________________\n",
      "maxpool1 (MaxPooling2D)      (None, 8, 8, 32)          0         \n",
      "_________________________________________________________________\n",
      "flatten (Flatten)            (None, 2048)              0         \n",
      "_________________________________________________________________\n",
      "dense1 (Dense)               (None, 64)                131136    \n",
      "_________________________________________________________________\n",
      "softmax (Dense)              (None, 2)                 130       \n",
      "=================================================================\n",
      "Total params: 145,474\n",
      "Trainable params: 145,474\n",
      "Non-trainable params: 0\n",
      "_________________________________________________________________\n",
      "40000/40000 [==============================] - 5s 125us/sample - loss: 0.0503 - mean_squared_error: 0.0114 - binary_crossentropy: 0.0503 - acc: 0.9855\n",
      "[0.05026785767930851, 0.011419595, 0.050267845, 0.98555]\n"
     ]
    }
   ],
   "source": [
    "best_model = keras.models.load_model('model/CNN2D.h5')\n",
    "best_model.summary()\n",
    "results = best_model.evaluate(data_test['jetImages'], data_test['labels'], verbose = 1)\n",
    "print(results)"
   ]
  },
  {
   "cell_type": "markdown",
   "metadata": {},
   "source": [
    "Evaluate the performance of our DNN! Plot predictions vs. true values (the line is predictions vs. predicitons)."
   ]
  },
  {
   "cell_type": "code",
   "execution_count": 11,
   "metadata": {},
   "outputs": [],
   "source": [
    "predict = best_model.predict(data_test['jetImages'])"
   ]
  },
  {
   "cell_type": "code",
   "execution_count": 12,
   "metadata": {},
   "outputs": [
    {
     "data": {
      "image/png": "[encoded data removed]",
      "text/plain": [
       "<Figure size 432x288 with 1 Axes>"
      ]
     },
     "metadata": {
      "needs_background": "light"
     },
     "output_type": "display_data"
    }
   ],
   "source": [
    "# Plot ROC\n",
    "from sklearn.metrics import roc_curve, auc\n",
    "fpr, tpr, thresholds = roc_curve(data_test['labels'][:,1], predict[:,1])\n",
    "roc_auc = auc(fpr, tpr)\n",
    "plt.plot(fpr, tpr, lw=2, color='b', label='auc = %.4f' % (roc_auc))\n",
    "plt.plot([0, 1], [0, 1], linestyle='--', lw=2, color='k', label='random chance')\n",
    "plt.xlim([0, 1.0])\n",
    "plt.ylim([0, 1.0])\n",
    "plt.xlabel('False Positive Rate')\n",
    "plt.ylabel('True Positive Rate')\n",
    "plt.title('Receiver Operating Curve')\n",
    "plt.legend(loc=\"lower right\")\n",
    "plt.show()"
   ]
  },
  {
   "cell_type": "code",
   "execution_count": 13,
   "metadata": {},
   "outputs": [
    {
     "data": {
      "image/png": "[encoded data removed]",
      "text/plain": [
       "<Figure size 432x288 with 1 Axes>"
      ]
     },
     "metadata": {
      "needs_background": "light"
     },
     "output_type": "display_data"
    }
   ],
   "source": [
    "sig = predict[data_test['labels'][:,1]==1][:,1]\n",
    "bkg = predict[data_test['labels'][:,0]==1][:,1]\n",
    "\n",
    "bins = np.linspace(0, 1, 20)\n",
    "\n",
    "plt.hist(sig, bins, alpha=0.5, label='Signal')\n",
    "plt.hist(bkg, bins, alpha=0.5, label='Background')\n",
    "# plt.ylim(0,25000)\n",
    "plt.yscale('log')\n",
    "plt.legend(loc='upper center')\n",
    "plt.xlabel('Prediction')\n",
    "plt.show()"
   ]
  },
  {
   "cell_type": "code",
   "execution_count": 14,
   "metadata": {},
   "outputs": [],
   "source": [
    "def build_model():\n",
    "    input1 = layers.Input(shape = (grid, grid,1))\n",
    "    x = layers.Conv2D(32, (5, 5), activation='relu', padding='same', name = 'conv1')(input1)\n",
    "    x = layers.Conv2D(32, (3, 3), activation='relu', padding='same', name = 'conv2')(x)\n",
    "    x = layers.Conv2D(32, (2, 2), activation='relu', padding='same', name = 'conv3')(x)\n",
    "    x = layers.MaxPool2D((2, 2), name = 'maxpool2x2_1')(x)\n",
    "    x1 = layers.Flatten(name = 'flatten')(x)\n",
    "    input2 = layers.Input(shape=(1,))\n",
    "    input3 = layers.Input(shape=(2,))\n",
    "    input4 = layers.Input(shape=(1,))\n",
    "    x = layers.concatenate(inputs = [x1, input2, input3, input4], axis=-1, name='concat')\n",
    "    x = layers.Dense(64, activation='relu', name = 'relu1')(x)\n",
    "    x = layers.Dense(128, activation='relu', name = 'relu2')(x)    \n",
    "    output = layers.Dense(2, activation='softmax', name = 'softmax')(x)\n",
    "    model = models.Model(inputs=[input1, input2, input3, input4], outputs=output)\n",
    "    \n",
    "    opt=keras.optimizers.Adam(lr=0.001,beta_1=0.9, beta_2=0.999, amsgrad=False)\n",
    "    model.compile(loss='binary_crossentropy',\n",
    "                optimizer=opt,\n",
    "                metrics=['mean_squared_error', 'binary_crossentropy', 'accuracy'])\n",
    "    return model"
   ]
  },
  {
   "cell_type": "code",
   "execution_count": 15,
   "metadata": {},
   "outputs": [],
   "source": [
    "CNN_XAUG = build_model()"
   ]
  },
  {
   "cell_type": "code",
   "execution_count": 16,
   "metadata": {},
   "outputs": [
    {
     "name": "stdout",
     "output_type": "stream",
     "text": [
      "10/10 [==============================] - 0s 8ms/sample - loss: 0.6960 - mean_squared_error: 0.2514 - binary_crossentropy: 0.6960 - acc: 0.0000e+00\n",
      "[0.6959754228591919, 0.25141412, 0.6959754, 0.0]\n"
     ]
    }
   ],
   "source": [
    "X_batch1 = data_train['jetImages'][:10]\n",
    "X_batch2 = data_train['thetalab'][:10]\n",
    "X_batch3 = data_train['radiilab'][:10]\n",
    "X_batch4 = data_train['zlab'][:10]\n",
    "Y_batch = data_train['labels'][:10]\n",
    "example_result = CNN_XAUG.predict(x = [X_batch1,X_batch2,X_batch3,X_batch4])\n",
    "results = CNN_XAUG.evaluate(x = [X_batch1,X_batch2,X_batch3,X_batch4], y = Y_batch )\n",
    "print(results)"
   ]
  },
  {
   "cell_type": "code",
   "execution_count": 17,
   "metadata": {
    "scrolled": false
   },
   "outputs": [
    {
     "name": "stdout",
     "output_type": "stream",
     "text": [
      "Train on 160000 samples, validate on 40000 samples\n",
      "Epoch 1/50\n",
      "159872/160000 [============================>.] - ETA: 0s - loss: 0.0221 - mean_squared_error: 0.0059 - binary_crossentropy: 0.0221 - acc: 0.9922\n",
      "Epoch 00001: val_loss improved from inf to 0.00888, saving model to model/CNN2D_XAUG.h5\n",
      "160000/160000 [==============================] - 87s 544us/sample - loss: 0.0221 - mean_squared_error: 0.0059 - binary_crossentropy: 0.0221 - acc: 0.9922 - val_loss: 0.0089 - val_mean_squared_error: 0.0022 - val_binary_crossentropy: 0.0089 - val_acc: 0.9970\n",
      "Epoch 2/50\n",
      "159968/160000 [============================>.] - ETA: 0s - loss: 0.0091 - mean_squared_error: 0.0021 - binary_crossentropy: 0.0091 - acc: 0.9973\n",
      "Epoch 00002: val_loss improved from 0.00888 to 0.00820, saving model to model/CNN2D_XAUG.h5\n",
      "160000/160000 [==============================] - 87s 542us/sample - loss: 0.0091 - mean_squared_error: 0.0021 - binary_crossentropy: 0.0091 - acc: 0.9973 - val_loss: 0.0082 - val_mean_squared_error: 0.0020 - val_binary_crossentropy: 0.0082 - val_acc: 0.9977\n",
      "Epoch 3/50\n",
      "159968/160000 [============================>.] - ETA: 0s - loss: 0.0089 - mean_squared_error: 0.0021 - binary_crossentropy: 0.0089 - acc: 0.9973\n",
      "Epoch 00003: val_loss did not improve from 0.00820\n",
      "160000/160000 [==============================] - 87s 541us/sample - loss: 0.0089 - mean_squared_error: 0.0021 - binary_crossentropy: 0.0089 - acc: 0.9973 - val_loss: 0.0087 - val_mean_squared_error: 0.0022 - val_binary_crossentropy: 0.0087 - val_acc: 0.9971\n",
      "Epoch 4/50\n",
      "159968/160000 [============================>.] - ETA: 0s - loss: 0.0087 - mean_squared_error: 0.0020 - binary_crossentropy: 0.0087 - acc: 0.9975\n",
      "Epoch 00004: val_loss did not improve from 0.00820\n",
      "160000/160000 [==============================] - 86s 539us/sample - loss: 0.0088 - mean_squared_error: 0.0020 - binary_crossentropy: 0.0088 - acc: 0.9975 - val_loss: 0.0099 - val_mean_squared_error: 0.0025 - val_binary_crossentropy: 0.0099 - val_acc: 0.9969\n",
      "Epoch 5/50\n",
      "159968/160000 [============================>.] - ETA: 0s - loss: 0.0086 - mean_squared_error: 0.0020 - binary_crossentropy: 0.0086 - acc: 0.9976\n",
      "Epoch 00005: val_loss did not improve from 0.00820\n",
      "160000/160000 [==============================] - 87s 541us/sample - loss: 0.0086 - mean_squared_error: 0.0020 - binary_crossentropy: 0.0086 - acc: 0.9976 - val_loss: 0.0094 - val_mean_squared_error: 0.0024 - val_binary_crossentropy: 0.0094 - val_acc: 0.9969\n",
      "Epoch 6/50\n",
      "159968/160000 [============================>.] - ETA: 0s - loss: 0.0085 - mean_squared_error: 0.0019 - binary_crossentropy: 0.0085 - acc: 0.9977\n",
      "Epoch 00006: val_loss did not improve from 0.00820\n",
      "160000/160000 [==============================] - 86s 540us/sample - loss: 0.0085 - mean_squared_error: 0.0019 - binary_crossentropy: 0.0085 - acc: 0.9977 - val_loss: 0.0093 - val_mean_squared_error: 0.0023 - val_binary_crossentropy: 0.0093 - val_acc: 0.9972\n",
      "Epoch 7/50\n",
      "159872/160000 [============================>.] - ETA: 0s - loss: 0.0082 - mean_squared_error: 0.0019 - binary_crossentropy: 0.0082 - acc: 0.9976\n",
      "Epoch 00007: val_loss improved from 0.00820 to 0.00758, saving model to model/CNN2D_XAUG.h5\n",
      "160000/160000 [==============================] - 86s 540us/sample - loss: 0.0082 - mean_squared_error: 0.0019 - binary_crossentropy: 0.0082 - acc: 0.9976 - val_loss: 0.0076 - val_mean_squared_error: 0.0018 - val_binary_crossentropy: 0.0076 - val_acc: 0.9977\n",
      "Epoch 8/50\n",
      "159936/160000 [============================>.] - ETA: 0s - loss: 0.0080 - mean_squared_error: 0.0019 - binary_crossentropy: 0.0080 - acc: 0.9977\n",
      "Epoch 00008: val_loss improved from 0.00758 to 0.00751, saving model to model/CNN2D_XAUG.h5\n",
      "160000/160000 [==============================] - 86s 540us/sample - loss: 0.0080 - mean_squared_error: 0.0019 - binary_crossentropy: 0.0080 - acc: 0.9977 - val_loss: 0.0075 - val_mean_squared_error: 0.0018 - val_binary_crossentropy: 0.0075 - val_acc: 0.9978\n",
      "Epoch 9/50\n",
      "159936/160000 [============================>.] - ETA: 0s - loss: 0.0078 - mean_squared_error: 0.0018 - binary_crossentropy: 0.0078 - acc: 0.9978\n",
      "Epoch 00009: val_loss improved from 0.00751 to 0.00732, saving model to model/CNN2D_XAUG.h5\n",
      "160000/160000 [==============================] - 86s 539us/sample - loss: 0.0078 - mean_squared_error: 0.0018 - binary_crossentropy: 0.0078 - acc: 0.9978 - val_loss: 0.0073 - val_mean_squared_error: 0.0017 - val_binary_crossentropy: 0.0073 - val_acc: 0.9978\n",
      "Epoch 10/50\n",
      "159968/160000 [============================>.] - ETA: 0s - loss: 0.0076 - mean_squared_error: 0.0018 - binary_crossentropy: 0.0076 - acc: 0.9978\n",
      "Epoch 00010: val_loss did not improve from 0.00732\n",
      "160000/160000 [==============================] - 86s 540us/sample - loss: 0.0076 - mean_squared_error: 0.0018 - binary_crossentropy: 0.0076 - acc: 0.9978 - val_loss: 0.0103 - val_mean_squared_error: 0.0022 - val_binary_crossentropy: 0.0103 - val_acc: 0.9973\n",
      "Epoch 11/50\n",
      "159904/160000 [============================>.] - ETA: 0s - loss: 0.0075 - mean_squared_error: 0.0018 - binary_crossentropy: 0.0075 - acc: 0.9978\n",
      "Epoch 00011: val_loss did not improve from 0.00732\n",
      "160000/160000 [==============================] - 86s 541us/sample - loss: 0.0075 - mean_squared_error: 0.0018 - binary_crossentropy: 0.0075 - acc: 0.9978 - val_loss: 0.0074 - val_mean_squared_error: 0.0017 - val_binary_crossentropy: 0.0074 - val_acc: 0.9979\n",
      "Epoch 12/50\n",
      "159904/160000 [============================>.] - ETA: 0s - loss: 0.0074 - mean_squared_error: 0.0017 - binary_crossentropy: 0.0074 - acc: 0.9979\n",
      "Epoch 00012: val_loss improved from 0.00732 to 0.00726, saving model to model/CNN2D_XAUG.h5\n",
      "160000/160000 [==============================] - 86s 540us/sample - loss: 0.0073 - mean_squared_error: 0.0017 - binary_crossentropy: 0.0073 - acc: 0.9979 - val_loss: 0.0073 - val_mean_squared_error: 0.0016 - val_binary_crossentropy: 0.0073 - val_acc: 0.9980\n",
      "Epoch 13/50\n",
      "159968/160000 [============================>.] - ETA: 0s - loss: 0.0073 - mean_squared_error: 0.0017 - binary_crossentropy: 0.0073 - acc: 0.9979\n",
      "Epoch 00013: val_loss improved from 0.00726 to 0.00721, saving model to model/CNN2D_XAUG.h5\n",
      "160000/160000 [==============================] - 86s 539us/sample - loss: 0.0073 - mean_squared_error: 0.0017 - binary_crossentropy: 0.0073 - acc: 0.9979 - val_loss: 0.0072 - val_mean_squared_error: 0.0017 - val_binary_crossentropy: 0.0072 - val_acc: 0.9979\n",
      "Epoch 14/50\n",
      "159968/160000 [============================>.] - ETA: 0s - loss: 0.0073 - mean_squared_error: 0.0017 - binary_crossentropy: 0.0073 - acc: 0.9980\n",
      "Epoch 00014: val_loss improved from 0.00721 to 0.00673, saving model to model/CNN2D_XAUG.h5\n",
      "160000/160000 [==============================] - 86s 539us/sample - loss: 0.0073 - mean_squared_error: 0.0017 - binary_crossentropy: 0.0073 - acc: 0.9980 - val_loss: 0.0067 - val_mean_squared_error: 0.0016 - val_binary_crossentropy: 0.0067 - val_acc: 0.9980\n",
      "Epoch 15/50\n",
      "159872/160000 [============================>.] - ETA: 0s - loss: 0.0071 - mean_squared_error: 0.0017 - binary_crossentropy: 0.0071 - acc: 0.9979\n",
      "Epoch 00017: val_loss did not improve from 0.00673\n",
      "160000/160000 [==============================] - 86s 540us/sample - loss: 0.0072 - mean_squared_error: 0.0017 - binary_crossentropy: 0.0072 - acc: 0.9979 - val_loss: 0.0072 - val_mean_squared_error: 0.0018 - val_binary_crossentropy: 0.0072 - val_acc: 0.9977\n",
      "Epoch 18/50\n",
      "159936/160000 [============================>.] - ETA: 0s - loss: 0.0072 - mean_squared_error: 0.0017 - binary_crossentropy: 0.0072 - acc: 0.9980\n",
      "Epoch 00018: val_loss did not improve from 0.00673\n",
      "160000/160000 [==============================] - 86s 539us/sample - loss: 0.0072 - mean_squared_error: 0.0017 - binary_crossentropy: 0.0072 - acc: 0.9980 - val_loss: 0.0071 - val_mean_squared_error: 0.0017 - val_binary_crossentropy: 0.0071 - val_acc: 0.9980\n",
      "Epoch 19/50\n",
      " 94816/160000 [================>.............] - ETA: 33s - loss: 0.0069 - mean_squared_error: 0.0016 - binary_crossentropy: 0.0069 - acc: 0.9982"
     ]
    },
    {
     "name": "stderr",
     "output_type": "stream",
     "text": [
      "IOPub message rate exceeded.\n",
      "The notebook server will temporarily stop sending output\n",
      "to the client in order to avoid crashing it.\n",
      "To change this limit, set the config variable\n",
      "`--NotebookApp.iopub_msg_rate_limit`.\n",
      "\n",
      "Current values:\n",
      "NotebookApp.iopub_msg_rate_limit=1000.0 (msgs/sec)\n",
      "NotebookApp.rate_limit_window=3.0 (secs)\n",
      "\n"
     ]
    },
    {
     "name": "stdout",
     "output_type": "stream",
     "text": [
      "159936/160000 [============================>.] - ETA: 0s - loss: 0.0070 - mean_squared_error: 0.0016 - binary_crossentropy: 0.0070 - acc: 0.9979\n",
      "Epoch 00022: val_loss did not improve from 0.00673\n",
      "160000/160000 [==============================] - 86s 538us/sample - loss: 0.0070 - mean_squared_error: 0.0016 - binary_crossentropy: 0.0070 - acc: 0.9979 - val_loss: 0.0075 - val_mean_squared_error: 0.0019 - val_binary_crossentropy: 0.0075 - val_acc: 0.9974\n",
      "Epoch 23/50\n",
      "159904/160000 [============================>.] - ETA: 0s - loss: 0.0069 - mean_squared_error: 0.0016 - binary_crossentropy: 0.0069 - acc: 0.9980\n",
      "Epoch 00023: val_loss did not improve from 0.00673\n",
      "160000/160000 [==============================] - 86s 538us/sample - loss: 0.0069 - mean_squared_error: 0.0016 - binary_crossentropy: 0.0069 - acc: 0.9980 - val_loss: 0.0075 - val_mean_squared_error: 0.0018 - val_binary_crossentropy: 0.0075 - val_acc: 0.9977\n",
      "Epoch 24/50\n",
      "117888/160000 [=====================>........] - ETA: 21s - loss: 0.0071 - mean_squared_error: 0.0017 - binary_crossentropy: 0.0071 - acc: 0.9979"
     ]
    },
    {
     "name": "stderr",
     "output_type": "stream",
     "text": [
      "IOPub message rate exceeded.\n",
      "The notebook server will temporarily stop sending output\n",
      "to the client in order to avoid crashing it.\n",
      "To change this limit, set the config variable\n",
      "`--NotebookApp.iopub_msg_rate_limit`.\n",
      "\n",
      "Current values:\n",
      "NotebookApp.iopub_msg_rate_limit=1000.0 (msgs/sec)\n",
      "NotebookApp.rate_limit_window=3.0 (secs)\n",
      "\n"
     ]
    },
    {
     "name": "stdout",
     "output_type": "stream",
     "text": [
      "159872/160000 [============================>.] - ETA: 0s - loss: 0.0069 - mean_squared_error: 0.0016 - binary_crossentropy: 0.0069 - acc: 0.9980\n",
      "Epoch 00027: val_loss did not improve from 0.00653\n",
      "160000/160000 [==============================] - 86s 537us/sample - loss: 0.0069 - mean_squared_error: 0.0016 - binary_crossentropy: 0.0069 - acc: 0.9980 - val_loss: 0.0078 - val_mean_squared_error: 0.0018 - val_binary_crossentropy: 0.0078 - val_acc: 0.9979\n",
      "Epoch 28/50\n",
      "159872/160000 [============================>.] - ETA: 0s - loss: 0.0069 - mean_squared_error: 0.0016 - binary_crossentropy: 0.0069 - acc: 0.9981\n",
      "Epoch 00028: val_loss did not improve from 0.00653\n",
      "160000/160000 [==============================] - 86s 539us/sample - loss: 0.0069 - mean_squared_error: 0.0016 - binary_crossentropy: 0.0069 - acc: 0.9981 - val_loss: 0.0069 - val_mean_squared_error: 0.0016 - val_binary_crossentropy: 0.0069 - val_acc: 0.9980\n",
      "Epoch 29/50\n",
      "132736/160000 [=======================>......] - ETA: 13s - loss: 0.0069 - mean_squared_error: 0.0016 - binary_crossentropy: 0.0069 - acc: 0.9979"
     ]
    },
    {
     "name": "stderr",
     "output_type": "stream",
     "text": [
      "IOPub message rate exceeded.\n",
      "The notebook server will temporarily stop sending output\n",
      "to the client in order to avoid crashing it.\n",
      "To change this limit, set the config variable\n",
      "`--NotebookApp.iopub_msg_rate_limit`.\n",
      "\n",
      "Current values:\n",
      "NotebookApp.iopub_msg_rate_limit=1000.0 (msgs/sec)\n",
      "NotebookApp.rate_limit_window=3.0 (secs)\n",
      "\n"
     ]
    },
    {
     "name": "stdout",
     "output_type": "stream",
     "text": [
      "159936/160000 [============================>.] - ETA: 0s - loss: 0.0068 - mean_squared_error: 0.0016 - binary_crossentropy: 0.0068 - acc: 0.9980\n",
      "Epoch 00032: val_loss did not improve from 0.00653\n",
      "160000/160000 [==============================] - 86s 538us/sample - loss: 0.0068 - mean_squared_error: 0.0016 - binary_crossentropy: 0.0068 - acc: 0.9980 - val_loss: 0.0066 - val_mean_squared_error: 0.0015 - val_binary_crossentropy: 0.0066 - val_acc: 0.9981\n",
      "Epoch 33/50\n",
      "159904/160000 [============================>.] - ETA: 0s - loss: 0.0068 - mean_squared_error: 0.0016 - binary_crossentropy: 0.0068 - acc: 0.9980\n",
      "Epoch 00033: val_loss did not improve from 0.00653\n",
      "160000/160000 [==============================] - 86s 536us/sample - loss: 0.0068 - mean_squared_error: 0.0016 - binary_crossentropy: 0.0068 - acc: 0.9980 - val_loss: 0.0068 - val_mean_squared_error: 0.0016 - val_binary_crossentropy: 0.0068 - val_acc: 0.9980\n",
      "Epoch 34/50\n",
      "159936/160000 [============================>.] - ETA: 0s - loss: 0.0068 - mean_squared_error: 0.0016 - binary_crossentropy: 0.0068 - acc: 0.9980\n",
      "Epoch 00034: val_loss did not improve from 0.00653\n",
      "160000/160000 [==============================] - 86s 536us/sample - loss: 0.0068 - mean_squared_error: 0.0016 - binary_crossentropy: 0.0068 - acc: 0.9980 - val_loss: 0.0088 - val_mean_squared_error: 0.0022 - val_binary_crossentropy: 0.0088 - val_acc: 0.9971\n",
      "Epoch 35/50\n",
      " 11904/160000 [=>............................] - ETA: 1:15 - loss: 0.0071 - mean_squared_error: 0.0016 - binary_crossentropy: 0.0071 - acc: 0.9981"
     ]
    },
    {
     "name": "stderr",
     "output_type": "stream",
     "text": [
      "IOPub message rate exceeded.\n",
      "The notebook server will temporarily stop sending output\n",
      "to the client in order to avoid crashing it.\n",
      "To change this limit, set the config variable\n",
      "`--NotebookApp.iopub_msg_rate_limit`.\n",
      "\n",
      "Current values:\n",
      "NotebookApp.iopub_msg_rate_limit=1000.0 (msgs/sec)\n",
      "NotebookApp.rate_limit_window=3.0 (secs)\n",
      "\n"
     ]
    },
    {
     "name": "stdout",
     "output_type": "stream",
     "text": [
      "159904/160000 [============================>.] - ETA: 0s - loss: 0.0067 - mean_squared_error: 0.0016 - binary_crossentropy: 0.0067 - acc: 0.9980\n",
      "Epoch 00038: val_loss did not improve from 0.00641\n",
      "160000/160000 [==============================] - 86s 540us/sample - loss: 0.0067 - mean_squared_error: 0.0016 - binary_crossentropy: 0.0067 - acc: 0.9980 - val_loss: 0.0065 - val_mean_squared_error: 0.0015 - val_binary_crossentropy: 0.0065 - val_acc: 0.9980\n",
      "Epoch 39/50\n",
      "159872/160000 [============================>.] - ETA: 0s - loss: 0.0067 - mean_squared_error: 0.0015 - binary_crossentropy: 0.0067 - acc: 0.9981\n",
      "Epoch 00039: val_loss did not improve from 0.00641\n",
      "160000/160000 [==============================] - 86s 538us/sample - loss: 0.0067 - mean_squared_error: 0.0015 - binary_crossentropy: 0.0067 - acc: 0.9981 - val_loss: 0.0065 - val_mean_squared_error: 0.0016 - val_binary_crossentropy: 0.0065 - val_acc: 0.9980\n",
      "Epoch 40/50\n",
      " 60032/160000 [==========>...................] - ETA: 50s - loss: 0.0065 - mean_squared_error: 0.0015 - binary_crossentropy: 0.0065 - acc: 0.9980"
     ]
    },
    {
     "name": "stderr",
     "output_type": "stream",
     "text": [
      "IOPub message rate exceeded.\n",
      "The notebook server will temporarily stop sending output\n",
      "to the client in order to avoid crashing it.\n",
      "To change this limit, set the config variable\n",
      "`--NotebookApp.iopub_msg_rate_limit`.\n",
      "\n",
      "Current values:\n",
      "NotebookApp.iopub_msg_rate_limit=1000.0 (msgs/sec)\n",
      "NotebookApp.rate_limit_window=3.0 (secs)\n",
      "\n"
     ]
    },
    {
     "name": "stdout",
     "output_type": "stream",
     "text": [
      "159968/160000 [============================>.] - ETA: 0s - loss: 0.0068 - mean_squared_error: 0.0016 - binary_crossentropy: 0.0068 - acc: 0.9981\n",
      "Epoch 00043: val_loss did not improve from 0.00641\n",
      "160000/160000 [==============================] - 86s 537us/sample - loss: 0.0068 - mean_squared_error: 0.0016 - binary_crossentropy: 0.0068 - acc: 0.9981 - val_loss: 0.0068 - val_mean_squared_error: 0.0016 - val_binary_crossentropy: 0.0068 - val_acc: 0.9981\n",
      "Epoch 44/50\n",
      "159872/160000 [============================>.] - ETA: 0s - loss: 0.0067 - mean_squared_error: 0.0016 - binary_crossentropy: 0.0067 - acc: 0.9980\n",
      "Epoch 00044: val_loss did not improve from 0.00641\n",
      "160000/160000 [==============================] - 85s 534us/sample - loss: 0.0067 - mean_squared_error: 0.0016 - binary_crossentropy: 0.0067 - acc: 0.9980 - val_loss: 0.0069 - val_mean_squared_error: 0.0016 - val_binary_crossentropy: 0.0069 - val_acc: 0.9981\n",
      "Epoch 45/50\n",
      " 82080/160000 [==============>...............] - ETA: 39s - loss: 0.0068 - mean_squared_error: 0.0016 - binary_crossentropy: 0.0068 - acc: 0.9981"
     ]
    },
    {
     "name": "stderr",
     "output_type": "stream",
     "text": [
      "IOPub message rate exceeded.\n",
      "The notebook server will temporarily stop sending output\n",
      "to the client in order to avoid crashing it.\n",
      "To change this limit, set the config variable\n",
      "`--NotebookApp.iopub_msg_rate_limit`.\n",
      "\n",
      "Current values:\n",
      "NotebookApp.iopub_msg_rate_limit=1000.0 (msgs/sec)\n",
      "NotebookApp.rate_limit_window=3.0 (secs)\n",
      "\n"
     ]
    }
   ],
   "source": [
    "checkpoint_path = \"model/CNN2D_XAUG.h5\"\n",
    "if not os.path.exists(\"model\"):\n",
    "    os.mkdir(\"model\")\n",
    "\n",
    "model_checkpoint = keras.callbacks.ModelCheckpoint(checkpoint_path, monitor='val_loss', \n",
    "                                   verbose=1, save_best_only=True, \n",
    "                                   save_weights_only=False, mode='auto',\n",
    "                                   period=1)  #save_freq='epoch',   \n",
    "EPOCHS = 50\n",
    "early_stop = keras.callbacks.EarlyStopping(monitor='val_loss', patience=10)\n",
    "history = CNN_XAUG.fit([data_train['jetImages'], data_train['thetalab'], data_train['radiilab'], data_train['zlab']], data_train['labels'],\n",
    "                        epochs=EPOCHS, validation_split = 0.2, verbose = 1,\n",
    "                        callbacks=[early_stop, model_checkpoint])\n",
    "CNN_XAUG.save(checkpoint_path)"
   ]
  },
  {
   "cell_type": "code",
   "execution_count": 18,
   "metadata": {},
   "outputs": [
    {
     "name": "stdout",
     "output_type": "stream",
     "text": [
      "__________________________________________________________________________________________________\n",
      "Layer (type)                    Output Shape         Param #     Connected to                     \n",
      "==================================================================================================\n",
      "input_1 (InputLayer)            (None, 16, 16, 1)    0                                            \n",
      "__________________________________________________________________________________________________\n",
      "conv1 (Conv2D)                  (None, 16, 16, 32)   832         input_1[0][0]                    \n",
      "__________________________________________________________________________________________________\n",
      "conv2 (Conv2D)                  (None, 16, 16, 32)   9248        conv1[0][0]                      \n",
      "__________________________________________________________________________________________________\n",
      "conv3 (Conv2D)                  (None, 16, 16, 32)   4128        conv2[0][0]                      \n",
      "__________________________________________________________________________________________________\n",
      "maxpool2x2_1 (MaxPooling2D)     (None, 8, 8, 32)     0           conv3[0][0]                      \n",
      "__________________________________________________________________________________________________\n",
      "flatten (Flatten)               (None, 2048)         0           maxpool2x2_1[0][0]               \n",
      "__________________________________________________________________________________________________\n",
      "input_2 (InputLayer)            (None, 1)            0                                            \n",
      "__________________________________________________________________________________________________\n",
      "input_3 (InputLayer)            (None, 2)            0                                            \n",
      "__________________________________________________________________________________________________\n",
      "input_4 (InputLayer)            (None, 1)            0                                            \n",
      "__________________________________________________________________________________________________\n",
      "concat (Concatenate)            (None, 2052)         0           flatten[0][0]                    \n",
      "                                                                 input_2[0][0]                    \n",
      "                                                                 input_3[0][0]                    \n",
      "                                                                 input_4[0][0]                    \n",
      "__________________________________________________________________________________________________\n",
      "relu1 (Dense)                   (None, 64)           131392      concat[0][0]                     \n",
      "__________________________________________________________________________________________________\n",
      "relu2 (Dense)                   (None, 128)          8320        relu1[0][0]                      \n",
      "__________________________________________________________________________________________________\n",
      "softmax (Dense)                 (None, 2)            258         relu2[0][0]                      \n",
      "==================================================================================================\n",
      "Total params: 154,178\n",
      "Trainable params: 154,178\n",
      "Non-trainable params: 0\n",
      "__________________________________________________________________________________________________\n",
      "200000/200000 [==============================] - 27s 136us/sample - loss: 0.0067 - mean_squared_error: 0.0016 - binary_crossentropy: 0.0067 - acc: 0.9980\n",
      "[0.0066932241527515, 0.0015724484, 0.0066932314, 0.998015]\n"
     ]
    }
   ],
   "source": [
    "best_model = keras.models.load_model('model/CNN2D_XAUG.h5')\n",
    "best_model.summary()\n",
    "results = best_model.evaluate([data_train['jetImages'], data_train['thetalab'], data_train['radiilab'], data_train['zlab']], data_train['labels'], verbose = 1)\n",
    "print(results)"
   ]
  },
  {
   "cell_type": "code",
   "execution_count": 19,
   "metadata": {},
   "outputs": [],
   "source": [
    "predict_XAUG = best_model.predict([data_test['jetImages'], data_test['thetalab'], data_test['radiilab'], data_test['zlab'] ])"
   ]
  },
  {
   "cell_type": "code",
   "execution_count": 20,
   "metadata": {},
   "outputs": [
    {
     "data": {
      "image/png": "[encoded data removed]",
      "text/plain": [
       "<Figure size 432x288 with 1 Axes>"
      ]
     },
     "metadata": {
      "needs_background": "light"
     },
     "output_type": "display_data"
    }
   ],
   "source": [
    "# Plot ROC\n",
    "from sklearn.metrics import roc_curve, auc\n",
    "fpr, tpr, thresholds = roc_curve(data_test['labels'][:,1], predict_XAUG[:,1])\n",
    "roc_auc = auc(fpr, tpr)\n",
    "plt.plot(fpr, tpr, lw=2, color='b', label='auc = %.4f' % (roc_auc))\n",
    "plt.plot([0, 1], [0, 1], linestyle='--', lw=2, color='k', label='random chance')\n",
    "plt.xlim([0, 1.0])\n",
    "plt.ylim([0, 1.0])\n",
    "plt.xlabel('False Positive Rate')\n",
    "plt.ylabel('True Positive Rate')\n",
    "plt.title('Receiver Operating Curve')\n",
    "plt.legend(loc=\"lower right\")\n",
    "plt.show()"
   ]
  },
  {
   "cell_type": "code",
   "execution_count": 21,
   "metadata": {},
   "outputs": [
    {
     "data": {
      "image/png": "[encoded data removed]",
      "text/plain": [
       "<Figure size 432x288 with 1 Axes>"
      ]
     },
     "metadata": {
      "needs_background": "light"
     },
     "output_type": "display_data"
    }
   ],
   "source": [
    "sig = predict_XAUG[data_test['labels'][:,1]==1][:,1]\n",
    "bkg = predict_XAUG[data_test['labels'][:,0]==1][:,1]\n",
    "\n",
    "bins = np.linspace(0, 1, 20)\n",
    "\n",
    "plt.hist(sig, bins, alpha=0.5, label='Signal')\n",
    "plt.hist(bkg, bins, alpha=0.5, label='Background')\n",
    "# plt.ylim(0,25000)\n",
    "plt.yscale('log')\n",
    "plt.legend(loc='upper center')\n",
    "plt.xlabel('Prediction')\n",
    "plt.show()"
   ]
  },
  {
   "cell_type": "code",
   "execution_count": null,
   "metadata": {},
   "outputs": [],
   "source": []
  }
 ],
 "metadata": {
  "kernelspec": {
   "display_name": "Python 3",
   "language": "python",
   "name": "python3"
  },
  "language_info": {
   "codemirror_mode": {
    "name": "ipython",
    "version": 3
   },
   "file_extension": ".py",
   "mimetype": "text/x-python",
   "name": "python",
   "nbconvert_exporter": "python",
   "pygments_lexer": "ipython3",
   "version": "3.7.3"
  }
 },
 "nbformat": 4,
 "nbformat_minor": 2
}
