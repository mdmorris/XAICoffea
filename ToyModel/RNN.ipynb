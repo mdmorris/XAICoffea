{
 "cells": [
  {
   "cell_type": "code",
   "execution_count": 1,
   "metadata": {},
   "outputs": [
    {
     "name": "stderr",
     "output_type": "stream",
     "text": [
      "Using TensorFlow backend.\n",
      "/opt/conda/lib/python3.7/site-packages/tensorflow/python/framework/dtypes.py:526: FutureWarning: Passing (type, 1) or '1type' as a synonym of type is deprecated; in a future version of numpy, it will be understood as (type, (1,)) / '(1,)type'.\n",
      "  _np_qint8 = np.dtype([(\"qint8\", np.int8, 1)])\n",
      "/opt/conda/lib/python3.7/site-packages/tensorflow/python/framework/dtypes.py:527: FutureWarning: Passing (type, 1) or '1type' as a synonym of type is deprecated; in a future version of numpy, it will be understood as (type, (1,)) / '(1,)type'.\n",
      "  _np_quint8 = np.dtype([(\"quint8\", np.uint8, 1)])\n",
      "/opt/conda/lib/python3.7/site-packages/tensorflow/python/framework/dtypes.py:528: FutureWarning: Passing (type, 1) or '1type' as a synonym of type is deprecated; in a future version of numpy, it will be understood as (type, (1,)) / '(1,)type'.\n",
      "  _np_qint16 = np.dtype([(\"qint16\", np.int16, 1)])\n",
      "/opt/conda/lib/python3.7/site-packages/tensorflow/python/framework/dtypes.py:529: FutureWarning: Passing (type, 1) or '1type' as a synonym of type is deprecated; in a future version of numpy, it will be understood as (type, (1,)) / '(1,)type'.\n",
      "  _np_quint16 = np.dtype([(\"quint16\", np.uint16, 1)])\n",
      "/opt/conda/lib/python3.7/site-packages/tensorflow/python/framework/dtypes.py:530: FutureWarning: Passing (type, 1) or '1type' as a synonym of type is deprecated; in a future version of numpy, it will be understood as (type, (1,)) / '(1,)type'.\n",
      "  _np_qint32 = np.dtype([(\"qint32\", np.int32, 1)])\n",
      "/opt/conda/lib/python3.7/site-packages/tensorflow/python/framework/dtypes.py:535: FutureWarning: Passing (type, 1) or '1type' as a synonym of type is deprecated; in a future version of numpy, it will be understood as (type, (1,)) / '(1,)type'.\n",
      "  np_resource = np.dtype([(\"resource\", np.ubyte, 1)])\n"
     ]
    }
   ],
   "source": [
    "import pandas as pd\n",
    "\n",
    "import keras\n",
    "from keras import layers\n",
    "import keras.backend\n",
    "from keras.layers import Input, Conv2D, MaxPool2D, Flatten, Dense, BatchNormalization, Dropout\n",
    "import keras.models\n",
    "import keras.utils\n",
    "\n",
    "# Helper libraries\n",
    "import numpy as np\n",
    "from scipy import stats,special\n",
    "import matplotlib.pyplot as plt\n",
    "from matplotlib.colors import SymLogNorm\n",
    "import math\n",
    "import time\n",
    "import h5py\n",
    "\n",
    "import sklearn\n",
    "from sklearn.utils import shuffle\n",
    "from sklearn.metrics import roc_curve, auc\n",
    "\n",
    "import innvestigate\n",
    "import innvestigate.utils as iutils\n",
    "\n",
    "\n",
    "import os"
   ]
  },
  {
   "cell_type": "markdown",
   "metadata": {},
   "source": [
    "Import data from RNN_data.npz"
   ]
  },
  {
   "cell_type": "code",
   "execution_count": 2,
   "metadata": {},
   "outputs": [
    {
     "name": "stdout",
     "output_type": "stream",
     "text": [
      "['pt1', 'pt2', 'dtheta1', 'dtheta2', 'dphi1', 'dphi2', 'theta', 'r1', 'r2', 'z']\n",
      "1000000\n"
     ]
    }
   ],
   "source": [
    "# training data\n",
    "data_train = np.load('data/jetConstTrain_overlap1.npz')\n",
    "data_test = np.load('data/jetConstTest_overlap1.npz')\n",
    "batch = len(data_train['pt1'][1])\n",
    "feat_all = [key for key in data_train.keys()]\n",
    "feat_all.remove('labels')\n",
    "print(feat_all)\n",
    "print(len(data_train['pt1']))"
   ]
  },
  {
   "cell_type": "code",
   "execution_count": 3,
   "metadata": {},
   "outputs": [],
   "source": [
    "def build_model(rnn_units, batch, n):\n",
    "    inpts = []\n",
    "    for i in range(n):\n",
    "        inpt = layers.Input(shape = (batch,1))\n",
    "        inpts.append(inpt)\n",
    "    x = layers.concatenate(inputs = inpts,axis=-1, name = 'concat')\n",
    "    x = layers.GRU(4*rnn_units, return_sequences = True, name = 'gru1')(x)\n",
    "    x = layers.GRU(4*rnn_units, return_sequences = True, name = 'gru2')(x)\n",
    "    x = layers.BatchNormalization()(x)\n",
    "    x = layers.GRU(rnn_units, return_sequences = True, name = 'gru3')(x)\n",
    "    x = layers.Dense(256, activation='relu', name = 'relu')(x)\n",
    "    x = layers.Flatten(name = 'flatten')(x)\n",
    "    output = layers.Dense(2, activation='softmax', name = 'softmax')(x)\n",
    "    model = keras.models.Model(inputs=inpts, outputs=output)\n",
    "    optimizer = keras.optimizers.Adam(clipnorm = 1.0)\n",
    "    model.compile(loss='categorical_crossentropy',\n",
    "                optimizer=optimizer,\n",
    "                metrics=['categorical_crossentropy', 'accuracy'])\n",
    "    return model"
   ]
  },
  {
   "cell_type": "code",
   "execution_count": 4,
   "metadata": {},
   "outputs": [
    {
     "name": "stdout",
     "output_type": "stream",
     "text": [
      "['pt1', 'pt2', 'dtheta1', 'dtheta2', 'dphi1', 'dphi2']\n"
     ]
    }
   ],
   "source": [
    "def build_XY(features,label,dic):\n",
    "    X = [dic[key] for key in features]\n",
    "    Y = [dic[key] for key in label]\n",
    "    return X,Y\n",
    "features = [feat_all[i] for i in range(6)]\n",
    "print(features)\n",
    "X_train, Y_train = build_XY(features,['labels'],data_train)\n",
    "X_test, Y_test = build_XY(features,['labels'],data_test)\n",
    "rnn_units = 32\n",
    "# RNN = build_model(rnn_units, batch, 6)"
   ]
  },
  {
   "cell_type": "code",
   "execution_count": 5,
   "metadata": {
    "scrolled": true
   },
   "outputs": [],
   "source": [
    "# X_batch = [ele[:10] for ele in X_train]\n",
    "# Y_batch = [ele[:10] for ele in Y_train]\n",
    "# example_result = RNN.predict(x = X_batch)\n",
    "# results = RNN.evaluate(x = X_batch, y = Y_batch )\n",
    "# print(results)"
   ]
  },
  {
   "cell_type": "code",
   "execution_count": 6,
   "metadata": {},
   "outputs": [],
   "source": [
    "# X_batch = [ele for ele in X_train]\n",
    "# Y_batch = [ele for ele in Y_train]\n",
    "# X_batch_test = [ele for ele in X_test]\n",
    "# Y_batch_test = [ele for ele in Y_test]"
   ]
  },
  {
   "cell_type": "code",
   "execution_count": 7,
   "metadata": {
    "scrolled": false
   },
   "outputs": [],
   "source": [
    "# checkpoint_path = \"model/RNN_3.h5\"\n",
    "# if not os.path.exists(\"model\"):\n",
    "#     os.mkdir(\"model\")\n",
    "# model_checkpoint = keras.callbacks.ModelCheckpoint(checkpoint_path, monitor='val_loss', \n",
    "#                                    verbose=1, save_best_only=True, \n",
    "#                                    save_weights_only=False, mode='auto')    \n",
    "# EPOCHS = 1000\n",
    "# early_stop = keras.callbacks.EarlyStopping(monitor='val_loss', patience=10, min_delta = 1.0e-5)\n",
    "# history = RNN.fit(\n",
    "#   X_batch, Y_batch,\n",
    "#   epochs=EPOCHS, validation_split = 0.2, verbose = 0,\n",
    "#   callbacks=[early_stop, model_checkpoint])\n"
   ]
  },
  {
   "cell_type": "code",
   "execution_count": 8,
   "metadata": {},
   "outputs": [],
   "source": [
    "# def plot_history(history):\n",
    "#     hist = pd.DataFrame(history.history)\n",
    "#     print(hist.keys())\n",
    "#     hist['epoch'] = history.epoch\n",
    "#     plt.figure()\n",
    "#     plt.xlabel('Epoch')\n",
    "#     plt.ylabel('Loss')\n",
    "#     plt.plot(hist['epoch'], hist['loss'],\n",
    "#            label='Train Error')\n",
    "#     plt.plot(hist['epoch'], hist['val_loss'],\n",
    "#            label = 'Val Error')\n",
    "#     plt.legend()\n",
    "#     plt.show()\n",
    "\n",
    "# plot_history(history)\n",
    "# plt.savefig('plots/history_CNN1D_DO')"
   ]
  },
  {
   "cell_type": "code",
   "execution_count": 9,
   "metadata": {},
   "outputs": [],
   "source": [
    "# best_model = keras.models.load_model('model/RNN_3.h5')\n",
    "# best_model.summary()\n",
    "# results = best_model.evaluate(X_batch_test, Y_batch_test, verbose = 0)\n",
    "# print(results)"
   ]
  },
  {
   "cell_type": "code",
   "execution_count": 10,
   "metadata": {},
   "outputs": [],
   "source": [
    "# # Plot ROC\n",
    "# predict = best_model.predict(X_batch_test)\n",
    "# from sklearn.metrics import roc_curve, auc\n",
    "# fpr, tpr, thresholds = roc_curve(Y_batch_test[0][:,1], predict[:,1])\n",
    "# roc_auc = auc(fpr, tpr)\n",
    "# plt.plot(fpr, tpr, lw=4, color='b', label='auc = %.3f' % (roc_auc))\n",
    "# plt.plot([0, 1], [0, 1], linestyle='--', lw=2, color='k', label='random chance')\n",
    "# plt.xlim([0, 1.0])\n",
    "# plt.ylim([0, 1.0])\n",
    "# plt.xlabel('false positive rate')\n",
    "# plt.ylabel('true positive rate')\n",
    "# plt.title('Toy 2D CNN ROC')\n",
    "# plt.legend(loc=\"lower right\")\n",
    "# plt.show()"
   ]
  },
  {
   "cell_type": "code",
   "execution_count": 11,
   "metadata": {},
   "outputs": [],
   "source": [
    "#RNN with injected variables"
   ]
  },
  {
   "cell_type": "code",
   "execution_count": 12,
   "metadata": {},
   "outputs": [],
   "source": [
    "def build_model(rnn_units, batch, n, nex):\n",
    "    inpts = []\n",
    "    xaugs = []\n",
    "    for i in range(n):\n",
    "        if(i<(n-nex)):\n",
    "            inpt = layers.Input(shape = (batch,1))\n",
    "            inpts.append(inpt)\n",
    "        else:\n",
    "            inpt = layers.Input(shape = (1,))\n",
    "            xaugs.append(inpt)\n",
    "    x = layers.concatenate(inputs = inpts,axis=-1, name = 'concat')\n",
    "    x = layers.GRU(4*rnn_units, return_sequences = True, name = 'gru1')(x)\n",
    "    x = layers.GRU(4*rnn_units, return_sequences = True, name = 'gru2')(x)\n",
    "    x = layers.BatchNormalization()(x)\n",
    "    x = layers.GRU(rnn_units, return_sequences = True, name = 'gru3')(x)\n",
    "    x = layers.Flatten(name = 'flatten')(x)\n",
    "    x = layers.Dense(256, activation='relu', name = 'relu')(x)\n",
    "    x = layers.concatenate(inputs = [x]+xaugs,axis=-1, name = 'concat2')\n",
    "    output = layers.Dense(2, activation='softmax', name = 'softmax')(x)\n",
    "    model = keras.models.Model(inputs=inpts+xaugs, outputs=output)\n",
    "    optimizer = keras.optimizers.Adam(clipnorm = 1.0)\n",
    "    model.compile(loss='categorical_crossentropy',\n",
    "                optimizer=optimizer,\n",
    "                metrics=['categorical_crossentropy', 'accuracy'])\n",
    "    return model"
   ]
  },
  {
   "cell_type": "code",
   "execution_count": 13,
   "metadata": {},
   "outputs": [
    {
     "name": "stdout",
     "output_type": "stream",
     "text": [
      "(1000000, 10, 1)\n",
      "(1000000, 10, 1)\n",
      "(1000000, 10, 1)\n",
      "(1000000, 10, 1)\n",
      "(1000000, 10, 1)\n",
      "(1000000, 10, 1)\n",
      "(1000000,)\n",
      "(1000000,)\n",
      "(1000000,)\n",
      "(1000000,)\n",
      "WARNING:tensorflow:From /opt/conda/lib/python3.7/site-packages/tensorflow/python/framework/op_def_library.py:263: colocate_with (from tensorflow.python.framework.ops) is deprecated and will be removed in a future version.\n",
      "Instructions for updating:\n",
      "Colocations handled automatically by placer.\n"
     ]
    }
   ],
   "source": [
    "features = [key for key in data_train.keys()];features.remove('labels');features\n",
    "X_train, Y_train = build_XY(features,['labels'],data_train)\n",
    "for i in np.arange(len(X_train)):\n",
    "    print(X_train[i].shape)\n",
    "X_test, Y_test = build_XY(features,['labels'],data_test)\n",
    "RNN_XAUG = build_model(rnn_units, batch, 10, 4)"
   ]
  },
  {
   "cell_type": "code",
   "execution_count": 14,
   "metadata": {},
   "outputs": [
    {
     "name": "stdout",
     "output_type": "stream",
     "text": [
      "10/10 [==============================] - 0s 18ms/step\n",
      "[0.7153500318527222, 0.7153500318527222, 0.30000001192092896]\n"
     ]
    }
   ],
   "source": [
    "X_batch = [ele[:10] for ele in X_train]\n",
    "Y_batch = [ele[:10] for ele in Y_train]\n",
    "example_result = RNN_XAUG.predict(x = X_batch)\n",
    "results = RNN_XAUG.evaluate(x = X_batch, y = Y_batch )\n",
    "print(results)"
   ]
  },
  {
   "cell_type": "code",
   "execution_count": 15,
   "metadata": {},
   "outputs": [],
   "source": [
    "X_batch = [ele for ele in X_train]\n",
    "Y_batch = [ele for ele in Y_train]\n",
    "X_batch_test = [ele for ele in X_test]\n",
    "Y_batch_test = [ele for ele in Y_test]"
   ]
  },
  {
   "cell_type": "code",
   "execution_count": 16,
   "metadata": {},
   "outputs": [],
   "source": [
    "# checkpoint_path = \"model/RNN_XAUG_2.h5\"\n",
    "# model_checkpoint = keras.callbacks.ModelCheckpoint(checkpoint_path, monitor='val_loss', \n",
    "#                                    verbose=1, save_best_only=True, \n",
    "#                                    save_weights_only=False, mode='auto', \n",
    "#                                    period=1)    \n",
    "# EPOCHS = 1000\n",
    "# early_stop = keras.callbacks.EarlyStopping(monitor='val_loss', patience=10, min_delta = 1.0e-5)\n",
    "# history = RNN_XAUG.fit(\n",
    "#   X_batch, Y_batch,\n",
    "#   epochs=EPOCHS, validation_split = 0.2, verbose = 0,\n",
    "#   callbacks=[early_stop, model_checkpoint])"
   ]
  },
  {
   "cell_type": "code",
   "execution_count": 17,
   "metadata": {},
   "outputs": [
    {
     "name": "stdout",
     "output_type": "stream",
     "text": [
      "WARNING:tensorflow:From /opt/conda/lib/python3.7/site-packages/tensorflow/python/ops/math_ops.py:3066: to_int32 (from tensorflow.python.ops.math_ops) is deprecated and will be removed in a future version.\n",
      "Instructions for updating:\n",
      "Use tf.cast instead.\n",
      "__________________________________________________________________________________________________\n",
      "Layer (type)                    Output Shape         Param #     Connected to                     \n",
      "==================================================================================================\n",
      "input_1 (InputLayer)            (None, 10, 1)        0                                            \n",
      "__________________________________________________________________________________________________\n",
      "input_2 (InputLayer)            (None, 10, 1)        0                                            \n",
      "__________________________________________________________________________________________________\n",
      "input_3 (InputLayer)            (None, 10, 1)        0                                            \n",
      "__________________________________________________________________________________________________\n",
      "input_4 (InputLayer)            (None, 10, 1)        0                                            \n",
      "__________________________________________________________________________________________________\n",
      "input_5 (InputLayer)            (None, 10, 1)        0                                            \n",
      "__________________________________________________________________________________________________\n",
      "input_6 (InputLayer)            (None, 10, 1)        0                                            \n",
      "__________________________________________________________________________________________________\n",
      "concat (Concatenate)            (None, 10, 6)        0           input_1[0][0]                    \n",
      "                                                                 input_2[0][0]                    \n",
      "                                                                 input_3[0][0]                    \n",
      "                                                                 input_4[0][0]                    \n",
      "                                                                 input_5[0][0]                    \n",
      "                                                                 input_6[0][0]                    \n",
      "__________________________________________________________________________________________________\n",
      "gru1 (GRU)                      (None, 10, 128)      51840       concat[0][0]                     \n",
      "__________________________________________________________________________________________________\n",
      "gru2 (GRU)                      (None, 10, 128)      98688       gru1[0][0]                       \n",
      "__________________________________________________________________________________________________\n",
      "batch_normalization_1 (BatchNor (None, 10, 128)      512         gru2[0][0]                       \n",
      "__________________________________________________________________________________________________\n",
      "gru3 (GRU)                      (None, 10, 32)       15456       batch_normalization_1[0][0]      \n",
      "__________________________________________________________________________________________________\n",
      "flatten (Flatten)               (None, 320)          0           gru3[0][0]                       \n",
      "__________________________________________________________________________________________________\n",
      "relu (Dense)                    (None, 256)          82176       flatten[0][0]                    \n",
      "__________________________________________________________________________________________________\n",
      "input_7 (InputLayer)            (None, 1)            0                                            \n",
      "__________________________________________________________________________________________________\n",
      "input_8 (InputLayer)            (None, 1)            0                                            \n",
      "__________________________________________________________________________________________________\n",
      "input_9 (InputLayer)            (None, 1)            0                                            \n",
      "__________________________________________________________________________________________________\n",
      "input_10 (InputLayer)           (None, 1)            0                                            \n",
      "__________________________________________________________________________________________________\n",
      "concat2 (Concatenate)           (None, 260)          0           relu[0][0]                       \n",
      "                                                                 input_7[0][0]                    \n",
      "                                                                 input_8[0][0]                    \n",
      "                                                                 input_9[0][0]                    \n",
      "                                                                 input_10[0][0]                   \n",
      "__________________________________________________________________________________________________\n",
      "softmax (Dense)                 (None, 2)            522         concat2[0][0]                    \n",
      "==================================================================================================\n",
      "Total params: 249,194\n",
      "Trainable params: 248,938\n",
      "Non-trainable params: 256\n",
      "__________________________________________________________________________________________________\n",
      "[[[0.35402091]\n",
      "  [0.25726807]\n",
      "  [0.10246885]\n",
      "  ...\n",
      "  [0.02168671]\n",
      "  [0.02065407]\n",
      "  [0.01876096]]\n",
      "\n",
      " [[0.18738125]\n",
      "  [0.15043439]\n",
      "  [0.12633813]\n",
      "  ...\n",
      "  [0.03857895]\n",
      "  [0.01044865]\n",
      "  [0.00144727]]\n",
      "\n",
      " [[0.19065186]\n",
      "  [0.15337756]\n",
      "  [0.0999997 ]\n",
      "  ...\n",
      "  [0.01512991]\n",
      "  [0.00979653]\n",
      "  [0.00229282]]\n",
      "\n",
      " ...\n",
      "\n",
      " [[0.31921823]\n",
      "  [0.10802574]\n",
      "  [0.10295558]\n",
      "  ...\n",
      "  [0.00574041]\n",
      "  [0.00395361]\n",
      "  [0.00113342]]\n",
      "\n",
      " [[0.2513752 ]\n",
      "  [0.19727914]\n",
      "  [0.17396814]\n",
      "  ...\n",
      "  [0.02147585]\n",
      "  [0.0186844 ]\n",
      "  [0.00041425]]\n",
      "\n",
      " [[0.23851229]\n",
      "  [0.15262254]\n",
      "  [0.14722078]\n",
      "  ...\n",
      "  [0.01912103]\n",
      "  [0.00524608]\n",
      "  [0.00352842]]]\n",
      "[0.0032201631237632248, 0.0032201631237632248, 0.999219]\n"
     ]
    }
   ],
   "source": [
    "best_model = keras.models.load_model('model/RNN_XAUG_2.h5')\n",
    "best_model.summary()\n",
    "results = best_model.evaluate(X_batch_test, Y_batch_test[0], verbose = 0)\n",
    "print(X_batch_test[0])\n",
    "print(results)"
   ]
  },
  {
   "cell_type": "code",
   "execution_count": 18,
   "metadata": {},
   "outputs": [
    {
     "data": {
      "image/png": "[encoded data removed]",
      "text/plain": [
       "<Figure size 432x288 with 1 Axes>"
      ]
     },
     "metadata": {
      "needs_background": "light"
     },
     "output_type": "display_data"
    }
   ],
   "source": [
    "# Plot ROC\n",
    "predict = best_model.predict(X_batch_test)\n",
    "from sklearn.metrics import roc_curve, auc\n",
    "fpr, tpr, thresholds = roc_curve(Y_batch_test[0][:,1], predict[:,1])\n",
    "roc_auc = auc(fpr, tpr)\n",
    "plt.plot(fpr, tpr, lw=4, color='b', label='auc = %.5f' % (roc_auc))\n",
    "plt.plot([0, 1], [0, 1], linestyle='--', lw=2, color='k', label='random chance')\n",
    "plt.xlim([0, 1.0])\n",
    "plt.ylim([0, 1.0])\n",
    "plt.xlabel('false positive rate')\n",
    "plt.ylabel('true positive rate')\n",
    "plt.title('Toy RNN ROC')\n",
    "plt.legend(loc=\"lower right\")\n",
    "plt.show()"
   ]
  },
  {
   "cell_type": "code",
   "execution_count": 19,
   "metadata": {},
   "outputs": [
    {
     "ename": "NameError",
     "evalue": "name 'history' is not defined",
     "output_type": "error",
     "traceback": [
      "\u001b[0;31m---------------------------------------------------------------------------\u001b[0m",
      "\u001b[0;31mNameError\u001b[0m                                 Traceback (most recent call last)",
      "\u001b[0;32m<ipython-input-19-46485f95cad4>\u001b[0m in \u001b[0;36m<module>\u001b[0;34m\u001b[0m\n\u001b[1;32m     13\u001b[0m     \u001b[0mplt\u001b[0m\u001b[0;34m.\u001b[0m\u001b[0mshow\u001b[0m\u001b[0;34m(\u001b[0m\u001b[0;34m)\u001b[0m\u001b[0;34m\u001b[0m\u001b[0;34m\u001b[0m\u001b[0m\n\u001b[1;32m     14\u001b[0m \u001b[0;34m\u001b[0m\u001b[0m\n\u001b[0;32m---> 15\u001b[0;31m \u001b[0mplot_history\u001b[0m\u001b[0;34m(\u001b[0m\u001b[0mhistory\u001b[0m\u001b[0;34m)\u001b[0m\u001b[0;34m\u001b[0m\u001b[0;34m\u001b[0m\u001b[0m\n\u001b[0m",
      "\u001b[0;31mNameError\u001b[0m: name 'history' is not defined"
     ]
    }
   ],
   "source": [
    "def plot_history(history):\n",
    "    hist = pd.DataFrame(history.history)\n",
    "    print(hist.keys())\n",
    "    hist['epoch'] = history.epoch\n",
    "    plt.figure()\n",
    "    plt.xlabel('Epoch')\n",
    "    plt.ylabel('Loss')\n",
    "    plt.plot(hist['epoch'], hist['loss'],\n",
    "           label='Train Error')\n",
    "    plt.plot(hist['epoch'], hist['val_loss'],\n",
    "           label = 'Val Error')\n",
    "    plt.legend()\n",
    "    plt.show()\n",
    "\n",
    "plot_history(history)"
   ]
  },
  {
   "cell_type": "code",
   "execution_count": null,
   "metadata": {},
   "outputs": [],
   "source": []
  }
 ],
 "metadata": {
  "kernelspec": {
   "display_name": "Python 3",
   "language": "python",
   "name": "python3"
  },
  "language_info": {
   "codemirror_mode": {
    "name": "ipython",
    "version": 3
   },
   "file_extension": ".py",
   "mimetype": "text/x-python",
   "name": "python",
   "nbconvert_exporter": "python",
   "pygments_lexer": "ipython3",
   "version": "3.7.3"
  }
 },
 "nbformat": 4,
 "nbformat_minor": 2
}
