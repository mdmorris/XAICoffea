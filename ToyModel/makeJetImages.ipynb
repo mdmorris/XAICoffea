{
 "cells": [
  {
   "cell_type": "markdown",
   "metadata": {},
   "source": [
    "# Make Jet Images for Toy Model"
   ]
  },
  {
   "cell_type": "code",
   "execution_count": 1,
   "metadata": {},
   "outputs": [],
   "source": [
    "import time\n",
    "import random\n",
    "import math\n",
    "import numpy as np\n",
    "import matplotlib.pyplot as plt\n",
    "from matplotlib.colors import LogNorm\n",
    "import sklearn\n",
    "import pandas as pd\n",
    "\n",
    "import os"
   ]
  },
  {
   "cell_type": "code",
   "execution_count": 2,
   "metadata": {},
   "outputs": [],
   "source": [
    "# Set default options for paper\n",
    "params = {'legend.fontsize': 'x-large',\n",
    "         'axes.labelsize': 'x-large',\n",
    "         'axes.titlesize':'x-large',\n",
    "         'xtick.labelsize':'x-large',\n",
    "         'ytick.labelsize':'x-large',\n",
    "         'ytick.color':'k', \n",
    "         'xtick.color':'k', \n",
    "         'axes.labelcolor':'k',\n",
    "         'text.color':'k'\n",
    "         }\n",
    "plt.rcParams.update(params)"
   ]
  },
  {
   "cell_type": "code",
   "execution_count": 3,
   "metadata": {},
   "outputs": [],
   "source": [
    "def partition_exp(n_particles=10, nevents=1, mu=1.):\n",
    "    evals = np.random.exponential(scale = mu, size=(nevents,n_particles))\n",
    "    sumRow =np.repeat(evals.sum(axis=1), n_particles).reshape(nevents, n_particles)\n",
    "    evals = np.sort(np.divide(evals,sumRow))[:, ::-1]\n",
    "    return evals"
   ]
  },
  {
   "cell_type": "code",
   "execution_count": 4,
   "metadata": {},
   "outputs": [],
   "source": [
    "def makeJetImages(grid = 32, n_data = 10, n_particles = 5, isSignal = False, overlap=0):\n",
    "\n",
    "    '''inputs: image size, number of datapoints, number of particles in each subjet, signal or background, amount of overlap'''\n",
    "    '''outputs: array of images, radii, theta, labels, summed image'''\n",
    "\n",
    "    # origin\n",
    "    center = int((grid-1)/2)\n",
    "    labels = np.zeros(n_data*2).reshape((n_data,2))\n",
    "    print(labels.shape)\n",
    "    \n",
    "    # create input variables\n",
    "    if isSignal:\n",
    "        if (overlap==0):\n",
    "            theta = np.random.normal(loc=0.2, scale=0.02, size=n_data) # signal_d\n",
    "            z = np.random.normal(loc=0.5, scale=0.02, size=n_data) #signal_z \n",
    "        elif(overlap==1):\n",
    "            theta = np.random.normal(loc=0.2, scale=0.03, size=n_data) # signal_d_littleoverlap\n",
    "            z = np.random.normal(loc=0.5, scale=0.09, size=n_data) #signal_z_littleoverlap\n",
    "        elif(overlap==2):\n",
    "            theta = np.random.normal(loc=0.2, scale=0.05, size=n_data) # signal_d_overlap\n",
    "            z = np.random.normal(loc=0.5, scale=0.12, size=n_data) #signal_z_overlap\n",
    "        labels[:,1]=1\n",
    "    else:\n",
    "        if (overlap==0):\n",
    "            theta = np.random.exponential(scale=0.02, size=n_data) # bkg_d\n",
    "            z = np.random.exponential(scale=0.02, size=n_data) #bkg_z\n",
    "        elif(overlap==1):\n",
    "            theta = np.random.exponential(scale=0.03, size=n_data) # bkg_d_littleoverlap\n",
    "            z = np.random.exponential(scale=0.1, size=n_data) #bkg_z_olittleverlap\n",
    "        elif(overlap==2):\n",
    "            theta = np.random.exponential(scale=0.05, size=n_data) # bkg_d_overlap\n",
    "            z = np.random.exponential(scale=0.15, size=n_data) #bkg_z_overlap\n",
    "        labels[:,0]=1\n",
    "    \n",
    "    # masking z to ensure z<1.0\n",
    "    z = np.where(z<1.0, z, z%1) #signal_z   \n",
    "    # making so that z is always more than 1-z\n",
    "    z = np.where(z>0.5, z, (1-z))\n",
    "    z = np.repeat(z, n_particles).reshape(n_data, n_particles)\n",
    "    # masking theta to ensure theta<0.5\n",
    "    theta = np.where(theta<0.5, theta, theta%0.5)\n",
    "    theta = np.repeat(theta, n_particles).reshape(n_data, n_particles)\n",
    "    \n",
    "    # distributing pT fractions between particles\n",
    "    particles1 = np.multiply(partition_exp(n_particles, n_data), z)\n",
    "    particles2 = np.multiply(partition_exp(n_particles, n_data), (1-z))\n",
    "    \n",
    "    # one jet has two subjets \n",
    "    radii = np.random.uniform(0.25,0.5 ,size = (n_data,2))\n",
    "    radii1 = np.array([np.multiply(np.ones(shape = (n_particles)),y) for y in radii[:,0]])\n",
    "    radii2 = np.array([np.multiply(np.ones(shape = (n_particles)),y) for y in radii[:,1]])\n",
    "    dtheta1 = np.random.exponential(scale=0.5, size=(n_data, n_particles)) # delta theta for first subjet\n",
    "    dtheta1= np.sort(np.where(dtheta1<radii1, dtheta1, dtheta1%radii1))\n",
    "    phi1 = np.random.uniform(0, 2*math.pi, size=(n_data, n_particles)) # angular\n",
    "    dtheta2 = np.random.exponential(scale=0.5, size=(n_data, n_particles)) # delta theta for second subjet\n",
    "    dtheta2= np.sort(np.where(dtheta2<radii2, dtheta2, dtheta2%radii2))\n",
    "    phi2 = np.random.uniform(0, 2*math.pi, size=(n_data, n_particles)) # angular\n",
    "    \n",
    "    # position of particles on the grid : subscripts 1, 2 for particles in jet1, jet2 respectively   \n",
    "    x1 = (np.multiply(dtheta1, np.cos(phi1))*grid).astype(int) + center\n",
    "    x2 = (np.multiply(dtheta2, np.cos(phi2))*grid).astype(int) + center\n",
    "    y1 = (np.multiply(dtheta1, np.sin(phi1))*grid).astype(int) + center\n",
    "    y2 = ((np.multiply(dtheta2, np.sin(phi2))-theta)*grid).astype(int) + center\n",
    "\n",
    "    ybins1 = np.arange(0,grid+1)\n",
    "    xbins1 = np.arange(0,grid+1)\n",
    "    \n",
    "    # H1, H2 are the images from the first and second subjet respectively  \n",
    "    H1_ = (np.vstack(np.array([(np.histogram2d( y1[i], x1[i], bins=(xbins1, ybins1), weights = particles1[i])) for i in range(n_data)])[:,0])).reshape(n_data, grid, grid)\n",
    "    H2_ = (np.vstack(np.array([(np.histogram2d( y2[i], x2[i], bins=(xbins1, ybins1), weights = particles2[i])) for i in range(n_data)])[:,0])).reshape(n_data, grid, grid)\n",
    "    H_ = (H1_+H2_) # images witb both subjets\n",
    "    # performing a parity flip so that the right side of the jet image has the highest sum pixel intensity\n",
    "    H_parity = np.sum(H_, axis=1)\n",
    "    if (grid%2==0):\n",
    "        H_left_ = np.repeat(np.sum(np.sum(H_, axis=1)[:,:center+1], axis=1), grid**2).reshape(n_data,grid,grid)\n",
    "    else:\n",
    "        H_left_ = np.repeat(np.sum(np.sum(H_, axis=1)[:,:center], axis=1), grid**2).reshape(n_data,grid,grid)\n",
    "    H_right_ = np.repeat(np.sum(np.sum(H_, axis=1)[:,center+1:], axis=1), grid**2).reshape(n_data,grid,grid)\n",
    "    images = np.where(H_right_>H_left_, H_, np.flip(H_, axis=2))\n",
    "    avgImages = np.sum(images, axis =0)\n",
    "    z = z.reshape(n_data*n_particles,1)[::n_particles]\n",
    "    theta = theta.reshape(n_data*n_particles,1)[::n_particles]\n",
    "\n",
    "    return images, radii, z, theta, labels, avgImages"
   ]
  },
  {
   "cell_type": "code",
   "execution_count": 5,
   "metadata": {},
   "outputs": [],
   "source": [
    "grid = 16\n",
    "n_data = 20000\n",
    "n_particles = 10\n",
    "overlap = 0"
   ]
  },
  {
   "cell_type": "markdown",
   "metadata": {},
   "source": [
    "## 'Signal' jet images and their plots"
   ]
  },
  {
   "cell_type": "code",
   "execution_count": 6,
   "metadata": {},
   "outputs": [
    {
     "name": "stdout",
     "output_type": "stream",
     "text": [
      "(20000, 2)\n",
      "Processing Time is  8.218890277668834 seconds for  20000  samples.\n"
     ]
    }
   ],
   "source": [
    "tic = time.perf_counter()\n",
    "isSignal1 = True\n",
    "images1, radii1, z1, theta1, labels1, avgImages1 = makeJetImages(grid, n_data, n_particles, isSignal1, overlap)\n",
    "f = np.array(list(zip(images1, z1.flatten(), theta1.flatten(), radii1[:,0], radii1[:,1], labels1, avgImages1)))\n",
    "\n",
    "toc = time.perf_counter()\n",
    "print('Processing Time is ',toc-tic, 'seconds for ',n_data, ' samples.' )\n"
   ]
  },
  {
   "cell_type": "markdown",
   "metadata": {},
   "source": [
    "#### Average signal image - log scale norm"
   ]
  },
  {
   "cell_type": "code",
   "execution_count": 7,
   "metadata": {
    "scrolled": true
   },
   "outputs": [
    {
     "data": {
      "image/png": "[encoded data removed]",
      "text/plain": [
       "<Figure size 432x288 with 2 Axes>"
      ]
     },
     "metadata": {
      "needs_background": "light"
     },
     "output_type": "display_data"
    }
   ],
   "source": [
    "im1 = plt.imshow(avgImages1, interpolation='nearest', origin='low', norm=LogNorm(), cmap='Greens', extent = [-2.0, 2.0, -2.0, 2.0])\n",
    "plt.title('Summed Signal Image')\n",
    "plt.colorbar()\n",
    "plt.show()"
   ]
  },
  {
   "cell_type": "markdown",
   "metadata": {},
   "source": [
    "#### Individual 'signal' jet images"
   ]
  },
  {
   "cell_type": "code",
   "execution_count": 8,
   "metadata": {},
   "outputs": [
    {
     "data": {
      "image/png": "[encoded data removed]",
      "text/plain": [
       "<Figure size 1080x432 with 10 Axes>"
      ]
     },
     "metadata": {
      "needs_background": "light"
     },
     "output_type": "display_data"
    }
   ],
   "source": [
    "fig, axs = plt.subplots(2,5, figsize=(15, 6), edgecolor='k')\n",
    "fig.subplots_adjust(hspace = .5, wspace=.001)\n",
    "axs = axs.ravel()\n",
    "for i in range(10):\n",
    "    axs[i].imshow(images1[i], interpolation='nearest', origin='low', cmap='Greens', extent = [-2.0, 2.0, -2.0, 2.0])"
   ]
  },
  {
   "cell_type": "markdown",
   "metadata": {},
   "source": [
    "## 'Background' jet images and their plots"
   ]
  },
  {
   "cell_type": "code",
   "execution_count": 9,
   "metadata": {},
   "outputs": [
    {
     "name": "stdout",
     "output_type": "stream",
     "text": [
      "(20000, 2)\n",
      "Processing Time is  7.957826606929302 seconds for  20000  samples.\n"
     ]
    }
   ],
   "source": [
    "if not os.path.exists(\"data\"):\n",
    "    os.mkdir(\"data\")\n",
    "\n",
    "\n",
    "tic = time.perf_counter()\n",
    "isSignal2 = False\n",
    "images2, radii2, z2, theta2, labels2, avgImages2 = makeJetImages(grid, n_data, n_particles, isSignal2, overlap)\n",
    "toc = time.perf_counter()\n",
    "g = np.array(list(zip(images2, z2.flatten(), theta2.flatten(), radii2[:,0], radii2[:,1], labels2, avgImages2)))\n",
    "print('Processing Time is ',toc-tic, 'seconds for ',n_data, ' samples.' )"
   ]
  },
  {
   "cell_type": "markdown",
   "metadata": {},
   "source": [
    "#### Average background image - log scale norm"
   ]
  },
  {
   "cell_type": "code",
   "execution_count": 10,
   "metadata": {},
   "outputs": [
    {
     "data": {
      "image/png": "[encoded data removed]",
      "text/plain": [
       "<Figure size 432x288 with 2 Axes>"
      ]
     },
     "metadata": {
      "needs_background": "light"
     },
     "output_type": "display_data"
    }
   ],
   "source": [
    "im1 = plt.imshow(avgImages2, interpolation='nearest', origin='low', norm=LogNorm(), cmap='Greens', extent = [-2.0, 2.0, -2.0, 2.0])\n",
    "plt.title('Summed Background Image')\n",
    "plt.colorbar()\n",
    "plt.show()"
   ]
  },
  {
   "cell_type": "markdown",
   "metadata": {},
   "source": [
    "#### Individual 'background' jet images"
   ]
  },
  {
   "cell_type": "code",
   "execution_count": 11,
   "metadata": {},
   "outputs": [
    {
     "data": {
      "image/png": "[encoded data removed]",
      "text/plain": [
       "<Figure size 1080x432 with 10 Axes>"
      ]
     },
     "metadata": {
      "needs_background": "light"
     },
     "output_type": "display_data"
    }
   ],
   "source": [
    "fig, axs = plt.subplots(2,5, figsize=(15, 6), edgecolor='k')\n",
    "fig.subplots_adjust(hspace = .5, wspace=.001)\n",
    "axs = axs.ravel()\n",
    "for i in range(10):\n",
    "    axs[i].imshow(images2[i], interpolation='nearest', origin='low', cmap='Greens', extent = [-2.0, 2.0, -2.0, 2.0])"
   ]
  },
  {
   "cell_type": "markdown",
   "metadata": {},
   "source": [
    "### Creating samples for Testing"
   ]
  },
  {
   "cell_type": "code",
   "execution_count": 12,
   "metadata": {},
   "outputs": [
    {
     "name": "stdout",
     "output_type": "stream",
     "text": [
      "(20000, 2)\n",
      "(20000, 2)\n"
     ]
    }
   ],
   "source": [
    "isSignal3 = True\n",
    "images3, radii3, z3, theta3, labels3, avgImages3 = makeJetImages(grid, n_data, n_particles, isSignal3, overlap)\n",
    "isSignal4 = False\n",
    "images4, radii4, z4, theta4, labels4, avgImages4 = makeJetImages(grid, n_data, n_particles, isSignal4, overlap)"
   ]
  },
  {
   "cell_type": "markdown",
   "metadata": {},
   "source": [
    "### Creating Plots of Input Variables"
   ]
  },
  {
   "cell_type": "code",
   "execution_count": 13,
   "metadata": {},
   "outputs": [
    {
     "data": {
      "text/plain": [
       "Text(0.5, 1.0, 'Toy Model Radii values')"
      ]
     },
     "execution_count": 13,
     "metadata": {},
     "output_type": "execute_result"
    },
    {
     "data": {
      "image/png": "[encoded data removed]",
      "text/plain": [
       "<Figure size 432x288 with 1 Axes>"
      ]
     },
     "metadata": {
      "needs_background": "light"
     },
     "output_type": "display_data"
    }
   ],
   "source": [
    "if not os.path.exists(\"plots\"):\n",
    "    os.mkdir(\"plots\")\n",
    "    \n",
    "radii = [radii1[:,0], radii1[:,1], radii2[:,0],radii2[:,1]]\n",
    "hist, bins = np.histogram([radii1[:,0], radii1[:,1], radii2[:,0],radii2[:,1]], bins=20)\n",
    "hist1_1, bins1_1 = np.histogram(radii1[:,0], bins = 20)\n",
    "hist1_2, bins1_2 = np.histogram(radii1[:,1], bins = bins1_1)\n",
    "hist2_1, bins2_1 = np.histogram(radii2[:,0], bins = bins1_1)\n",
    "hist2_2, bins2_2 = np.histogram(radii2[:,1], bins = bins1_1)\n",
    "fig, ax = plt.subplots()\n",
    "ax.bar(bins1_1[:-1], hist1_1/(np.sum(hist1_1)), width=np.diff(bins1_1), alpha = 0.5, label = r\"Signal $r_1$\")\n",
    "ax.bar(bins1_2[:-1], hist1_2/(np.sum(hist1_2)), width=np.diff(bins1_2), alpha = 0.5, label = r\"Signal $r_2$\")\n",
    "ax.bar(bins2_1[:-1], hist2_1/(np.sum(hist2_1)), width=np.diff(bins2_1), alpha = 0.5, label = r\"Bkg $r_1$\")\n",
    "ax.bar(bins2_2[:-1], hist2_2/(np.sum(hist2_2)), width=np.diff(bins2_2), alpha = 0.5, label = r\"$Bkg$ $r_2$\")\n",
    "plt.xlabel('Radii')\n",
    "plt.ylabel(\"Fraction\")\n",
    "legend = plt.legend()\n",
    "plt.title(r\"Toy Model Radii values\")\n"
   ]
  },
  {
   "cell_type": "code",
   "execution_count": 14,
   "metadata": {
    "scrolled": true
   },
   "outputs": [
    {
     "data": {
      "text/plain": [
       "Text(0.5, 1.0, 'Toy Model $Z$')"
      ]
     },
     "execution_count": 14,
     "metadata": {},
     "output_type": "execute_result"
    },
    {
     "data": {
      "image/png": "[encoded data removed]",
      "text/plain": [
       "<Figure size 432x288 with 1 Axes>"
      ]
     },
     "metadata": {
      "needs_background": "light"
     },
     "output_type": "display_data"
    }
   ],
   "source": [
    "hist1, bins1 = np.histogram(z1, bins=40, range = [0.5,1])\n",
    "hist2, bins2 = np.histogram(z2, bins=bins1)\n",
    "fig, ax = plt.subplots()\n",
    "ax.bar(bins1[:-1], hist1/(np.sum(hist1)), width=np.diff(bins1), alpha = 0.5, label = r\"Signal $z$\")\n",
    "ax.bar(bins2[:-1], hist2/(np.sum(hist2)), width=np.diff(bins2), alpha = 0.5, label = r\"Bkg $z$\")\n",
    "plt.xlabel('z')\n",
    "plt.ylabel(\"Fraction\")\n",
    "legend = plt.legend()\n",
    "plt.title(r\"Toy Model $Z$\")"
   ]
  },
  {
   "cell_type": "code",
   "execution_count": 15,
   "metadata": {},
   "outputs": [
    {
     "data": {
      "text/plain": [
       "Text(0.5, 1.0, 'Toy Model $\\\\theta$')"
      ]
     },
     "execution_count": 15,
     "metadata": {},
     "output_type": "execute_result"
    },
    {
     "data": {
      "image/png": "[encoded data removed]",
      "text/plain": [
       "<Figure size 432x288 with 1 Axes>"
      ]
     },
     "metadata": {
      "needs_background": "light"
     },
     "output_type": "display_data"
    }
   ],
   "source": [
    "hist1, bins1 = np.histogram(theta1, bins=40, range = [0, 0.3])\n",
    "hist2, bins2 = np.histogram(theta2, bins=bins1)\n",
    "fig, ax = plt.subplots()\n",
    "ax.bar(bins1[:-1], hist1/(np.sum(hist1)), width=np.diff(bins1), alpha = 0.5, label = r\"Signal $\\theta$\")\n",
    "ax.bar(bins2[:-1], hist2/(np.sum(hist2)), width=np.diff(bins2), alpha = 0.5, label = r\"Background $\\theta$\")\n",
    "plt.xlabel(r'$\\theta$')\n",
    "plt.ylabel(\"Fraction\")\n",
    "legend = plt.legend()\n",
    "plt.title(r\"Toy Model $\\theta$\")"
   ]
  },
  {
   "cell_type": "code",
   "execution_count": 16,
   "metadata": {},
   "outputs": [],
   "source": [
    "trainlabels = np.concatenate((labels1,labels2),axis=0)\n",
    "n_train = len(trainlabels)\n",
    "trainimages = np.concatenate((images1, images2),axis=0).reshape(n_train, grid, grid, 1)\n",
    "train_r = np.concatenate((radii1, radii2), axis = 0)\n",
    "train_theta = np.concatenate((theta1, theta2), axis = 0)\n",
    "train_z = np.concatenate((z1, z2), axis = 0)\n",
    "trainlabels = trainlabels.reshape(n_train, 2)\n",
    "# testing data\n",
    "testlabels = np.concatenate((labels3, labels4),axis=0)\n",
    "n_test = len(testlabels)\n",
    "testimages = np.concatenate((images3, images4),axis=0).reshape(n_test, grid, grid, 1)\n",
    "test_r = np.concatenate((radii3, radii4), axis = 0)\n",
    "test_theta = np.concatenate((theta3, theta4), axis = 0)\n",
    "test_z = np.concatenate((z3, z4), axis = 0)\n",
    "testlabels = testlabels.reshape(int(n_test), 2)"
   ]
  },
  {
   "cell_type": "code",
   "execution_count": null,
   "metadata": {},
   "outputs": [
    {
     "name": "stdout",
     "output_type": "stream",
     "text": [
      "0.980118362979479\n"
     ]
    }
   ],
   "source": [
    "train_id = np.random.permutation(len(trainlabels))\n",
    "test_id = np.random.permutation(len(testlabels))\n",
    "print(np.max(trainimages))\n",
    "train_features = [trainimages, train_theta, train_r, train_z, trainlabels]\n",
    "test_features = [testimages, test_theta, test_r, test_z, testlabels]\n",
    "for i in np.arange(len(train_features)):\n",
    "    train_features[i] = train_features[i][train_id]\n",
    "    test_features[i] = test_features[i][test_id]\n",
    "print(np.max(train_features[0]))"
   ]
  },
  {
   "cell_type": "code",
   "execution_count": null,
   "metadata": {},
   "outputs": [],
   "source": [
    "np.savez('data/jetImagesTrain', jetImages = train_features[0], thetalab = train_features[1], radiilab = train_features[2], zlab = train_features[3], labels = train_features[4])\n",
    "np.savez('data/jetImagesTest', jetImages = test_features[0], thetalab = test_features[1], radiilab = test_features[2], zlab = test_features[3], labels = test_features[4])\n"
   ]
  },
  {
   "cell_type": "code",
   "execution_count": null,
   "metadata": {},
   "outputs": [],
   "source": []
  }
 ],
 "metadata": {
  "kernelspec": {
   "display_name": "Python 3",
   "language": "python",
   "name": "python3"
  },
  "language_info": {
   "codemirror_mode": {
    "name": "ipython",
    "version": 3
   },
   "file_extension": ".py",
   "mimetype": "text/x-python",
   "name": "python",
   "nbconvert_exporter": "python",
   "pygments_lexer": "ipython3",
   "version": "3.7.3"
  }
 },
 "nbformat": 4,
 "nbformat_minor": 2
}
